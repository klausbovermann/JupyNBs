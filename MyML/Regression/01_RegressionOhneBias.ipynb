{
 "cells": [
  {
   "cell_type": "markdown",
   "metadata": {},
   "source": [
    "# Machine-Learning"
   ]
  },
  {
   "cell_type": "markdown",
   "metadata": {},
   "source": [
    "## Überwachtes Lernen; Regressionsgerade ohne Bias"
   ]
  },
  {
   "cell_type": "markdown",
   "metadata": {},
   "source": [
    "### Die Daten"
   ]
  },
  {
   "cell_type": "markdown",
   "metadata": {},
   "source": [
    "![Schuhe](Bilder/Schuh.png \"Schuhe\")"
   ]
  },
  {
   "cell_type": "markdown",
   "metadata": {},
   "source": [
    "<div style=\"background-color: Cornsilk; padding: 5px 20px 20px\">\n",
    "\n",
    "***Stell dir vor, du möchtest dir ein Paar neue Schuhe kaufen, hast aber keine Ahnung, welche Schuhgröße du hast.***\n",
    "\n",
    "In Europa gibt es Schuhgrößen, die *irgendwie* zwischen ungefähr 30 und 48 liegen. Aber was ist für dich die passende Größe?\n",
    "\n",
    "Du kannst natürlich die Länge deines Fußes messen: ca. 26 cm vielleicht! Doch was hilft das?\n",
    "\n",
    "Also machen wir doch einmal ein Experiment in deiner Klasse, also:\n",
    "1. Eine Tabelle anlegen!\n",
    "1. Jedes Kind soll seinen Schuh ausziehen;\n",
    "2. die Fußlänge messen;\n",
    "2. die Schuhgröße (am Schuh) ablesen;\n",
    "2. die Daten in der Tabelle notieren."
   ]
  },
  {
   "cell_type": "markdown",
   "metadata": {},
   "source": [
    "<div style=\"background-color: Cornsilk; padding: 5px 20px 20px\">\n",
    "\n",
    "Es könnte sich dabei vielleicht die folgende Tabelle ergeben:\n",
    "\n",
    "Fusslaenge (in cm)| Schuhgroesse (EU-Norm)\n",
    ":---: | :---:\n",
    "27 | 42\n",
    "27.5 | 43\n",
    "23.5 | 37\n",
    "21.5 | 34\n",
    "23 | 36\n",
    "28.5 | 44\n",
    "24.5 | 38\n",
    "24.4 | 37\n",
    "28.6 | 44\n",
    "28.4 | 43\n"
   ]
  },
  {
   "cell_type": "markdown",
   "metadata": {},
   "source": [
    "<div style=\"background-color: Cornsilk; padding: 5px 20px 20px\">\n",
    "\n",
    "Natürlich könntest du jetzt raten (oder klug interpolieren), um deine richtige Größe zu finden. Doch wir wollen ein Programm erstellen, das einen allgemeinen Zusammenhang zwischen den Tabellenspalten aus den Beispielen ***lernt***."
   ]
  },
  {
   "cell_type": "markdown",
   "metadata": {},
   "source": [
    "### Visualisieren"
   ]
  },
  {
   "cell_type": "markdown",
   "metadata": {},
   "source": [
    "<div style=\"background-color: Cornsilk; padding: 5px 20px 20px\">\n",
    "\n",
    "Dazu lassen wir die Daten (in einer Datei mit dem Namen **schuhe.txt** abgelegt) in ein Koordinatensystem eintragen:"
   ]
  },
  {
   "cell_type": "code",
   "execution_count": null,
   "metadata": {},
   "outputs": [],
   "source": [
    "# Das ist eine Bibliothek, mir der man Zeichnungen anfertigen kann\n",
    "import matplotlib.pyplot as plt\n",
    "\n",
    "# Das ist eine Bibliothek, mir der man Listen verwalten kann\n",
    "import numpy as np\n"
   ]
  },
  {
   "cell_type": "code",
   "execution_count": null,
   "metadata": {
    "hide_input": false
   },
   "outputs": [],
   "source": [
    "# dies ist ein Tool zum Testen.\n",
    "from nose.tools import assert_equal, assert_almost_equal"
   ]
  },
  {
   "cell_type": "code",
   "execution_count": null,
   "metadata": {},
   "outputs": [],
   "source": [
    "def zeigen_1(datname):\n",
    "    x_left, x_right, y_left, y_right = 15, 30, 30, 50 # Grenzen der Koordinatenachsen\n",
    "\n",
    "    plt.axis([x_left, x_right, y_left, y_right]) # Achsen zeichnen\n",
    "    plt.xticks(fontsize=15) # Unterteilung der x-Achse\n",
    "    plt.yticks(fontsize=15) # Unterteilung der y-Achse\n",
    "    plt.xlabel(\"Fußlänge\", fontsize=18) # Beschriftung der x-Achse\n",
    "    plt.ylabel(\"Schuhgröße\", fontsize=18) # Beschriftung der y-Achse\n",
    "\n",
    "    # Die Datei wird eingelesen und die beiden Spalten als Listen in X und Y abgelegt. \n",
    "    # Die erste Zeile der Datei wird überlesen\n",
    "    X, Y = np.loadtxt (datname, skiprows=1, unpack=True)\n",
    "\n",
    "    plt.plot (X, Y, \"r.\") # die Daten werden als rote Punkte dargestellt\n",
    "    plt.show() # Die Graphik wird angezeigt"
   ]
  },
  {
   "cell_type": "code",
   "execution_count": null,
   "metadata": {},
   "outputs": [],
   "source": [
    "zeigen_1 (\"../Daten/schuhe.txt\")"
   ]
  },
  {
   "cell_type": "markdown",
   "metadata": {},
   "source": [
    "<div style=\"background-color: Cornsilk; padding: 5px 20px 20px\">\n",
    "\n",
    "Man erkennt irgendwie einen Zusammenhang! Aber\n",
    "1. Ist der Zusammenhang in einer Art *Formel* auszudrücken?\n",
    "2. Und kann auch der Computer diesen Zusammenhang entdecken?"
   ]
  },
  {
   "cell_type": "markdown",
   "metadata": {},
   "source": [
    "### Vorhersage; ein erster Versuch"
   ]
  },
  {
   "cell_type": "markdown",
   "metadata": {},
   "source": [
    "<div style=\"background-color: Cornsilk; padding: 5px 20px 20px\">\n",
    "\n",
    "Es scheint so, als ob ungefähr eine Gerade geeignet wäre, den Zusammenhang auszudrücken.\n",
    "\n",
    "Also ein erster Versuch:\n",
    "> Eine Gerade durch den Koordinatenursprung mit Steigung $m$ hat die Gradengleichung $y = m\\cdot x$\n",
    "\n",
    "Das können wir als Python-Funktion ausdrücken (dabei kann der Parameter X sogar eine ganze Liste von Zahlen sein):"
   ]
  },
  {
   "cell_type": "code",
   "execution_count": null,
   "metadata": {},
   "outputs": [],
   "source": [
    "def vorhersage (X, m):\n",
    "    return X*m"
   ]
  },
  {
   "cell_type": "markdown",
   "metadata": {},
   "source": [
    "<div style=\"background-color: Cornsilk; padding: 5px 20px 20px\">\n",
    "\n",
    "Wir können ja den Wert von $m$ einmal raten und die Gerade anschießend einzeichnen (wir vergrößern dazu den Diagrammausschnitt so, dass der Koordinatenursprung sichtbar wird)."
   ]
  },
  {
   "cell_type": "code",
   "execution_count": null,
   "metadata": {},
   "outputs": [],
   "source": [
    "def zeigen_2 (datname, m = 0):\n",
    "    x_left, x_right, y_left, y_right = -1, 30, -1, 50 # Grenzen der Koordinatenachsen\n",
    "\n",
    "    plt.axis([x_left, x_right, y_left, y_right]) # Achsen zeichnen\n",
    "    plt.xticks(fontsize=15) # Unterteilung der x-Achse\n",
    "    plt.yticks(fontsize=15) # Unterteilung der y-Achse\n",
    "    plt.xlabel(\"Fußlänge\", fontsize=18) # Beschriftung der x-Achse\n",
    "    plt.ylabel(\"Schuhgröße\", fontsize=18) # Beschriftung der y-Achse\n",
    "\n",
    "    # Die Datei wird eingelesen und die beiden Spalten als Listen in X und Y abgelegt. \n",
    "    # Die erste Zeile der Datei wird überlesen\n",
    "    X, Y = np.loadtxt (datname, skiprows=1, unpack=True)\n",
    "\n",
    "    plt.plot (X, Y, \"r.\") # die Daten werden als rote Punkte dargestellt\n",
    "    plt.plot ([0, x_right], [0, vorhersage(x_right, m)], linewidth=1.0, color=\"b\")\n",
    "    plt.show() # Die Graphik wird angezeigt"
   ]
  },
  {
   "cell_type": "markdown",
   "metadata": {},
   "source": [
    "<div style=\"background-color: lightblue; padding: 5px 20px 20px\">\n",
    "\n",
    "#### Aufgabe: \n",
    "\n",
    "Probier doch mit dem Wert von $m$ ein wenig herum!"
   ]
  },
  {
   "cell_type": "code",
   "execution_count": null,
   "metadata": {
    "scrolled": true
   },
   "outputs": [],
   "source": [
    "zeigen_2 (\"../Daten/schuhe.txt\", m = 1.2)"
   ]
  },
  {
   "cell_type": "markdown",
   "metadata": {},
   "source": [
    "### Fehler"
   ]
  },
  {
   "cell_type": "markdown",
   "metadata": {},
   "source": [
    "<div style=\"background-color: Cornsilk; padding: 5px 20px 20px\">\n",
    "\n",
    "Nehmen wir jetzt einmal an, wir haben für m einen Wert von 1.2 getestet. Das scheint nicht gut zu passen! Doch kann man denn irgendwie messen, wie groß der *Fehler* ist?\n",
    "\n",
    "Der Fuß mit Länge 23.5 benutzte einen Schuh der Größe 37 (das ist die 3-te Zeile in der Tabelle). "
   ]
  },
  {
   "cell_type": "code",
   "execution_count": null,
   "metadata": {},
   "outputs": [],
   "source": [
    "FUSS, SCHUH = np.loadtxt (\"../Daten/schuhe.txt\", skiprows=1, unpack=True)"
   ]
  },
  {
   "cell_type": "code",
   "execution_count": null,
   "metadata": {},
   "outputs": [],
   "source": [
    "FUSS[2] # Achtung: die Indizes beginnen mit 0"
   ]
  },
  {
   "cell_type": "code",
   "execution_count": null,
   "metadata": {},
   "outputs": [],
   "source": [
    "SCHUH[2]"
   ]
  },
  {
   "cell_type": "markdown",
   "metadata": {},
   "source": [
    "<div style=\"background-color: lightblue; padding: 5px 20px 20px\">\n",
    "\n",
    "#### Aufgabe: \n",
    "\n",
    "Wie groß ist die Vorhersage für den `FUSS[2]`? Gib den Wert in der folgenden Zelle ein."
   ]
  },
  {
   "cell_type": "code",
   "execution_count": null,
   "metadata": {},
   "outputs": [],
   "source": [
    "vorher = 1000  # Hier deine Lösung eintragen; dann diese und die folgende Zelle ausführen."
   ]
  },
  {
   "cell_type": "code",
   "execution_count": null,
   "metadata": {
    "hide_input": true,
    "scrolled": true
   },
   "outputs": [],
   "source": [
    "try:\n",
    "    vorher\n",
    "except NameError:\n",
    "    raise NameError(\"Es gibt keine Variable 'vorher'. Weise den Wert einer Variablen mit diesem Namen zu.\")\n",
    "\n",
    "error = False\n",
    "\n",
    "try:\n",
    "    assert_equal(vorher, 28.2)\n",
    "except AssertionError:\n",
    "    error = True\n",
    "\n",
    "if not error:\n",
    "    print(\"👍 Sehr gut!\")\n",
    "else:\n",
    "    print(\"👎 Leider falsch.\")"
   ]
  },
  {
   "cell_type": "markdown",
   "metadata": {},
   "source": [
    "<div style=\"background-color: Cornsilk; padding: 5px 20px 20px\">\n",
    "\n",
    "Den korrekten Wert kann man natürlich auch vom Python-System errechnen lassen:"
   ]
  },
  {
   "cell_type": "code",
   "execution_count": null,
   "metadata": {},
   "outputs": [],
   "source": [
    "vorhersage (FUSS[2], 1.2)"
   ]
  },
  {
   "cell_type": "markdown",
   "metadata": {},
   "source": [
    "<div style=\"background-color: lightblue; padding: 5px 20px 20px\">\n",
    "\n",
    "\n",
    "#### Aufgabe: \n",
    "\n",
    "Wie groß ist jetzt der Fehler? Gib in der kommenden Zelle den richtigen Wert ein."
   ]
  },
  {
   "cell_type": "code",
   "execution_count": null,
   "metadata": {},
   "outputs": [],
   "source": [
    "fehl = 1000 # Hier deine Lösung eintragen; dann diese und die folgende Zelle ausführen."
   ]
  },
  {
   "cell_type": "code",
   "execution_count": null,
   "metadata": {
    "code_folding": [],
    "hide_input": true,
    "scrolled": true
   },
   "outputs": [],
   "source": [
    "try:\n",
    "    fehl\n",
    "except NameError:\n",
    "    raise NameError(\"Es gibt keine Variable 'y'. Weise den Wert einer Variablen mit diesem Namen zu.\")\n",
    "\n",
    "error = False\n",
    "\n",
    "try:\n",
    "    assert_equal(abs(fehl), 8.8)\n",
    "except AssertionError:\n",
    "    error = True\n",
    "\n",
    "if not error:\n",
    "    print(\"👍 Sehr gut!\")\n",
    "else:\n",
    "    print(\"👎 Leider falsch.\")"
   ]
  },
  {
   "cell_type": "markdown",
   "metadata": {},
   "source": [
    "<div style=\"background-color: Cornsilk; padding: 5px 20px 20px\">\n",
    "\n",
    "Den korrekten Wert kann man natürlich auch vom Python-System errechnen lassen:"
   ]
  },
  {
   "cell_type": "code",
   "execution_count": null,
   "metadata": {},
   "outputs": [],
   "source": [
    "vorhersage (FUSS[2], 1.2) - SCHUH[2]"
   ]
  },
  {
   "cell_type": "markdown",
   "metadata": {},
   "source": [
    "<div style=\"background-color: Cornsilk; padding: 5px 20px 20px\">\n",
    "\n",
    "Man kann sogar die Fehler aller Tabelleneinträge auflisten:"
   ]
  },
  {
   "cell_type": "code",
   "execution_count": null,
   "metadata": {},
   "outputs": [],
   "source": [
    "print (vorhersage (FUSS, 1.2) - SCHUH)"
   ]
  },
  {
   "cell_type": "markdown",
   "metadata": {},
   "source": [
    "<div style=\"background-color: Cornsilk; padding: 5px 20px 20px\">\n",
    "\n",
    "Alle Fehler könnten wir jetzt aufsummieren, um sozusagen den Gesamtfehler zu ermitteln:"
   ]
  },
  {
   "cell_type": "code",
   "execution_count": null,
   "metadata": {},
   "outputs": [],
   "source": [
    "sum (vorhersage (FUSS, 1.2) - SCHUH)"
   ]
  },
  {
   "cell_type": "markdown",
   "metadata": {},
   "source": [
    "<div style=\"background-color: Cornsilk; padding: 5px 20px 20px\">\n",
    "\n",
    "Jedoch ist es dabei problematisch, den Fehler mit Hilfe der Differenz zu messen. Denn vielleicht sind einige der Fehler positiv, andere negativ, so dass sie sich irgendwie aufheben werden und wir so meinen, einen sehr kleinen Fehler zu machen.\n",
    "\n",
    "Man könnte jetzt den Absolutwert der Differenz als Fehler benutzen, doch hat es sich als sinnvoll erwiesen, die Differenzen zu quadrieren (dann ergibt sich ja auch immer ein nicht-negativer Wert). \n",
    "\n",
    "Also machen wir alle Rechnungen erneut:"
   ]
  },
  {
   "cell_type": "code",
   "execution_count": null,
   "metadata": {},
   "outputs": [],
   "source": [
    "(vorhersage (FUSS[2], 1.2) - SCHUH[2])**2"
   ]
  },
  {
   "cell_type": "code",
   "execution_count": null,
   "metadata": {},
   "outputs": [],
   "source": [
    "print ((vorhersage (FUSS, 1.2) - SCHUH)**2)"
   ]
  },
  {
   "cell_type": "code",
   "execution_count": null,
   "metadata": {},
   "outputs": [],
   "source": [
    "sum ((vorhersage (FUSS, 1.2) - SCHUH)**2)"
   ]
  },
  {
   "cell_type": "markdown",
   "metadata": {},
   "source": [
    "<div style=\"background-color: Cornsilk; padding: 5px 20px 20px\">\n",
    "\n",
    "Und statt der Summe aller Fehler könnten wir auch den Durchschnittlichen Fehler nutzen, um von der Anzahl der Tabelleneinträge unabhängig zu sein:"
   ]
  },
  {
   "cell_type": "code",
   "execution_count": null,
   "metadata": {},
   "outputs": [],
   "source": [
    "np.average ((vorhersage (FUSS, 1.2) - SCHUH)**2)"
   ]
  },
  {
   "cell_type": "markdown",
   "metadata": {},
   "source": [
    "<div style=\"background-color: Cornsilk; padding: 5px 20px 20px\">\n",
    "\n",
    "Das könnten wir in einer Python-Definition ausdrücken:"
   ]
  },
  {
   "cell_type": "code",
   "execution_count": null,
   "metadata": {},
   "outputs": [],
   "source": [
    "def fehler (X, Y, m):\n",
    "    return np.average ((vorhersage (X, m) - Y)**2)"
   ]
  },
  {
   "cell_type": "markdown",
   "metadata": {},
   "source": [
    "### Training"
   ]
  },
  {
   "cell_type": "markdown",
   "metadata": {},
   "source": [
    "<div style=\"background-color: Cornsilk; padding: 5px 20px 20px\">\n",
    "\n",
    "Die Idee besteht jetzt darin, den Wert von m so zu verändern, dass der Fehler möglichst gering wird. \n",
    "\n",
    "Dazu beginnt man mit einem willkürlichen Wert für m und verändert diesen Wert schrittweise nach oben bzw. unten, bis eine Veränderung keinen Fortschritt mehr bringt.\n",
    "\n",
    "Man sagt dann, dass man ***trainiert***."
   ]
  },
  {
   "cell_type": "code",
   "execution_count": null,
   "metadata": {},
   "outputs": [],
   "source": [
    "def training (X, Y, iterationen, lernrate, anzeige = False):\n",
    "    m = 0\n",
    "    for i in range(iterationen):\n",
    "        aktuellerFehler = fehler(X, Y, m)\n",
    "        if anzeige:\n",
    "            print(\"w: %.3f =>Iteration: %4d => Loss: %.6f\" % (m, i, aktuellerFehler))\n",
    "\n",
    "        if fehler (X, Y, m + lernrate) < aktuellerFehler:\n",
    "            m += lernrate\n",
    "        elif fehler (X, Y, m - lernrate) < aktuellerFehler:\n",
    "            m -= lernrate\n",
    "    return m"
   ]
  },
  {
   "cell_type": "code",
   "execution_count": null,
   "metadata": {},
   "outputs": [],
   "source": [
    "steigung = training (FUSS, SCHUH, iterationen = 20, lernrate = 0.01, anzeige = True)\n",
    "print (\"Vermutete Steigung =\", steigung)"
   ]
  },
  {
   "cell_type": "markdown",
   "metadata": {},
   "source": [
    "<div style=\"background-color: lightblue; padding: 5px 20px 20px\">\n",
    "\n",
    "\n",
    "#### Aufgabe: \n",
    "\n",
    "Führe in der folgenden Zelle die Trainingsphase mit mehr Iterationen und/oder mit anderen Lernraten aus und beobachte das Ergebnis. \n",
    "\n",
    "**Tipp:** \n",
    "   \n",
    "Wenn die Test-Ausgabe bei vielen Iterationen stört, kannst du den 3-ten Parameter auf den Wert `False` setzen oder auch ganz weglassen!"
   ]
  },
  {
   "cell_type": "code",
   "execution_count": null,
   "metadata": {},
   "outputs": [],
   "source": [
    "steigung = training (FUSS, SCHUH, iterationen = 20, lernrate = 0.01, anzeige = True)\n",
    "print (\"Vermutete Steigung =\", steigung)"
   ]
  },
  {
   "cell_type": "code",
   "execution_count": null,
   "metadata": {},
   "outputs": [],
   "source": [
    "import seaborn as sns"
   ]
  },
  {
   "cell_type": "code",
   "execution_count": null,
   "metadata": {},
   "outputs": [],
   "source": [
    "def zeigen_3 (datname, iterationen, lernrate):\n",
    "    X, Y = np.loadtxt (datname, skiprows=1, unpack=True)\n",
    "    m = training (X, Y, iterationen, lernrate)\n",
    "    sns.set()\n",
    "    plt.plot(X, Y, \"r.\")\n",
    "    plt.xticks(fontsize=15)\n",
    "    plt.yticks(fontsize=15)\n",
    "    plt.xlabel(\"Fußlänge (F)\", fontsize=30)\n",
    "    plt.ylabel(\"Schuhgröße (S)\", fontsize=30)\n",
    "    x_left, x_right, y_left, y_right = 0, 30, 0, 50\n",
    "    plt.axis([x_left, x_right, y_left, y_right])\n",
    "    wert = vorhersage(x_right, m)\n",
    "    plt.plot([0, x_right], [0, wert], linewidth=1.0, color=\"k\")\n",
    "    plt.show()\n",
    "    print(\"Der Zusammenhang ist etwa S = %.3f * F\" % m)\n"
   ]
  },
  {
   "cell_type": "code",
   "execution_count": null,
   "metadata": {
    "scrolled": true
   },
   "outputs": [],
   "source": [
    "zeigen_3 (\"../Daten/schuhe.txt\", iterationen = 1000, lernrate = 0.01)"
   ]
  },
  {
   "cell_type": "markdown",
   "metadata": {},
   "source": [
    "### Wie geht es weiter?"
   ]
  },
  {
   "cell_type": "markdown",
   "metadata": {},
   "source": [
    "<div style=\"background-color: Cornsilk; padding: 5px 20px 20px\">\n",
    "\n",
    "In Wirklichkeit ist der vorhergesagte Wert ein wenig zu klein (das sieht man nicht so deutlich); in der Definition der europäischen Schuhgrößen muss man zu der Fußlänge noch einige Millimeter zufügen, damit der Fuß Platz hat, sich zu bewegen.\n",
    "\n",
    "Aber das fällt ja hier kaum auf!\n",
    "\n",
    "Doch es gibt auch Datenmengen, bei denen zwar eine Gerade als Vorhersage dient, die jedoch nicht durch den Koordinatenursprung verläuft. Das wird im folgenden Kapitel erörtert.\n"
   ]
  }
 ],
 "metadata": {
  "hide_input": false,
  "kernelspec": {
   "display_name": "Python 3 (ipykernel)",
   "language": "python",
   "name": "python3"
  },
  "language_info": {
   "codemirror_mode": {
    "name": "ipython",
    "version": 3
   },
   "file_extension": ".py",
   "mimetype": "text/x-python",
   "name": "python",
   "nbconvert_exporter": "python",
   "pygments_lexer": "ipython3",
   "version": "3.8.2"
  },
  "latex_envs": {
   "LaTeX_envs_menu_present": true,
   "autoclose": false,
   "autocomplete": true,
   "bibliofile": "biblio.bib",
   "cite_by": "apalike",
   "current_citInitial": 1,
   "eqLabelWithNumbers": true,
   "eqNumInitial": 1,
   "hotkeys": {
    "equation": "Ctrl-E",
    "itemize": "Ctrl-I"
   },
   "labels_anchors": false,
   "latex_user_defs": false,
   "report_style_numbering": false,
   "user_envs_cfg": false
  },
  "toc": {
   "base_numbering": 1,
   "nav_menu": {},
   "number_sections": true,
   "sideBar": true,
   "skip_h1_title": true,
   "title_cell": "Table of Contents",
   "title_sidebar": "Inhalt",
   "toc_cell": false,
   "toc_position": {
    "height": "192px",
    "left": "824px",
    "top": "138.133px",
    "width": "213px"
   },
   "toc_section_display": true,
   "toc_window_display": true
  },
  "varInspector": {
   "cols": {
    "lenName": 16,
    "lenType": 16,
    "lenVar": 40
   },
   "kernels_config": {
    "python": {
     "delete_cmd_postfix": "",
     "delete_cmd_prefix": "del ",
     "library": "var_list.py",
     "varRefreshCmd": "print(var_dic_list())"
    },
    "r": {
     "delete_cmd_postfix": ") ",
     "delete_cmd_prefix": "rm(",
     "library": "var_list.r",
     "varRefreshCmd": "cat(var_dic_list()) "
    }
   },
   "types_to_exclude": [
    "module",
    "function",
    "builtin_function_or_method",
    "instance",
    "_Feature"
   ],
   "window_display": false
  }
 },
 "nbformat": 4,
 "nbformat_minor": 4
}
