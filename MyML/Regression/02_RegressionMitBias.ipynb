{
 "cells": [
  {
   "cell_type": "markdown",
   "metadata": {},
   "source": [
    "# Machine-Learning"
   ]
  },
  {
   "cell_type": "markdown",
   "metadata": {},
   "source": [
    "## Überwachtes Lernen; Regressionsgerade mit Bias"
   ]
  },
  {
   "cell_type": "markdown",
   "metadata": {},
   "source": [
    "![Mensa](Bilder/Kantine.jpg \"Mensa\")"
   ]
  },
  {
   "cell_type": "markdown",
   "metadata": {},
   "source": [
    "### Die Daten"
   ]
  },
  {
   "cell_type": "markdown",
   "metadata": {},
   "source": [
    "###### Schulmensa: wie viele Essen sollten vorbereitet werden?\n",
    "\n",
    "Stell dir eine Schule mit Ganztagsbetrieb vor, in der es eine Mensa gibt, die Mittags viele Essensportionen zubereitet. \n",
    "\n",
    "Die Schule hat dazu einige Wünsche ausgearbeitet:\n",
    "1. Jede Schülerin, jeder Schüler kann mittags dort essen.\n",
    "2. Es wird gewünscht, dass man sich einen Tag im voraus zum Essen anmeldet, jedoch\n",
    "    - In besonderen Fällen kann man auch unangemeldet dort erscheinen und ein Essen bekommen, sofern genügend Portionen bereitet wurden.\n",
    "    \n",
    "In der Vergangenheit hat das auch einigermaßen geklappt, doch in der letzten Zeit ist es immer mal wieder zu Problemen gekommen:\n",
    "- es waren zu wenig Portionen vorbereitet, da bedingt durch schlechtes Wetter viele Kinder unangemeldet kamen.\n",
    "- es waren zu viele Portionen vorbereitet, da einige Klassen unvorhergesehen eine Exkursion machten.\n",
    "\n",
    "Die Organisatoren der Mensa haben auf der Basis der vergangenen 3 Monate eine Tabelle erstellt, aus der man ersehen kann, wie viele Kinder am Tag zuvor zum Essen angemeldet hatten und wie viele Essen tatsächlich herausgegeben wurden."
   ]
  },
  {
   "cell_type": "markdown",
   "metadata": {},
   "source": [
    "Es könnte sich dabei vielleicht die folgende Tabelle ergeben (nur der Anfag ist hier wiedergegeben):\n",
    "\n",
    "Meldungen| Portionen\n",
    "---: | ---:\n",
    "271 | 310\n",
    " 65 |  94\n",
    "217 | 227\n",
    "291 | 335\n",
    "139 | 157\n",
    "165 | 185\n",
    "226 | 251\n",
    "124 | 141\n",
    "142 | 156\n",
    "256 | 294\n",
    "116 | 147\n",
    "109 | 144"
   ]
  },
  {
   "cell_type": "markdown",
   "metadata": {},
   "source": [
    "Natürlich könnte die Mensa-Verwaltung jetzt raten (oder klug interpolieren), um eine angemessene Anzahl von Portionen vorzubereiten:\n",
    "- nicht zu wenige, damit kein Kind ohne Essen bleibt.\n",
    "- aber auch nict zu viele, die am Ende übrig bleiben.\n",
    "\n",
    "Doch wir wollen ein Programm erstellen, das einen allgemeinen Zusammenhang zwischen den Tabellenspalten aus den Beispielen ***lernt***."
   ]
  },
  {
   "cell_type": "markdown",
   "metadata": {},
   "source": [
    "### Visualisieren"
   ]
  },
  {
   "cell_type": "markdown",
   "metadata": {},
   "source": [
    "Dazu lassen wir die Daten (in einer Datei mit dem Namen **mensa.txt** abgelegt) in ein Koordinatensystem eintragen:"
   ]
  },
  {
   "cell_type": "code",
   "execution_count": null,
   "metadata": {},
   "outputs": [],
   "source": [
    "# Das ist eine Bibliothek, mir der man Zeichnungen anfertigen kann\n",
    "import matplotlib.pyplot as plt\n",
    "\n",
    "# Das ist eine Bibliothek, mir der man Listen verwalten kann\n",
    "import numpy as np\n"
   ]
  },
  {
   "cell_type": "code",
   "execution_count": null,
   "metadata": {},
   "outputs": [],
   "source": [
    "def zeigen_1(datname):\n",
    "    x_left, x_right, y_left, y_right = 0, 310, 0, 360 # Grenzen der Koordinatenachsen\n",
    "\n",
    "    plt.axis([x_left, x_right, y_left, y_right]) # Achsen zeichnen\n",
    "    plt.xticks(fontsize=15) # Unterteilung der x-Achse\n",
    "    plt.yticks(fontsize=15) # Unterteilung der y-Achse\n",
    "    plt.xlabel(\"Meldungen\", fontsize=18) # Beschriftung der x-Achse\n",
    "    plt.ylabel(\"Ausgegeben\", fontsize=18) # Beschriftung der y-Achse\n",
    "\n",
    "    # Die Datei wird eingelesen und die beiden Spalten als Listen in X und Y abgelegt. \n",
    "    # Die erste Zeile der Datei wird überlesen\n",
    "    X, Y = np.loadtxt (datname, skiprows=1, unpack=True)\n",
    "\n",
    "    plt.plot (X, Y, \"r.\") # die Daten werden als rote Punkte dargestellt\n",
    "    plt.show() # Die Graphik wird angezeigt"
   ]
  },
  {
   "cell_type": "code",
   "execution_count": null,
   "metadata": {},
   "outputs": [],
   "source": [
    "zeigen_1 (\"../Daten/mensa.txt\")"
   ]
  },
  {
   "cell_type": "markdown",
   "metadata": {},
   "source": [
    "Man erkennt irgendwie einen Zusammenhang! Aber\n",
    "1. Ist der Zusammenhang in einer Art *Formel* auszudrücken?\n",
    "2. Und kann auch der Computer diesen Zusammenhang entdecken?"
   ]
  },
  {
   "cell_type": "markdown",
   "metadata": {},
   "source": [
    "### Vorhersage"
   ]
  },
  {
   "cell_type": "markdown",
   "metadata": {},
   "source": [
    "Es scheint so, als ob ungefähr eine Gerade geeignet wäre, den Zusammenhang auszudrücken. Jedoch - im Gegensatz zu dem Problem im vorigen Kapitel - scheint diese Gerade **nicht** durch den Koordinatenursprung zu verlaufen! Dazu bekommt die gesuchte Gerade einen sogenannten ***Bias***:\n",
    "\n",
    "Also:\n",
    "> Eine Gerade mit Bias $b$ und Steigung $m$ hat die Gradengleichung $y = m\\cdot x + b$\n",
    "\n",
    "Das können wir als Python-Funktion ausdrücken (dabei kann der Parameter X sogar eine ganze Liste von Zahlen sein):"
   ]
  },
  {
   "cell_type": "code",
   "execution_count": null,
   "metadata": {
    "code_folding": []
   },
   "outputs": [],
   "source": [
    "def vorhersage (X, m, b):\n",
    "    return X*m + b"
   ]
  },
  {
   "cell_type": "markdown",
   "metadata": {},
   "source": [
    "Wir können ja die Werte von $m$ und $b$ wie gehabt raten und die Gerade anschießend einzeichnen.\n",
    "\n",
    "Probier doch mit den Werten von $m$ und $b$ ein wenig herum!"
   ]
  },
  {
   "cell_type": "code",
   "execution_count": null,
   "metadata": {},
   "outputs": [],
   "source": [
    "def zeigen_2 (datname, m, b):\n",
    "    x_left, x_right, y_left, y_right = -1, 310, -1, 360 # Grenzen der Koordinatenachsen\n",
    "\n",
    "    plt.axis([x_left, x_right, y_left, y_right]) # Achsen zeichnen\n",
    "    plt.xticks(fontsize=15) # Unterteilung der x-Achse\n",
    "    plt.yticks(fontsize=15) # Unterteilung der y-Achse\n",
    "    plt.xlabel(\"Meldungen\", fontsize=18) # Beschriftung der x-Achse\n",
    "    plt.ylabel(\"Ausgegeben\", fontsize=18) # Beschriftung der y-Achse\n",
    "\n",
    "    # Die Datei wird eingelesen und die beiden Spalten als Listen in X und Y abgelegt. \n",
    "    # Die erste Zeile der Datei wird überlesen\n",
    "    X, Y = np.loadtxt (datname, skiprows=1, unpack=True)\n",
    "\n",
    "    plt.plot (X, Y, \"r.\") # die Daten werden als rote Punkte dargestellt\n",
    "    plt.plot ([0, x_right], [vorhersage(0, m, b), vorhersage(x_right, m, b)], linewidth=1.0, color=\"b\")\n",
    "    plt.show() # Die Graphik wird angezeigt"
   ]
  },
  {
   "cell_type": "code",
   "execution_count": null,
   "metadata": {
    "scrolled": false
   },
   "outputs": [],
   "source": [
    "zeigen_2 (\"../Daten/mensa.txt\", 1.1, 20)"
   ]
  },
  {
   "cell_type": "markdown",
   "metadata": {},
   "source": [
    "### Fehler"
   ]
  },
  {
   "cell_type": "markdown",
   "metadata": {},
   "source": [
    "Nehmen wir jetzt einmal an, wir haben die Daten mit m = 1.2 und b = 20 getestet. Das scheint noch nicht gut zu passen! Also berechnen wir wie gehabt den mittleren *Fehler*."
   ]
  },
  {
   "cell_type": "code",
   "execution_count": null,
   "metadata": {},
   "outputs": [],
   "source": [
    "MELDUNG, AUSGABE = np.loadtxt (\"../Daten/mensa.txt\", skiprows=1, unpack=True)"
   ]
  },
  {
   "cell_type": "markdown",
   "metadata": {},
   "source": [
    "Und wie im letzten Kapitel berechnen wir den mittleren quadratischen Fehler:"
   ]
  },
  {
   "cell_type": "code",
   "execution_count": null,
   "metadata": {},
   "outputs": [],
   "source": [
    "def fehler (X, Y, m, b):\n",
    "    return np.average ((vorhersage (X, m, b) - Y)**2)"
   ]
  },
  {
   "cell_type": "markdown",
   "metadata": {},
   "source": [
    "### Training"
   ]
  },
  {
   "cell_type": "markdown",
   "metadata": {},
   "source": [
    "Die Idee besteht jetzt wiederum darin, die Werte von m und b so zu verändern, dass der Fehler möglichst gering wird. \n",
    "\n",
    "Dazu beginnt man mit willkürlichen Werten für m und b und verändert diese Werte schrittweise nach oben bzw. unten, bis eine Veränderung keinen Fortschritt mehr bringt."
   ]
  },
  {
   "cell_type": "code",
   "execution_count": null,
   "metadata": {},
   "outputs": [],
   "source": [
    "def training (X, Y, iterations, lr):\n",
    "    m = 0\n",
    "    b = 0\n",
    "    for i in range(iterations):\n",
    "        aktuellerFehler = fehler(X, Y, m, b)\n",
    "        #print(\"w: %.3f =>Iteration: %4d => Loss: %.6f\" % (m, i, current_loss))\n",
    "\n",
    "        if fehler (X, Y, m + lr, b) < aktuellerFehler:\n",
    "            m += lr\n",
    "        elif fehler (X, Y, m - lr, b) < aktuellerFehler:\n",
    "            m -= lr\n",
    "        elif fehler (X, Y, m, b + lr) < aktuellerFehler:\n",
    "            b += lr\n",
    "        elif fehler (X, Y, m, b - lr) < aktuellerFehler:\n",
    "            b -= lr\n",
    "    return m, b"
   ]
  },
  {
   "cell_type": "code",
   "execution_count": null,
   "metadata": {},
   "outputs": [],
   "source": [
    "training (MELDUNG, AUSGABE, 100000, 0.001)"
   ]
  },
  {
   "cell_type": "code",
   "execution_count": null,
   "metadata": {},
   "outputs": [],
   "source": [
    "#import seaborn as sns"
   ]
  },
  {
   "cell_type": "code",
   "execution_count": null,
   "metadata": {},
   "outputs": [],
   "source": [
    "#sns.set()"
   ]
  },
  {
   "cell_type": "code",
   "execution_count": null,
   "metadata": {},
   "outputs": [],
   "source": [
    "def zeigen_3 (datname, it, lr):\n",
    "    X, Y = np.loadtxt (datname, skiprows=1, unpack=True)\n",
    "    m, b = training (X, Y, it, lr)\n",
    "    #sns.set()\n",
    "    plt.plot(X, Y, \"r.\")\n",
    "    plt.xticks(fontsize=15)\n",
    "    plt.yticks(fontsize=15)\n",
    "    plt.xlabel(\"Meldungen (M)\", fontsize=18) # Beschriftung der x-Achse\n",
    "    plt.ylabel(\"Ausgegeben (A)\", fontsize=18) # Beschriftung der y-Achse\n",
    "    x_left, x_right, y_left, y_right = 0, 310, 0, 360\n",
    "    plt.axis([x_left, x_right, y_left, y_right])\n",
    "    wert_links = vorhersage(x_left, m, b)\n",
    "    wert_rechts = vorhersage(x_right, m, b)\n",
    "    plt.plot([0, x_right], [b, wert_rechts], linewidth=1.0, color=\"k\")\n",
    "    plt.show()\n",
    "    print(\"Der Zusammenhang ist etwa A = %.3f * M + %.3f\" %(m, b))\n"
   ]
  },
  {
   "cell_type": "code",
   "execution_count": null,
   "metadata": {
    "scrolled": true
   },
   "outputs": [],
   "source": [
    "zeigen_3 (\"../Daten/mensa.txt\", 100000, 0.001)"
   ]
  },
  {
   "cell_type": "markdown",
   "metadata": {},
   "source": [
    "Wie viele Portionen muss der Koch der Mensaküche jetzt herstellen, wenn sich z.B. 230 Kinder bereits angemeldet haben?"
   ]
  },
  {
   "cell_type": "code",
   "execution_count": null,
   "metadata": {},
   "outputs": [],
   "source": [
    "steigung, bias = training (MELDUNG, AUSGABE, 100000, 0.001)"
   ]
  },
  {
   "cell_type": "code",
   "execution_count": null,
   "metadata": {},
   "outputs": [],
   "source": [
    "def anzahlEssen (anzahlMeldungen):\n",
    "    return int (vorhersage (anzahlMeldungen, steigung, bias))"
   ]
  },
  {
   "cell_type": "code",
   "execution_count": null,
   "metadata": {},
   "outputs": [],
   "source": [
    "def ausgabe (anzahlMeldungen):\n",
    "    a = anzahlEssen (anzahlMeldungen)\n",
    "    print (\"Wenn sich\", anzahlMeldungen, \"Kinder bereits gemeldet haben, sollten ca.\", a, \"Portionen zubereitet werden:\")"
   ]
  },
  {
   "cell_type": "code",
   "execution_count": null,
   "metadata": {},
   "outputs": [],
   "source": [
    "ausgabe (230)"
   ]
  },
  {
   "cell_type": "code",
   "execution_count": null,
   "metadata": {},
   "outputs": [],
   "source": []
  },
  {
   "cell_type": "code",
   "execution_count": null,
   "metadata": {},
   "outputs": [],
   "source": []
  }
 ],
 "metadata": {
  "hide_input": false,
  "kernelspec": {
   "display_name": "Python 3 (ipykernel)",
   "language": "python",
   "name": "python3"
  },
  "language_info": {
   "codemirror_mode": {
    "name": "ipython",
    "version": 3
   },
   "file_extension": ".py",
   "mimetype": "text/x-python",
   "name": "python",
   "nbconvert_exporter": "python",
   "pygments_lexer": "ipython3",
   "version": "3.8.2"
  },
  "latex_envs": {
   "LaTeX_envs_menu_present": true,
   "autoclose": false,
   "autocomplete": true,
   "bibliofile": "biblio.bib",
   "cite_by": "apalike",
   "current_citInitial": 1,
   "eqLabelWithNumbers": true,
   "eqNumInitial": 1,
   "hotkeys": {
    "equation": "Ctrl-E",
    "itemize": "Ctrl-I"
   },
   "labels_anchors": false,
   "latex_user_defs": false,
   "report_style_numbering": false,
   "user_envs_cfg": false
  },
  "toc": {
   "base_numbering": "2",
   "nav_menu": {},
   "number_sections": true,
   "sideBar": true,
   "skip_h1_title": true,
   "title_cell": "Table of Contents",
   "title_sidebar": "Contents",
   "toc_cell": false,
   "toc_position": {
    "height": "180px",
    "left": "1263px",
    "top": "469.133px",
    "width": "217px"
   },
   "toc_section_display": true,
   "toc_window_display": true
  },
  "varInspector": {
   "cols": {
    "lenName": 16,
    "lenType": 16,
    "lenVar": 40
   },
   "kernels_config": {
    "python": {
     "delete_cmd_postfix": "",
     "delete_cmd_prefix": "del ",
     "library": "var_list.py",
     "varRefreshCmd": "print(var_dic_list())"
    },
    "r": {
     "delete_cmd_postfix": ") ",
     "delete_cmd_prefix": "rm(",
     "library": "var_list.r",
     "varRefreshCmd": "cat(var_dic_list()) "
    }
   },
   "types_to_exclude": [
    "module",
    "function",
    "builtin_function_or_method",
    "instance",
    "_Feature"
   ],
   "window_display": false
  }
 },
 "nbformat": 4,
 "nbformat_minor": 4
}
