{
 "cells": [
  {
   "cell_type": "code",
   "execution_count": 2,
   "metadata": {},
   "outputs": [],
   "source": [
    "import numpy as np\n",
    "from random import randint"
   ]
  },
  {
   "cell_type": "code",
   "execution_count": 8,
   "metadata": {},
   "outputs": [
    {
     "name": "stdout",
     "output_type": "stream",
     "text": [
      "[271, 65, 217, 291, 139, 165, 226, 124, 142, 256, 116, 109, 203, 203, 203, 206, 251, 161, 57, 283, 90, 154, 263, 247, 132, 96, 56, 232, 222, 128, 213, 61, 87, 173, 126, 119, 223, 250, 280, 300, 176, 161, 63, 258, 149, 164, 107, 273, 228, 211, 146, 166, 61, 219, 251, 145, 231, 86, 222, 53, 94, 67, 130, 264, 164, 153, 53, 182, 89, 272, 174, 54, 286, 159, 208, 260, 291, 213, 119, 252, 253, 60, 156, 218, 50, 65, 89, 229, 92, 84, 211, 181, 293, 93, 219, 115, 219, 109, 217, 65]\n",
      "[310, 94, 227, 335, 157, 185, 251, 141, 156, 294, 147, 144, 216, 247, 242, 238, 264, 192, 85, 315, 117, 192, 310, 259, 178, 118, 98, 264, 255, 138, 254, 90, 120, 205, 176, 134, 240, 298, 321, 332, 224, 178, 108, 285, 191, 179, 136, 285, 240, 226, 159, 190, 82, 243, 258, 184, 248, 107, 240, 101, 109, 109, 163, 273, 189, 202, 90, 230, 130, 300, 191, 74, 306, 170, 222, 265, 310, 242, 146, 264, 290, 71, 171, 265, 97, 79, 124, 262, 142, 89, 260, 198, 323, 105, 265, 120, 261, 142, 255, 96]\n"
     ]
    }
   ],
   "source": [
    "X = []\n",
    "Y = []\n",
    "for i in range (100):\n",
    "    x = randint (50, 300)\n",
    "    u = x + 5\n",
    "    o = x + 50\n",
    "    y = randint (u, o)\n",
    "    X.append (x)\n",
    "    Y.append (y)\n",
    "print (X)\n",
    "print (Y)\n",
    "\n",
    "NX = np.array (X)\n",
    "NY = np.array (Y)\n",
    "\n",
    "DAT =  np.column_stack((NX, NY))\n",
    "\n",
    "np.savetxt('schulmensa.txt', DAT, delimiter=\" \", fmt=\"%i\") "
   ]
  },
  {
   "cell_type": "code",
   "execution_count": null,
   "metadata": {},
   "outputs": [],
   "source": []
  }
 ],
 "metadata": {
  "kernelspec": {
   "display_name": "Python 3",
   "language": "python",
   "name": "python3"
  },
  "language_info": {
   "codemirror_mode": {
    "name": "ipython",
    "version": 3
   },
   "file_extension": ".py",
   "mimetype": "text/x-python",
   "name": "python",
   "nbconvert_exporter": "python",
   "pygments_lexer": "ipython3",
   "version": "3.8.2"
  }
 },
 "nbformat": 4,
 "nbformat_minor": 4
}
