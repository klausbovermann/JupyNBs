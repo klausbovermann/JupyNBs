{
 "cells": [
  {
   "cell_type": "markdown",
   "metadata": {},
   "source": [
    "# Machine-Learning"
   ]
  },
  {
   "cell_type": "markdown",
   "metadata": {},
   "source": [
    "## Überwachtes Lernen; Regressionsgerade ohne Bias"
   ]
  },
  {
   "cell_type": "markdown",
   "metadata": {},
   "source": [
    "### Die Daten"
   ]
  },
  {
   "cell_type": "markdown",
   "metadata": {},
   "source": [
    "![Schuhe](Bilder/Schuh.png \"Schuhe\")"
   ]
  },
  {
   "cell_type": "markdown",
   "metadata": {},
   "source": [
    "###### Stell dir vor, du möchtest dir ein Paar neue Schuhe kaufen, hast aber keine Ahnung, welche Schuhgröße du hast.\n",
    "\n",
    "In Europa gibt es Schuhgrößen, die *irgendwie* zwischen ungefähr 30 und 48 liegen. Aber was ist für dich die passende Größe?\n",
    "\n",
    "Du kannst natürlich die Länge deines Fußes messen: ca. 26 cm vielleicht! Doch was hilft das?\n",
    "\n",
    "Also machen wir doch einmal ein Experiment in deiner Klasse, also:\n",
    "1. Eine Tabelle anlegen!\n",
    "1. Jedes Kind soll seinen Schuh ausziehen;\n",
    "2. die Fußlänge messen;\n",
    "2. die Schuhgröße (am Schuh) ablesen;\n",
    "2. die Daten in der Tabelle notieren."
   ]
  },
  {
   "cell_type": "markdown",
   "metadata": {},
   "source": [
    "Es könnte sich dabei vielleicht die folgende Tabelle ergeben:\n",
    "\n",
    "Fusslaenge (in cm)| Schuhgroesse (EU-Norm)\n",
    ":---: | :---:\n",
    "27 | 42\n",
    "27.5 | 43\n",
    "23.5 | 37\n",
    "21.5 | 34\n",
    "23 | 36\n",
    "28.5 | 44\n",
    "24.5 | 38\n",
    "24.4 | 37\n",
    "28.6 | 44\n",
    "28.4 | 43\n"
   ]
  },
  {
   "cell_type": "markdown",
   "metadata": {},
   "source": [
    "Natürlich könntest du jetzt raten (oder klug interpolieren), um deine richtige Größe zu finden. Doch wir wollen ein Programm erstellen, das einen allgemeinen Zusammenhang zwischen den Tabellenspalten aus den Beispielen ***lernt***."
   ]
  },
  {
   "cell_type": "markdown",
   "metadata": {},
   "source": [
    "### Visualisieren"
   ]
  },
  {
   "cell_type": "markdown",
   "metadata": {},
   "source": [
    "Dazu lassen wir die Daten (in einer Datei mit dem Namen **schuhe.txt** abgelegt) in ein Koordinatensystem eintragen:"
   ]
  },
  {
   "cell_type": "code",
   "execution_count": 1,
   "metadata": {},
   "outputs": [],
   "source": [
    "# Das ist eine Bibliothek, mir der man Zeichnungen anfertigen kann\n",
    "import matplotlib.pyplot as plt\n",
    "\n",
    "# Das ist eine Bibliothek, mir der man Listen verwalten kann\n",
    "import numpy as np\n"
   ]
  },
  {
   "cell_type": "code",
   "execution_count": 2,
   "metadata": {},
   "outputs": [],
   "source": [
    "def zeigen_1(datname):\n",
    "    x_left, x_right, y_left, y_right = 15, 30, 30, 50 # Grenzen der Koordinatenachsen\n",
    "\n",
    "    plt.axis([x_left, x_right, y_left, y_right]) # Achsen zeichnen\n",
    "    plt.xticks(fontsize=15) # Unterteilung der x-Achse\n",
    "    plt.yticks(fontsize=15) # Unterteilung der y-Achse\n",
    "    plt.xlabel(\"Fußlänge\", fontsize=18) # Beschriftung der x-Achse\n",
    "    plt.ylabel(\"Schuhgröße\", fontsize=18) # Beschriftung der y-Achse\n",
    "\n",
    "    # Die Datei wird eingelesen und die beiden Spalten als Listen in X und Y abgelegt. \n",
    "    # Die erste Zeile der Datei wird überlesen\n",
    "    X, Y = np.loadtxt (datname, skiprows=1, unpack=True)\n",
    "\n",
    "    plt.plot (X, Y, \"r.\") # die Daten werden als rote Punkte dargestellt\n",
    "    plt.show() # Die Graphik wird angezeigt"
   ]
  },
  {
   "cell_type": "code",
   "execution_count": 3,
   "metadata": {},
   "outputs": [
    {
     "data": {
      "image/png": "[encoded data removed]",
      "text/plain": [
       "<Figure size 432x288 with 1 Axes>"
      ]
     },
     "metadata": {
      "needs_background": "light"
     },
     "output_type": "display_data"
    }
   ],
   "source": [
    "zeigen_1 (\"schuhe.txt\")"
   ]
  },
  {
   "cell_type": "markdown",
   "metadata": {},
   "source": [
    "Man erkennt irgendwie einen Zusammenhang! Aber\n",
    "1. Ist der Zusammenhang in einer Art *Formel* auszudrücken?\n",
    "2. Und kann auch der Computer diesen Zusammenhang entdecken?"
   ]
  },
  {
   "cell_type": "markdown",
   "metadata": {},
   "source": [
    "### Vorhersage; ein erster Versuch"
   ]
  },
  {
   "cell_type": "markdown",
   "metadata": {},
   "source": [
    "Es scheint so, als ob ungefähr eine Gerade geeignet wäre, den Zusammenhang auszudrücken.\n",
    "\n",
    "Also ein erster Versuch:\n",
    "> Eine Gerade durch den Koordinatenursprung mit Steigung $m$ hat die Gradengleichung $y = m\\cdot x$\n",
    "\n",
    "Das können wir als Python-Funktion ausdrücken (dabei kann der Parameter X sogar eine ganze Liste von Zahlen sein):"
   ]
  },
  {
   "cell_type": "code",
   "execution_count": 4,
   "metadata": {},
   "outputs": [],
   "source": [
    "def vorhersage (X, m):\n",
    "    return X*m"
   ]
  },
  {
   "cell_type": "markdown",
   "metadata": {},
   "source": [
    "Wir können ja den Wert von $m$ einmal raten und die Gerade anschießend einzeichnen (wir vergrößern dazu den Diagrammausschnitt so, dass der Koordinatenursprung sichtbar wird).\n",
    "\n",
    "Probier doch mit dem Wert von $m$ ein wenig herum!"
   ]
  },
  {
   "cell_type": "code",
   "execution_count": 5,
   "metadata": {},
   "outputs": [],
   "source": [
    "def zeigen_2 (datname, m):\n",
    "    x_left, x_right, y_left, y_right = -1, 30, -1, 50 # Grenzen der Koordinatenachsen\n",
    "\n",
    "    plt.axis([x_left, x_right, y_left, y_right]) # Achsen zeichnen\n",
    "    plt.xticks(fontsize=15) # Unterteilung der x-Achse\n",
    "    plt.yticks(fontsize=15) # Unterteilung der y-Achse\n",
    "    plt.xlabel(\"Fußlänge\", fontsize=18) # Beschriftung der x-Achse\n",
    "    plt.ylabel(\"Schuhgröße\", fontsize=18) # Beschriftung der y-Achse\n",
    "\n",
    "    # Die Datei wird eingelesen und die beiden Spalten als Listen in X und Y abgelegt. \n",
    "    # Die erste Zeile der Datei wird überlesen\n",
    "    X, Y = np.loadtxt (datname, skiprows=1, unpack=True)\n",
    "\n",
    "    plt.plot (X, Y, \"r.\") # die Daten werden als rote Punkte dargestellt\n",
    "    plt.plot ([0, x_right], [0, vorhersage(x_right, m)], linewidth=1.0, color=\"b\")\n",
    "    plt.show() # Die Graphik wird angezeigt"
   ]
  },
  {
   "cell_type": "code",
   "execution_count": 6,
   "metadata": {
    "scrolled": true
   },
   "outputs": [
    {
     "data": {
      "image/png": "[encoded data removed]",
      "text/plain": [
       "<Figure size 432x288 with 1 Axes>"
      ]
     },
     "metadata": {
      "needs_background": "light"
     },
     "output_type": "display_data"
    }
   ],
   "source": [
    "zeigen_2 (\"schuhe.txt\", 1.2)"
   ]
  },
  {
   "cell_type": "markdown",
   "metadata": {},
   "source": [
    "### Fehler"
   ]
  },
  {
   "cell_type": "markdown",
   "metadata": {},
   "source": [
    "Nehmen wir jetzt einmal an, wir haben für m einen Wert von 1.2 getestet. Das scheint nicht gut zu passen! Doch kann man denn irgendwie messen, wie groß der *Fehler* ist?\n",
    "\n",
    "Der Fuß mit Länge 23.5 benutzte einen Schuh der Größe 37 (das ist die 3-te Zeile in der Tabelle). "
   ]
  },
  {
   "cell_type": "code",
   "execution_count": 7,
   "metadata": {},
   "outputs": [],
   "source": [
    "FUSS, SCHUH = np.loadtxt (\"schuhe.txt\", skiprows=1, unpack=True)"
   ]
  },
  {
   "cell_type": "code",
   "execution_count": 8,
   "metadata": {},
   "outputs": [
    {
     "data": {
      "text/plain": [
       "23.5"
      ]
     },
     "execution_count": 8,
     "metadata": {},
     "output_type": "execute_result"
    }
   ],
   "source": [
    "FUSS[2] # Achtung: die Indizes beginnen mit 0"
   ]
  },
  {
   "cell_type": "code",
   "execution_count": 9,
   "metadata": {},
   "outputs": [
    {
     "data": {
      "text/plain": [
       "37.0"
      ]
     },
     "execution_count": 9,
     "metadata": {},
     "output_type": "execute_result"
    }
   ],
   "source": [
    "SCHUH[2]"
   ]
  },
  {
   "cell_type": "code",
   "execution_count": 10,
   "metadata": {},
   "outputs": [
    {
     "data": {
      "text/plain": [
       "28.2"
      ]
     },
     "execution_count": 10,
     "metadata": {},
     "output_type": "execute_result"
    }
   ],
   "source": [
    "vorhersage (FUSS[2], 1.2)"
   ]
  },
  {
   "cell_type": "markdown",
   "metadata": {},
   "source": [
    "Der Fehler ist also:"
   ]
  },
  {
   "cell_type": "code",
   "execution_count": 11,
   "metadata": {},
   "outputs": [
    {
     "data": {
      "text/plain": [
       "-8.8"
      ]
     },
     "execution_count": 11,
     "metadata": {},
     "output_type": "execute_result"
    }
   ],
   "source": [
    "vorhersage (FUSS[2], 1.2) - SCHUH[2]"
   ]
  },
  {
   "cell_type": "markdown",
   "metadata": {},
   "source": [
    "Man kann sogar die Fehler aller Tabelleneinträge auflisten:"
   ]
  },
  {
   "cell_type": "code",
   "execution_count": 12,
   "metadata": {},
   "outputs": [
    {
     "name": "stdout",
     "output_type": "stream",
     "text": [
      "[ -9.6  -10.    -8.8   -8.2   -8.4   -9.8   -8.6   -7.72  -9.68  -8.92]\n"
     ]
    }
   ],
   "source": [
    "print (vorhersage (FUSS, 1.2) - SCHUH)"
   ]
  },
  {
   "cell_type": "markdown",
   "metadata": {},
   "source": [
    "Alle Fehler könnten wir jetzt aufsummieren, um sozusagen den Gesamtfehler zu ermitteln:"
   ]
  },
  {
   "cell_type": "code",
   "execution_count": 13,
   "metadata": {},
   "outputs": [
    {
     "data": {
      "text/plain": [
       "-89.72000000000001"
      ]
     },
     "execution_count": 13,
     "metadata": {},
     "output_type": "execute_result"
    }
   ],
   "source": [
    "sum (vorhersage (FUSS, 1.2) - SCHUH)"
   ]
  },
  {
   "cell_type": "markdown",
   "metadata": {},
   "source": [
    "Jedoch ist es dabei problematisch, den Fehler mit Hilfe der Differenz zu messen. Denn vielleicht sind einige der Fehler positiv, andere negativ, so dass sie sich irgendwie aufheben werden und wir so meinen, einen sehr kleinen Fehler zu machen.\n",
    "\n",
    "Man könnte jetzt den Absolutwert der Differenz als Fehler benutzen, doch hat es sich als sinnvoll erwiesen, die Differenzen zu quadrieren (dann ergibt sich ja auch immer ein nicht-negativer Wert). \n",
    "\n",
    "Also machen wir alle Rechnungen erneut:"
   ]
  },
  {
   "cell_type": "code",
   "execution_count": 14,
   "metadata": {},
   "outputs": [
    {
     "data": {
      "text/plain": [
       "77.44000000000001"
      ]
     },
     "execution_count": 14,
     "metadata": {},
     "output_type": "execute_result"
    }
   ],
   "source": [
    "(vorhersage (FUSS[2], 1.2) - SCHUH[2])**2"
   ]
  },
  {
   "cell_type": "code",
   "execution_count": 15,
   "metadata": {},
   "outputs": [
    {
     "name": "stdout",
     "output_type": "stream",
     "text": [
      "[ 92.16   100.      77.44    67.24    70.56    96.04    73.96    59.5984\n",
      "  93.7024  79.5664]\n"
     ]
    }
   ],
   "source": [
    "print ((vorhersage (FUSS, 1.2) - SCHUH)**2)"
   ]
  },
  {
   "cell_type": "code",
   "execution_count": 16,
   "metadata": {},
   "outputs": [
    {
     "data": {
      "text/plain": [
       "810.2672000000003"
      ]
     },
     "execution_count": 16,
     "metadata": {},
     "output_type": "execute_result"
    }
   ],
   "source": [
    "sum ((vorhersage (FUSS, 1.2) - SCHUH)**2)"
   ]
  },
  {
   "cell_type": "markdown",
   "metadata": {},
   "source": [
    "Und statt der Summe aller Fehler könnten wir auch den Durchschnittlichen Fehler nutzen, um von der Anzahl der Tabelleneinträge unabhängig zu sein:"
   ]
  },
  {
   "cell_type": "code",
   "execution_count": 17,
   "metadata": {},
   "outputs": [
    {
     "data": {
      "text/plain": [
       "81.02672000000003"
      ]
     },
     "execution_count": 17,
     "metadata": {},
     "output_type": "execute_result"
    }
   ],
   "source": [
    "np.average ((vorhersage (FUSS, 1.2) - SCHUH)**2)"
   ]
  },
  {
   "cell_type": "markdown",
   "metadata": {},
   "source": [
    "Das könnten wir in einer Python-Definition ausdrücken:"
   ]
  },
  {
   "cell_type": "code",
   "execution_count": 18,
   "metadata": {},
   "outputs": [],
   "source": [
    "def fehler (X, Y, m):\n",
    "    return np.average ((vorhersage (X, m) - Y)**2)"
   ]
  },
  {
   "cell_type": "markdown",
   "metadata": {},
   "source": [
    "### Training"
   ]
  },
  {
   "cell_type": "markdown",
   "metadata": {},
   "source": [
    "Die Idee besteht jetzt darin, den Wert von m so zu verändern, dass der Fehler möglichst gering wird. \n",
    "\n",
    "Dazu beginnt man mit einem willkürlichen Wert für m und verändert diesen Wert schrittweise nach oben bzw. unten, bis eine Veränderung keinen Fortschritt mehr bringt.\n",
    "\n",
    "Man sagt dann, dass man ***trainiert***."
   ]
  },
  {
   "cell_type": "code",
   "execution_count": 19,
   "metadata": {},
   "outputs": [],
   "source": [
    "def training (X, Y, iterations, lr):\n",
    "    m = 0\n",
    "    for i in range(iterations):\n",
    "        aktuellerFehler = fehler(X, Y, m)\n",
    "        #print(\"w: %.3f =>Iteration: %4d => Loss: %.6f\" % (m, i, current_loss))\n",
    "\n",
    "        if fehler (X, Y, m + lr) < aktuellerFehler:\n",
    "            m += lr\n",
    "        elif fehler (X, Y, m - lr) < aktuellerFehler:\n",
    "            m -= lr\n",
    "    return m"
   ]
  },
  {
   "cell_type": "code",
   "execution_count": 20,
   "metadata": {},
   "outputs": [
    {
     "data": {
      "text/plain": [
       "1.5500000000000012"
      ]
     },
     "execution_count": 20,
     "metadata": {},
     "output_type": "execute_result"
    }
   ],
   "source": [
    "training (FUSS, SCHUH, 1000, 0.01)"
   ]
  },
  {
   "cell_type": "code",
   "execution_count": 21,
   "metadata": {},
   "outputs": [],
   "source": [
    "#import seaborn as sns"
   ]
  },
  {
   "cell_type": "code",
   "execution_count": 22,
   "metadata": {},
   "outputs": [],
   "source": [
    "#sns.set()"
   ]
  },
  {
   "cell_type": "code",
   "execution_count": 23,
   "metadata": {},
   "outputs": [],
   "source": [
    "def zeigen_3 (datname, it, lr):\n",
    "    X, Y = np.loadtxt (datname, skiprows=1, unpack=True)\n",
    "    m = training (X, Y, it, lr)\n",
    "    #sns.set()\n",
    "    plt.plot(X, Y, \"r.\")\n",
    "    plt.xticks(fontsize=15)\n",
    "    plt.yticks(fontsize=15)\n",
    "    plt.xlabel(\"Fußlänge (F)\", fontsize=30)\n",
    "    plt.ylabel(\"Schuhgröße (S)\", fontsize=30)\n",
    "    x_left, x_right, y_left, y_right = 0, 30, 0, 50\n",
    "    plt.axis([x_left, x_right, y_left, y_right])\n",
    "    wert = vorhersage(x_right, m)\n",
    "    plt.plot([0, x_right], [0, wert], linewidth=1.0, color=\"k\")\n",
    "    plt.show()\n",
    "    print(\"Der Zusammenhang ist etwa S = %.3f * F\" % m)\n"
   ]
  },
  {
   "cell_type": "code",
   "execution_count": 24,
   "metadata": {
    "scrolled": true
   },
   "outputs": [
    {
     "data": {
      "image/png": "[encoded data removed]",
      "text/plain": [
       "<Figure size 432x288 with 1 Axes>"
      ]
     },
     "metadata": {
      "needs_background": "light"
     },
     "output_type": "display_data"
    },
    {
     "name": "stdout",
     "output_type": "stream",
     "text": [
      "Der Zusammenhang ist etwa S = 1.550 * F\n"
     ]
    }
   ],
   "source": [
    "zeigen_3 (\"schuhe.txt\", 1000, 0.01)"
   ]
  },
  {
   "cell_type": "markdown",
   "metadata": {},
   "source": [
    "### Wie geht es weiter?"
   ]
  },
  {
   "cell_type": "markdown",
   "metadata": {},
   "source": [
    "In Wirklichkeit ist der vorhergesagte Wert ein wenig zu klein (das sieht man nicht so deutlich); in der Definition der europäischen Schuhgrößen muss man zu der Fußlänge noch einige Millimeter zufügen, damit der Fuß Platz hat, sich zu bewegen.\n",
    "\n",
    "Aber das fällt ja hier kaum auf!\n",
    "\n",
    "Doch es gibt auch Datenmengen, bei denen zwar eine Gerade als Vorhersage dient, die jedoch nicht durch den Koordinatenursprung verläuft. Das wird im folgenden Kapitel erörtert.\n"
   ]
  }
 ],
 "metadata": {
  "kernelspec": {
   "display_name": "Python 3",
   "language": "python",
   "name": "python3"
  },
  "language_info": {
   "codemirror_mode": {
    "name": "ipython",
    "version": 3
   },
   "file_extension": ".py",
   "mimetype": "text/x-python",
   "name": "python",
   "nbconvert_exporter": "python",
   "pygments_lexer": "ipython3",
   "version": "3.8.2"
  },
  "toc": {
   "base_numbering": 1,
   "nav_menu": {},
   "number_sections": true,
   "sideBar": false,
   "skip_h1_title": true,
   "title_cell": "Table of Contents",
   "title_sidebar": "Contents",
   "toc_cell": false,
   "toc_position": {
    "height": "192px",
    "left": "824px",
    "top": "138.133px",
    "width": "213px"
   },
   "toc_section_display": true,
   "toc_window_display": true
  }
 },
 "nbformat": 4,
 "nbformat_minor": 4
}
