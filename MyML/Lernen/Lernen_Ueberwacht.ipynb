{
 "cells": [
  {
   "cell_type": "markdown",
   "metadata": {},
   "source": [
    "# Machine-Learning"
   ]
  },
  {
   "cell_type": "markdown",
   "metadata": {},
   "source": [
    "## Überwachtes Lernen"
   ]
  },
  {
   "cell_type": "markdown",
   "metadata": {},
   "source": [
    "### Binärer Klassifizierer"
   ]
  },
  {
   "cell_type": "markdown",
   "metadata": {},
   "source": [
    "In einer Schule gibt es eine mehr oder weniger erfolgreiche Handballmannschaft. Oft gewinnen sie ein Spiel, aber manchmal eben auch nicht.\n",
    "\n",
    "Bei den Spielen sind natürlich Schülerinnen und Schüler als Zuschauer dabei, die die Mannschaft anfeuern.\n",
    "\n",
    "> Ist die Anzahl der Zuschauer vielleicht mitverantwortlich dafür, ob die Mannschaft gewinnt?\n",
    "\n",
    "Diese Frage kann ein sog. *binärer Klassifizierer* beantworten. Dazu benötigen wir - wie in den vorigen Kapiteln - Trainingsdaten, die wieder in Form einer Tabelle vorliegen.\n",
    "\n",
    "Eine solche Tabelle kann z.B. die folgende Einträge haben (hier nur die ersten 10 Einträge gelistet):"
   ]
  },
  {
   "cell_type": "markdown",
   "metadata": {},
   "source": [
    "Anzahl Zuschauer | Gewinn (1) / Verlust (0)\n",
    "--: | :--:\n",
    "243 | 0\n",
    "216 | 1\n",
    "100 | 0\n",
    "128 | 0\n",
    "232 | 1\n",
    "196 | 0\n",
    "168 | 1\n",
    "224 | 1\n",
    "69 | 0\n",
    "206 | 1"
   ]
  },
  {
   "cell_type": "markdown",
   "metadata": {},
   "source": [
    "Eine Graphik kann die Daten veranschaulichen:"
   ]
  },
  {
   "cell_type": "code",
   "execution_count": 1,
   "metadata": {},
   "outputs": [],
   "source": [
    "# Das ist eine Bibliothek, mir der man Zeichnungen anfertigen kann\n",
    "import matplotlib.pyplot as plt\n",
    "\n",
    "# Das ist eine Bibliothek, mir der man Listen verwalten kann\n",
    "import numpy as np\n"
   ]
  },
  {
   "cell_type": "code",
   "execution_count": 2,
   "metadata": {},
   "outputs": [],
   "source": [
    "def zeigen_1(datname):\n",
    "    x_left, x_right, y_left, y_right = 0, 310, -0.1, 1.1 # Grenzen der Koordinatenachsen\n",
    "\n",
    "    plt.axis([x_left, x_right, y_left, y_right]) # Achsen zeichnen\n",
    "    plt.xticks(fontsize=10) # Unterteilung der x-Achse\n",
    "    plt.yticks(fontsize=10) # Unterteilung der y-Achse\n",
    "    plt.xlabel(\"Zuschauer\", fontsize=12) # Beschriftung der x-Achse\n",
    "    plt.ylabel(\"Gewinn (1) / Verlust (0)\", fontsize=12) # Beschriftung der y-Achse\n",
    "\n",
    "    # Die Datei wird eingelesen und die beiden Spalten als Listen in X und Y abgelegt. \n",
    "    # Die erste Zeile der Datei wird überlesen\n",
    "    X, Y = np.loadtxt (datname, skiprows=1, unpack=True)\n",
    "\n",
    "    plt.plot (X, Y, \"r.\") # die Daten werden als rote Punkte dargestellt\n",
    "    plt.show() # Die Graphik wird angezeigt"
   ]
  },
  {
   "cell_type": "code",
   "execution_count": 3,
   "metadata": {},
   "outputs": [
    {
     "data": {
      "image/png": "[encoded data removed]",
      "text/plain": [
       "<Figure size 432x288 with 1 Axes>"
      ]
     },
     "metadata": {
      "needs_background": "light"
     },
     "output_type": "display_data"
    }
   ],
   "source": [
    "zeigen_1(\"handball.txt\")"
   ]
  },
  {
   "cell_type": "markdown",
   "metadata": {},
   "source": [
    "Wie man unschwer erkennen kann, hilft hier eine Regressionsgerade (wie aus den vorigen Kapiteln bekannt) nicht weiter.\n",
    "\n",
    "Jedoch werden wir einige der dort gelernten Techniken auch hier nutzen können."
   ]
  },
  {
   "cell_type": "code",
   "execution_count": null,
   "metadata": {},
   "outputs": [],
   "source": []
  }
 ],
 "metadata": {
  "hide_input": false,
  "kernelspec": {
   "display_name": "Python 3 (ipykernel)",
   "language": "python",
   "name": "python3"
  },
  "language_info": {
   "codemirror_mode": {
    "name": "ipython",
    "version": 3
   },
   "file_extension": ".py",
   "mimetype": "text/x-python",
   "name": "python",
   "nbconvert_exporter": "python",
   "pygments_lexer": "ipython3",
   "version": "3.8.2"
  },
  "latex_envs": {
   "LaTeX_envs_menu_present": true,
   "autoclose": false,
   "autocomplete": true,
   "bibliofile": "biblio.bib",
   "cite_by": "apalike",
   "current_citInitial": 1,
   "eqLabelWithNumbers": true,
   "eqNumInitial": 1,
   "hotkeys": {
    "equation": "Ctrl-E",
    "itemize": "Ctrl-I"
   },
   "labels_anchors": false,
   "latex_user_defs": false,
   "report_style_numbering": false,
   "user_envs_cfg": true
  },
  "toc": {
   "base_numbering": 1,
   "nav_menu": {},
   "number_sections": true,
   "sideBar": true,
   "skip_h1_title": false,
   "title_cell": "Table of Contents",
   "title_sidebar": "Contents",
   "toc_cell": false,
   "toc_position": {},
   "toc_section_display": true,
   "toc_window_display": false
  },
  "varInspector": {
   "cols": {
    "lenName": 16,
    "lenType": 16,
    "lenVar": 40
   },
   "kernels_config": {
    "python": {
     "delete_cmd_postfix": "",
     "delete_cmd_prefix": "del ",
     "library": "var_list.py",
     "varRefreshCmd": "print(var_dic_list())"
    },
    "r": {
     "delete_cmd_postfix": ") ",
     "delete_cmd_prefix": "rm(",
     "library": "var_list.r",
     "varRefreshCmd": "cat(var_dic_list()) "
    }
   },
   "types_to_exclude": [
    "module",
    "function",
    "builtin_function_or_method",
    "instance",
    "_Feature"
   ],
   "window_display": false
  }
 },
 "nbformat": 4,
 "nbformat_minor": 4
}
