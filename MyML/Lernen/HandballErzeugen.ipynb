{
 "cells": [
  {
   "cell_type": "code",
   "execution_count": 2,
   "metadata": {},
   "outputs": [],
   "source": [
    "import numpy as np\n",
    "from random import randint, random"
   ]
  },
  {
   "cell_type": "code",
   "execution_count": 3,
   "metadata": {},
   "outputs": [
    {
     "name": "stdout",
     "output_type": "stream",
     "text": [
      "[243, 216, 100, 128, 232, 196, 168, 224, 69, 206, 66, 149, 272, 145, 58, 78, 104, 203, 282, 116, 154, 288, 215, 265, 163, 274, 268, 114, 211, 117, 95, 116, 147, 206, 282, 151, 201, 252, 262, 276, 163, 141, 270, 261, 105, 216, 103, 151, 250, 188]\n",
      "[0, 1, 0, 0, 1, 0, 1, 1, 0, 1, 0, 0, 1, 0, 0, 1, 0, 0, 1, 0, 1, 0, 1, 0, 1, 1, 1, 0, 1, 0, 0, 0, 0, 1, 1, 1, 0, 1, 1, 1, 1, 1, 1, 1, 0, 1, 0, 0, 0, 1]\n"
     ]
    }
   ],
   "source": [
    "X = []\n",
    "Y = []\n",
    "for i in range (50):\n",
    "    x = randint (50, 300)\n",
    "    yt = random () * 10\n",
    "    if (x < 150):\n",
    "        if (yt) < 8:\n",
    "            y = 0\n",
    "        else:\n",
    "            y = 1\n",
    "    else:\n",
    "        if (yt) < 2:\n",
    "            y = 0\n",
    "        else:\n",
    "            y = 1\n",
    "    X.append (x)\n",
    "    Y.append (y)\n",
    "print (X)\n",
    "print (Y)\n",
    "\n",
    "NX = np.array (X)\n",
    "NY = np.array (Y)\n",
    "\n",
    "DAT =  np.column_stack((NX, NY))\n",
    "\n",
    "np.savetxt('handball.txt', DAT, delimiter=\" \", fmt=\"%i\") "
   ]
  },
  {
   "cell_type": "code",
   "execution_count": null,
   "metadata": {},
   "outputs": [],
   "source": []
  }
 ],
 "metadata": {
  "hide_input": false,
  "kernelspec": {
   "display_name": "Python 3 (ipykernel)",
   "language": "python",
   "name": "python3"
  },
  "language_info": {
   "codemirror_mode": {
    "name": "ipython",
    "version": 3
   },
   "file_extension": ".py",
   "mimetype": "text/x-python",
   "name": "python",
   "nbconvert_exporter": "python",
   "pygments_lexer": "ipython3",
   "version": "3.8.2"
  },
  "toc": {
   "base_numbering": 1,
   "nav_menu": {},
   "number_sections": true,
   "sideBar": true,
   "skip_h1_title": false,
   "title_cell": "Table of Contents",
   "title_sidebar": "Contents",
   "toc_cell": false,
   "toc_position": {},
   "toc_section_display": true,
   "toc_window_display": false
  }
 },
 "nbformat": 4,
 "nbformat_minor": 4
}
