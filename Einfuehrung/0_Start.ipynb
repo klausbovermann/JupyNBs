{
 "cells": [
  {
   "cell_type": "markdown",
   "metadata": {},
   "source": [
    "Hier findest du in kurzer Form:\n",
    "\n",
    "- Was ist ein (Jupyter-)Notebook?\n",
    "- Hinweise zur Installation\n",
    "- Bemerkungen zu den Zelltypen\n",
    "- Anmerkungen zu Besonderheiten im Umgang mit Jupyter-Notebooks"
   ]
  },
  {
   "cell_type": "markdown",
   "metadata": {},
   "source": [
    "# Was ist ein *Notebook?*"
   ]
  },
  {
   "cell_type": "markdown",
   "metadata": {},
   "source": [
    "Ein **Notebook** ist (nach Wikipedia) ein Notizbuch, das für viele Zwecke verwendet wird, z.B. zum Aufzeichnen von Notizen, zum Schreiben von Texten oder zum Darstellen von Graphiken.\n",
    "\n",
    "Ein Notizbuch wird verwendet, um eine Idee oder eine wichtige Information mithilfe von Texten, Diagrammen, Zeichnungen, Bildern, Gleichungen, Tabellen auszudrücken."
   ]
  },
  {
   "cell_type": "markdown",
   "metadata": {},
   "source": [
    "# Was ist ein *Jupyter-Notebook?*"
   ]
  },
  {
   "cell_type": "markdown",
   "metadata": {},
   "source": [
    "Ein **Jupyter-Notebook** ist in diesem Sinne tatsächlich ein Notizbuch; denn es wird benutzt, um Texte, Programm-Codes, Bilder, Gleichungen, Diagramme, Tabellen, Visualisierungen zu erzeugen und darzustellen.\n",
    "        \n",
    "**Jupyter Notebook** ist eine Open-Source-Webanwendung, mit der man Dokumente erstellen und freigeben kann. Es enthält Programm-Code, Visualisierungen Bilder, Text...\n",
    "        \n",
    "Um Jupyter-Notebooks benutzen zu können, ist ein Jupyter-System notwendig."
   ]
  },
  {
   "cell_type": "markdown",
   "metadata": {},
   "source": [
    "# Das *Jupyter-System*"
   ]
  },
  {
   "cell_type": "markdown",
   "metadata": {},
   "source": [
    "***Project Jupyter*** ist eine Non-Profit-Organisation, die gegründet wurde, um *Open-Source-Software, offene Standards und Services für interaktives Arbeiten mit Dutzenden Programmiersprachen zu entwickeln*.\n",
    "        \n",
    "Das Jupyter-System unterstützt über 100 Programmiersprachen (im Jupyter-System als ***Kernel*** bezeichnet), darunter *Python*, *Java*, *R*, *Julia*, *Matlab* und viele mehr.\n",
    "\n",
    "Am häufigsten wird das Jupyter-Notizbuch mit einem Python-Kernel verwendet."
   ]
  },
  {
   "cell_type": "markdown",
   "metadata": {},
   "source": [
    "# Externes *Jupyter-System* nutzen"
   ]
  },
  {
   "cell_type": "markdown",
   "metadata": {},
   "source": [
    "Um Jupyter-Notebooks zu benutzen, können Sie den folgenden Link nutzen:\n",
    "\n",
    "[Jupyter-Server](https://unterrichtsmaterial-ddi.cs.uni-paderborn.de/jhub/hub/user-redirect/git-pull?repo=https%3A%2F%2Fgithub.com%2Fklausbovermann%2FJupyNBs&urlpath=tree%2FJupyNBs%2Findex.ipynb&branch=main)\n",
    "\n",
    "Sie können dabei temporäre Kopien von Notebooks sehen und bearbeiten."
   ]
  },
  {
   "cell_type": "markdown",
   "metadata": {},
   "source": [
    "# *Anaconda* als lokales Jupyter-System"
   ]
  },
  {
   "cell_type": "markdown",
   "metadata": {},
   "source": [
    "Um Jupyter-Notebooks benutzen zu können, kann man z.B. ***Anaconda*** installieren.\n",
    "        \n",
    "Auf der Seite _[Anaconda](https://www.anaconda.com/ )_ findet man die zu Ihrem Betriebssystem passende Version und eine Installationsanweisung.\n",
    "    \n",
    "Nach erfolgreicher Installation kann man den Jupyter-Notebook-Server starten, so dass eigene oder fremde Notebooks geladen und neue Notebooks erzeugt werden können."
   ]
  },
  {
   "cell_type": "markdown",
   "metadata": {},
   "source": [
    "# Zellen in einem Jupyter-Notebook"
   ]
  },
  {
   "cell_type": "markdown",
   "metadata": {},
   "source": [
    "Jedes Jupyter-Notebook besteht aus Zellen. Es gibt zwei (für diesen Zusammenhang interessierende) Zelltypen:\n",
    "\n",
    "- Code-Zellen. Man erkennt sie an `In [nummer]:` am linken Rand neben der Zelle.\n",
    "  - In einer solchen Zelle kann man Python-Code eingeben und ausführen lassen. Mehr dazu später.\n",
    "- Text-Zellen.\n",
    "  - In diese Zellen kann man Texte, Bilder, Tabellen, Links, Aufzählungen, ... aufnehmen. Dazu benutzt man die Auszeichnungssprache ***MarkDown***, eine Art *Simple-HTML*. Bitte informieren Sie sich bei Bedarf im Internet, z.B. auf den Seiten [MarkDown](https://markdown.de/)."
   ]
  },
  {
   "cell_type": "markdown",
   "metadata": {},
   "source": [
    "# Python-Programme in Notebooks"
   ]
  },
  {
   "cell_type": "markdown",
   "metadata": {},
   "source": [
    "Ein Python-Programm beinhaltet in der Regel alle Definitionen, die notwendig sind, sowie den Code des *Hauptprogramms*. Externe Funktionen können über Importe eingebunden werden.\n",
    "\n",
    "In einem Jupyter-Notebook sucht man (zunächst) vergebens nach einem Hauptprogramm. Man findet stattdessen (neben Zellen, in denen Texte oder auch Bilder zu finden sind) viele **Eingabezellen**, in denen (einzeiliger oder mehrzeiliger) Python-Code steht.\n",
    "\n",
    "Jede Eingabezelle ist (sofern syntaktisch korrekt) eine ausführbare Python-Anweisung. Also kann man jede Eingabezelle manuell ausführen (Cursor in die Zelle bewegen und per <Shift><Enter> abschließen), und die Reaktion des Systems beobachten. Falls keine Fehlermeldung erfolgt, wurde die Python-Anweisung ausgeführt:\n",
    "    \n",
    "- Falls die Zelle eine Import-Anweisung enthalten hat, wurde diese Bibliotheke importiert. Dann kann man in anderen Zellen die Funktionen aus dieser Bibliothek nutzen. Der Kernel dieses Notebooks hat diese Bibliothek integriert.\n",
    "- Falls in der Zelle eine Variablenzuweisung erfolgte, wird diese Variablenbelegung dauerhaft in dem Kernel aufbewahrt. Diese Variable existiert dann weiterhin ab jetzt in allen anderen Zellen. \n",
    "    \n",
    "Dieses Verhalten ist zunächst ungewohnt, da die Sichtbarkeit einer Variablen oder einer importierten Bibliotheksfunktion dauerhaft in dem aktiven Kernel dieses Notebooks ist, also auch in Zellen *oberhalb* derjenigen, in der die Aktivierung erfolgte."
   ]
  },
  {
   "cell_type": "markdown",
   "metadata": {},
   "source": [
    "Falls man also die folgende Zelle aktiviert, erfolgt zunächst eine Fehlermeldung (entfernen Sie zuvor die Kommentar-Marke):"
   ]
  },
  {
   "cell_type": "code",
   "execution_count": 1,
   "metadata": {},
   "outputs": [],
   "source": [
    "# print (x)"
   ]
  },
  {
   "cell_type": "markdown",
   "metadata": {},
   "source": [
    "Jetzt aktivieren Sie die folgende Zelle:"
   ]
  },
  {
   "cell_type": "code",
   "execution_count": 2,
   "metadata": {},
   "outputs": [
    {
     "name": "stdout",
     "output_type": "stream",
     "text": [
      "42\n"
     ]
    }
   ],
   "source": [
    "x = 42\n",
    "print (x)"
   ]
  },
  {
   "cell_type": "markdown",
   "metadata": {},
   "source": [
    "Wenn Sie jetzt die erstgenannte Zelle erneut aktivieren, erfolgt **keine(!)** Fehlermeldung mehr.\n",
    "\n",
    "Starten Sie den Kernel erneut, ist die Variablenbindung von `x` aufgehoben."
   ]
  },
  {
   "cell_type": "markdown",
   "metadata": {},
   "source": [
    "**Tipp**:\n",
    "\n",
    "- Beim Erstellen eines Notebooks sollte man die Reihenfolge der Zellen so vornehmen, dass ein sequenzieller Durchlauf zum erwünschten Ergebnis führt.\n",
    "- Als Benutzer eins (fremden) Notebooks ist es ratsam, die Zellen sequenziell zu aktivieren. Falls man Änderungen vorgenommen hat (z.B. Variablen neu belegt), kann man den Kernel erneut initialisieren und starten (auf Wunsch mit oder ohne automatische Zellenaktivierungen)."
   ]
  },
  {
   "cell_type": "markdown",
   "metadata": {},
   "source": [
    "***Jetzt wünsche ich Ihnen viel Spaß beim Arbeiten mit Python und Jupyter-Notebooks.***"
   ]
  },
  {
   "cell_type": "code",
   "execution_count": null,
   "metadata": {},
   "outputs": [],
   "source": []
  }
 ],
 "metadata": {
  "hide_input": false,
  "kernelspec": {
   "display_name": "Python 3",
   "language": "python",
   "name": "python3"
  },
  "language_info": {
   "codemirror_mode": {
    "name": "ipython",
    "version": 3
   },
   "file_extension": ".py",
   "mimetype": "text/x-python",
   "name": "python",
   "nbconvert_exporter": "python",
   "pygments_lexer": "ipython3",
   "version": "3.8.2"
  },
  "toc": {
   "base_numbering": 1,
   "nav_menu": {},
   "number_sections": true,
   "sideBar": true,
   "skip_h1_title": false,
   "title_cell": "Table of Contents",
   "title_sidebar": "Contents",
   "toc_cell": false,
   "toc_position": {
    "height": "156px",
    "left": "1008px",
    "top": "144.133px",
    "width": "165px"
   },
   "toc_section_display": true,
   "toc_window_display": true
  }
 },
 "nbformat": 4,
 "nbformat_minor": 4
}
