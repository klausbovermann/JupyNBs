{
 "cells": [
  {
   "cell_type": "markdown",
   "metadata": {
    "slideshow": {
     "slide_type": "-"
    }
   },
   "source": [
    "# **Python**\n",
    "## Was bisher geschah\n",
    "  \n",
    "- Du hast verschiedene Zahlentypen kennen gelernt\n",
    "- Du hast gesehen, dass Python rechnen kann\n",
    "- Variablen konnten Daten speichern\n",
    "- Das System kommunizierte mit dir durch eingaben und Ausgaben"
   ]
  },
  {
   "cell_type": "markdown",
   "metadata": {},
   "source": [
    "## Fallunterscheidungen\n",
    "> ***Aktionen oder Variablenwerte in Anhängigkeit von Bedingungen***"
   ]
  },
  {
   "cell_type": "code",
   "execution_count": null,
   "metadata": {},
   "outputs": [],
   "source": []
  },
  {
   "cell_type": "code",
   "execution_count": null,
   "metadata": {},
   "outputs": [],
   "source": []
  },
  {
   "cell_type": "code",
   "execution_count": null,
   "metadata": {},
   "outputs": [],
   "source": []
  },
  {
   "cell_type": "code",
   "execution_count": null,
   "metadata": {},
   "outputs": [],
   "source": []
  },
  {
   "cell_type": "markdown",
   "metadata": {},
   "source": [
    "## Zweiseitige Fallunterscheidungen"
   ]
  },
  {
   "cell_type": "code",
   "execution_count": null,
   "metadata": {},
   "outputs": [],
   "source": [
    "xStr = input (\"Gib eine Zahl ein\")"
   ]
  },
  {
   "cell_type": "code",
   "execution_count": null,
   "metadata": {},
   "outputs": [],
   "source": [
    "x = int (xStr)"
   ]
  },
  {
   "cell_type": "code",
   "execution_count": null,
   "metadata": {},
   "outputs": [],
   "source": [
    "if (x%2 == 0):\n",
    "    print (str(x) + \" ist eine gerade Zahl!\")\n",
    "else:\n",
    "    print (str(x) + \" ist eine ungerade Zahl!\")"
   ]
  },
  {
   "cell_type": "markdown",
   "metadata": {},
   "source": [
    "> ***Besser ist es, die vorigen 3 Zeilen in eine einzige Zelle zu schreiben:***"
   ]
  },
  {
   "cell_type": "code",
   "execution_count": null,
   "metadata": {},
   "outputs": [],
   "source": [
    "xStr = input (\"Gib eine Zahl ein\")\n",
    "x = int (xStr)\n",
    "if (x%2 == 0):\n",
    "    print (str(x) + \" ist eine gerade Zahl!\")\n",
    "else:\n",
    "    print (str(x) + \" ist eine ungerade Zahl!\")"
   ]
  },
  {
   "cell_type": "markdown",
   "metadata": {},
   "source": [
    "### Nochmals BMI"
   ]
  },
  {
   "cell_type": "markdown",
   "metadata": {},
   "source": [
    "Nachdem der BMI (s.o) ermittelt wurde, kann eine Bewertung erfolgen, indem man eine Tabelle der *WeltGesundheitsOrganisation* benutzt:\n",
    "\n",
    "unterer Wert (einschl.) | oberer Wert (ausschl.) | Bewertung\n",
    ":----------: | :----------:|:-------------------------------------\n",
    "0            | 16          | starkes Untergewicht\n",
    "16           | 17          | mäßiges Untergewicht\n",
    "17           | 18.5        | leichtes Untergewicht           \n",
    "18.5         | 25          | Normalgewicht\n",
    "25           | 30          | Übergewicht\n",
    "30           | 35          | Adipositas (Fettleibigkeit) Grad I\n",
    "35           | 39          | Adipositas Grad II\n",
    "40           |             | Adipositas Grad III\n",
    "\n",
    "Hat jemand also z.B. einen BMI von 21, hat er eine Normalgewicht.\n",
    "\n",
    "Also nochmal:"
   ]
  },
  {
   "cell_type": "code",
   "execution_count": null,
   "metadata": {},
   "outputs": [],
   "source": [
    "groesse = float(input(\"Ihre Körpergröße (in Metern angeben)\"))\n",
    "gewicht = float (input(\"Ihr Körpergewicht (in Kilogramm angeben)\"))\n",
    "bmi=gewicht / (groesse**2)\n",
    "if bmi < 16:\n",
    "    print (\"Sie haben starkes Untergewicht!\")\n",
    "elif bmi < 17:\n",
    "    print (\"Sie haben mäßiges Untergewicht!\")\n",
    "elif bmi < 18.5:\n",
    "    print (\"Sie haben leichtes Untergewicht!\")\n",
    "elif bmi < 25:\n",
    "    print (\"Sie haben Normalgewicht!\")\n",
    "elif bmi < 30:\n",
    "    print (\"Sie haben Übergewicht!\")\n",
    "elif bmi < 35:\n",
    "    print (\"Sie haben Adipositas Grad I!\")\n",
    "elif bmi < 39:\n",
    "    print (\"Sie haben Adipositas Grad II!\")\n",
    "else:\n",
    "    print (\"Sie haben Adipositas Grad III!\")"
   ]
  },
  {
   "cell_type": "code",
   "execution_count": null,
   "metadata": {},
   "outputs": [],
   "source": []
  },
  {
   "cell_type": "code",
   "execution_count": null,
   "metadata": {},
   "outputs": [],
   "source": []
  }
 ],
 "metadata": {
  "kernelspec": {
   "display_name": "Python 3",
   "language": "python",
   "name": "python3"
  },
  "language_info": {
   "codemirror_mode": {
    "name": "ipython",
    "version": 3
   },
   "file_extension": ".py",
   "mimetype": "text/x-python",
   "name": "python",
   "nbconvert_exporter": "python",
   "pygments_lexer": "ipython3",
   "version": "3.8.5"
  },
  "toc": {
   "base_numbering": 1,
   "nav_menu": {},
   "number_sections": true,
   "sideBar": false,
   "skip_h1_title": true,
   "title_cell": "Table of Contents",
   "title_sidebar": "Contents",
   "toc_cell": false,
   "toc_position": {
    "height": "377.717px",
    "left": "1066px",
    "top": "177.133px",
    "width": "225.333px"
   },
   "toc_section_display": true,
   "toc_window_display": true
  }
 },
 "nbformat": 4,
 "nbformat_minor": 4
}
