{
 "cells": [
  {
   "cell_type": "markdown",
   "metadata": {},
   "source": [
    "\n",
    "# Bemerkungen zum Runden (in Python)"
   ]
  },
  {
   "cell_type": "markdown",
   "metadata": {},
   "source": [
    "**Ziel ist es, Dezimalzahlen auf eine angegebene Genauigkeit zu runden.**"
   ]
  },
  {
   "cell_type": "markdown",
   "metadata": {},
   "source": [
    "## Zitat (Motivation)"
   ]
  },
  {
   "cell_type": "markdown",
   "metadata": {},
   "source": [
    "In dem Beamtengesetz findet man die folgende Regelung:\n",
    "\n",
    "> *... Der Ruhegehaltssatz ist auf zwei Dezimalstellen auszurechnen. Dabei ist die zweite Dezimalstelle um eins zu erhöhen, wenn in der dritten Stelle eine der Ziffern fünf bis neun verbleiben würde.*"
   ]
  },
  {
   "cell_type": "markdown",
   "metadata": {},
   "source": [
    "## Was sagt die Mathematik?"
   ]
  },
  {
   "cell_type": "markdown",
   "metadata": {},
   "source": [
    "Es gibt hier zwei Varianten (frei nach Wikipedia):"
   ]
  },
  {
   "cell_type": "markdown",
   "metadata": {},
   "source": [
    "### Kaufmännisch"
   ]
  },
  {
   "cell_type": "markdown",
   "metadata": {},
   "source": [
    "1. Nicht negative Zahlen werden gerundet:\n",
    "  - Ist die Ziffer an der ersten wegfallenden Stelle 0, 1, 2, 3 oder 4, wird abgerundet.\n",
    "  - Ansonsten ist aufzurunden.\n",
    "2. Negative Zahlen werden gerundet, indem man den Betrag der Zahl nach obiger Regel rundet (und dann das Vorzeichen zu dem gerundeten Wert zufügt)."
   ]
  },
  {
   "cell_type": "markdown",
   "metadata": {},
   "source": [
    "#### Beispiele"
   ]
  },
  {
   "cell_type": "markdown",
   "metadata": {},
   "source": [
    "- $14.25 \\quad\\overset{\\text{gerundet auf 1 Stelle}}{\\longrightarrow}\\quad 14.3$\n",
    "- $14.24 \\quad\\overset{\\text{gerundet auf 1 Stelle}}{\\longrightarrow}\\quad 14.2$\n",
    "- $-12.3416 \\quad\\overset{\\text{gerundet auf 2 Stellen}}{\\longrightarrow}\\quad -12.34$\n",
    "- $-12.3456 \\quad\\overset{\\text{gerundet auf 2 Stellen}}{\\longrightarrow}\\quad -12.35$"
   ]
  },
  {
   "cell_type": "markdown",
   "metadata": {},
   "source": [
    "### Symmetrisch"
   ]
  },
  {
   "cell_type": "markdown",
   "metadata": {},
   "source": [
    "Die symmetrische Rundung liefert nur dann ein anderes Ergebnis, wenn die zu rundende Zahl genau in der Mitte der beiden Kandidaten liegt:\n",
    "\n",
    "- Ist die Ziffer an der ersten wegfallenden Stelle eine 5 und folgen dann nur Nullen (ist also diese Ziffer 5 die letzte relevante Ziffer), so wird derart gerundet, dass die letzte beizubehaltende Ziffer gerade wird.\n",
    "- Ansonsten wird nach kaufmännischer Art gerundet."
   ]
  },
  {
   "cell_type": "markdown",
   "metadata": {},
   "source": [
    "#### Beispiele"
   ]
  },
  {
   "cell_type": "markdown",
   "metadata": {},
   "source": [
    "- $14.25 \\quad\\overset{\\text{gerundet auf 1 Stelle}}{\\longrightarrow}\\quad 14.2$\n",
    "- $14.35 \\quad\\overset{\\text{gerundet auf 1 Stelle}}{\\longrightarrow}\\quad 14.4$\n",
    "- $14.45 \\quad\\overset{\\text{gerundet auf 1 Stelle}}{\\longrightarrow}\\quad 14.4$\n",
    "- $14.55 \\quad\\overset{\\text{gerundet auf 1 Stelle}}{\\longrightarrow}\\quad 14.6$"
   ]
  },
  {
   "cell_type": "markdown",
   "metadata": {},
   "source": [
    "## Möglichkeiten, zu *runden*"
   ]
  },
  {
   "cell_type": "markdown",
   "metadata": {},
   "source": [
    "Um einige der folgnden Funktionen nutzen zu können, muss man die Python-Bibliothek `math` importieren:"
   ]
  },
  {
   "cell_type": "code",
   "execution_count": 1,
   "metadata": {},
   "outputs": [],
   "source": [
    "import math"
   ]
  },
  {
   "cell_type": "markdown",
   "metadata": {},
   "source": [
    "### Brutales Abschneiden"
   ]
  },
  {
   "cell_type": "code",
   "execution_count": 2,
   "metadata": {},
   "outputs": [],
   "source": [
    "def abschneiden(n, stellen=0):\n",
    "    faktor = 10 ** stellen\n",
    "    return int(n * faktor) / faktor"
   ]
  },
  {
   "cell_type": "code",
   "execution_count": 3,
   "metadata": {},
   "outputs": [],
   "source": [
    "abschneiden (14.55,1)"
   ]
  },
  {
   "cell_type": "markdown",
   "metadata": {},
   "source": [
    "### Brutales Aufrunden"
   ]
  },
  {
   "cell_type": "code",
   "execution_count": 4,
   "metadata": {},
   "outputs": [],
   "source": [
    "def aufrunden(n, stellen=0):\n",
    "    faktor = 10 ** stellen\n",
    "    return math.ceil(n * faktor) / faktor"
   ]
  },
  {
   "cell_type": "code",
   "execution_count": 5,
   "metadata": {},
   "outputs": [],
   "source": [
    "aufrunden(14.55,1)"
   ]
  },
  {
   "cell_type": "markdown",
   "metadata": {},
   "source": [
    "### Brutales Abrunden"
   ]
  },
  {
   "cell_type": "code",
   "execution_count": 6,
   "metadata": {},
   "outputs": [],
   "source": [
    "def abrunden(n, stellen=0):\n",
    "    faktor = 10 ** stellen\n",
    "    return math.floor(n * faktor) / faktor"
   ]
  },
  {
   "cell_type": "code",
   "execution_count": 7,
   "metadata": {},
   "outputs": [],
   "source": [
    "abrunden(14.55,1)"
   ]
  },
  {
   "cell_type": "markdown",
   "metadata": {},
   "source": [
    "### Halb-Aufrunden"
   ]
  },
  {
   "cell_type": "code",
   "execution_count": 8,
   "metadata": {},
   "outputs": [],
   "source": [
    "def halbAufrunden(n, stellen=0):\n",
    "    faktor = 10 ** stellen\n",
    "    return math.floor(n*faktor + 0.5) / faktor"
   ]
  },
  {
   "cell_type": "code",
   "execution_count": 9,
   "metadata": {},
   "outputs": [],
   "source": [
    "halbAufrunden(14.55,1)"
   ]
  },
  {
   "cell_type": "markdown",
   "metadata": {},
   "source": [
    "### Halb-Abrunden"
   ]
  },
  {
   "cell_type": "code",
   "execution_count": 10,
   "metadata": {},
   "outputs": [],
   "source": [
    "def halbAbrunden(n, stellen=0):\n",
    "    faktor = 10 ** stellen\n",
    "    return math.floor(n*faktor - 0.5) / faktor"
   ]
  },
  {
   "cell_type": "code",
   "execution_count": 11,
   "metadata": {
    "scrolled": true
   },
   "outputs": [],
   "source": [
    "halbAbrunden(14.55,1)"
   ]
  },
  {
   "cell_type": "markdown",
   "metadata": {},
   "source": [
    "### Halb-Auf-Abrunden"
   ]
  },
  {
   "cell_type": "markdown",
   "metadata": {},
   "source": [
    "Damit die Symmetrie erhalten bleibt, will man folgende Fälle abgedeckt haben, um eine Zahl n zu runden (d ist die erste wegfallende Ziffer):"
   ]
  },
  {
   "cell_type": "markdown",
   "metadata": {},
   "source": [
    "- Wenn n positiv ist und d >= 5, aufrunden\n",
    "- Wenn n positiv ist und d < 5, abrunden\n",
    "- Wenn n negativ ist und d >= 5, abrunden\n",
    "- Wenn n negativ ist und d < 5, aufrunden"
   ]
  },
  {
   "cell_type": "code",
   "execution_count": 12,
   "metadata": {},
   "outputs": [],
   "source": [
    "def halbAufAbrunden(n, stellen=0):\n",
    "    absRund = halbAufrunden(abs(n), stellen)\n",
    "    return math.copysign(absRund, n)"
   ]
  },
  {
   "cell_type": "code",
   "execution_count": 13,
   "metadata": {},
   "outputs": [],
   "source": [
    "halbAufAbrunden (-1.5)"
   ]
  },
  {
   "cell_type": "markdown",
   "metadata": {},
   "source": [
    "## Runden in Python"
   ]
  },
  {
   "cell_type": "markdown",
   "metadata": {},
   "source": [
    "Schauen wir uns die obigen Beispiele mit der eingebauten Python-Funktion `round(z,n)` an:"
   ]
  },
  {
   "cell_type": "code",
   "execution_count": 14,
   "metadata": {},
   "outputs": [],
   "source": [
    "round (14.25,1)"
   ]
  },
  {
   "cell_type": "code",
   "execution_count": 15,
   "metadata": {},
   "outputs": [],
   "source": [
    "round (14.35,1)"
   ]
  },
  {
   "cell_type": "code",
   "execution_count": 16,
   "metadata": {},
   "outputs": [
    {
     "data": {
      "text/plain": [
       "14.4"
      ]
     },
     "execution_count": 16,
     "metadata": {},
     "output_type": "execute_result"
    }
   ],
   "source": [
    "round (14.45,1)"
   ]
  },
  {
   "cell_type": "code",
   "execution_count": 17,
   "metadata": {},
   "outputs": [
    {
     "data": {
      "text/plain": [
       "14.6"
      ]
     },
     "execution_count": 17,
     "metadata": {},
     "output_type": "execute_result"
    }
   ],
   "source": [
    "round (14.55,1)"
   ]
  },
  {
   "cell_type": "markdown",
   "metadata": {},
   "source": [
    "Dann stellen wir fest, dass andere Ergebnisse als erwartet auftauchen."
   ]
  },
  {
   "cell_type": "markdown",
   "metadata": {},
   "source": [
    "Grund dafür ist die interne binäre Darstellung der Zahlen. Es wird so gerundet, dass die gerundete Zahl in binärer Darstellung mit einer Null endet!"
   ]
  },
  {
   "cell_type": "markdown",
   "metadata": {},
   "source": [
    "## Testen der Funktionen"
   ]
  },
  {
   "cell_type": "code",
   "execution_count": 18,
   "metadata": {},
   "outputs": [],
   "source": [
    "def rundenAllgemein (funct, stellen, liste):\n",
    "    mappedList = list (map (lambda n: funct (n,stellen), liste))\n",
    "    return mappedList"
   ]
  },
  {
   "cell_type": "code",
   "execution_count": 19,
   "metadata": {},
   "outputs": [],
   "source": [
    "def testen (name, funct, stellen, liste):\n",
    "    print (name, rundenAllgemein (funct, stellen, liste))"
   ]
  },
  {
   "cell_type": "code",
   "execution_count": 20,
   "metadata": {},
   "outputs": [],
   "source": [
    "def testeAlle (liste):\n",
    "    stellen = int (input (\"Anzahl der Stellen: \"))\n",
    "    testen(\"Abschneiden   \", abschneiden, stellen, liste)\n",
    "    testen(\"Aufrunden     \", aufrunden, stellen, liste)\n",
    "    testen(\"Abrunde       \", abrunden, stellen, liste)\n",
    "    testen(\"H_Aufrunden   \", halbAbrunden, stellen, liste)\n",
    "    testen(\"H_Abrunden    \", halbAbrunden, stellen, liste)\n",
    "    testen(\"H_AufAbRunden \", halbAufAbrunden, stellen, liste)\n",
    "    testen(\"PythonRunden  \", round, stellen, liste)"
   ]
  },
  {
   "cell_type": "code",
   "execution_count": 21,
   "metadata": {},
   "outputs": [],
   "source": [
    "eingabe = [14.55, -14.55, 5.963, -5.963, 16.25, -16.25, 15.43, -15.43]"
   ]
  },
  {
   "cell_type": "code",
   "execution_count": 22,
   "metadata": {},
   "outputs": [
    {
     "name": "stdout",
     "output_type": "stream",
     "text": [
      "Anzahl der Stellen: 1\n",
      "Abschneiden    [14.5, -14.5, 5.9, -5.9, 16.2, -16.2, 15.4, -15.4]\n",
      "Aufrunden      [14.6, -14.5, 6.0, -5.9, 16.3, -16.2, 15.5, -15.4]\n",
      "Abrunde        [14.5, -14.6, 5.9, -6.0, 16.2, -16.3, 15.4, -15.5]\n",
      "H_Aufrunden    [14.5, -14.6, 5.9, -6.1, 16.2, -16.3, 15.3, -15.5]\n",
      "H_Abrunden     [14.5, -14.6, 5.9, -6.1, 16.2, -16.3, 15.3, -15.5]\n",
      "H_AufAbRunden  [14.6, -14.6, 6.0, -6.0, 16.3, -16.3, 15.4, -15.4]\n",
      "PythonRunden   [14.6, -14.6, 6.0, -6.0, 16.2, -16.2, 15.4, -15.4]\n"
     ]
    }
   ],
   "source": [
    "testeAlle (eingabe) "
   ]
  }
 ],
 "metadata": {
  "kernelspec": {
   "display_name": "Python 3",
   "language": "python",
   "name": "python3"
  },
  "language_info": {
   "codemirror_mode": {
    "name": "ipython",
    "version": 3
   },
   "file_extension": ".py",
   "mimetype": "text/x-python",
   "name": "python",
   "nbconvert_exporter": "python",
   "pygments_lexer": "ipython3",
   "version": "3.8.5"
  },
  "toc": {
   "base_numbering": 1,
   "nav_menu": {},
   "number_sections": true,
   "sideBar": true,
   "skip_h1_title": true,
   "title_cell": "Table of Contents",
   "title_sidebar": "Contents",
   "toc_cell": false,
   "toc_position": {},
   "toc_section_display": true,
   "toc_window_display": true
  }
 },
 "nbformat": 4,
 "nbformat_minor": 4
}
