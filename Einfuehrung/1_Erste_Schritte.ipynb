{
 "cells": [
  {
   "cell_type": "markdown",
   "metadata": {},
   "source": [
    "#  Allererste Schritte mit Python und Jupyter-Notebooks"
   ]
  },
  {
   "cell_type": "markdown",
   "metadata": {},
   "source": [
    "<div style=\"background-color: Cornsilk; padding: 5px 20px 20px\">\n",
    "\n",
    "In diesem Notebook findest du in kurzer Form:\n",
    "\n",
    "- Was ist ein Jupyter-Notebook?\n",
    "- Grundlegende Hinweise zum Benutzen von Jupyter-Notebooks\n",
    "- Allererste Python-Befehle\n",
    "    \n",
    "Falls du neugierig bist und schon einmal sehen möchtest, welche Möglichkeiten es in Python gibt, kannst du die folgenden Links nutzen.\n",
    "   \n",
    "In den folgenden Notebooks kannst du die Basis-Elemente von Python kennenlernen:\n",
    "    \n",
    "- [Umgang mit Basisdatentypen in Python](2_Python_Basics.ipynb)\n",
    "- [Fallunterscheidungen](3_Fallunterscheidungen.ipynb)    \n",
    "- [Wiederholungen](4_Wiederholungen.ipynb)    \n",
    "- [Funktionen](5_Funktionen.ipynb)\n",
    "- [rekursive Funktionen](6_Rekursion.ipynb)\n",
    "    \n"
   ]
  },
  {
   "cell_type": "markdown",
   "metadata": {},
   "source": [
    "## Was ist ein *Notebook?*"
   ]
  },
  {
   "cell_type": "markdown",
   "metadata": {},
   "source": [
    "<div style=\"background-color: Cornsilk; padding: 5px 20px 20px\">\n",
    "\n",
    "Ein <font color=blue>**Notebook**</font> ist (nach Wikipedia) ein Notizbuch, das für viele Zwecke verwendet wird, z.B. zum Aufzeichnen von Notizen, zum Schreiben von Texten oder zum Darstellen von Graphiken.\n",
    "\n",
    "Ein Notizbuch wird verwendet, um eine Idee oder eine wichtige Information mithilfe von Texten, Diagrammen, Zeichnungen, Bildern, Gleichungen, Tabellen auszudrücken."
   ]
  },
  {
   "cell_type": "markdown",
   "metadata": {},
   "source": [
    "## Was ist ein *Jupyter-Notebook?*"
   ]
  },
  {
   "cell_type": "markdown",
   "metadata": {},
   "source": [
    "<div style=\"background-color: Cornsilk; padding: 5px 20px 20px\">\n",
    "\n",
    "Ein <font color=blue>**Jupyter-Notebook**</font> ist in diesem Sinne tatsächlich ein Notizbuch; denn es wird benutzt, um Texte, Programm-Codes, Bilder, Gleichungen, Diagramme, Tabellen, Visualisierungen zu erzeugen und darzustellen."
   ]
  },
  {
   "cell_type": "markdown",
   "metadata": {},
   "source": [
    "<div style=\"background-color: Cornsilk; padding: 5px 20px 20px\">\n",
    "\n",
    "Ein <font color=blue>**Jupyter Notebook**</font> ist eine Open-Source-Webanwendung, mit der man Dokumente erstellen und freigeben kann. Es enthält Programm-Code, Visualisierungen Bilder, Text...\n",
    "        \n",
    "Um Jupyter-Notebooks benutzen zu können, ist ein Jupyter-System notwendig."
   ]
  },
  {
   "cell_type": "markdown",
   "metadata": {},
   "source": [
    "## Das *Jupyter-System*"
   ]
  },
  {
   "cell_type": "markdown",
   "metadata": {},
   "source": [
    "<div style=\"background-color: Cornsilk; padding: 5px 20px 20px\">\n",
    "\n",
    "<font color=blue>***Project Jupyter***</font> ist eine Non-Profit-Organisation, die gegründet wurde, um *Open-Source-Software, offene Standards und Services für interaktives Arbeiten mit Dutzenden Programmiersprachen zu entwickeln*.\n",
    "        \n",
    "Das Jupyter-System unterstützt über 100 Programmiersprachen (im Jupyter-System als <font color=blue>***Kernel***</font> bezeichnet), darunter *Python*, *Java*, *R*, *Julia*, *Matlab* und viele mehr.\n",
    "\n",
    "Am häufigsten wird das Jupyter-Notizbuch in einer Python-Umgebung verwendet."
   ]
  },
  {
   "cell_type": "markdown",
   "metadata": {},
   "source": [
    "## *Anaconda* als Jupyter-System"
   ]
  },
  {
   "cell_type": "markdown",
   "metadata": {},
   "source": [
    "<div style=\"background-color: Cornsilk; padding: 5px 20px 20px\">\n",
    "\n",
    "Um Jupyter-Notebooks benutzen zu können, kann man z.B. <font color=blue>***Anaconda***</font> installieren.\n",
    "        \n",
    "Auf der Seite _[Anaconda](https://www.anaconda.com/ )_ findet man die zu Ihrem Betriebssystem passende Version und eine Installationsanweisung."
   ]
  },
  {
   "cell_type": "markdown",
   "metadata": {},
   "source": [
    "<div style=\"background-color: Cornsilk; padding: 5px 20px 20px\">\n",
    "\n",
    "Nach erfolgreicher Installation kann man den Jupyter-Notebook-Server starten, so dass Notebooks geladen und erzeugt werden können."
   ]
  },
  {
   "cell_type": "markdown",
   "metadata": {},
   "source": [
    "## Interaktion mit dem Notebook"
   ]
  },
  {
   "cell_type": "markdown",
   "metadata": {},
   "source": [
    "<div style=\"background-color: Cornsilk; padding: 5px 20px 20px\">\n",
    "\n",
    "Du findest hier einige Eingabezellen, die du an `In [ ]` links am Rand erkennen kannst.\n",
    "\n",
    "**Bewege den Cursor an den linken Rand oder auch in eine solche Eingabezelle und**\n",
    "\n",
    "- clicke auf den `▶︎ Run`-Button (oben) \n",
    "    \n",
    "**oder**\n",
    "    \n",
    "- benutze die `↩︎ Eingabe`-Taste mit gedrückter `⇧ Shift`-Taste"
   ]
  },
  {
   "cell_type": "markdown",
   "metadata": {},
   "source": [
    "<div style=\"background-color: Cornsilk; padding: 5px 20px 20px\">\n",
    "\n",
    "**Also bitte die folgende Zelle auswählen und mit `⇧ <SHIFT> + ↩︎ <ENTER>` ausführen.**"
   ]
  },
  {
   "cell_type": "code",
   "execution_count": 3,
   "metadata": {},
   "outputs": [
    {
     "data": {
      "text/plain": [
       "56"
      ]
     },
     "execution_count": 3,
     "metadata": {},
     "output_type": "execute_result"
    }
   ],
   "source": [
    "7*8"
   ]
  },
  {
   "cell_type": "markdown",
   "metadata": {},
   "source": [
    "## Python spricht mit uns"
   ]
  },
  {
   "cell_type": "markdown",
   "metadata": {},
   "source": [
    "<div style=\"background-color: Cornsilk; padding: 5px 20px 20px\">\n",
    "\n",
    "**Wir können die `print()` Funktion verwenden, um Ausgaben zu erzeugen:**"
   ]
  },
  {
   "cell_type": "code",
   "execution_count": 4,
   "metadata": {},
   "outputs": [
    {
     "name": "stdout",
     "output_type": "stream",
     "text": [
      "Hallo Python\n"
     ]
    }
   ],
   "source": [
    "print(\"Hallo Python\")"
   ]
  },
  {
   "cell_type": "markdown",
   "metadata": {},
   "source": [
    "## Erste Anweisungen"
   ]
  },
  {
   "cell_type": "markdown",
   "metadata": {},
   "source": [
    "<div style=\"background-color: Cornsilk; padding: 5px 20px 20px\">\n",
    "\n",
    "**Die bekannten Rechenoperationen `+`, `-`, `*`, `/`sind in Python benutzbar und verhalten sich so wie erwartet.** \n",
    "    \n",
    "***Probiere jede Anweisung aus!***"
   ]
  },
  {
   "cell_type": "code",
   "execution_count": 5,
   "metadata": {
    "hide_input": false
   },
   "outputs": [
    {
     "name": "stdout",
     "output_type": "stream",
     "text": [
      "22\n"
     ]
    }
   ],
   "source": [
    "print(15+7)"
   ]
  },
  {
   "cell_type": "code",
   "execution_count": 6,
   "metadata": {},
   "outputs": [
    {
     "name": "stdout",
     "output_type": "stream",
     "text": [
      "8\n"
     ]
    }
   ],
   "source": [
    "print(15-7)"
   ]
  },
  {
   "cell_type": "code",
   "execution_count": 7,
   "metadata": {},
   "outputs": [
    {
     "name": "stdout",
     "output_type": "stream",
     "text": [
      "105\n"
     ]
    }
   ],
   "source": [
    "print(15*7)"
   ]
  },
  {
   "cell_type": "code",
   "execution_count": 8,
   "metadata": {},
   "outputs": [
    {
     "name": "stdout",
     "output_type": "stream",
     "text": [
      "2.142857142857143\n"
     ]
    }
   ],
   "source": [
    "print(15/7)"
   ]
  },
  {
   "cell_type": "markdown",
   "metadata": {},
   "source": [
    "<div style=\"background-color: Cornsilk; padding: 5px 20px 20px\">\n",
    "\n",
    "**Dann gibt es noch das Potenzieren**"
   ]
  },
  {
   "cell_type": "code",
   "execution_count": 9,
   "metadata": {},
   "outputs": [
    {
     "name": "stdout",
     "output_type": "stream",
     "text": [
      "170859375\n"
     ]
    }
   ],
   "source": [
    "print(15**7)"
   ]
  },
  {
   "cell_type": "markdown",
   "metadata": {},
   "source": [
    "<div style=\"background-color: Cornsilk; padding: 5px 20px 20px\">\n",
    "\n",
    "**und die ganzzahlige Division** (*Dazu später mehr in einem weiteren Jupyter-Notebook*):"
   ]
  },
  {
   "cell_type": "code",
   "execution_count": 10,
   "metadata": {},
   "outputs": [
    {
     "name": "stdout",
     "output_type": "stream",
     "text": [
      "2\n"
     ]
    }
   ],
   "source": [
    "print (15//7)"
   ]
  },
  {
   "cell_type": "markdown",
   "metadata": {},
   "source": [
    "## Erste Anweisungsfolge"
   ]
  },
  {
   "cell_type": "markdown",
   "metadata": {},
   "source": [
    "<div style=\"background-color: Cornsilk; padding: 5px 20px 20px\">\n",
    "\n",
    "**Eine Eingabezelle kann auch aus mehreren Zeilen bestehen. Man schreibt dazu eine Zeile, benutzt dann am Ende der Zeile die `↩︎ Eingabe`-Taste und kann auf diese Art mehrere Zeilen erzeugen.**\n",
    "\n",
    "**Die Eingabezelle wird, wie gewohnt, mit dem `▶︎ Run`-Button oder mit `⇧ <SHIFT> + ↩︎ <ENTER>` ausgeführt.**\n",
    "    \n",
    "**Die einzelnen Zeilen der Eingabezelle werden dann nacheinander ausgeführt.**"
   ]
  },
  {
   "cell_type": "code",
   "execution_count": 11,
   "metadata": {},
   "outputs": [
    {
     "name": "stdout",
     "output_type": "stream",
     "text": [
      "Hallo Python\n",
      "7 mal 8 ist\n",
      "56\n"
     ]
    }
   ],
   "source": [
    "print (\"Hallo Python\")\n",
    "print (\"7 mal 8 ist\")\n",
    "print (7*8)"
   ]
  },
  {
   "cell_type": "markdown",
   "metadata": {},
   "source": [
    "## Werte aufbewahren"
   ]
  },
  {
   "cell_type": "markdown",
   "metadata": {},
   "source": [
    "<div style=\"background-color: Cornsilk; padding: 5px 20px 20px\">\n",
    "\n",
    "**Eine** ***Variable*** **ist vorstellbar als ein Behälter zur Aufbewahrung von bestimmten Werten (z.B. Zahlen).**\n",
    "\n",
    "Eine Variable hat \n",
    "- einen Namen \n",
    "\n",
    "und\n",
    "\n",
    "- einen Wert\n",
    "\n",
    "Mit der ***Zuweisung*** `=` kann man den Wert in der Variablen ablegen:"
   ]
  },
  {
   "cell_type": "code",
   "execution_count": 12,
   "metadata": {},
   "outputs": [],
   "source": [
    "jahreszahl = 2021"
   ]
  },
  {
   "cell_type": "markdown",
   "metadata": {
    "variables": {
     "jahreszahl": "2021"
    }
   },
   "source": [
    "<div style=\"background-color: Cornsilk; padding: 5px 20px 20px\">\n",
    "\n",
    "*Bitte auch diese Zelle aktivieren, wenn du in der vorigen Zelle eine Änderung vorgenommen hast!*\n",
    "\n",
    "In der Variablen `jahreszahl` ist jetzt {{jahreszahl}} gespeichert!"
   ]
  },
  {
   "cell_type": "markdown",
   "metadata": {},
   "source": [
    "<div style=\"background-color: Cornsilk; padding: 5px 20px 20px\">\n",
    "\n",
    "**Man kann jetzt jederzeit den Inhalt dieser Variablen ausgeben:**"
   ]
  },
  {
   "cell_type": "code",
   "execution_count": 13,
   "metadata": {},
   "outputs": [
    {
     "name": "stdout",
     "output_type": "stream",
     "text": [
      "2021\n"
     ]
    }
   ],
   "source": [
    "print (jahreszahl)"
   ]
  },
  {
   "cell_type": "markdown",
   "metadata": {},
   "source": [
    "<div style=\"background-color: Cornsilk; padding: 5px 20px 20px\">\n",
    "\n",
    "**oder auch anderweitig benutzen:**"
   ]
  },
  {
   "cell_type": "code",
   "execution_count": 14,
   "metadata": {},
   "outputs": [
    {
     "name": "stdout",
     "output_type": "stream",
     "text": [
      "4042\n"
     ]
    }
   ],
   "source": [
    "print (jahreszahl * 2)"
   ]
  },
  {
   "cell_type": "markdown",
   "metadata": {},
   "source": [
    "## Erste Interaktion mit dem Python-System"
   ]
  },
  {
   "cell_type": "markdown",
   "metadata": {},
   "source": [
    "<div style=\"background-color: Cornsilk; padding: 5px 20px 20px\">\n",
    "\n",
    "**Eingaben des Benutzers erfolgen mit dem Befehl `input(_)`**"
   ]
  },
  {
   "cell_type": "code",
   "execution_count": 15,
   "metadata": {},
   "outputs": [
    {
     "name": "stdout",
     "output_type": "stream",
     "text": [
      "Dein Name istErna\n",
      "Du heisst Erna\n"
     ]
    }
   ],
   "source": [
    "name = input(\"Dein Name ist\")\n",
    "print(\"Du heisst\", name)"
   ]
  },
  {
   "cell_type": "markdown",
   "metadata": {},
   "source": [
    "# Hier geht es weiter:\n",
    "- [Umgang mit Basisdatentypen in Python](2_Python_Basics.ipynb)"
   ]
  }
 ],
 "metadata": {
  "hide_input": false,
  "kernelspec": {
   "display_name": "Python 3",
   "language": "python",
   "name": "python3"
  },
  "language_info": {
   "codemirror_mode": {
    "name": "ipython",
    "version": 3
   },
   "file_extension": ".py",
   "mimetype": "text/x-python",
   "name": "python",
   "nbconvert_exporter": "python",
   "pygments_lexer": "ipython3",
   "version": "3.8.2"
  },
  "toc": {
   "base_numbering": 1,
   "nav_menu": {},
   "number_sections": true,
   "sideBar": true,
   "skip_h1_title": true,
   "title_cell": "Table of Contents",
   "title_sidebar": "Contents",
   "toc_cell": false,
   "toc_position": {
    "height": "156px",
    "left": "1008px",
    "top": "144.133px",
    "width": "165px"
   },
   "toc_section_display": true,
   "toc_window_display": true
  }
 },
 "nbformat": 4,
 "nbformat_minor": 4
}
