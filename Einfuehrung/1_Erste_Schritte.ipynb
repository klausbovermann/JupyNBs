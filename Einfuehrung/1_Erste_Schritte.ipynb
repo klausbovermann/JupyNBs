{
 "cells": [
  {
   "cell_type": "markdown",
   "metadata": {},
   "source": [
    "#  Allererste Schritte mit Python und Jupyter-Notebooks"
   ]
  },
  {
   "cell_type": "markdown",
   "metadata": {},
   "source": [
    "<div style=\"background-color: Cornsilk; padding: 5px 20px 20px\">\n",
    "\n",
    "In diesem Notebook findest du in kurzer Form:\n",
    "\n",
    "- Grundlegende Hinweise zum Benutzen von Jupyter-Notebooks\n",
    "- Allererste Python-Befehle\n",
    "    \n",
    "Falls du neugierig bist und schon einmal sehen möchtest, welche Möglichkeiten es in Python gibt, kannst du die folgenden Links nutzen.\n",
    "   \n",
    "In den folgenden Notebooks kannst du die Basis-Elemente von Python kennenlernen:\n",
    "- [Umgang mit Basisdatentypen in Python](2_Python_Basics.ipynb)\n",
    "- [Fallunterscheidungen](3_Fallunterscheidungen.ipynb)    \n",
    "- [Wiederholungen](4_Wiederholungen.ipynb)    \n",
    "- [Funktionen](5_Funktionen.ipynb)\n",
    "- [rekursive Funktionen](6_Rekursion.ipynb)\n",
    "    \n"
   ]
  },
  {
   "cell_type": "markdown",
   "metadata": {},
   "source": [
    "## Interaktion mit dem Notebook"
   ]
  },
  {
   "cell_type": "markdown",
   "metadata": {},
   "source": [
    "<div style=\"background-color: Cornsilk; padding: 5px 20px 20px\">\n",
    "\n",
    "Du findest hier einige Eingabezellen, die du an `In [ ]` links am Rand erkennen kannst.\n",
    "\n",
    "**Bewege den Cursor an den linken Rand oder auch in eine solche Eingabezelle und**\n",
    "\n",
    "- clicke auf den `▶︎ Run`-Button (oben) \n",
    "    \n",
    "**oder**\n",
    "    \n",
    "- benutze die `↩︎ Eingabe`-Taste mit gedrückter `⇧ Shift`-Taste"
   ]
  },
  {
   "cell_type": "markdown",
   "metadata": {},
   "source": [
    "<div style=\"background-color: Cornsilk; padding: 5px 20px 20px\">\n",
    "\n",
    "**Also bitte die folgende Zelle auswählen und mit `⇧ <SHIFT> + ↩︎ <ENTER>` ausführen.**"
   ]
  },
  {
   "cell_type": "code",
   "execution_count": null,
   "metadata": {},
   "outputs": [],
   "source": [
    "7*8"
   ]
  },
  {
   "cell_type": "markdown",
   "metadata": {},
   "source": [
    "## Python spricht mit uns"
   ]
  },
  {
   "cell_type": "markdown",
   "metadata": {},
   "source": [
    "<div style=\"background-color: Cornsilk; padding: 5px 20px 20px\">\n",
    "\n",
    "**Wir können die `print()` Funktion verwenden, um Ausgaben zu erzeugen:**"
   ]
  },
  {
   "cell_type": "code",
   "execution_count": null,
   "metadata": {},
   "outputs": [],
   "source": [
    "print(\"Hallo Python\")"
   ]
  },
  {
   "cell_type": "markdown",
   "metadata": {},
   "source": [
    "## Erste Anweisungen"
   ]
  },
  {
   "cell_type": "markdown",
   "metadata": {},
   "source": [
    "<div style=\"background-color: Cornsilk; padding: 5px 20px 20px\">\n",
    "\n",
    "**Die bekannten Rechenoperationen `+`, `-`, `*`, `/`sind in Python benutzbar und verhalten sich so wie erwartet.** \n",
    "    \n",
    "***Probiere jede Anweisung aus!***"
   ]
  },
  {
   "cell_type": "code",
   "execution_count": null,
   "metadata": {},
   "outputs": [],
   "source": [
    "print(15+7)"
   ]
  },
  {
   "cell_type": "code",
   "execution_count": null,
   "metadata": {},
   "outputs": [],
   "source": [
    "print(15-7)"
   ]
  },
  {
   "cell_type": "code",
   "execution_count": null,
   "metadata": {},
   "outputs": [],
   "source": [
    "print(15*7)"
   ]
  },
  {
   "cell_type": "code",
   "execution_count": null,
   "metadata": {},
   "outputs": [],
   "source": [
    "print(15/7)"
   ]
  },
  {
   "cell_type": "markdown",
   "metadata": {},
   "source": [
    "<div style=\"background-color: Cornsilk; padding: 5px 20px 20px\">\n",
    "\n",
    "**Dann gibt es noch das Potenzieren**"
   ]
  },
  {
   "cell_type": "code",
   "execution_count": null,
   "metadata": {},
   "outputs": [],
   "source": [
    "print(15**7)"
   ]
  },
  {
   "cell_type": "markdown",
   "metadata": {},
   "source": [
    "<div style=\"background-color: Cornsilk; padding: 5px 20px 20px\">\n",
    "\n",
    "**und die ganzzahlige Division** (*Dazu später mehr in einem weiteren Jupyter-Notebook*):"
   ]
  },
  {
   "cell_type": "code",
   "execution_count": null,
   "metadata": {},
   "outputs": [],
   "source": [
    "print (15//7)"
   ]
  },
  {
   "cell_type": "markdown",
   "metadata": {},
   "source": [
    "## Erste Anweisungsfolge"
   ]
  },
  {
   "cell_type": "markdown",
   "metadata": {},
   "source": [
    "<div style=\"background-color: Cornsilk; padding: 5px 20px 20px\">\n",
    "\n",
    "**Eine Eingabezelle kann auch aus mehreren Zeilen bestehen. Man schreibt dazu eine Zeile, benutzt dann am Ende der Zeile die `↩︎ Eingabe`-Taste und kann auf diese Art mehrere Zeilen erzeugen.**\n",
    "\n",
    "**Die Eingabezelle wird, wie gewohnt, mit dem `▶︎ Run`-Button oder mit `⇧ <SHIFT> + ↩︎ <ENTER>` ausgeführt.**\n",
    "    \n",
    "**Die einzelnen Zeilen der Eingabezelle werden dann nacheinander ausgeführt.**"
   ]
  },
  {
   "cell_type": "code",
   "execution_count": null,
   "metadata": {},
   "outputs": [],
   "source": [
    "print (\"Hallo Python\")\n",
    "print (\"7 mal 8 ist\")\n",
    "print (7*8)"
   ]
  },
  {
   "cell_type": "markdown",
   "metadata": {},
   "source": [
    "## Werte aufbewahren"
   ]
  },
  {
   "cell_type": "markdown",
   "metadata": {},
   "source": [
    "<div style=\"background-color: Cornsilk; padding: 5px 20px 20px\">\n",
    "\n",
    "**Eine** ***Variable*** **ist vorstellbar als ein Behälter zur Aufbewahrung von bestimmten Werten (z.B. Zahlen).**\n",
    "\n",
    "Eine Variable hat \n",
    "- einen Namen \n",
    "\n",
    "und\n",
    "\n",
    "- einen Wert\n",
    "\n",
    "Mit der ***Zuweisung*** `=` kann man den Wert in der Variablen ablegen:"
   ]
  },
  {
   "cell_type": "code",
   "execution_count": null,
   "metadata": {},
   "outputs": [],
   "source": [
    "jahreszahl = 2021"
   ]
  },
  {
   "cell_type": "markdown",
   "metadata": {},
   "source": [
    "<div style=\"background-color: Cornsilk; padding: 5px 20px 20px\">\n",
    "\n",
    "**Man kann jetzt jederzeit den Inhalt dieser Variablen ausgeben:**"
   ]
  },
  {
   "cell_type": "code",
   "execution_count": null,
   "metadata": {},
   "outputs": [],
   "source": [
    "print (jahreszahl)"
   ]
  },
  {
   "cell_type": "markdown",
   "metadata": {},
   "source": [
    "<div style=\"background-color: Cornsilk; padding: 5px 20px 20px\">\n",
    "\n",
    "**oder auch anderweitig benutzen:**"
   ]
  },
  {
   "cell_type": "code",
   "execution_count": null,
   "metadata": {},
   "outputs": [],
   "source": [
    "print (jahreszahl * 2)"
   ]
  },
  {
   "cell_type": "markdown",
   "metadata": {},
   "source": [
    "## Erste Interaktion mit dem Python-System"
   ]
  },
  {
   "cell_type": "markdown",
   "metadata": {},
   "source": [
    "<div style=\"background-color: Cornsilk; padding: 5px 20px 20px\">\n",
    "\n",
    "**Eingaben des Benutzers erfolgen mit dem Befehl `input(_)`**"
   ]
  },
  {
   "cell_type": "code",
   "execution_count": null,
   "metadata": {},
   "outputs": [],
   "source": [
    "name = input(\"Dein Name ist\")\n",
    "print(\"Du heisst\", name)"
   ]
  },
  {
   "cell_type": "markdown",
   "metadata": {},
   "source": [
    "# Hier geht es weiter:\n",
    "- [Umgang mit Basisdatentypen in Python](2_Python_Basics.ipynb)"
   ]
  }
 ],
 "metadata": {
  "kernelspec": {
   "display_name": "Python 3",
   "language": "python",
   "name": "python3"
  },
  "language_info": {
   "codemirror_mode": {
    "name": "ipython",
    "version": 3
   },
   "file_extension": ".py",
   "mimetype": "text/x-python",
   "name": "python",
   "nbconvert_exporter": "python",
   "pygments_lexer": "ipython3",
   "version": "3.8.5"
  },
  "toc": {
   "base_numbering": 1,
   "nav_menu": {},
   "number_sections": true,
   "sideBar": true,
   "skip_h1_title": true,
   "title_cell": "Table of Contents",
   "title_sidebar": "Contents",
   "toc_cell": false,
   "toc_position": {
    "height": "156px",
    "left": "1008px",
    "top": "144.133px",
    "width": "225px"
   },
   "toc_section_display": true,
   "toc_window_display": true
  }
 },
 "nbformat": 4,
 "nbformat_minor": 4
}
