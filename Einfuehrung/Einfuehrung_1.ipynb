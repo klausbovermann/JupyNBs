{
 "cells": [
  {
   "cell_type": "markdown",
   "metadata": {
    "slideshow": {
     "slide_type": "-"
    }
   },
   "source": [
    "# **Python**\n",
    "## Zum Beginn\n",
    "  \n",
    "* Offizielle Python-Seite: [https://www.python.org](https://www.python.org)\n",
    "* Anaconda-Umgebung: [https://www.anaconda.com](https://www.anaconda.com)\n",
    "  * enthält auch die Python-Installation sowie die Jupyter- und Spyder-Umgebungen"
   ]
  },
  {
   "cell_type": "markdown",
   "metadata": {},
   "source": [
    "## Gliederung dieses Jupyter-Notebooks"
   ]
  },
  {
   "cell_type": "markdown",
   "metadata": {},
   "source": [
    "- [erste Schritte](#Erste-Schritte)\n",
    "- [Ausgabe](#Ausgabe)\n",
    "- [Variablen](#Variablen)\n",
    "- [Strings (Zeichenketten)](#Strings)\n",
    "- [Wahrheitswerte](#Wahrheitswerte)\n",
    "- [Zufall](#Zufall)\n",
    "- [Typen konvertieren](#Typen-konvertieren)\n",
    "- [Mehrzeilige Eingaben](#Mehrzeilige-Eingaben)\n",
    "- [Fallunterscheidungen](#Fallunterscheidungen)\n",
    "- [Print; weitere Ausgabemöglichkeiten](#print)"
   ]
  },
  {
   "cell_type": "markdown",
   "metadata": {},
   "source": [
    "## Erste Schritte\n",
    "\n",
    "### Rechnen; Python als Taschenrechner\n",
    "\n",
    "- Rechnen mit ganzen Zahlen\n",
    "- Rechnen mit Dezimalzahlen"
   ]
  },
  {
   "cell_type": "markdown",
   "metadata": {},
   "source": [
    "### ***Aufgabe***: Was liefern die folgenden Eingaben?\n",
    "> #### Denke erst nach und teste dann."
   ]
  },
  {
   "cell_type": "code",
   "execution_count": null,
   "metadata": {},
   "outputs": [],
   "source": [
    "7*9"
   ]
  },
  {
   "cell_type": "code",
   "execution_count": null,
   "metadata": {},
   "outputs": [],
   "source": [
    "12//8"
   ]
  },
  {
   "cell_type": "code",
   "execution_count": null,
   "metadata": {},
   "outputs": [],
   "source": [
    "12/8"
   ]
  },
  {
   "cell_type": "markdown",
   "metadata": {},
   "source": [
    "Die folgende Zeile ist der **Modulo-Operator**: also division mit Rest"
   ]
  },
  {
   "cell_type": "code",
   "execution_count": null,
   "metadata": {},
   "outputs": [],
   "source": [
    "12%8"
   ]
  },
  {
   "cell_type": "code",
   "execution_count": null,
   "metadata": {},
   "outputs": [],
   "source": [
    "2*3**2"
   ]
  },
  {
   "cell_type": "code",
   "execution_count": null,
   "metadata": {},
   "outputs": [],
   "source": [
    "(2*3)**2"
   ]
  },
  {
   "cell_type": "code",
   "execution_count": null,
   "metadata": {},
   "outputs": [],
   "source": [
    "2**3**2"
   ]
  },
  {
   "cell_type": "code",
   "execution_count": null,
   "metadata": {},
   "outputs": [],
   "source": [
    "(2**3)**2"
   ]
  },
  {
   "cell_type": "code",
   "execution_count": null,
   "metadata": {},
   "outputs": [],
   "source": []
  },
  {
   "cell_type": "code",
   "execution_count": null,
   "metadata": {},
   "outputs": [],
   "source": [
    "2**(3**2)"
   ]
  },
  {
   "cell_type": "markdown",
   "metadata": {},
   "source": [
    "### ***Aufgabe***: Probiere andere arithmetische Ausdrücke aus.\n",
    " 1. Verwende die Operatoren zur\n",
    "* Addition und Subtraktion\n",
    "* Multiplikation, (ganzzahligen) Division, Restbildung\n",
    "* Potenzieren\n",
    " 2. Teste insbesondere die sogenannten Vorrangregeln:\n",
    "* *Potenzieren vor Punktrechnung vor Strichrechnung*\n",
    "* *Klammern haben Vorrang*"
   ]
  },
  {
   "cell_type": "markdown",
   "metadata": {},
   "source": [
    "> #### *Benutze die folgende Zeilen zum Testen*\n",
    "> ##### *Du kannst auch weitere Zeilen einfügen*"
   ]
  },
  {
   "cell_type": "code",
   "execution_count": null,
   "metadata": {},
   "outputs": [],
   "source": []
  },
  {
   "cell_type": "code",
   "execution_count": null,
   "metadata": {},
   "outputs": [],
   "source": []
  },
  {
   "cell_type": "code",
   "execution_count": null,
   "metadata": {},
   "outputs": [],
   "source": []
  },
  {
   "cell_type": "code",
   "execution_count": null,
   "metadata": {},
   "outputs": [],
   "source": []
  },
  {
   "cell_type": "code",
   "execution_count": null,
   "metadata": {},
   "outputs": [],
   "source": []
  },
  {
   "cell_type": "markdown",
   "metadata": {},
   "source": [
    "### ***Aufgabe***: Ein Zaubertrick mit Zahlen"
   ]
  },
  {
   "cell_type": "markdown",
   "metadata": {},
   "source": [
    "##### Denk dir eine Zahl aus!"
   ]
  },
  {
   "cell_type": "code",
   "execution_count": null,
   "metadata": {},
   "outputs": [],
   "source": [
    "z = # hier eine Zahl eingeben"
   ]
  },
  {
   "cell_type": "markdown",
   "metadata": {},
   "source": [
    "##### Mit 5 multiplizieren"
   ]
  },
  {
   "cell_type": "code",
   "execution_count": null,
   "metadata": {},
   "outputs": [],
   "source": [
    "a1 = ###"
   ]
  },
  {
   "cell_type": "markdown",
   "metadata": {},
   "source": [
    "##### Verdoppeln!"
   ]
  },
  {
   "cell_type": "code",
   "execution_count": null,
   "metadata": {},
   "outputs": [],
   "source": [
    "a2 = ###"
   ]
  },
  {
   "cell_type": "markdown",
   "metadata": {},
   "source": [
    "##### Teile a2 jetzt durch die Zahl, die du Dir am Anfang ausgedacht hast."
   ]
  },
  {
   "cell_type": "code",
   "execution_count": null,
   "metadata": {},
   "outputs": [],
   "source": [
    "a3 = ###"
   ]
  },
  {
   "cell_type": "markdown",
   "metadata": {},
   "source": [
    "##### Subtrahiere davon 7"
   ]
  },
  {
   "cell_type": "code",
   "execution_count": null,
   "metadata": {},
   "outputs": [],
   "source": [
    "a4 = ###"
   ]
  },
  {
   "cell_type": "markdown",
   "metadata": {},
   "source": [
    "##### Ich weiss, was herauskommt!"
   ]
  },
  {
   "cell_type": "code",
   "execution_count": null,
   "metadata": {},
   "outputs": [],
   "source": [
    "a4 ### ???"
   ]
  },
  {
   "cell_type": "markdown",
   "metadata": {},
   "source": [
    "### ***Aufgabe***: Magisches Quadrat mit 4 Zeilen und 4 Spalten\n",
    "> **Wieso wird hier ein magisches Quadrat erzeugt?**\n",
    "1. *Begründe den Sachverhalt!*\n",
    "2. *Was muss man für a und b eingeben, damit in dem Quadrat alle Zahlen 1, 2, ..., 16 auftauchen?*"
   ]
  },
  {
   "cell_type": "code",
   "execution_count": null,
   "metadata": {},
   "outputs": [],
   "source": [
    "at = input(\"Gib einen Wert für a ein:\")\n",
    "bt = input(\"Gib einen Wert für b ein:\")\n",
    "a = int(at)\n",
    "b=int(bt)\n",
    "print (\"Die Summe aller Reihen, Spalten und Quadrate ist:\",a*21+b)\n",
    "# Magisches Quadrat ausgeben:\n",
    "print (\"------------------------------------------------------------\")\n",
    "print (a+b,a,12*a,7*a)\n",
    "print (11*a,8*a,b,2*a)\n",
    "print (5*a,10*a,3*a,3*a+b)\n",
    "print (4*a,2*a+b,6*a,9*a)\n",
    "print (\"------------------------------------------------------------\")"
   ]
  },
  {
   "cell_type": "code",
   "execution_count": null,
   "metadata": {},
   "outputs": [],
   "source": []
  },
  {
   "cell_type": "code",
   "execution_count": null,
   "metadata": {},
   "outputs": [],
   "source": []
  },
  {
   "cell_type": "code",
   "execution_count": null,
   "metadata": {},
   "outputs": [],
   "source": []
  },
  {
   "cell_type": "markdown",
   "metadata": {},
   "source": [
    "## Ausgabe"
   ]
  },
  {
   "cell_type": "markdown",
   "metadata": {},
   "source": [
    "Steht ein (korrekter) arithmetischer Term in einer Zelle, passiert zunächst einmal garnichts. \n",
    "Verlässt man die Eingabe durch `SHIFT` + `RETURN`, wird der Term \n",
    "ausgewertet und das Ergebnis in dem Feld unterhalb der Zelle angezeigt. Das ist in den obigen Zellen bereits passiert. "
   ]
  },
  {
   "cell_type": "code",
   "execution_count": null,
   "metadata": {},
   "outputs": [],
   "source": [
    "7*8"
   ]
  },
  {
   "cell_type": "markdown",
   "metadata": {},
   "source": [
    "Ausgaben können auch mit der sog. print()-Anweisung erfolgen:"
   ]
  },
  {
   "cell_type": "code",
   "execution_count": null,
   "metadata": {},
   "outputs": [],
   "source": [
    "print (7*8)"
   ]
  },
  {
   "cell_type": "markdown",
   "metadata": {},
   "source": [
    "Das werden wir noch oft benutzen, da man so die Ausgaben zusätzlich *schöner* gestalten kann."
   ]
  },
  {
   "cell_type": "markdown",
   "metadata": {},
   "source": [
    "## Variablen"
   ]
  },
  {
   "cell_type": "markdown",
   "metadata": {},
   "source": [
    "*Programmieren* besteht aus der Aneinanderreihung von *Befehlen*, die (in diesem Fall) der **Python-Interpreter** ausführt. \n",
    "\n",
    "Ein einfacher Befehl ist die Zuweisung eines Wertes zu einer ***Variablen***\n",
    "\n",
    "Eine Variable ist eine Art Speicherzelle, in der ein Wert aufbewahrt werden kann.\n",
    "\n",
    "Eine Variable wird erzeugt, indem man sich einen Namen für sie ausdenkt, um später mit Hilfe dieses Namens (lesend und/oder schreibend) auf den Inhalt zugegriffen werden kann. Dann kann man den Wert mit dem *Operator* `=` in der zugehörigen Speicherzelle ablegen.\n",
    "\n",
    "So kann man mit `meineZahl = 42` eine Variable anlegen, in der die Zahl 42 gespeichert ist.\n",
    "\n",
    "Hat man eine Variable angelegt und mit einem Wert belegt, kann man den Wert jederzeit sehen, indem man den Namen der Variablen hinschreibt oder mit `print` ausgeben lässt.\n",
    "\n",
    "Den Wert, der in einer Variablen gespeichert ist, kann man auch (für andere Zwecke) benutzen. Die Zeile `deineZahl = meineZahl + 100` erzeugt eine Variable, in der jetzt der Wert 142 gespeichert ist.\n",
    "\n",
    "Den Wert, der in einer Variablen gespeichert ist, kann man auch jederzeit verändern. Nach der Anweisung `meineZahl = 0` befindet sich in der Variablen jetzt der Wert 0; der vorige Wert 42 ist damit verschwunden!"
   ]
  },
  {
   "cell_type": "markdown",
   "metadata": {},
   "source": [
    "### ***Aufgabe***: Was liefern die folgenden Python-Eingaben?\n",
    "> #### Denke erst nach und teste dann."
   ]
  },
  {
   "cell_type": "code",
   "execution_count": null,
   "metadata": {},
   "outputs": [],
   "source": [
    "a = 7"
   ]
  },
  {
   "cell_type": "code",
   "execution_count": null,
   "metadata": {},
   "outputs": [],
   "source": [
    "b = 6"
   ]
  },
  {
   "cell_type": "code",
   "execution_count": null,
   "metadata": {},
   "outputs": [],
   "source": [
    "a*b"
   ]
  },
  {
   "cell_type": "code",
   "execution_count": null,
   "metadata": {},
   "outputs": [],
   "source": [
    "print(a*b)"
   ]
  },
  {
   "cell_type": "code",
   "execution_count": null,
   "metadata": {},
   "outputs": [],
   "source": [
    "c = a"
   ]
  },
  {
   "cell_type": "code",
   "execution_count": null,
   "metadata": {},
   "outputs": [],
   "source": [
    "c"
   ]
  },
  {
   "cell_type": "code",
   "execution_count": null,
   "metadata": {},
   "outputs": [],
   "source": [
    "a = -5"
   ]
  },
  {
   "cell_type": "code",
   "execution_count": null,
   "metadata": {},
   "outputs": [],
   "source": [
    "c"
   ]
  },
  {
   "cell_type": "code",
   "execution_count": null,
   "metadata": {},
   "outputs": [],
   "source": [
    "p = 3.1415"
   ]
  },
  {
   "cell_type": "code",
   "execution_count": null,
   "metadata": {},
   "outputs": [],
   "source": [
    "radius = 10"
   ]
  },
  {
   "cell_type": "code",
   "execution_count": null,
   "metadata": {},
   "outputs": [],
   "source": [
    "flaeche = radius**2 * p"
   ]
  },
  {
   "cell_type": "code",
   "execution_count": null,
   "metadata": {},
   "outputs": [],
   "source": [
    "print (flaeche)"
   ]
  },
  {
   "cell_type": "markdown",
   "metadata": {},
   "source": [
    "Variablen, also eigentlich die zugehörigen Werte, haben immer einen **Typ** wie\n",
    "\n",
    "- `int` für ganze Zahlen, z.B. `1`, `42`, `-10`,\n",
    "- `float` für Fließkommazahlen, z.B. `0.5`, `3.14`, `1e10`,\n",
    "- `str` für Zeichenketten (*Strings*), z.B. `\"Hello World!\"`,\n",
    "- `bool` für Wahrheitswerte (*Booleans*, benannt nach einem englischen Mathematiker mit Namen George Boole (1815–1864)), also `True` und `False`\n",
    "\n",
    "Der Typ der Variablen wird automatisch durch die äußere Form der rechten Seite gesetzt.\n",
    "\n",
    "Da Variablen in Python nicht typisiert sind, können der gleichen Variable nacheinander Werte verschiedener Typen zugewiesen werden:"
   ]
  },
  {
   "cell_type": "code",
   "execution_count": null,
   "metadata": {},
   "outputs": [],
   "source": [
    "x=1"
   ]
  },
  {
   "cell_type": "code",
   "execution_count": null,
   "metadata": {},
   "outputs": [],
   "source": [
    "type(x)"
   ]
  },
  {
   "cell_type": "code",
   "execution_count": null,
   "metadata": {},
   "outputs": [],
   "source": [
    "x=0.5"
   ]
  },
  {
   "cell_type": "code",
   "execution_count": null,
   "metadata": {},
   "outputs": [],
   "source": [
    "type(x)"
   ]
  },
  {
   "cell_type": "markdown",
   "metadata": {},
   "source": [
    "#### Beispiel:\n",
    "- BodyMassIndex (BMI)"
   ]
  },
  {
   "cell_type": "markdown",
   "metadata": {},
   "source": [
    "Der BMI bestimmt man, indem das Gewicht `gew` (in kg) sowie die Körpergröße `gro` (in m) in die Formel\n",
    "\n",
    "> $bmi = \\frac{gew}{gro^2}$\n",
    "\n",
    "eingesetzt wird."
   ]
  },
  {
   "cell_type": "markdown",
   "metadata": {},
   "source": [
    "*(Diese Formel ist sehr einfach aufgebaut; tatsächlich wird noch das Alter \n",
    "der Person und das Geschlecht berücksichtigt. Das könnte vielleicht eine Aufgabe für später sein!)*"
   ]
  },
  {
   "cell_type": "code",
   "execution_count": null,
   "metadata": {},
   "outputs": [],
   "source": [
    "gewicht = 72"
   ]
  },
  {
   "cell_type": "code",
   "execution_count": null,
   "metadata": {},
   "outputs": [],
   "source": [
    "groesse = 1.82"
   ]
  },
  {
   "cell_type": "code",
   "execution_count": null,
   "metadata": {},
   "outputs": [],
   "source": [
    "bmi=gewicht / (groesse**2)"
   ]
  },
  {
   "cell_type": "code",
   "execution_count": null,
   "metadata": {},
   "outputs": [],
   "source": [
    "bmi"
   ]
  },
  {
   "cell_type": "markdown",
   "metadata": {},
   "source": [
    "Die Ausgabe kann dann schöner erfolgen:"
   ]
  },
  {
   "cell_type": "code",
   "execution_count": null,
   "metadata": {},
   "outputs": [],
   "source": [
    "print (\"Sie haben einen BMI von \" + str(bmi) + \"!\")"
   ]
  },
  {
   "cell_type": "markdown",
   "metadata": {},
   "source": [
    "oder auch:"
   ]
  },
  {
   "cell_type": "code",
   "execution_count": null,
   "metadata": {},
   "outputs": [],
   "source": [
    "print (\"Sie haben einen BMI von\", bmi, \"!\")"
   ]
  },
  {
   "cell_type": "markdown",
   "metadata": {},
   "source": [
    "oder noch anders mit Hilfe einer Formatanweisung:"
   ]
  },
  {
   "cell_type": "code",
   "execution_count": null,
   "metadata": {},
   "outputs": [],
   "source": [
    "print (f\"Sie haben einen BMI von {bmi}!\")"
   ]
  },
  {
   "cell_type": "markdown",
   "metadata": {},
   "source": [
    "... und viele andere Möglichkeiten, die den Rahmen hier sprengen könnten."
   ]
  },
  {
   "cell_type": "markdown",
   "metadata": {},
   "source": [
    "### ***Aufgabe***: Jemand möchte die Fläche (den Umfang) eines Kreises (eines Rechtecks) bestimmen."
   ]
  },
  {
   "cell_type": "code",
   "execution_count": null,
   "metadata": {},
   "outputs": [],
   "source": []
  },
  {
   "cell_type": "code",
   "execution_count": null,
   "metadata": {},
   "outputs": [],
   "source": []
  },
  {
   "cell_type": "markdown",
   "metadata": {},
   "source": [
    "## Runden"
   ]
  },
  {
   "cell_type": "code",
   "execution_count": null,
   "metadata": {},
   "outputs": [],
   "source": [
    "int(3.14159265)"
   ]
  },
  {
   "cell_type": "code",
   "execution_count": null,
   "metadata": {},
   "outputs": [],
   "source": [
    "round(3.14159265)"
   ]
  },
  {
   "cell_type": "code",
   "execution_count": null,
   "metadata": {},
   "outputs": [],
   "source": [
    "round(3.14159265, 3)"
   ]
  },
  {
   "cell_type": "markdown",
   "metadata": {},
   "source": [
    "### ***Aufgabe***: Probiere weitere Ausdrücke aus."
   ]
  },
  {
   "cell_type": "code",
   "execution_count": null,
   "metadata": {},
   "outputs": [],
   "source": []
  },
  {
   "cell_type": "code",
   "execution_count": null,
   "metadata": {},
   "outputs": [],
   "source": []
  },
  {
   "cell_type": "markdown",
   "metadata": {},
   "source": [
    "### ***Achtung*** Wenn Variablen einander zugewiesen werden, kann es zu vielleicht für dich unerwarteten Effekten kommen:"
   ]
  },
  {
   "cell_type": "code",
   "execution_count": null,
   "metadata": {},
   "outputs": [],
   "source": [
    "x=5"
   ]
  },
  {
   "cell_type": "code",
   "execution_count": null,
   "metadata": {},
   "outputs": [],
   "source": [
    "y=x "
   ]
  },
  {
   "cell_type": "markdown",
   "metadata": {},
   "source": [
    "> Ist jetzt y dasselbe wie x, oder hat y nur denselben Wert wie x?"
   ]
  },
  {
   "cell_type": "code",
   "execution_count": null,
   "metadata": {},
   "outputs": [],
   "source": [
    "x"
   ]
  },
  {
   "cell_type": "code",
   "execution_count": null,
   "metadata": {},
   "outputs": [],
   "source": [
    "y"
   ]
  },
  {
   "cell_type": "code",
   "execution_count": null,
   "metadata": {},
   "outputs": [],
   "source": [
    "x=7"
   ]
  },
  {
   "cell_type": "markdown",
   "metadata": {},
   "source": [
    "### ***Aufgabe***: Welchen Wert hat jetzt y?\n",
    "> #### Denke erst nach oder rate einmal; teste anschließend."
   ]
  },
  {
   "cell_type": "code",
   "execution_count": null,
   "metadata": {},
   "outputs": [],
   "source": [
    "y"
   ]
  },
  {
   "cell_type": "code",
   "execution_count": null,
   "metadata": {},
   "outputs": [],
   "source": []
  },
  {
   "cell_type": "code",
   "execution_count": null,
   "metadata": {},
   "outputs": [],
   "source": []
  },
  {
   "cell_type": "markdown",
   "metadata": {},
   "source": [
    "## Strings"
   ]
  },
  {
   "cell_type": "code",
   "execution_count": null,
   "metadata": {},
   "outputs": [],
   "source": [
    "name = \"Hugo\""
   ]
  },
  {
   "cell_type": "code",
   "execution_count": null,
   "metadata": {},
   "outputs": [],
   "source": [
    "name"
   ]
  },
  {
   "cell_type": "code",
   "execution_count": null,
   "metadata": {},
   "outputs": [],
   "source": [
    "name[0]"
   ]
  },
  {
   "cell_type": "code",
   "execution_count": null,
   "metadata": {},
   "outputs": [],
   "source": [
    "len(name)"
   ]
  },
  {
   "cell_type": "code",
   "execution_count": null,
   "metadata": {},
   "outputs": [],
   "source": [
    "name[-2]"
   ]
  },
  {
   "cell_type": "code",
   "execution_count": null,
   "metadata": {},
   "outputs": [],
   "source": [
    "zeile = \"Hallo \" + name"
   ]
  },
  {
   "cell_type": "code",
   "execution_count": null,
   "metadata": {},
   "outputs": [],
   "source": [
    "zeile"
   ]
  },
  {
   "cell_type": "code",
   "execution_count": null,
   "metadata": {},
   "outputs": [],
   "source": [
    "strich = \"-\""
   ]
  },
  {
   "cell_type": "code",
   "execution_count": null,
   "metadata": {},
   "outputs": [],
   "source": [
    "ausgabe = 10 * strich"
   ]
  },
  {
   "cell_type": "code",
   "execution_count": null,
   "metadata": {},
   "outputs": [],
   "source": [
    "ausgabe"
   ]
  },
  {
   "cell_type": "code",
   "execution_count": null,
   "metadata": {},
   "outputs": [],
   "source": []
  },
  {
   "cell_type": "code",
   "execution_count": null,
   "metadata": {},
   "outputs": [],
   "source": []
  },
  {
   "cell_type": "code",
   "execution_count": null,
   "metadata": {},
   "outputs": [],
   "source": [
    "name = input(\"Wie heisst du?\")"
   ]
  },
  {
   "cell_type": "code",
   "execution_count": null,
   "metadata": {},
   "outputs": [],
   "source": [
    "gruss = \"Hallo \" + name"
   ]
  },
  {
   "cell_type": "code",
   "execution_count": null,
   "metadata": {},
   "outputs": [],
   "source": [
    "print(gruss)"
   ]
  },
  {
   "cell_type": "code",
   "execution_count": null,
   "metadata": {},
   "outputs": [],
   "source": [
    "langerName = \"abcdefghijk\""
   ]
  },
  {
   "cell_type": "markdown",
   "metadata": {},
   "source": [
    "### Teile aus Strings herausschneiden\n",
    "> #### Anfang einschliesslich; Ende ausschliesslich"
   ]
  },
  {
   "cell_type": "code",
   "execution_count": null,
   "metadata": {},
   "outputs": [],
   "source": [
    "teil = langerName[3:6]"
   ]
  },
  {
   "cell_type": "code",
   "execution_count": null,
   "metadata": {},
   "outputs": [],
   "source": [
    "teil"
   ]
  },
  {
   "cell_type": "markdown",
   "metadata": {},
   "source": [
    "## Wahrheitswerte"
   ]
  },
  {
   "cell_type": "code",
   "execution_count": null,
   "metadata": {},
   "outputs": [],
   "source": [
    "name = \"Hugo\""
   ]
  },
  {
   "cell_type": "code",
   "execution_count": null,
   "metadata": {},
   "outputs": [],
   "source": [
    "name == \"Paul\""
   ]
  },
  {
   "cell_type": "code",
   "execution_count": null,
   "metadata": {},
   "outputs": [],
   "source": [
    "name == \"Hugo\""
   ]
  },
  {
   "cell_type": "code",
   "execution_count": null,
   "metadata": {},
   "outputs": [],
   "source": [
    "ichHeisseHugo = True"
   ]
  },
  {
   "cell_type": "code",
   "execution_count": null,
   "metadata": {},
   "outputs": [],
   "source": []
  },
  {
   "cell_type": "code",
   "execution_count": null,
   "metadata": {},
   "outputs": [],
   "source": [
    "x = 6"
   ]
  },
  {
   "cell_type": "code",
   "execution_count": null,
   "metadata": {},
   "outputs": [],
   "source": [
    "istGeradeZahl = (x % 2 == 0)"
   ]
  },
  {
   "cell_type": "code",
   "execution_count": null,
   "metadata": {},
   "outputs": [],
   "source": [
    "istGeradeZahl"
   ]
  },
  {
   "cell_type": "code",
   "execution_count": null,
   "metadata": {},
   "outputs": [],
   "source": [
    "type (istGeradeZahl)"
   ]
  },
  {
   "cell_type": "markdown",
   "metadata": {},
   "source": [
    "## Zufall\n",
    "Obwohl ein Computer ganz bestimmt nichts zufällig tun sollte, kann man Zufallszahlen erzeugen."
   ]
  },
  {
   "cell_type": "markdown",
   "metadata": {},
   "source": [
    "Wir benutzen drei verschedene Anweisungen, die sich in dem Modul `random` befinden. Dieses Modul muss zunächst importiert werden:"
   ]
  },
  {
   "cell_type": "code",
   "execution_count": null,
   "metadata": {},
   "outputs": [],
   "source": [
    "import random"
   ]
  },
  {
   "cell_type": "markdown",
   "metadata": {},
   "source": [
    "1. Die Anweisung `random.random()`erzeugt eine zufällige Dezimalzahl zwischen 0 und 1 (0 eingeschlossen, 1 ausgeschlossen)\n",
    "2. Die Anweisung `random.uniform(unten, oben)`erzeugt eine zufällige Dezimalzahl zwischen `unten` und `oben` (unten eingeschlossen, oben ausgeschlossen\n",
    "3. Die Anweisung `random.randint(unten, oben)`erzeugt eine zufällige ganze Zahl zwischen `unten` und `oben` (unten  und oben eingeschlossen"
   ]
  },
  {
   "cell_type": "code",
   "execution_count": null,
   "metadata": {},
   "outputs": [],
   "source": [
    "print(random.random())"
   ]
  },
  {
   "cell_type": "code",
   "execution_count": null,
   "metadata": {},
   "outputs": [],
   "source": [
    "print(random.uniform(1,6))"
   ]
  },
  {
   "cell_type": "code",
   "execution_count": null,
   "metadata": {},
   "outputs": [],
   "source": [
    "print(random.randint(1,6))"
   ]
  },
  {
   "cell_type": "markdown",
   "metadata": {},
   "source": [
    "#### ***Aufgabe***: Simuliere das Würfeln mit zwei Würfeln"
   ]
  },
  {
   "cell_type": "code",
   "execution_count": null,
   "metadata": {},
   "outputs": [],
   "source": []
  },
  {
   "cell_type": "markdown",
   "metadata": {},
   "source": [
    "## Typen konvertieren"
   ]
  },
  {
   "cell_type": "code",
   "execution_count": null,
   "metadata": {},
   "outputs": [],
   "source": [
    "x = 7"
   ]
  },
  {
   "cell_type": "code",
   "execution_count": null,
   "metadata": {},
   "outputs": [],
   "source": [
    "xText = str(x) # Wandelt die Zahl x in einen Text um!"
   ]
  },
  {
   "cell_type": "code",
   "execution_count": null,
   "metadata": {},
   "outputs": [],
   "source": [
    "xText"
   ]
  },
  {
   "cell_type": "code",
   "execution_count": null,
   "metadata": {},
   "outputs": [],
   "source": [
    "zeile = \"41\""
   ]
  },
  {
   "cell_type": "code",
   "execution_count": null,
   "metadata": {},
   "outputs": [],
   "source": [
    "wert = int(zeile) # Wandelt den Text in eine Zahl um (z.B. um damit Rechnen zu können)!"
   ]
  },
  {
   "cell_type": "code",
   "execution_count": null,
   "metadata": {},
   "outputs": [],
   "source": [
    "wert + 1"
   ]
  },
  {
   "cell_type": "code",
   "execution_count": null,
   "metadata": {},
   "outputs": [],
   "source": [
    "zeile = \"xx\""
   ]
  },
  {
   "cell_type": "code",
   "execution_count": null,
   "metadata": {},
   "outputs": [],
   "source": [
    "wert = int(zeile) # Was passiert hier???"
   ]
  },
  {
   "cell_type": "markdown",
   "metadata": {},
   "source": [
    "## Mehrzeilige Eingaben\n",
    "> #### Eingabe einer Zeile mit RETURN abschliessen\n",
    "> #### Letzte Zeile dann mit SHIFT RETURN beenden"
   ]
  },
  {
   "cell_type": "code",
   "execution_count": null,
   "metadata": {},
   "outputs": [],
   "source": []
  },
  {
   "cell_type": "code",
   "execution_count": null,
   "metadata": {},
   "outputs": [],
   "source": [
    "x = 7\n",
    "y = 9\n",
    "z = y % x\n",
    "print (z)"
   ]
  },
  {
   "cell_type": "code",
   "execution_count": null,
   "metadata": {},
   "outputs": [],
   "source": [
    "zahlText = input (\"Gib eine Zahl ein:\")\n",
    "zahl = int (zahlText)\n",
    "print (zahl % 2 == 0)"
   ]
  },
  {
   "cell_type": "code",
   "execution_count": null,
   "metadata": {},
   "outputs": [],
   "source": []
  },
  {
   "cell_type": "code",
   "execution_count": null,
   "metadata": {},
   "outputs": [],
   "source": []
  },
  {
   "cell_type": "code",
   "execution_count": null,
   "metadata": {},
   "outputs": [],
   "source": []
  },
  {
   "cell_type": "markdown",
   "metadata": {},
   "source": [
    "## Fallunterscheidungen\n",
    "> ### Aktionen oder Variablenwerte in Anhängigkeit von Bedingungen"
   ]
  },
  {
   "cell_type": "code",
   "execution_count": null,
   "metadata": {},
   "outputs": [],
   "source": [
    "xStr = input (\"Gib eine Zahl ein\")"
   ]
  },
  {
   "cell_type": "code",
   "execution_count": null,
   "metadata": {},
   "outputs": [],
   "source": [
    "x = int (xStr)"
   ]
  },
  {
   "cell_type": "code",
   "execution_count": null,
   "metadata": {},
   "outputs": [],
   "source": [
    "if (x%2 == 0):\n",
    "    print (str(x) + \" ist eine gerade Zahl!\")\n",
    "else:\n",
    "    print (str(x) + \" ist eine ungerade Zahl!\")"
   ]
  },
  {
   "cell_type": "markdown",
   "metadata": {},
   "source": [
    "> #### Besser ist es, die vorigen 3 Zeilen in eine einzige Zelle zu schreiben:"
   ]
  },
  {
   "cell_type": "code",
   "execution_count": null,
   "metadata": {},
   "outputs": [],
   "source": [
    "xStr = input (\"Gib eine Zahl ein\")\n",
    "x = int (xStr)\n",
    "if (x%2 == 0):\n",
    "    print (str(x) + \" ist eine gerade Zahl!\")\n",
    "else:\n",
    "    print (str(x) + \" ist eine ungerade Zahl!\")"
   ]
  },
  {
   "cell_type": "markdown",
   "metadata": {},
   "source": [
    "#### Nochmals BMI"
   ]
  },
  {
   "cell_type": "markdown",
   "metadata": {},
   "source": [
    "Nachdem der BMI (s.o) ermittelt wurde, kann eine Bewertung erfolgen, indem man eine Tabelle der *WeltGesundheitsOrganisation* benutzt:\n",
    "\n",
    "unterer Wert (einschl.) | oberer Wert (ausschl.) | Bewertung\n",
    ":----------: | :----------:|:-------------------------------------\n",
    "0            | 16          | starkes Untergewicht\n",
    "16           | 17          | mäßiges Untergewicht\n",
    "17           | 18.5        | leichtes Untergewicht           \n",
    "18.5         | 25          | Normalgewicht\n",
    "25           | 30          | Übergewicht\n",
    "30           | 35          | Adipositas (Fettleibigkeit) Grad I\n",
    "35           | 39          | Adipositas Grad II\n",
    "40           |             | Adipositas Grad III\n",
    "\n",
    "Hat jemand also z.B. einen BMI von 21, hat er eine Normalgewicht.\n",
    "\n",
    "Also nochmal:"
   ]
  },
  {
   "cell_type": "code",
   "execution_count": null,
   "metadata": {},
   "outputs": [],
   "source": [
    "groesse = float(input(\"Ihre Körpergröße (in Metern angeben)\"))\n",
    "gewicht = float (input(\"Ihr Körpergewicht (in Kilogramm angeben)\"))\n",
    "bmi=gewicht / (groesse**2)\n",
    "if bmi < 16:\n",
    "    print (\"Sie haben starkes Untergewicht!\")\n",
    "elif bmi < 17:\n",
    "    print (\"Sie haben mäßiges Untergewicht!\")\n",
    "elif bmi < 18.5:\n",
    "    print (\"Sie haben leichtes Untergewicht!\")\n",
    "elif bmi < 25:\n",
    "    print (\"Sie haben Normalgewicht!\")\n",
    "elif bmi < 30:\n",
    "    print (\"Sie haben Übergewicht!\")\n",
    "elif bmi < 35:\n",
    "    print (\"Sie haben Adipositas Grad I!\")\n",
    "elif bmi < 39:\n",
    "    print (\"Sie haben Adipositas Grad II!\")\n",
    "else:\n",
    "    print (\"Sie haben Adipositas Grad III!\")"
   ]
  },
  {
   "cell_type": "markdown",
   "metadata": {},
   "source": [
    "## print"
   ]
  },
  {
   "cell_type": "markdown",
   "metadata": {},
   "source": [
    "Der Befehl `print` zum Ausgegeben verschiedener Werte wurde bereits mehrfach benutzt. Hier jetzt noch einige Spezialitäten:"
   ]
  },
  {
   "cell_type": "code",
   "execution_count": null,
   "metadata": {},
   "outputs": [],
   "source": [
    "monat = \"August\"\n",
    "jahreszahl = 2020\n",
    "print (\"Wir leben im \" + monat + \" im Jahr \" + str(jahreszahl))"
   ]
  },
  {
   "cell_type": "code",
   "execution_count": null,
   "metadata": {},
   "outputs": [],
   "source": [
    "print (\"Wir leben im\", monat, \"im Jahr\", jahreszahl)"
   ]
  },
  {
   "cell_type": "code",
   "execution_count": null,
   "metadata": {},
   "outputs": [],
   "source": [
    "print (\"Wir leben im {} im Jahr {}\".format(monat, jahreszahl))"
   ]
  },
  {
   "cell_type": "code",
   "execution_count": null,
   "metadata": {},
   "outputs": [],
   "source": []
  },
  {
   "cell_type": "code",
   "execution_count": null,
   "metadata": {},
   "outputs": [],
   "source": []
  },
  {
   "cell_type": "code",
   "execution_count": null,
   "metadata": {},
   "outputs": [],
   "source": []
  },
  {
   "cell_type": "code",
   "execution_count": null,
   "metadata": {},
   "outputs": [],
   "source": []
  },
  {
   "cell_type": "code",
   "execution_count": null,
   "metadata": {},
   "outputs": [],
   "source": []
  },
  {
   "cell_type": "markdown",
   "metadata": {},
   "source": [
    "# Bis hier erstmal!"
   ]
  }
 ],
 "metadata": {
  "kernelspec": {
   "display_name": "Python 3",
   "language": "python",
   "name": "python3"
  },
  "language_info": {
   "codemirror_mode": {
    "name": "ipython",
    "version": 3
   },
   "file_extension": ".py",
   "mimetype": "text/x-python",
   "name": "python",
   "nbconvert_exporter": "python",
   "pygments_lexer": "ipython3",
   "version": "3.8.2"
  }
 },
 "nbformat": 4,
 "nbformat_minor": 4
}
