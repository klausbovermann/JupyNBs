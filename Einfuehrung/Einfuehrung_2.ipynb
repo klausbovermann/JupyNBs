{
 "cells": [
  {
   "cell_type": "markdown",
   "metadata": {},
   "source": [
    "# Python"
   ]
  },
  {
   "cell_type": "markdown",
   "metadata": {},
   "source": [
    "- [Wiederholungen](#Wiederholungen) \n",
    "- [Funktionen definieren](#Funktionen-definieren)\n",
    "- [Funktionen mit Parametern](#Funktionen-mit-Parametern)\n",
    "- [Funktionen mit Ergebnissen](#Funktionen-mit-Ergebnissen)"
   ]
  },
  {
   "cell_type": "markdown",
   "metadata": {},
   "source": [
    "## Wiederholungen"
   ]
  },
  {
   "cell_type": "markdown",
   "metadata": {},
   "source": [
    "Sehr häufig kommt es vor, dass eine bestimmte Aktion mehrfach auszuführen ist. So möchte man z.B. alle Quadrate $n^2$ für $1 \\leq n \\leq 10$ erzeugen: "
   ]
  },
  {
   "cell_type": "code",
   "execution_count": null,
   "metadata": {},
   "outputs": [],
   "source": [
    "print (1**2)"
   ]
  },
  {
   "cell_type": "code",
   "execution_count": null,
   "metadata": {},
   "outputs": [],
   "source": [
    "print (2**2)"
   ]
  },
  {
   "cell_type": "markdown",
   "metadata": {},
   "source": [
    "usw. .....\n",
    "\n",
    "> Das ist natürlich nicht sehr elegant. Also besser sind die folgenden beiden Alternativen\n",
    "\n",
    "Die sog. `Zählschleife` macht genau dies:"
   ]
  },
  {
   "cell_type": "code",
   "execution_count": null,
   "metadata": {},
   "outputs": [],
   "source": [
    "for n in range (1,11):\n",
    "    print (str(n) + \"-quadrat = \" + str (n**2))"
   ]
  },
  {
   "cell_type": "markdown",
   "metadata": {},
   "source": [
    "Wieso steht dort 11 und nicht 10?\n",
    "\n",
    "> Es geht auch mit einer sog. `while-Schleife`:"
   ]
  },
  {
   "cell_type": "code",
   "execution_count": null,
   "metadata": {},
   "outputs": [],
   "source": []
  },
  {
   "cell_type": "markdown",
   "metadata": {},
   "source": [
    "### ***Aufgabe***: Alle Teiler von 100 sollen ausgegeben werden."
   ]
  },
  {
   "cell_type": "code",
   "execution_count": null,
   "metadata": {},
   "outputs": [],
   "source": [
    "for n in range (1,51):\n",
    "    if 100%n == 0:\n",
    "        print (str(n) + \" ist ein Teiler von 100\")\n",
    "print (\"Das wars!\")"
   ]
  },
  {
   "cell_type": "markdown",
   "metadata": {},
   "source": [
    "### ***Aufgabe***: Der größte-gemeinsame-Teiler von 123 und 456 soll ausgegeben werden."
   ]
  },
  {
   "cell_type": "code",
   "execution_count": null,
   "metadata": {},
   "outputs": [],
   "source": []
  },
  {
   "cell_type": "markdown",
   "metadata": {},
   "source": [
    "### ***Aufgabe***: Was leisten die folgenden Code-Beispiele?"
   ]
  },
  {
   "cell_type": "code",
   "execution_count": null,
   "metadata": {},
   "outputs": [],
   "source": [
    "# Eine unbekannte Operation\n",
    "\n",
    "nt = input (\"Gib eine Zahl ein : \")\n",
    "n = int (nt)\n",
    "i = 1\n",
    "s = 0\n",
    "while (i <= n):\n",
    "    s = s + (i*i)\n",
    "    print (i, \"--> \", s)\n",
    "    i = i + 1\n",
    "print (\"Ergebnis = \", s)"
   ]
  },
  {
   "cell_type": "markdown",
   "metadata": {},
   "source": [
    "**Ändere das Programm so ab, dass keine while-Schleife, sondern eine Zählschleife benutzt wird!**"
   ]
  },
  {
   "cell_type": "code",
   "execution_count": null,
   "metadata": {},
   "outputs": [],
   "source": []
  },
  {
   "cell_type": "code",
   "execution_count": null,
   "metadata": {},
   "outputs": [],
   "source": [
    "# Noch eine unbekannte Operation\n",
    "\n",
    "nt = input (\"Gib eine Zahl ein : \")\n",
    "n = int (nt)\n",
    "i = 1\n",
    "a = 1\n",
    "s = 0\n",
    "while (i <= n):\n",
    "    s = s + a\n",
    "    i = i + 1\n",
    "    a = a + 2\n",
    "print (\"Ergebnis = \", s)"
   ]
  },
  {
   "cell_type": "code",
   "execution_count": null,
   "metadata": {},
   "outputs": [],
   "source": [
    "from random import randint\n",
    "\n",
    "paschGefunden = False\n",
    "versuche = 0\n",
    "while not paschGefunden:\n",
    "    w1 = randint(1, 6)\n",
    "    w2 = randint(1, 6)\n",
    "    w3 = randint(1, 6)\n",
    "    versuche = versuche + 1\n",
    "    if w1 == w2 and w1 == w3:\n",
    "        paschGefunden = True\n",
    "# Ausgabe\n",
    "print(versuche)"
   ]
  },
  {
   "cell_type": "markdown",
   "metadata": {},
   "source": [
    "### **[Newton-Verfahren](https://mathepedia.de/Beispiele_Newton-Verfahren.html)** zum Berechnen von Quadratwurzeln:"
   ]
  },
  {
   "cell_type": "code",
   "execution_count": null,
   "metadata": {},
   "outputs": [],
   "source": [
    "# wurzel berechnen\n",
    "\n",
    "a = int (input(\"Zu berechnende Quadratwurzel: \"))\n",
    "\n",
    "x = int (input(\"Startwert x1: \"))\n",
    "\n",
    "print (\"Iteration  Näherungswert\")\n",
    "\n",
    "print (\"_________________________\")   \n",
    "\n",
    "xalt = 0.0\n",
    "\n",
    "while abs (x*x - a) > 0.0000001:\n",
    "  xalt = x\n",
    "  x = 0.5*(xalt+a/xalt)\n",
    "  # Bemerkung: 0.5 statt 1/2, damit mit Kommazahlen gerechnet wird!\n",
    "  print (xalt, '   ', x)"
   ]
  },
  {
   "cell_type": "markdown",
   "metadata": {},
   "source": [
    "### ***Aufgabe***: Ein Ratespiel:\n",
    "\n",
    "- Es ist ein Spiel für zwei Personen (A und B genannt)\n",
    "- A denkt sich eine Zahl aus. Sie soll in dem Bereich [1, ..., 100] liegen. B soll diese Zahl erraten.\n",
    "- B versucht es mit einer Zahl:\n",
    "    - A meldet dann zurück, ob die geratene Zahl zu klein / zu groß / korrekt ist.\n",
    "- Das wiederholt sich solange, bis B die Zahl geraten hat.   \n",
    "- Die Anzahl der Versuche ist dann zu notieren.\n",
    "\n",
    "> *Spielt das Spiel mehrfach zu zweit, abwechselnd mit jeweils vertauschten Rollen.*\n",
    "\n",
    "> *Schau dir die folgenden Programmzeilen an und versuche sie zu verstehen.*"
   ]
  },
  {
   "cell_type": "code",
   "execution_count": null,
   "metadata": {},
   "outputs": [],
   "source": [
    "# Ein Ratespiel\n",
    "from random import randint\n",
    "\n",
    "print ('Rate eine Zahl zwischen 1 und 100 (einschliesslich)')\n",
    "meineZahl = randint (1,101)\n",
    "geraten = False\n",
    "anzahl = 0\n",
    "while (not geraten):\n",
    "    geratenText = input ('Welche Zahl meinst du?')\n",
    "    geratenZahl = int (geratenText)\n",
    "    anzahl = anzahl + 1\n",
    "    if (geratenZahl > meineZahl):\n",
    "        print ('Zu Gross!')\n",
    "    else:\n",
    "        if (geratenZahl < meineZahl):\n",
    "            print ('Zu klein!')\n",
    "        else:\n",
    "            print ('Toll!')\n",
    "            geraten = True\n",
    "print ('Spiel beendet.', anzahl, 'Versuche.')"
   ]
  },
  {
   "cell_type": "markdown",
   "metadata": {},
   "source": [
    "### Und jetzt errät der Computer die von dir gedachte Zahl!"
   ]
  },
  {
   "cell_type": "markdown",
   "metadata": {},
   "source": [
    "**Also. Du denkst dir eine Zahl zwischen 1 und 100 (jeweils einschließlich) aus und dann startest du das folgende Programm!**"
   ]
  },
  {
   "cell_type": "code",
   "execution_count": null,
   "metadata": {},
   "outputs": [],
   "source": [
    "def sucheInBereich (unten, oben, anzahlVersuche):\n",
    "    if unten > oben:\n",
    "        print (\"Ich habe keine Ahnung, welche Zahl du dir ausgedacht hast. Vielleicht eine nicht erlaubte?\")\n",
    "    elif unten == oben:\n",
    "        print (\"Die Zahl, die du dir ausgedacht hast, ist ganz sicher\", unten)\n",
    "        print (\"Ich habe\", anzahlVersuche, \"Versuche benötigt.\")\n",
    "    else:\n",
    "        mitte = (oben + unten) // 2\n",
    "        text = \"Ist es vielleicht \" + str(mitte) + \" ? (j/n)\"\n",
    "        jn = input (text)\n",
    "        if jn == \"j\":\n",
    "            print (\"Na bitte!\",\"Ich habe\", anzahlVersuche, \"Versuche benötigt.\")\n",
    "        else:\n",
    "            text = \"Ist deine Zahl kleiner als \" + str(mitte) + \" ? (j/n)\"\n",
    "            jn = input (text)\n",
    "            if jn == \"j\":\n",
    "                sucheInBereich (unten, mitte-1, anzahlVersuche+1)\n",
    "            else:\n",
    "                sucheInBereich (mitte+1, oben, anzahlVersuche+1)\n",
    "\n",
    "def ichRate ():\n",
    "    print (\"Denk dir eine Zahl zwischen 1 und 100 (jeweils einschließlich) aus.\")\n",
    "    sucheInBereich (1, 100, 0)\n",
    "    \n",
    "ichRate ()"
   ]
  },
  {
   "cell_type": "markdown",
   "metadata": {},
   "source": [
    "## Funktionen definieren"
   ]
  },
  {
   "cell_type": "markdown",
   "metadata": {},
   "source": [
    "Für häufig wiederkehrende Aktionen kann man sogenannte **Funktionen** definieren. Ein sehr einfaches Beispiel (und sicher auch nicht wirklich sinnvoll) gibt - wenn man sie benuzt - immer die Zahl 42 aus:"
   ]
  },
  {
   "cell_type": "code",
   "execution_count": null,
   "metadata": {},
   "outputs": [],
   "source": [
    "def antwortAufAlleFragen ():\n",
    "    print (42)"
   ]
  },
  {
   "cell_type": "markdown",
   "metadata": {},
   "source": [
    "Dazu benutzt man das Schlüsselwort `def`, gefolgt von dem Namen der Funktion und einem Klammerpaar. Der Doppelpunkt `:` leitet dann den Anweisungsblock (der **Rumpf**) ein.\n",
    "\n",
    "Dieser Rumpf wird eingerückt geschrieben."
   ]
  },
  {
   "cell_type": "markdown",
   "metadata": {},
   "source": [
    "Um eine definierte Funktion auszuführen, schreibt man den Namen hin. Das Klammerpaar ist dabei wichtig!"
   ]
  },
  {
   "cell_type": "code",
   "execution_count": null,
   "metadata": {},
   "outputs": [],
   "source": [
    "antwortAufAlleFragen ()"
   ]
  },
  {
   "cell_type": "markdown",
   "metadata": {},
   "source": [
    "> Der Name einer Funktion besteht aus Buchstaben (gross oder klein)  und Ziffern; nur das erste Zeichen darf **keine** Ziffer sein!"
   ]
  },
  {
   "cell_type": "markdown",
   "metadata": {},
   "source": [
    "## Funktionen mit Parametern"
   ]
  },
  {
   "cell_type": "markdown",
   "metadata": {},
   "source": [
    "![Collatz-Beispielgraph](collatz-graph.png \"collatz-graph\")"
   ]
  },
  {
   "cell_type": "markdown",
   "metadata": {},
   "source": [
    "Die folgende Funktion implementiert ein bekanntes mathematisches Rätsel, das sogenannte *Collatz-Problem*:\n",
    "\n",
    "Es geht dabei um Zahlenfolgen, die nach einem einfachen Bildungsgesetz konstruiert werden:\n",
    "\n",
    "Beginne mit irgendeiner natürlichen Zahl `n`. Ist `n` gerade, so nimm als nächstes `n/2`.\n",
    "Ansonsten nimm als nächste Zahl den Wert `3*n+1`. Diesen Vorgang wiederhole fortlaufend.\n",
    "\n",
    "Für die Startzahl `n=19` erhält man dann z.B. die Folge\n",
    "\n",
    "`19, 58, 29, 88, 44, 22, 11, 34, 17, 52, 26, 13, 40, 20, 10, 5, 16, 8, 4, 2, 1, 4, 2, 1, 4, 2, 1, `\n",
    "\n",
    "Die Folge mündet also in dem Zyklus 4, 2, 1. \n",
    "\n",
    "Die Collatz-Vermutung lautet nun:\n",
    "\n",
    "***Jede so konstruierte Zahlenfolge mündet in den Zyklus 4, 2, 1, egal, mit welcher natürlichen Startzahl \n",
    "man beginnt***."
   ]
  },
  {
   "cell_type": "markdown",
   "metadata": {},
   "source": [
    "Für die Startzahl 19 kann man jetzt folgenden Funktion implementieren:"
   ]
  },
  {
   "cell_type": "code",
   "execution_count": null,
   "metadata": {},
   "outputs": [],
   "source": [
    "def collatz_1 ():\n",
    "    n = 19\n",
    "    zahl = n\n",
    "    while zahl != 1:\n",
    "        if (zahl % 2 == 0):\n",
    "            zahl = zahl // 2\n",
    "        else:\n",
    "            zahl = zahl * 3 + 1\n",
    "        print (\"zahl = \" + str(zahl))"
   ]
  },
  {
   "cell_type": "code",
   "execution_count": null,
   "metadata": {},
   "outputs": [],
   "source": [
    "collatz_1()"
   ]
  },
  {
   "cell_type": "markdown",
   "metadata": {},
   "source": [
    "### Probiere andere Startwerte aus!"
   ]
  },
  {
   "cell_type": "markdown",
   "metadata": {},
   "source": [
    "Hast du eine Idee, wie man diese Aufgabe lösen kann?"
   ]
  },
  {
   "cell_type": "markdown",
   "metadata": {},
   "source": [
    "> ????"
   ]
  },
  {
   "cell_type": "markdown",
   "metadata": {},
   "source": [
    "Will man jetzt die Collatz-Folge mit einem anderen Wert starten lassen, kann man\n",
    "- in der Definition den Wert `19` ändern\n",
    "\n",
    "oder besser\n",
    "- in der Definition einen sog. ***formalen (Funktions-)Parameter*** angeben:"
   ]
  },
  {
   "cell_type": "code",
   "execution_count": null,
   "metadata": {},
   "outputs": [],
   "source": [
    "def collatz_2 (n):\n",
    "    zahl = n\n",
    "    while zahl != 1:\n",
    "        if (zahl % 2 == 0):\n",
    "            zahl = zahl // 2\n",
    "        else:\n",
    "            zahl = zahl * 3 + 1\n",
    "        print (\"zahl = \" + str(zahl))"
   ]
  },
  {
   "cell_type": "markdown",
   "metadata": {},
   "source": [
    "Um jetzt die Folge für den Startwert `19`zu erzeugen, ruft man die Funktion mit dem ***aktuellen (Funktions-)Parameter***, nämlich 19, auf. \n",
    "\n",
    "> Also muss man `collatz_2(19)` aufrufen: "
   ]
  },
  {
   "cell_type": "code",
   "execution_count": null,
   "metadata": {
    "scrolled": true
   },
   "outputs": [],
   "source": [
    "collatz_2(19)"
   ]
  },
  {
   "cell_type": "markdown",
   "metadata": {},
   "source": [
    "### Probiere auch hier andere Startwerte aus!"
   ]
  },
  {
   "cell_type": "code",
   "execution_count": null,
   "metadata": {},
   "outputs": [],
   "source": []
  },
  {
   "cell_type": "code",
   "execution_count": null,
   "metadata": {},
   "outputs": [],
   "source": []
  },
  {
   "cell_type": "markdown",
   "metadata": {},
   "source": [
    "## Funktionen mit Ergebnissen"
   ]
  },
  {
   "cell_type": "markdown",
   "metadata": {},
   "source": [
    "In diesem Zusammenhang ist es interessant zu erfahren, wie viele Folgenglieder erzeugt werden müssen, bis man endlich bei der `1` gelandet ist. Das können wir herausfinden, wenn in die Schleife ein Zähler eingebaut wird:"
   ]
  },
  {
   "cell_type": "code",
   "execution_count": null,
   "metadata": {},
   "outputs": [],
   "source": [
    "def collatz_3 (n):\n",
    "    zahl = n\n",
    "    anzahl = 0\n",
    "    while zahl != 1:\n",
    "        if (zahl % 2 == 0):\n",
    "            zahl = zahl // 2\n",
    "        else:\n",
    "            zahl = zahl * 3 + 1\n",
    "        anzahl = anzahl + 1\n",
    "        print (\"zahl = \" + str(zahl))\n",
    "    print (\"Anzahl = \" + str (anzahl))    "
   ]
  },
  {
   "cell_type": "code",
   "execution_count": null,
   "metadata": {
    "scrolled": true
   },
   "outputs": [],
   "source": [
    "collatz_3(19)"
   ]
  },
  {
   "cell_type": "markdown",
   "metadata": {},
   "source": [
    "Jetzt interessiert uns eigentlich nur noch diese Anzahl:"
   ]
  },
  {
   "cell_type": "code",
   "execution_count": null,
   "metadata": {},
   "outputs": [],
   "source": [
    "def collatz_4 (n):\n",
    "    zahl = n\n",
    "    anzahl = 0\n",
    "    while zahl != 1:\n",
    "        if (zahl % 2 == 0):\n",
    "            zahl = zahl // 2\n",
    "        else:\n",
    "            zahl = zahl * 3 + 1\n",
    "        anzahl = anzahl + 1\n",
    "    print (\"Anzahl = \" + str (anzahl))    "
   ]
  },
  {
   "cell_type": "code",
   "execution_count": null,
   "metadata": {},
   "outputs": [],
   "source": [
    "collatz_4(20)"
   ]
  },
  {
   "cell_type": "markdown",
   "metadata": {},
   "source": [
    "### Probieren Sie jetzt doch einmal aus, mit welcher Startzahl unter 100 die längste Folge erzeugt werden kann."
   ]
  },
  {
   "cell_type": "code",
   "execution_count": null,
   "metadata": {},
   "outputs": [],
   "source": []
  },
  {
   "cell_type": "markdown",
   "metadata": {},
   "source": [
    "Mathematiker definieren dazu jetzt:\n",
    "\n",
    "> **Die Collatz-Zahl `c(n)` einer Zahl `n` ist die Anzahl der Folgenglieder bis zum ersten Auftauchen der Zahl 1.**\n",
    "\n",
    "Dann ist also `c(19) = 20` und `c(20) = 7`\n",
    "\n",
    "Diese Definition kann man jetzt in eine Python-Definition umsetzen:"
   ]
  },
  {
   "cell_type": "code",
   "execution_count": null,
   "metadata": {},
   "outputs": [],
   "source": [
    "def collatz_5 (n):\n",
    "    zahl = n\n",
    "    anzahl = 0\n",
    "    while zahl != 1:\n",
    "        if (zahl % 2 == 0):\n",
    "            zahl = zahl // 2\n",
    "        else:\n",
    "            zahl = zahl * 3 + 1\n",
    "        anzahl = anzahl + 1\n",
    "    return anzahl"
   ]
  },
  {
   "cell_type": "code",
   "execution_count": null,
   "metadata": {},
   "outputs": [],
   "source": [
    "collatz_5(1000)"
   ]
  },
  {
   "cell_type": "markdown",
   "metadata": {},
   "source": [
    "Das hat einen enormen Vorteil: \n",
    "\n",
    "Denn jetzt kann man mit diesem Wert z.B. rechnen oder ihn beliebig anders nutzen, wohingegen dieser Wert in der Funktion `collatz_4` immer nur direkt ausgegeben wird!\n",
    "\n",
    "Damit können wir jetzt z.B. viele Collatz-Zahlen angeben lassen:"
   ]
  },
  {
   "cell_type": "code",
   "execution_count": null,
   "metadata": {},
   "outputs": [],
   "source": [
    "for i in range(1, 11):\n",
    "    print (\"Collatz-Zahl von \" + str(i) + \" = \" + str(collatz_5(i)))"
   ]
  },
  {
   "cell_type": "markdown",
   "metadata": {},
   "source": [
    "Jetzt suchen wir noch diejenige Startzahl `n` im Bereich [1, ... m], zu der die größe Collatz-Zahl `c(n)` gehört.\n",
    "\n",
    "Dazu dient jetzt die folgende Definition:"
   ]
  },
  {
   "cell_type": "code",
   "execution_count": null,
   "metadata": {},
   "outputs": [],
   "source": [
    "def maxCollatzLaenge (m):\n",
    "    maximum = 1\n",
    "    start = 1\n",
    "    for n in range (2,m+1):\n",
    "        laenge = collatz_5 (n)\n",
    "        if laenge > maximum:\n",
    "            maximum = laenge\n",
    "            start = n\n",
    "    print (\"Startwert \" + str (start) + \" hat maximale Länge von \" + str (maximum))        "
   ]
  },
  {
   "cell_type": "code",
   "execution_count": null,
   "metadata": {},
   "outputs": [],
   "source": [
    "maxCollatzLaenge (300)"
   ]
  },
  {
   "cell_type": "markdown",
   "metadata": {},
   "source": [
    "### Aufgabe: Man kann sich jetzt z.B. in einer Collatz-Folge für den höchsten Wert innerhalb der Folge interessieren"
   ]
  },
  {
   "cell_type": "markdown",
   "metadata": {},
   "source": [
    "Für die Startzahl `n=19` haben wir oben bereits die Folge erzeugt:\n",
    "\n",
    "`19, 58, 29, 88, 44, 22, 11, 34, 17, 52, 26, 13, 40, 20, 10, 5, 16, 8, 4, 2, 1, 4, 2, 1, 4, 2, 1, `\n",
    "\n",
    "Der höchste Wert innerhalb der Folge ist offenbar 88.\n",
    "\n",
    "1. Suche in anderen Folgen, also in Collatz-Folgen mit anderen Startwerten, nach dem höchsten Wert.\n",
    "2. Schreibe eine Python-Funktion, die zu einem Startwert `n` den in der zugehörigen Folge höchsten Wert verrät.\n",
    "3. Schreibe eine Python-Funktion, die unter allen Collatz-Folgen mit Startwerten zwischen 1 und 100 denjenigen Startwert ermittelt, der zu der höchsten Höhe führt."
   ]
  },
  {
   "cell_type": "code",
   "execution_count": null,
   "metadata": {},
   "outputs": [],
   "source": [
    "def maxCollatzHoehe (n):\n",
    "    zahl = n\n",
    "    hoehe = n\n",
    "    while zahl != 1:\n",
    "        if (zahl % 2 == 0):\n",
    "            zahl = zahl // 2\n",
    "        else:\n",
    "            zahl = zahl * 3 + 1\n",
    "        \n",
    "        if zahl > hoehe:\n",
    "            hoehe = zahl\n",
    "    return hoehe"
   ]
  },
  {
   "cell_type": "code",
   "execution_count": null,
   "metadata": {},
   "outputs": [],
   "source": [
    "maxCollatzHoehe(19)"
   ]
  },
  {
   "cell_type": "code",
   "execution_count": null,
   "metadata": {},
   "outputs": [],
   "source": [
    "def maxmaxCollatzHoehe (n):\n",
    "    bestStart = 0\n",
    "    bestHoehe = 0\n",
    "    for start in range (1, n+1):\n",
    "        hoehe = maxCollatzHoehe (start)\n",
    "        if hoehe > bestHoehe:\n",
    "            bestHoehe = hoehe\n",
    "            bestStart = start\n",
    "    print (\"Beste Hoehe\", str(bestHoehe), \"wird erreicht bei Startwert\", str(bestStart))        \n",
    "        "
   ]
  },
  {
   "cell_type": "code",
   "execution_count": null,
   "metadata": {},
   "outputs": [],
   "source": [
    "maxmaxCollatzHoehe(30)"
   ]
  },
  {
   "cell_type": "markdown",
   "metadata": {},
   "source": [
    "### Kürzer mit einer Funtion für den Nachfolger"
   ]
  },
  {
   "cell_type": "markdown",
   "metadata": {},
   "source": [
    "In allen oben definierten Collatz-Funktionen taucht immer wieder dieselbe Rechnung auf, nämlich die Berechnung des Nachfolgers.\n",
    "\n",
    "Das kann man zunächst ausgliedern:"
   ]
  },
  {
   "cell_type": "code",
   "execution_count": null,
   "metadata": {},
   "outputs": [],
   "source": [
    "def nachfolger(n):\n",
    "    if n%2 == 0:\n",
    "        return n // 2\n",
    "    else:\n",
    "        return (3*n+1)"
   ]
  },
  {
   "cell_type": "code",
   "execution_count": null,
   "metadata": {},
   "outputs": [],
   "source": [
    "nachfolger(20)"
   ]
  },
  {
   "cell_type": "markdown",
   "metadata": {},
   "source": [
    "Jetzt kann man die Collatz-Funktionen kürzer schreiben, wie z.B.:"
   ]
  },
  {
   "cell_type": "code",
   "execution_count": null,
   "metadata": {},
   "outputs": [],
   "source": [
    "def collatzNeu_1 (n):\n",
    "    zahl = n\n",
    "    while zahl != 1:\n",
    "        zahl = nachfolger (zahl)\n",
    "        print (zahl)"
   ]
  },
  {
   "cell_type": "code",
   "execution_count": null,
   "metadata": {},
   "outputs": [],
   "source": [
    "collatzNeu_1 (20)"
   ]
  },
  {
   "cell_type": "markdown",
   "metadata": {},
   "source": [
    "## Funktionen als Parameter"
   ]
  },
  {
   "cell_type": "markdown",
   "metadata": {},
   "source": [
    "Vielleicht möchten wir ganz andere Folgen erzeugen als diese seltsame Collatz-Folge. Im Allgemeinen ist eine Folge charakterisiert durch einen Startwert und eine Funktion, mit der man Nachfolger berechnet.\n",
    "\n",
    "Jede Collatz-Folge hatte ja in der Tat einen Startwert und eine Nachfolger-Funktion, die wir im vorigen Abschnitt definiert haben."
   ]
  },
  {
   "cell_type": "markdown",
   "metadata": {},
   "source": [
    "Ein anderes Beispiel findest du, wenn du bei einer Bank oder Sparkasse Jahreszinsen bekommst.\n",
    "\n",
    "Du zahlst einen bestimmten Betrag auf dein Konto und nach einem Jahr wirst du Zinsen erhalten, die dem Guthaben zugeschlagen werden. Im folgenden Jahr bekommst du wieder Zinsen, doch jetzt auf das neue Guthaben. Das geht dann immer so weiter."
   ]
  },
  {
   "cell_type": "markdown",
   "metadata": {},
   "source": [
    "Erläutere in diesem Zusammenhang die folgenden beiden Funktionen sowie den Funktionsaufruf:"
   ]
  },
  {
   "cell_type": "code",
   "execution_count": null,
   "metadata": {},
   "outputs": [],
   "source": [
    "def zinsen (guthaben, prozentangabe):\n",
    "    return guthaben * prozentangabe / 100"
   ]
  },
  {
   "cell_type": "code",
   "execution_count": null,
   "metadata": {},
   "outputs": [],
   "source": [
    "def guthabenschritt (guthaben, prozentangabe):\n",
    "    return guthaben + zinsen (guthaben, prozentangabe)"
   ]
  },
  {
   "cell_type": "code",
   "execution_count": null,
   "metadata": {},
   "outputs": [],
   "source": [
    "guthabenschritt (1000, 5)"
   ]
  },
  {
   "cell_type": "markdown",
   "metadata": {},
   "source": [
    "Damit kann man jetzt ermitteln, wie hoch nach einigen Jahren das Guthaben ist, wenn man einen gewissen Betrag zu Beginn eines Jahres auf ein Konto einzahlt, das pro Jahr mit einem bestimmten Zinssatz verzinst wird."
   ]
  },
  {
   "cell_type": "code",
   "execution_count": null,
   "metadata": {},
   "outputs": [],
   "source": [
    "def endguthaben (jahre, startguthaben, prozentangabe):\n",
    "    guthaben = startguthaben\n",
    "    for i in range (1, jahre+1):\n",
    "        guthaben = guthabenschritt (guthaben, prozentangabe)\n",
    "        print (\"Guthaben nach\", i, \"Jahren ist\", guthaben)"
   ]
  },
  {
   "cell_type": "code",
   "execution_count": null,
   "metadata": {},
   "outputs": [],
   "source": [
    "endguthaben (5, 1000, 1)"
   ]
  }
 ],
 "metadata": {
  "kernelspec": {
   "display_name": "Python 3",
   "language": "python",
   "name": "python3"
  },
  "language_info": {
   "codemirror_mode": {
    "name": "ipython",
    "version": 3
   },
   "file_extension": ".py",
   "mimetype": "text/x-python",
   "name": "python",
   "nbconvert_exporter": "python",
   "pygments_lexer": "ipython3",
   "version": "3.8.2"
  }
 },
 "nbformat": 4,
 "nbformat_minor": 4
}
