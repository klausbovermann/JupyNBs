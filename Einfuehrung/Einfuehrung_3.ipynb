{
 "cells": [
  {
   "cell_type": "markdown",
   "metadata": {},
   "source": [
    "# Python; einige Versuche mit der Turtle"
   ]
  },
  {
   "cell_type": "code",
   "execution_count": 1,
   "metadata": {},
   "outputs": [],
   "source": [
    "from turtle import *\n",
    "i = 0\n",
    "while (i < 5):\n",
    "    forward(10*i)\n",
    "    penup()\n",
    "    forward(5)\n",
    "    pendown()\n",
    "    i = i + 1\n",
    "mainloop()"
   ]
  },
  {
   "cell_type": "code",
   "execution_count": 1,
   "metadata": {},
   "outputs": [
    {
     "data": {
      "application/vnd.jupyter.widget-view+json": {
       "model_id": "b2a78c5253724b73bfa11127514e2544",
       "version_major": 2,
       "version_minor": 0
      },
      "text/plain": [
       "Turtle()"
      ]
     },
     "metadata": {},
     "output_type": "display_data"
    }
   ],
   "source": [
    "from ipyturtle import Turtle\n",
    "t = Turtle()\n",
    "t"
   ]
  },
  {
   "cell_type": "code",
   "execution_count": 2,
   "metadata": {},
   "outputs": [],
   "source": [
    "i=0\n",
    "while (i < 5):\n",
    "    t.forward(10*i)\n",
    "    t.penup()\n",
    "    t.forward(5)\n",
    "    t.pendown()\n",
    "    i = i + 1"
   ]
  },
  {
   "cell_type": "code",
   "execution_count": 4,
   "metadata": {},
   "outputs": [
    {
     "data": {
      "application/vnd.jupyter.widget-view+json": {
       "model_id": "de1d969508e041b1beca64144af24f52",
       "version_major": 2,
       "version_minor": 0
      },
      "text/plain": [
       "Turtle()"
      ]
     },
     "metadata": {},
     "output_type": "display_data"
    }
   ],
   "source": [
    "t2=Turtle(fixed=False, width=100, height=100)\n",
    "t2"
   ]
  },
  {
   "cell_type": "code",
   "execution_count": 5,
   "metadata": {},
   "outputs": [],
   "source": [
    "i = 0\n",
    "while (i < 5):\n",
    "    t2.forward(10*i)\n",
    "    t2.penup()\n",
    "    t2.forward(5)\n",
    "    t2.pendown()\n",
    "    i = i + 1"
   ]
  },
  {
   "cell_type": "code",
   "execution_count": 6,
   "metadata": {},
   "outputs": [
    {
     "data": {
      "application/vnd.jupyter.widget-view+json": {
       "model_id": "794c723c943f4394af4a9a75114ee1be",
       "version_major": 2,
       "version_minor": 0
      },
      "text/plain": [
       "Turtle()"
      ]
     },
     "metadata": {},
     "output_type": "display_data"
    }
   ],
   "source": [
    "t3=Turtle(fixed=False, width=800, height=600)\n",
    "t3"
   ]
  },
  {
   "cell_type": "code",
   "execution_count": 7,
   "metadata": {},
   "outputs": [],
   "source": [
    "i = 0\n",
    "while (i < 5):\n",
    "    t3.forward(10*i)\n",
    "    t3.penup()\n",
    "    t3.forward(5)\n",
    "    t3.pendown()\n",
    "    i = i + 1"
   ]
  },
  {
   "cell_type": "code",
   "execution_count": 3,
   "metadata": {},
   "outputs": [
    {
     "data": {
      "application/vnd.jupyter.widget-view+json": {
       "model_id": "7213c2b298094c28a9a9b27600ff6218",
       "version_major": 2,
       "version_minor": 0
      },
      "text/plain": [
       "Turtle()"
      ]
     },
     "metadata": {},
     "output_type": "display_data"
    }
   ],
   "source": [
    "t4 = Turtle(fixed=False, width=400, height=300)\n",
    "t4\n"
   ]
  },
  {
   "cell_type": "code",
   "execution_count": 4,
   "metadata": {},
   "outputs": [],
   "source": [
    "def sirp(size):\n",
    "    if size < 6:\n",
    "        return\n",
    "    for i in range(3):\n",
    "        sirp(size/2)\n",
    "        t4.forward(size)\n",
    "        t4.right(120)        \n",
    "t4.reset()\n",
    "sirp(81)        "
   ]
  },
  {
   "cell_type": "code",
   "execution_count": 10,
   "metadata": {},
   "outputs": [],
   "source": [
    "def squares (size):\n",
    "    if size < 10:\n",
    "        return\n",
    "    for i in range (4):\n",
    "        t4.forward (size)\n",
    "        t4.left (90)\n",
    "    squares (size*0.9)    \n",
    "t4.reset()\n",
    "squares (100)    "
   ]
  },
  {
   "cell_type": "code",
   "execution_count": null,
   "metadata": {},
   "outputs": [],
   "source": [
    "from random import *"
   ]
  },
  {
   "cell_type": "code",
   "execution_count": null,
   "metadata": {},
   "outputs": [],
   "source": [
    "from ipyturtle import Turtle\n",
    "f = Turtle(fixed=False, width=800, height=600)\n",
    "f"
   ]
  },
  {
   "cell_type": "code",
   "execution_count": null,
   "metadata": {},
   "outputs": [],
   "source": [
    "def farnR (len):\n",
    "    if len > 0.5:\n",
    "        f.forward (len * 0.8)\n",
    "        winkel1 = uniform(75, 85)\n",
    "        faktor1 = uniform(0.25, 0.3)\n",
    "        f.left (winkel1)\n",
    "        farnR (len * faktor1)\n",
    "        f.right (winkel1)\n",
    "        f.forward (len * 0.2)\n",
    "        winkel2 = uniform(75, 85)\n",
    "        faktor2 = uniform(0.25, 0.3)\n",
    "        f.right (winkel2)\n",
    "        farnR (len * faktor2)\n",
    "        f.left (winkel2)\n",
    "        winkel3 = uniform(-3.0, 6.0)\n",
    "        faktor3 = uniform(0.89, 0.9)\n",
    "        f.left(winkel3)\n",
    "        farnR(len * faktor3)\n",
    "        f.right(winkel3)\n",
    "        f.back(len)\n",
    "\n",
    "f.reset()\n",
    "farnR(90)"
   ]
  }
 ],
 "metadata": {
  "kernelspec": {
   "display_name": "Python 3",
   "language": "python",
   "name": "python3"
  },
  "language_info": {
   "codemirror_mode": {
    "name": "ipython",
    "version": 3
   },
   "file_extension": ".py",
   "mimetype": "text/x-python",
   "name": "python",
   "nbconvert_exporter": "python",
   "pygments_lexer": "ipython3",
   "version": "3.8.3"
  }
 },
 "nbformat": 4,
 "nbformat_minor": 4
}
