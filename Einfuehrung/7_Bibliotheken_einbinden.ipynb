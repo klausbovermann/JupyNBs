{
 "cells": [
  {
   "cell_type": "markdown",
   "id": "legal-discussion",
   "metadata": {},
   "source": [
    "# Einige wichtige Python-Bibliotheken für *DataScience*"
   ]
  },
  {
   "cell_type": "markdown",
   "id": "sonic-protection",
   "metadata": {},
   "source": [
    "<div style=\"background-color: Cornsilk; padding: 5px 20px 20px\">\n",
    "\n",
    "In diesem Notebook findest du einige Anmerkungen:\n",
    "\n",
    "- Was sind Bibliotheken?\n",
    "- Wie benutzt man Bibliotheken?\n",
    "- Beispiele wichtiger Bibliotheken für die weiteren Notebooks und kurze Beschreibungen\n",
    "    - Hier sind nur kurze Anmerkungen zu den Bibliotheks-Funktionen zu finden; doch zu allen hier benutzten Bibliotheken finden sich im Internet ausführlich Dokumentationen."
   ]
  },
  {
   "cell_type": "markdown",
   "id": "insured-berry",
   "metadata": {},
   "source": [
    "## Einführung"
   ]
  },
  {
   "cell_type": "markdown",
   "id": "hungry-circle",
   "metadata": {},
   "source": [
    "<div style=\"background-color: Cornsilk; padding: 5px 20px 20px\">\n",
    "\n",
    "Eine Programmierumgebung wie *Python* stellt neben den Basis-Datentypen und den Rechenoperationen (wie Addition, ganzzahlige Division etc.) eine Menge von Basis-Funktionen zur Verfügung. Man denke dabei z.B. an die `print`-Funktion, die jederzeit aufrufbar ist. Also:\n",
    "\n",
    "- **Die Python-Standardbibliothek liefert viele Funktionen für gängige Programmieraufgaben.**\n",
    "    \n",
    "Doch daneben gibt es viele weitere Bibliotheken, in denen Funktionen bereitgestellt werden, die in einem Python-Programm nutzbar sind, so dass man als Programmierer nicht immer wieder *das Rad neu erfinden* muss.\n",
    "    \n",
    "Viele solcher Bibliotheken (in Python auch ***Module*** genannt) sind frei zugänglich, zum großen Teil bereits bei der Installation von Python eingerichtet oder können nachgeladen werden. Daneben gibt es Module von Drittanbietern. \n",
    "    \n",
    "Ebenfalls besteht die Möglichkeit, eigene Module zu entwickeln, die Funktionalitäten beinhalten, die wir selber entwickelt haben und dann in verschiedenen Python-Programmen nutzen können.\n",
    "    \n",
    "    \n",
    "    \n"
   ]
  },
  {
   "cell_type": "markdown",
   "id": "handed-owner",
   "metadata": {},
   "source": [
    "## Eigene Bibliothek"
   ]
  },
  {
   "cell_type": "markdown",
   "id": "atomic-filing",
   "metadata": {},
   "source": [
    "<div style=\"background-color: Cornsilk; padding: 5px 20px 20px\">\n",
    "\n",
    "Stell dir vor, du benötigst immer wieder gewisse mathematisch-interessante Funktionen, und möchtest dir eine Sammlung solcher Funktionen anlegen, die du bei Bedarf nutzen kannst, ohne den Code immer wieder neu \n",
    "schreiben zu müssen (oder per *copy-paste* zu nutzen).\n",
    "    \n",
    "Dann solltest du eine Python-Datei, z.B. unter dem Namen `meineBib.py` erzeugen, in der die Funktionen definiert sind.\n",
    "    \n",
    "Ein Beipiel:"
   ]
  },
  {
   "cell_type": "markdown",
   "id": "christian-apple",
   "metadata": {},
   "source": [
    "![Datei](Bilder/meineBib.png \"eigene Bibliothek\")"
   ]
  },
  {
   "cell_type": "markdown",
   "id": "sunset-incentive",
   "metadata": {},
   "source": [
    "<div style=\"background-color: Cornsilk; padding: 5px 20px 20px\">\n",
    "\n",
    "Speichere diese Datei in deinem Arbeitsverzeichnis ab.\n",
    "    \n",
    "Jetzt kannst du auf die beiden dort definierten Funktionen zugreifen. Dazu kannst du wählen:\n",
    "- Alle Funktionen, die in diesem Modul definiert sind, werden zugänglich gemacht.\n",
    "    - Dann werden die Funktionen mit dem sog. *qualifizierten Namen* aufgerufen:\n",
    "       \n",
    "    ```\n",
    "        import meineBib\n",
    "        print (meineBib.fak (10))\n",
    "    ```\n",
    "    - Man kann dann den Bibliotheksnamen ggf. abkürzen:\n",
    "    \n",
    "    ```\n",
    "        import meineBib as mb\n",
    "        print (mb.fak (10))\n",
    "    ```\n",
    "    \n",
    "       \n",
    "- Nur einzelne Funktionen sind nutzbar.\n",
    "    - Dann importiert man nur die benötigte(n) Funktion(en) und kann sie *unqualifiziert* nutzen\n",
    "    \n",
    "    ```\n",
    "        from meineBib import fak\n",
    "        print (fak (10))\n",
    "    ```\n",
    "    - Jedoch kann man dann eine Funktion mit gleichem Namen aus einer anderen Bibliothek nicht gleichzeitig nutzen!    "
   ]
  },
  {
   "cell_type": "code",
   "execution_count": null,
   "id": "floating-excess",
   "metadata": {},
   "outputs": [],
   "source": [
    "import meineBib as mb\n",
    "print (mb.fak(10))"
   ]
  },
  {
   "cell_type": "code",
   "execution_count": null,
   "id": "seeing-lincoln",
   "metadata": {},
   "outputs": [],
   "source": [
    "from meineBib import fak\n",
    "print (fak (10))"
   ]
  },
  {
   "cell_type": "markdown",
   "id": "presidential-tissue",
   "metadata": {},
   "source": [
    "<div style=\"background-color: Cornsilk; padding: 5px 20px 20px\">\n",
    "\n",
    "Möchte man alle Funktionen einer Bibliothek unqualifiziert importieren:\n",
    "    \n",
    "```\n",
    "from meineBib import *\n",
    "print (kehrwert (10))\n",
    "```\n"
   ]
  },
  {
   "cell_type": "code",
   "execution_count": null,
   "id": "significant-office",
   "metadata": {},
   "outputs": [],
   "source": [
    "from meineBib import *\n",
    "print (kehrwert (10))"
   ]
  },
  {
   "cell_type": "markdown",
   "id": "cardiovascular-sweden",
   "metadata": {},
   "source": [
    "<div style=\"background-color: Cornsilk; padding: 5px 20px 20px\">\n",
    "\n",
    "***Hinweis: Wo sucht das Python-System die importierten Module?***\n",
    "    \n",
    "Es gibt eine Reihenfolge vorgegeben, nach der verfahren wird, wenn ein Modul importiert werden soll:\n",
    "\n",
    "1. Zunächst wird der lokale Programmordner durchsucht. Wenn ein solches lokales Modul existiert, wird dieses eingebunden und keine weitere Suche durchgeführt.\n",
    "    - Also kann man ein eigenes Modul erstellen, das einen Namen hat, wie ein ggf. intern vorhandenes gleichnamiges Modul.\n",
    "2. Wenn kein lokales Modul mit dem angegebenen Namen gefunden wurde, wird ein global-vorhandenes Modul gesucht.\n",
    "3. Wenn auch das nicht gefunden wurde, wird ein ModuleNotFoundError erzeugt: "
   ]
  },
  {
   "cell_type": "markdown",
   "id": "single-waters",
   "metadata": {},
   "source": [
    "## Untermodule"
   ]
  },
  {
   "cell_type": "markdown",
   "id": "honey-philippines",
   "metadata": {},
   "source": [
    "<div style=\"background-color: Cornsilk; padding: 5px 20px 20px\">\n",
    "\n",
    "Man kann auch mehrere Python-Bibliotheken aus inhaltlichen Gründen in einem Unterverzeichnis zusammenfassen. Schau dir dazu die folgenden Zeilen sowie die Bibliotheken dazu an:"
   ]
  },
  {
   "cell_type": "code",
   "execution_count": 4,
   "id": "naughty-cleaner",
   "metadata": {},
   "outputs": [
    {
     "data": {
      "text/plain": [
       "3628800"
      ]
     },
     "execution_count": 4,
     "metadata": {},
     "output_type": "execute_result"
    }
   ],
   "source": [
    "import myFunctions.meineBib1 as mb1\n",
    "\n",
    "mb.fak (10)"
   ]
  },
  {
   "cell_type": "code",
   "execution_count": 10,
   "id": "radio-keeping",
   "metadata": {},
   "outputs": [
    {
     "data": {
      "text/plain": [
       "0.3333333333333333"
      ]
     },
     "execution_count": 10,
     "metadata": {},
     "output_type": "execute_result"
    }
   ],
   "source": [
    "import myFunctions as mf\n",
    "mf.meineBib1.kehrwert (3)"
   ]
  },
  {
   "cell_type": "code",
   "execution_count": 11,
   "id": "fallen-breathing",
   "metadata": {},
   "outputs": [
    {
     "name": "stdout",
     "output_type": "stream",
     "text": [
      "Hallo Erna\n"
     ]
    }
   ],
   "source": [
    "mf.meineBib2.gruss(\"Erna\")"
   ]
  },
  {
   "cell_type": "markdown",
   "id": "institutional-chamber",
   "metadata": {},
   "source": [
    "## Fremde Bibliotheken"
   ]
  },
  {
   "cell_type": "markdown",
   "id": "ideal-leonard",
   "metadata": {},
   "source": [
    "<div style=\"background-color: Cornsilk; padding: 5px 20px 20px\">\n",
    "\n",
    "Sehr oft benutzt man Module, die aus anderen Quellen stammen. \n",
    "\n",
    "Wenn man die Anaconda-Installation benutzt, kann man auf eine Vielzahl solcher Module zurückgreifen. \n",
    "Eine Übersicht über\n",
    "    \n",
    "- bereits installierte\n",
    "- mögliche weitere installierbare\n",
    "\n",
    "Module kann man über die Anaconda-Oberfläche bekommen. \n",
    "    \n",
    "Dort kann man dann\n",
    "    \n",
    "- neue Module installieren\n",
    "- neue Versionen von bereits installierten Modulen laden\n",
    "- Module entfernen"
   ]
  },
  {
   "cell_type": "markdown",
   "id": "vertical-freight",
   "metadata": {},
   "source": [
    "![Anaconda-Environment](Bilder/anaconda.png \"Anaconda-Environment\")"
   ]
  },
  {
   "cell_type": "markdown",
   "id": "endangered-projection",
   "metadata": {},
   "source": [
    "<div style=\"background-color: Cornsilk; padding: 5px 20px 20px\">\n",
    "\n",
    "Die Syntax für den Import eines solchen Moduls ist identisch zu dem Import eigener Bibliotheken."
   ]
  },
  {
   "cell_type": "markdown",
   "id": "expanded-amber",
   "metadata": {},
   "source": [
    "<div style=\"background-color: Cornsilk; padding: 5px 20px 20px\">\n",
    "\n",
    "***Hinweis:***\n",
    "    \n",
    "Man sollte regelmäßig die Versionen der benutzten Module überprüfen.\n",
    "    \n",
    "Alle externen, über Anaconda importierten Module haben eine Versionsnummer, die man in der Anaconda-Oberfläche erkennen kann. Es gibt auch die Möglichkeit, per Python-Anweisung diese Versionsnummer zu erfragen.\n",
    "    \n",
    "Am Beispiel der Bibliothek `numpy` (ein wichtige Bibliothek, die wir im folgenden Abschnitt genauer kennen lernen):"
   ]
  },
  {
   "cell_type": "code",
   "execution_count": null,
   "id": "rational-jesus",
   "metadata": {},
   "outputs": [],
   "source": [
    "import numpy\n",
    "numpy.__version__"
   ]
  },
  {
   "cell_type": "markdown",
   "id": "rough-practice",
   "metadata": {},
   "source": [
    "## Die Bibliothek *numpy*"
   ]
  },
  {
   "cell_type": "markdown",
   "id": "dying-agency",
   "metadata": {},
   "source": [
    "<div style=\"background-color: Cornsilk; padding: 5px 20px 20px\">\n",
    "\n",
    "Dieses Modul stellt Funktionen für die numerische Analyse von Daten zur Verfügung. \n",
    "    \n",
    "Insbesondere ermöglicht es den einfachen Umgang mit Arrays (Listen) und Matrizen. Es beinhaltet viele effizient implementierte Funktionen für numerische Berechnungen.\n",
    "    \n",
    "Der zentrale Datentyp in numpy ist `ndarray` (Abk. für *n-dimensionales Array*)\n",
    "    \n",
    "An einem einfachen Beispiel soll die Benutzung demonstriert werden."
   ]
  },
  {
   "cell_type": "markdown",
   "id": "hidden-slave",
   "metadata": {},
   "source": [
    "<div style=\"background-color: Cornsilk; padding: 5px 20px 20px\">\n",
    "\n",
    "Der Wechselkurs Euro --> Dollar ist zur Zeit 1:1.21. Wir wollen eine Tabelle anlegen, aus der man für einige Euro-Beträge den zugehörigen Wert in Dollar ablesen kann."
   ]
  },
  {
   "cell_type": "code",
   "execution_count": 20,
   "id": "unable-howard",
   "metadata": {
    "scrolled": true
   },
   "outputs": [
    {
     "data": {
      "text/plain": [
       "array([100, 200, 300, 400, 500, 600, 700, 800, 900])"
      ]
     },
     "execution_count": 20,
     "metadata": {},
     "output_type": "execute_result"
    }
   ],
   "source": [
    "import numpy as np\n",
    "\n",
    "factor = 1.21\n",
    "\n",
    "# es werden 10 Werte erzeugt im Intervall [100 ... 1000]; die Schritteweite wird automatisch berechnet\n",
    "#euros = np.linspace (start=100, stop = 1000, num = 10) \n",
    "\n",
    "# alternativ:\n",
    "# es werden Werte erzeugt im Intervall [100 ... 1000] mit Schrittweite 100\n",
    "\n",
    "euros = np.arange(100, 1000, 100)\n",
    "\n",
    "euros"
   ]
  },
  {
   "cell_type": "markdown",
   "id": "small-montgomery",
   "metadata": {},
   "source": [
    "<div style=\"background-color: Cornsilk; padding: 5px 20px 20px\">\n",
    "\n",
    "Die Rechenoperationen `+`, `-`, `*` sowie viele mathematische Funktionen wie die Betragsfunktion `abs()`, die Wurzelfunktion `sqrt()` oder trigonometrische Funktionen wie `sin()`, `cos()` und `tan()`, können auf Numpy-Arrays angewendet werden. Dabei wird die Funktion auf jedes einzelne Element des Arrays angewendet. Als Ergebnis wird dann ein Array mit den entsprechenden Funktionswerten zurückgegeben."
   ]
  },
  {
   "cell_type": "code",
   "execution_count": 21,
   "id": "urban-cathedral",
   "metadata": {},
   "outputs": [
    {
     "name": "stdout",
     "output_type": "stream",
     "text": [
      "[[ 100.  121.]\n",
      " [ 200.  242.]\n",
      " [ 300.  363.]\n",
      " [ 400.  484.]\n",
      " [ 500.  605.]\n",
      " [ 600.  726.]\n",
      " [ 700.  847.]\n",
      " [ 800.  968.]\n",
      " [ 900. 1089.]]\n"
     ]
    }
   ],
   "source": [
    "dollars = factor * euros # für unser Beispiel sinnvoll:\n",
    "\n",
    "# erzeugt eine zwei-dimensionale Tabelle\n",
    "table = np.array ([euros, dollars]) \n",
    "\n",
    "# Zeilen und Spalten transponiert, um besser lesen zu können\n",
    "print (np.transpose (table))"
   ]
  },
  {
   "cell_type": "markdown",
   "id": "collaborative-scene",
   "metadata": {},
   "source": [
    "<div style=\"background-color: Cornsilk; padding: 5px 20px 20px\">\n",
    "\n",
    "Man kann mit Hilfe von numpy auch (Pseudo-)Zufallszahlen erzeugen. Das geschieht mit der Funktion `random()` aus dem Untermodul `random`. Diese Funktion erzeugt die im Parameter angegebene Anzahl von zufälligen float-Werten im halboffenen Intervall [0, 1)"
   ]
  },
  {
   "cell_type": "code",
   "execution_count": 22,
   "id": "first-harbor",
   "metadata": {},
   "outputs": [
    {
     "name": "stdout",
     "output_type": "stream",
     "text": [
      "[0.44901897 0.29350614 0.37489722 0.77569975 0.34075487 0.72833505\n",
      " 0.59000326 0.49466712 0.48726681 0.52533045]\n"
     ]
    }
   ],
   "source": [
    "import numpy as np\n",
    "zufListe = np.random.random(10)\n",
    "print (zufListe)"
   ]
  },
  {
   "cell_type": "markdown",
   "id": "naughty-institute",
   "metadata": {},
   "source": [
    "## Die Bibliothek *matplotlib* mit der Teilbibliothek *pyplot*"
   ]
  },
  {
   "cell_type": "markdown",
   "id": "fabulous-artwork",
   "metadata": {},
   "source": [
    "<div style=\"background-color: Cornsilk; padding: 5px 20px 20px\">\n",
    "\n",
    "Diese Bibliothek gestattet es, Digramme zu erzeugen. Das kann z.B. auf der Grundlage von den Python-Listen erfolgen:"
   ]
  },
  {
   "cell_type": "code",
   "execution_count": 49,
   "id": "entertaining-portuguese",
   "metadata": {},
   "outputs": [
    {
     "data": {
      "image/png": "[encoded data removed]",
      "text/plain": [
       "<Figure size 432x288 with 1 Axes>"
      ]
     },
     "metadata": {
      "needs_background": "light"
     },
     "output_type": "display_data"
    }
   ],
   "source": [
    "import matplotlib.pyplot as plt\n",
    "\n",
    "Y = [4, 7, 1, 9, 5, 2, 8]\n",
    "X = [1, 2, 3, 4, 5, 6, 7]\n",
    "plt.plot(X, Y,color='blue')\n",
    "#plt.scatter(X, Y, color='red')\n",
    "plt.plot (X, Y, 'ro')   # Alternativ\n",
    "# Abkürzungen der Symbole sind z.B. \n",
    "# \".\", o\", \"+\", \"x\" für die Punktsymbole sowie\n",
    "# \"r\", \"b\", \"m\", \"g\" für Farben\n",
    "plt.xlabel(\"X-Werte\")\n",
    "plt.ylabel(\"Y-Werte\")\n",
    "\n",
    "x1 = X[0]\n",
    "x2 = X[-1]\n",
    "y1 = Y[0]\n",
    "y2 = Y[-1]\n",
    "plt.plot((x1, x2), (y1, y2), 'r-.')\n",
    "# bei der Linienart kann man z.B. '-', '-.' oder '--' nutzen\n",
    "\n",
    "plt.show()\n"
   ]
  },
  {
   "cell_type": "markdown",
   "id": "abstract-punch",
   "metadata": {},
   "source": []
  },
  {
   "cell_type": "code",
   "execution_count": 17,
   "id": "modified-funeral",
   "metadata": {},
   "outputs": [
    {
     "data": {
      "text/plain": [
       "<function matplotlib.pyplot.show(close=None, block=None)>"
      ]
     },
     "execution_count": 17,
     "metadata": {},
     "output_type": "execute_result"
    },
    {
     "data": {
      "image/png": "[encoded data removed]",
      "text/plain": [
       "<Figure size 432x288 with 1 Axes>"
      ]
     },
     "metadata": {
      "needs_background": "light"
     },
     "output_type": "display_data"
    }
   ],
   "source": [
    "import matplotlib.pyplot as plt\n",
    "from numpy import sin, exp, linspace, arange, pi \n",
    "x=linspace(0.0, 2*pi, 1000)\n",
    "for a in arange(0.5,2, 0.5):    \n",
    "    y = a * sin(5*x)*exp(-x)    \n",
    "    plt.plot(x, y, label = \"Amplitude = \" + str(a)+ \"V\" )\n",
    "plt.grid(True)\n",
    "plt.xlim(-1.0, 6.0)\n",
    "plt.ylim(-1.5, 1.5)\n",
    "plt.xlabel(\"t/ms\")\n",
    "plt.ylabel(\"u/V\")\n",
    "plt.title (\"Gedämpfte Sin-Schwingung\")\n",
    "plt.legend() \n",
    "plt.show"
   ]
  },
  {
   "cell_type": "markdown",
   "id": "driving-latex",
   "metadata": {},
   "source": [
    "### Ein ausführlicheres Beispiel"
   ]
  },
  {
   "cell_type": "code",
   "execution_count": 25,
   "id": "social-bhutan",
   "metadata": {
    "scrolled": true
   },
   "outputs": [
    {
     "data": {
      "image/png": "[encoded data removed]",
      "text/plain": [
       "<Figure size 432x288 with 1 Axes>"
      ]
     },
     "metadata": {
      "needs_background": "light"
     },
     "output_type": "display_data"
    }
   ],
   "source": [
    "import numpy as np\n",
    "import matplotlib.pyplot as plt\n",
    "\n",
    "# Wertebereich für x-Achse festlegen:\n",
    "x = np.arange (-6,6,0.1)\n",
    "\n",
    "x2 = np.sin(x)\n",
    "x3 = np.cos(x)\n",
    "\n",
    "# Einzelne Diagramm-Linien plotten:\n",
    "#plt.plot(x, x, 'r--')\n",
    "plt.plot(x, x2,'b--')\n",
    "plt.plot(x, x3,'g-')\n",
    "\n",
    "# Diagramm-Gitter einblenden:\n",
    "plt.grid(True)\n",
    "\n",
    "# Diagramm ausgeben:\n",
    "plt.show()"
   ]
  },
  {
   "cell_type": "code",
   "execution_count": 26,
   "id": "expressed-player",
   "metadata": {
    "scrolled": true
   },
   "outputs": [
    {
     "data": {
      "image/png": "[encoded data removed]",
      "text/plain": [
       "<Figure size 432x288 with 1 Axes>"
      ]
     },
     "metadata": {
      "needs_background": "light"
     },
     "output_type": "display_data"
    }
   ],
   "source": [
    "import numpy as np\n",
    "import matplotlib.pyplot as plt\n",
    "\n",
    "# Werte-Listen für eine Sinus- und Cosinus-Funktion erstellen:\n",
    "x = np.linspace(-np.pi, np.pi, 500, endpoint=True)\n",
    "cos_x = np.cos(x)\n",
    "sin_x = np.sin(x)\n",
    "\n",
    "# Diagramm-Linien plotten:\n",
    "plt.plot(x, cos_x)\n",
    "plt.plot(x, sin_x)\n",
    "\n",
    "# Diagramm anzeigen:\n",
    "plt.show()"
   ]
  },
  {
   "cell_type": "code",
   "execution_count": null,
   "id": "patient-connecticut",
   "metadata": {},
   "outputs": [],
   "source": [
    "# Module importieren\n",
    "import numpy as np\n",
    "import matplotlib.pyplot as plt\n",
    "\n",
    "# Werte-Listen für eine Sinus- und Cosinus-Funktion erstellen:\n",
    "x = np.linspace(-np.pi, np.pi, 500, endpoint=True)\n",
    "cos_x = np.cos(x)\n",
    "sin_x = np.sin(x)\n",
    "\n",
    "# Eine neues Matplot-Figure-Objekt mit 8x6 Zoll und\n",
    "# einer Auflösung von 100 dpi erstellen:\n",
    "plt.figure(figsize=(8, 6), dpi=80)\n",
    "\n",
    "# In diese Abbildung ein 1x1 großes Diagramm-Gitter erstellen;\n",
    "# Als aktuelles Diagramm wird das erste dieses Gitters ausgewählt:\n",
    "plt.subplot(111)\n",
    "\n",
    "# Cosinus-Funktion mit blauer Farbe, durchgehender Linie und 1 Pixel\n",
    "# Linienbreite plotten:\n",
    "plt.plot(x, cos_x, color=\"blue\", linewidth=1.0, linestyle=\"-\")\n",
    "\n",
    "# Sinus-Funktion mit grüner Farbe, durchgehender Linie und 1 Pixel\n",
    "# Linienbreite plotten:\n",
    "plt.plot(x, sin_x, color=\"green\", linewidth=1.0, linestyle=\"-\")\n",
    "\n",
    "# Grenzen für die x-Achse festlegen:\n",
    "plt.xlim(-4.0, 4.0)\n",
    "\n",
    "# Grenzen für die y-Achse festlegen:\n",
    "plt.ylim(-1.0, 1.0)\n",
    "\n",
    "# \"Ticks\" (Bezugspunkte) für x-Achse festlegen:\n",
    "plt.xticks(np.linspace(-4, 4, 9,endpoint=True))\n",
    "\n",
    "# \"Ticks\" (Bezugspunkte) für y-Achse festlegen:\n",
    "plt.yticks(np.linspace(-1, 1, 5,endpoint=True))\n",
    "\n",
    "# Diagramm anzeigen:\n",
    "plt.show()"
   ]
  },
  {
   "cell_type": "code",
   "execution_count": null,
   "id": "standard-lighter",
   "metadata": {},
   "outputs": [],
   "source": [
    "# Größe des Plots anpassen:\n",
    "plt.figure(figsize=(10,6), dpi=80)\n",
    "# Farbe und Dicke der Diagrammlinien anpassen:\n",
    "# Plots mit einem Label versehen:\n",
    "plt.plot(x, cos_x, color=\"blue\", linewidth=2.5, linestyle=\"-\", label=r'$\\cos(x)$')\n",
    "plt.plot(x, sin_x, color=\"red\",  linewidth=2.5, linestyle=\"-\", label=r'$\\sin(x)$')\n",
    "# Wertebereiche der Achsen anpassen:\n",
    "plt.xlim(x.min()*1.1, x.max()*1.1)\n",
    "plt.ylim(cos_x.min()*1.1, cos_x.max()*1.1)\n",
    "# Auf der x-Achse fünf Bezugspunkte (als Vielfache von pi) festlegen\n",
    "# und mittels LaTeX-Symbolen beschriften:\n",
    "plt.xticks( [-np.pi, -np.pi/2, 0, np.pi/2, np.pi],\n",
    "            [ r'$-\\pi$', r'$-\\pi/2$', r'$0$', r'$+\\pi/2$', r'$+\\pi$']\n",
    "    )\n",
    "\n",
    "# Auch Ticks für die y-Achse anpassen:\n",
    "plt.yticks( [-1.0, -0.5, 0, 0.5, 1],\n",
    "            [ r'$-1$', r'$-1/2$', r'', r'$+1/2$', r'$+1$']\n",
    "    )\n",
    "\n",
    "# Das Achsen-Objekt des Diagramms in einer Variablen ablegen:\n",
    "ax = plt.gca()\n",
    "\n",
    "# Die obere und rechte Achse unsichtbar machen:\n",
    "ax.spines['right'].set_color('none')\n",
    "ax.spines['top'].set_color('none')\n",
    "\n",
    "# Die linke Diagrammachse auf den Bezugspunkt '0' der x-Achse legen:\n",
    "ax.spines['left'].set_position(('data',0))\n",
    "\n",
    "# Die untere Diagrammachse auf den Bezugspunkt '0' der y-Achse legen:\n",
    "ax.spines['bottom'].set_position(('data',0))\n",
    "\n",
    "# Ausrichtung der Achsen-Beschriftung festlegen:\n",
    "ax.xaxis.set_ticks_position('bottom')\n",
    "ax.yaxis.set_ticks_position('left')\n",
    "\n",
    "# Achse-Beschriftungen durch weiß-transparenten Hintergrund hervorheben:\n",
    "for label in ax.get_xticklabels() + ax.get_yticklabels():\n",
    "    label.set_fontsize(16)\n",
    "    label.set_bbox(dict(facecolor='white', edgecolor='None', alpha=0.65 ))\n",
    "    \n",
    "# Titel hinzufügen:\n",
    "plt.title('Sinus und Cosinus', fontsize=20, color='gray')\n",
    "\n",
    "# Legende einblenden:\n",
    "plt.legend(loc='upper left', frameon=True)\n",
    "\n",
    "\n",
    "plt.show ()"
   ]
  },
  {
   "cell_type": "markdown",
   "id": "approved-allowance",
   "metadata": {},
   "source": [
    "## Die Bibliothek *pandas*"
   ]
  },
  {
   "cell_type": "code",
   "execution_count": null,
   "id": "rubber-offer",
   "metadata": {},
   "outputs": [],
   "source": []
  },
  {
   "cell_type": "markdown",
   "id": "vanilla-browser",
   "metadata": {},
   "source": [
    "<div style=\"background-color: Cornsilk; padding: 5px 20px 20px\">\n",
    "\n",
    "In einer Datenerhebung werden viele Datenpaare gesammelt, die in einer ***csv***Datei z.B. unter dem Namen `abc.csv` in einem Unterordner `daten` des Arbeitsverzeichnisses abgelegt sind."
   ]
  },
  {
   "cell_type": "code",
   "execution_count": null,
   "id": "level-frontier",
   "metadata": {},
   "outputs": [],
   "source": [
    "import pandas as pd"
   ]
  },
  {
   "cell_type": "code",
   "execution_count": null,
   "id": "intense-parts",
   "metadata": {},
   "outputs": [],
   "source": [
    "df = pd.read_csv(\"daten/Auto.csv\",sep=\";\",decimal=\",\", index_col=[\"Hersteller\",\"Modell\"])\n",
    "df"
   ]
  },
  {
   "cell_type": "code",
   "execution_count": null,
   "id": "comparable-leadership",
   "metadata": {},
   "outputs": [],
   "source": [
    "df.sort_index()"
   ]
  },
  {
   "cell_type": "code",
   "execution_count": null,
   "id": "successful-campus",
   "metadata": {},
   "outputs": [],
   "source": [
    "df = pd.read_csv(\"daten/Auto.csv\",sep=\";\",decimal=\",\")\n",
    "df[[\"Hersteller\",\"Verbrauch\"]]"
   ]
  },
  {
   "cell_type": "code",
   "execution_count": null,
   "id": "focused-closure",
   "metadata": {},
   "outputs": [],
   "source": [
    "import matplotlib.pyplot as plt\n",
    "df[[\"Hersteller\",\"Verbrauch\"]].plot(x=\"Hersteller\")\n",
    "\n",
    "plt.show ()"
   ]
  },
  {
   "cell_type": "code",
   "execution_count": null,
   "id": "labeled-bradley",
   "metadata": {},
   "outputs": [],
   "source": []
  }
 ],
 "metadata": {
  "hide_input": false,
  "kernelspec": {
   "display_name": "Python 3",
   "language": "python",
   "name": "python3"
  },
  "language_info": {
   "codemirror_mode": {
    "name": "ipython",
    "version": 3
   },
   "file_extension": ".py",
   "mimetype": "text/x-python",
   "name": "python",
   "nbconvert_exporter": "python",
   "pygments_lexer": "ipython3",
   "version": "3.8.2"
  },
  "toc": {
   "base_numbering": 1,
   "nav_menu": {},
   "number_sections": true,
   "sideBar": true,
   "skip_h1_title": true,
   "title_cell": "Table of Contents",
   "title_sidebar": "Contents",
   "toc_cell": false,
   "toc_position": {
    "height": "calc(100% - 180px)",
    "left": "10px",
    "top": "150px",
    "width": "282px"
   },
   "toc_section_display": true,
   "toc_window_display": true
  }
 },
 "nbformat": 4,
 "nbformat_minor": 5
}
