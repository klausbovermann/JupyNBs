{
 "cells": [
  {
   "cell_type": "markdown",
   "metadata": {},
   "source": [
    "# Index der JupyterNotebooks"
   ]
  },
  {
   "cell_type": "markdown",
   "metadata": {},
   "source": [
    "## Einführung in Python"
   ]
  },
  {
   "cell_type": "markdown",
   "metadata": {},
   "source": [
    "- [Erste Schritte](Einfuehrung/1_Erste_Schritte.ipynb)\n",
    "    - Installation und erster Kontakt mit Python und Jupyter\n",
    "- [Umgang mit Basisdatentypen in Python](Einfuehrung/2_Python_Basics.ipynb)\n",
    "    - Die Datentypen `int`, `float`, `str`, `bool`\n",
    "    - Ein- und Ausgabe\n",
    "    - Zufall\n",
    "- [Fallunterscheidungen](Einfuehrung/3_Fallunterscheidungen.ipynb)\n",
    "    - zweisitig\n",
    "    - enseitig\n",
    "    - mehrseitig\n",
    "- [Wiederholungen](Einfuehrung/4_Wiederholungen.ipynb)\n",
    "    - Zählschleifen\n",
    "    - while-Schleifen\n",
    "- [Funktionen](Einfuehrung/5_Funktionen.ipynb)\n",
    "    - ohne parametrer\n",
    "    - mit Parameter(n)\n",
    "    - ohne Rückgabewerte\n",
    "    - mit Rückgabewerten\n",
    "- [rekursive Funktionen](Einfuehrung/6_Rekursion.ipynb)\n",
    "- [Bibliotheken](Einfuehrung/7_Bibliotheken_einbinden.ipynb)"
   ]
  },
  {
   "cell_type": "markdown",
   "metadata": {},
   "source": [
    "## MachineLearning"
   ]
  },
  {
   "cell_type": "markdown",
   "metadata": {
    "hide_input": false
   },
   "source": [
    "- [Überwachtes Lernen; Regressionsgerade ohne Bias](MyML/Regression/01_RegressionOhneBias.ipynb)\n",
    "- [Überwachtes Lernen; Regressionsgerade mit Bias](MyML/Regression/02_RegressionMitBias.ipynb)"
   ]
  },
  {
   "cell_type": "markdown",
   "metadata": {},
   "source": [
    "## Symbolische Mathematik; Plotten"
   ]
  },
  {
   "cell_type": "markdown",
   "metadata": {},
   "source": [
    "- [Symbolische Mathematik; Funktionen und Ableitungen; Graphen](MyMath/PlotFunctions.ipynb)"
   ]
  },
  {
   "cell_type": "markdown",
   "metadata": {},
   "source": [
    "## Kaefer und Raupen"
   ]
  },
  {
   "cell_type": "markdown",
   "metadata": {},
   "source": [
    "- [Entscheidungsbaeume](KaeferRaupen/00_KI_Unterrichtsreihe_Sek_1.ipynb)"
   ]
  }
 ],
 "metadata": {
  "hide_input": false,
  "kernelspec": {
   "display_name": "Python 3 (ipykernel)",
   "language": "python",
   "name": "python3"
  },
  "language_info": {
   "codemirror_mode": {
    "name": "ipython",
    "version": 3
   },
   "file_extension": ".py",
   "mimetype": "text/x-python",
   "name": "python",
   "nbconvert_exporter": "python",
   "pygments_lexer": "ipython3",
   "version": "3.8.2"
  },
  "toc": {
   "base_numbering": 1,
   "nav_menu": {},
   "number_sections": true,
   "sideBar": true,
   "skip_h1_title": true,
   "title_cell": "Table of Contents",
   "title_sidebar": "Contents",
   "toc_cell": false,
   "toc_position": {},
   "toc_section_display": true,
   "toc_window_display": true
  }
 },
 "nbformat": 4,
 "nbformat_minor": 4
}
