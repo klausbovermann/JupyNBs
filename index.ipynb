{
 "cells": [
  {
   "cell_type": "markdown",
   "metadata": {},
   "source": [
    "# Index der JupyterNotebooks"
   ]
  },
  {
   "cell_type": "markdown",
   "metadata": {},
   "source": [
    "## Einführung in Python"
   ]
  },
  {
   "cell_type": "markdown",
   "metadata": {},
   "source": [
    "1. [Erste Schritte](Einfuehrung/1_Erste_Schritte.ipynb)\n",
    "    - Installation und erster Kontakt mit Python und Jupyter\n",
    "2. [Umgang mit Basisdatentypen in Python](Einfuehrung/2_Python_Basics.ipynb)\n",
    "    - Die Datentypen `int`, `float`, `str`, `bool`\n",
    "    - Ein- und Ausgabe\n",
    "    - Zufall\n",
    "      - [Runden in Python](Einfuehrung/2_1_Runden.ipynb)\n",
    "3.[Fallunterscheidungen](Einfuehrung/3_Fallunterscheidungen.ipynb)\n",
    "    - zweisitig\n",
    "    - enseitig\n",
    "    - mehrseitig\n",
    "4. [Wiederholungen](Einfuehrung/4_Wiederholungen.ipynb)\n",
    "    - Zählschleifen\n",
    "    - while-Schleifen\n",
    "5. [Funktionen](Einfuehrung/5_Funktionen.ipynb)\n",
    "    - ohne parametrer\n",
    "    - mit Parameter(n)\n",
    "    - ohne Rückgabewerte\n",
    "    - mit Rückgabewerten\n",
    "6. [rekursive Funktionen](Einfuehrung/6_Rekursion.ipynb)\n",
    "7. [Bibliotheken](Einfuehrung/7_Bibliotheken_einbinden.ipynb)"
   ]
  },
  {
   "cell_type": "markdown",
   "metadata": {},
   "source": [
    "## Kaefer und Raupen"
   ]
  },
  {
   "cell_type": "markdown",
   "metadata": {},
   "source": [
    "- [Entscheidungsbaeume](KaeferRaupen/00_KI_Unterrichtsreihe_Sek_1.ipynb)"
   ]
  }
 ],
 "metadata": {
  "hide_input": false,
  "kernelspec": {
   "display_name": "Python 3 (ipykernel)",
   "language": "python",
   "name": "python3"
  },
  "language_info": {
   "codemirror_mode": {
    "name": "ipython",
    "version": 3
   },
   "file_extension": ".py",
   "mimetype": "text/x-python",
   "name": "python",
   "nbconvert_exporter": "python",
   "pygments_lexer": "ipython3",
   "version": "3.8.2"
  },
  "latex_envs": {
   "LaTeX_envs_menu_present": true,
   "autoclose": false,
   "autocomplete": true,
   "bibliofile": "biblio.bib",
   "cite_by": "apalike",
   "current_citInitial": 1,
   "eqLabelWithNumbers": true,
   "eqNumInitial": 1,
   "hotkeys": {
    "equation": "Ctrl-E",
    "itemize": "Ctrl-I"
   },
   "labels_anchors": false,
   "latex_user_defs": false,
   "report_style_numbering": false,
   "user_envs_cfg": false
  },
  "toc": {
   "base_numbering": 1,
   "nav_menu": {},
   "number_sections": true,
   "sideBar": true,
   "skip_h1_title": true,
   "title_cell": "Table of Contents",
   "title_sidebar": "Contents",
   "toc_cell": false,
   "toc_position": {},
   "toc_section_display": true,
   "toc_window_display": true
  },
  "varInspector": {
   "cols": {
    "lenName": 16,
    "lenType": 16,
    "lenVar": 40
   },
   "kernels_config": {
    "python": {
     "delete_cmd_postfix": "",
     "delete_cmd_prefix": "del ",
     "library": "var_list.py",
     "varRefreshCmd": "print(var_dic_list())"
    },
    "r": {
     "delete_cmd_postfix": ") ",
     "delete_cmd_prefix": "rm(",
     "library": "var_list.r",
     "varRefreshCmd": "cat(var_dic_list()) "
    }
   },
   "types_to_exclude": [
    "module",
    "function",
    "builtin_function_or_method",
    "instance",
    "_Feature"
   ],
   "window_display": false
  }
 },
 "nbformat": 4,
 "nbformat_minor": 4
}
