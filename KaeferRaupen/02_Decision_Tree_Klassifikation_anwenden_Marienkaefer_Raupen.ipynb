{
 "cells": [
  {
   "cell_type": "markdown",
   "metadata": {},
   "source": [
    "# Wie können wir mithilfe eines gegebenen Entscheidungsbaumes ein Insekt klassifizieren?\n"
   ]
  },
  {
   "cell_type": "markdown",
   "metadata": {},
   "source": [
    "Wir haben zwei **Klassen** von Insekten: \n",
    "- <CODE>Marienkäfer</CODE>\n",
    "- <CODE>Raupe</CODE>"
   ]
  },
  {
   "cell_type": "markdown",
   "metadata": {},
   "source": [
    "<td> \n",
    "    <img src=\"Bilder\\marienkaefer.jpg\" alt=\"Drawing\" style=\"width: 100px; float: left;\"  hspace=40 /> \n",
    "    <img src=\"Bilder\\raupe.jpg\" alt=\"Drawing\" style=\"width: 100px; float: left;\" hspace=40/>\n",
    "</td>"
   ]
  },
  {
   "cell_type": "markdown",
   "metadata": {},
   "source": [
    "# Daten einlesen mit Python"
   ]
  },
  {
   "cell_type": "code",
   "execution_count": null,
   "metadata": {},
   "outputs": [],
   "source": [
    "# Dieser Quelltext ist nicht prüfungsrelevant.\n",
    "\n",
    "# Bibliotheken importieren\n",
    "import pandas as pd\n",
    "from PyTree import ClassificationTree as ct\n",
    "from plotly.offline import iplot\n",
    "import plotly as py\n",
    "import cufflinks as cf\n",
    "cf.go_offline()"
   ]
  },
  {
   "cell_type": "code",
   "execution_count": null,
   "metadata": {},
   "outputs": [],
   "source": [
    "# Datensatz einlesen\n",
    "# Die Datei \"Käfer.csv\" ist eine Datei, in der Datensätze zeilenweise aufgeführt sind.\n",
    "# Jede Spalte ist durch ein Semikolon (\";\") getrennt.\n",
    "\n",
    "# df_käfer ist eine eigene Variable und steht für \"dataframe Käfer\"\n",
    "df_käfer = pd.read_csv('Käfer.csv', sep=';')\n",
    "\n",
    "# zeige den Datensatz \"df_käfer\" an\n",
    "display(df_käfer)"
   ]
  },
  {
   "cell_type": "markdown",
   "metadata": {},
   "source": [
    "# Entscheidungsbaum automatisch generieren und anzeigen"
   ]
  },
  {
   "cell_type": "markdown",
   "metadata": {},
   "source": [
    "Im Folgenden wird ein Baum erzeugt und dargestellt. Bitte führe die folgenden Code-Zellen aus."
   ]
  },
  {
   "cell_type": "code",
   "execution_count": null,
   "metadata": {},
   "outputs": [],
   "source": [
    "# Entscheidungsbaum initialisieren mit der Zielvariable (hier in Spalte \"Insekt\") und den Trainingsdaten \"df_käfer\"\n",
    "tree = ct.DecisionTree(target = 'Insekt', data = df_käfer)"
   ]
  },
  {
   "cell_type": "code",
   "execution_count": null,
   "metadata": {},
   "outputs": [],
   "source": [
    "# Entscheidungsbaum automatisiert erstellen \n",
    "tree.grow_tree()\n",
    "\n",
    "# Entscheidungsbaum ausgeben\n",
    "tree.print_tree()"
   ]
  },
  {
   "cell_type": "markdown",
   "metadata": {},
   "source": [
    "Im Datensatz <code>df_käfer</code> sind 100 Marienkäfer und 100 Raupen erfasst worden."
   ]
  },
  {
   "cell_type": "markdown",
   "metadata": {},
   "source": [
    "<div style=\"background-color: lightblue; padding: 5px 20px 20px\">\n",
    "\n",
    "\n",
    "## *Aufgabe: Beschreibe den dargestellten Baum.*"
   ]
  },
  {
   "cell_type": "markdown",
   "metadata": {},
   "source": [
    "<div style=\"background-color: lightblue; padding: 5px 20px 20px\">\n",
    "\n",
    "\n",
    "## *Aufgabe: Erläutere die Bedeutung der Rechtecke mit Rahmen.*\n",
    "    "
   ]
  },
  {
   "cell_type": "markdown",
   "metadata": {},
   "source": [
    "<div style=\"background-color: lightblue; padding: 5px 20px 20px\">\n",
    "\n",
    "\n",
    "## *Aufgabe: Erläutere die Bedeutung der gelb ausgefüllten Rechtecke.*"
   ]
  },
  {
   "cell_type": "markdown",
   "metadata": {},
   "source": [
    "<div style=\"background-color: lightblue; padding: 5px 20px 20px\">\n",
    "\n",
    "\n",
    "## *Aufgabe: Erläutere die Information an den Pfeilen.*\n",
    "    "
   ]
  },
  {
   "cell_type": "markdown",
   "metadata": {},
   "source": [
    "<div style=\"background-color: lightblue; padding: 5px 20px 20px\">\n",
    "\n",
    "\n",
    "## *Aufgabe: Erläutere, nach welchem Prinzip die Nummern (No _) für die Rechtecke vergeben werden.*"
   ]
  },
  {
   "cell_type": "markdown",
   "metadata": {},
   "source": [
    "<div style=\"background-color: lightblue; padding: 5px 20px 20px\">\n",
    "\n",
    "\n",
    "## *Aufgabe: Erläutere, welche Information in den eckigen Klammern (z. B. [100,15] oder [0,85]) dargestellt wird.*"
   ]
  },
  {
   "cell_type": "markdown",
   "metadata": {},
   "source": [
    "<div style=\"background-color: lightblue; padding: 5px 20px 20px\">\n",
    "\n",
    "\n",
    "## *Aufgabe: Erläutere, wie folgende Insekten mithilfe des Entscheidungsbaumes klassifiziert werden:*\n",
    "    \n",
    "    - Insekt x (Breite|Länge)\n",
    "    - Insekt a (0.6|0.4)\n",
    "    - Insekt b (0.2|0.8)\n",
    "    - Insekt c (0.8|0.4)\n",
    "    - Insekt d (0.5|0.6)"
   ]
  },
  {
   "cell_type": "markdown",
   "metadata": {},
   "source": [
    "# Vertiefung für die Schnellen"
   ]
  },
  {
   "cell_type": "markdown",
   "metadata": {},
   "source": [
    "<div style=\"background-color: lightblue; padding: 5px 20px 20px\">\n",
    "\n",
    "\n",
    "## *Vertiefungsaufgabe: Informiere Dich über die folgenden Fachbegriffe im Kontext von Bäumen:*\n",
    "    - Knoten\n",
    "    - Kante\n",
    "    - Blatt\n",
    "    - Wurzel"
   ]
  },
  {
   "cell_type": "markdown",
   "metadata": {},
   "source": [
    "<div style=\"background-color: lightblue; padding: 5px 20px 20px\">\n",
    "\n",
    "\n",
    "## *Vertiefungsaufgabe: Erläutere den dargestellten Entscheidungsbaum unter Verwendung der Fachbegriffe.*"
   ]
  }
 ],
 "metadata": {
  "celltoolbar": "Raw Cell Format",
  "hide_input": false,
  "kernelspec": {
   "display_name": "Python 3 (ipykernel)",
   "language": "python",
   "name": "python3"
  },
  "language_info": {
   "codemirror_mode": {
    "name": "ipython",
    "version": 3
   },
   "file_extension": ".py",
   "mimetype": "text/x-python",
   "name": "python",
   "nbconvert_exporter": "python",
   "pygments_lexer": "ipython3",
   "version": "3.8.2"
  },
  "toc": {
   "base_numbering": 1,
   "nav_menu": {},
   "number_sections": true,
   "sideBar": true,
   "skip_h1_title": false,
   "title_cell": "Table of Contents",
   "title_sidebar": "Contents",
   "toc_cell": false,
   "toc_position": {},
   "toc_section_display": true,
   "toc_window_display": true
  }
 },
 "nbformat": 4,
 "nbformat_minor": 2
}
