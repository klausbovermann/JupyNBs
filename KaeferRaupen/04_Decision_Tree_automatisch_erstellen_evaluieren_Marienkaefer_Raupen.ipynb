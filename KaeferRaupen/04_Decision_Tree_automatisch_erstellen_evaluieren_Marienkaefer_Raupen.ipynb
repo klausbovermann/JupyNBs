{
 "cells": [
  {
   "cell_type": "markdown",
   "metadata": {},
   "source": [
    "# Wie können wir einen Entscheidungsbaum \"automatisch\" entwickeln?\n"
   ]
  },
  {
   "cell_type": "markdown",
   "metadata": {},
   "source": [
    "Wir haben zwei **Klassen** von Insekten: \n",
    "- \"Marienkäfer\"\n",
    "- \"Raupe\" \n"
   ]
  },
  {
   "cell_type": "markdown",
   "metadata": {},
   "source": [
    "<td> \n",
    "    <img src=\"Bilder\\marienkaefer.jpg\" alt=\"Drawing\" style=\"width: 100px; float: left;\"  hspace=40 /> \n",
    "    <img src=\"Bilder\\raupe.jpg\" alt=\"Drawing\" style=\"width: 100px; float: left;\" hspace=40/>\n",
    "</td>"
   ]
  },
  {
   "cell_type": "code",
   "execution_count": null,
   "metadata": {},
   "outputs": [],
   "source": [
    "# Dieser Quelltext ist nicht prüfungsrelevant.\n",
    "\n",
    "# Bibliotheken importieren\n",
    "import pandas as pd\n",
    "from PyTree import ClassificationTree as ct\n",
    "from plotly.offline import iplot\n",
    "import plotly as py\n",
    "import cufflinks as cf\n",
    "cf.go_offline()"
   ]
  },
  {
   "cell_type": "markdown",
   "metadata": {},
   "source": [
    "## Trainingsdaten vs. Testdaten\n",
    "Das Modell wird nur mit den Trainingsdaten trainiert.\n",
    "\n",
    "Mit Testdaten wird die Qualität des Modells überprüft.\n",
    "Das erstellte Modell so möglichst gut die bisher unbekannten Testdaten klassifizieren."
   ]
  },
  {
   "cell_type": "code",
   "execution_count": null,
   "metadata": {},
   "outputs": [],
   "source": [
    "# Trainingsdaten einlesen -> \"data frame käfer trainingsdaten\"\n",
    "df_käfer_trainingsdaten = pd.read_csv('Käfer.csv', sep=';')\n",
    "\n",
    "# Testdaten einlesen -> \"data frame käfer testdaten\"\n",
    "df_käfer_testdaten = pd.read_csv('Käfer_Testdaten.csv', sep=';')\n",
    "\n",
    "\n",
    "# zeige den Anfang des Datensatzes \"df_käfer_trainingsdaten\" an\n",
    "print(\"Trainingsdaten\")\n",
    "display(df_käfer_trainingsdaten)\n",
    "\n",
    "# zeige den Anfang des Datensatzes \"df_käfer_testdaten\" an\n",
    "print(\"Testdaten\")\n",
    "display(df_käfer_testdaten)\n"
   ]
  },
  {
   "cell_type": "code",
   "execution_count": null,
   "metadata": {},
   "outputs": [],
   "source": [
    "# Entscheidungsbaum initialisieren mit Zielvariable (hier in Spalte \"Insekt\") und Trainingsdaten\n",
    "tree = ct.DecisionTree(target = 'Insekt', data = df_käfer_trainingsdaten)"
   ]
  },
  {
   "cell_type": "code",
   "execution_count": null,
   "metadata": {},
   "outputs": [],
   "source": [
    "#Entscheidungsbaum erstellen \n",
    "tree.grow_tree(df_käfer_trainingsdaten, 'Insekt')\n",
    "\n",
    "#Entscheidungsbaum ausgeben\n",
    "tree.print_tree()"
   ]
  },
  {
   "cell_type": "markdown",
   "metadata": {},
   "source": [
    "## Das trainierte Modell des Entscheidungsbaumes an Testdaten evaluieren\n",
    "Wir möchten ermitteln, wie \"gut\" unser Modell die Testdaten klassifiziert."
   ]
  },
  {
   "cell_type": "code",
   "execution_count": null,
   "metadata": {},
   "outputs": [],
   "source": [
    "# Rate korrekter Klassifikationen\n",
    "tree.prediction_accuracy(df_käfer_testdaten)"
   ]
  },
  {
   "cell_type": "code",
   "execution_count": null,
   "metadata": {},
   "outputs": [],
   "source": [
    "# Häufigkeitstabelle/ Confusion Matrix\n",
    "tree.prediction_accuracy(df_käfer_testdaten, detailed = True)"
   ]
  },
  {
   "cell_type": "markdown",
   "metadata": {},
   "source": [
    "<div style=\"background-color: lightblue; padding: 5px 20px 20px\">\n",
    "\n",
    "**Aufgabe 1**\n",
    "    \n",
    "1.1. *Erläutere in Form eines Lerntagebucheintrags die folgenden Begriffe und wofür sie eingesetzt werden:*\n",
    "  - Trainingsdaten\n",
    "  - Testdaten\n",
    "    \n",
    "1.2 *Erläutere die Bedeutung einer hohen und einer niedrigen Rate korrekter Klassifikationen.*"
   ]
  },
  {
   "cell_type": "markdown",
   "metadata": {},
   "source": [
    "---"
   ]
  },
  {
   "cell_type": "markdown",
   "metadata": {},
   "source": [
    "<div style=\"background-color: yellow; padding: 5px 20px 20px\">\n",
    "    \n",
    "### Bitte hier noch nicht weiterarbeiten"
   ]
  },
  {
   "cell_type": "code",
   "execution_count": null,
   "metadata": {},
   "outputs": [],
   "source": [
    "#Entscheidungsbaum automatisch erstellen \n",
    "tree.grow_tree(df_käfer_trainingsdaten, 'Insekt')\n",
    "\n",
    "#Entscheidungsbaum ausgeben\n",
    "tree.print_tree()"
   ]
  },
  {
   "cell_type": "code",
   "execution_count": null,
   "metadata": {},
   "outputs": [],
   "source": [
    "# Rate korrekter Klassifikationen\n",
    "tree.prediction_accuracy(df_käfer_testdaten)"
   ]
  },
  {
   "cell_type": "code",
   "execution_count": null,
   "metadata": {},
   "outputs": [],
   "source": [
    "# Häufigkeitstabelle/ Confusion Matrix\n",
    "tree.prediction_accuracy(df_käfer_testdaten, detailed = True)"
   ]
  }
 ],
 "metadata": {
  "celltoolbar": "Raw Cell Format",
  "hide_input": false,
  "kernelspec": {
   "display_name": "Python 3",
   "language": "python",
   "name": "python3"
  },
  "language_info": {
   "codemirror_mode": {
    "name": "ipython",
    "version": 3
   },
   "file_extension": ".py",
   "mimetype": "text/x-python",
   "name": "python",
   "nbconvert_exporter": "python",
   "pygments_lexer": "ipython3",
   "version": "3.8.2"
  },
  "toc": {
   "base_numbering": 1,
   "nav_menu": {},
   "number_sections": true,
   "sideBar": true,
   "skip_h1_title": false,
   "title_cell": "Table of Contents",
   "title_sidebar": "Contents",
   "toc_cell": false,
   "toc_position": {},
   "toc_section_display": true,
   "toc_window_display": true
  }
 },
 "nbformat": 4,
 "nbformat_minor": 2
}
