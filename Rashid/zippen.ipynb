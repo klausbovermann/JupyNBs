{
 "cells": [
  {
   "cell_type": "code",
   "execution_count": null,
   "id": "fd5fa77e",
   "metadata": {},
   "outputs": [],
   "source": [
    "from zipfile import ZipFile\n",
    "from shutil import unpack_archive as unpack"
   ]
  },
  {
   "cell_type": "markdown",
   "id": "d73d7417",
   "metadata": {},
   "source": [
    "## Spezialfunktion"
   ]
  },
  {
   "cell_type": "markdown",
   "id": "6f039b2c",
   "metadata": {},
   "source": [
    "- Es muss eine CSV-Datei mit dem Namen \"csv_name.zip\" im Verzeichnis \"dir_name\" geben!\n",
    "\n",
    "- Diese Datei ist gepackte CSV-Datei, die im Original den Namen \"csv_name\" hatte\n",
    "\n",
    "- Diese Datei wird dorthin entpackt unter dem Namen \"csv_name\"\n"
   ]
  },
  {
   "cell_type": "code",
   "execution_count": null,
   "id": "9458ca28",
   "metadata": {},
   "outputs": [],
   "source": [
    "def zip_entpacken (csv_name, dir_name):\n",
    "    filename = dir_name + \"/\" + csv_name + \".zip\"\n",
    "    unpack(filename, dir_name)\n",
    "    data_file = open (dir_name + \"/\" + csv_name, \"r\")\n",
    "    return data_file.readlines()"
   ]
  },
  {
   "cell_type": "markdown",
   "id": "b8f4de4b",
   "metadata": {},
   "source": [
    "## Beispiel"
   ]
  },
  {
   "cell_type": "code",
   "execution_count": null,
   "id": "e6d6c641",
   "metadata": {},
   "outputs": [],
   "source": [
    "training_data_list = zip_entpacken (\"mnist_train.csv\", \"mnist_dataset\")"
   ]
  },
  {
   "cell_type": "code",
   "execution_count": null,
   "id": "59cbd7d5",
   "metadata": {},
   "outputs": [],
   "source": []
  }
 ],
 "metadata": {
  "hide_input": false,
  "kernelspec": {
   "display_name": "Python 3 (ipykernel)",
   "language": "python",
   "name": "python3"
  },
  "language_info": {
   "codemirror_mode": {
    "name": "ipython",
    "version": 3
   },
   "file_extension": ".py",
   "mimetype": "text/x-python",
   "name": "python",
   "nbconvert_exporter": "python",
   "pygments_lexer": "ipython3",
   "version": "3.10.4"
  },
  "latex_envs": {
   "LaTeX_envs_menu_present": true,
   "autoclose": false,
   "autocomplete": true,
   "bibliofile": "biblio.bib",
   "cite_by": "apalike",
   "current_citInitial": 1,
   "eqLabelWithNumbers": true,
   "eqNumInitial": 1,
   "hotkeys": {
    "equation": "Ctrl-E",
    "itemize": "Ctrl-I"
   },
   "labels_anchors": false,
   "latex_user_defs": false,
   "report_style_numbering": false,
   "user_envs_cfg": false
  },
  "toc": {
   "base_numbering": 1,
   "nav_menu": {},
   "number_sections": true,
   "sideBar": true,
   "skip_h1_title": true,
   "title_cell": "Inhalt",
   "title_sidebar": "Inhalt",
   "toc_cell": false,
   "toc_position": {},
   "toc_section_display": true,
   "toc_window_display": true
  },
  "varInspector": {
   "cols": {
    "lenName": 16,
    "lenType": 16,
    "lenVar": 40
   },
   "kernels_config": {
    "python": {
     "delete_cmd_postfix": "",
     "delete_cmd_prefix": "del ",
     "library": "var_list.py",
     "varRefreshCmd": "print(var_dic_list())"
    },
    "r": {
     "delete_cmd_postfix": ") ",
     "delete_cmd_prefix": "rm(",
     "library": "var_list.r",
     "varRefreshCmd": "cat(var_dic_list()) "
    }
   },
   "types_to_exclude": [
    "module",
    "function",
    "builtin_function_or_method",
    "instance",
    "_Feature"
   ],
   "window_display": false
  }
 },
 "nbformat": 4,
 "nbformat_minor": 5
}
