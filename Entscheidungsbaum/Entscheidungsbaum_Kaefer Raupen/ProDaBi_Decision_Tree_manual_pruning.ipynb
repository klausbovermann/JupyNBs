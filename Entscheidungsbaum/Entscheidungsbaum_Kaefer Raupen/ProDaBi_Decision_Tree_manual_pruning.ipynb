{
 "cells": [
  {
   "cell_type": "markdown",
   "metadata": {
    "hide_input": true
   },
   "source": [
    "# Daten importieren"
   ]
  },
  {
   "cell_type": "code",
   "execution_count": 1,
   "metadata": {
    "hide_input": true
   },
   "outputs": [
    {
     "data": {
      "text/html": [
       "        <script type=\"text/javascript\">\n",
       "        window.PlotlyConfig = {MathJaxConfig: 'local'};\n",
       "        if (window.MathJax) {MathJax.Hub.Config({SVG: {font: \"STIX-Web\"}});}\n",
       "        if (typeof require !== 'undefined') {\n",
       "        require.undef(\"plotly\");\n",
       "        requirejs.config({\n",
       "            paths: {\n",
       "                'plotly': ['https://cdn.plot.ly/plotly-2.2.0.min']\n",
       "            }\n",
       "        });\n",
       "        require(['plotly'], function(Plotly) {\n",
       "            window._Plotly = Plotly;\n",
       "        });\n",
       "        }\n",
       "        </script>\n",
       "        "
      ]
     },
     "metadata": {},
     "output_type": "display_data"
    }
   ],
   "source": [
    "#from dectrees_interactive_tools import ClassificationTree as ct\n",
    "from PyTree import ClassificationTree as ct\n",
    "\n",
    "import pathlib\n",
    "import os\n",
    "path = str(pathlib.Path().absolute()) + \"/Daten/Training\" \n",
    "files = os.listdir(path)\n",
    "\n",
    "\n",
    "import pandas as pd\n",
    "import numpy as np\n",
    "\n",
    "from ipywidgets import interact, interactive, fixed, interact_manual, Layout, HBox\n",
    "import ipywidgets as widgets\n",
    "\n",
    "import plotly as py\n",
    "from plotly.offline import iplot\n",
    "import cufflinks as cf\n",
    "cf.go_offline()"
   ]
  },
  {
   "cell_type": "code",
   "execution_count": null,
   "metadata": {},
   "outputs": [],
   "source": []
  },
  {
   "cell_type": "code",
   "execution_count": 2,
   "metadata": {
    "code_folding": [],
    "hide_input": true,
    "scrolled": false
   },
   "outputs": [
    {
     "data": {
      "application/vnd.jupyter.widget-view+json": {
       "model_id": "5d3d5726c3344299acdcb3660f560708",
       "version_major": 2,
       "version_minor": 0
      },
      "text/plain": [
       "interactive(children=(Dropdown(description='Dateiname', options=('LebensmittelDaten.csv', 'jim_numerisch.csv',…"
      ]
     },
     "metadata": {},
     "output_type": "display_data"
    }
   ],
   "source": [
    "def read_csv(Dateiname):\n",
    "    df_train = pd.read_csv('Daten/Training/'+Dateiname, sep = ';')\n",
    "    df_test = pd.read_csv('Daten/Test/'+Dateiname, sep = ';')\n",
    "    print('Trainingsdaten')\n",
    "    display(df_train)\n",
    "    print('Testdaten')\n",
    "    display(df_test)\n",
    "    return df_train, df_test\n",
    "\n",
    "data_widget=interactive(read_csv, Dateiname = files)\n",
    "#data_widget.result = pd.DataFrame(columns=['Importiere Datensatz'])\n",
    "data_widget"
   ]
  },
  {
   "cell_type": "markdown",
   "metadata": {
    "hide_input": true
   },
   "source": [
    "# Entscheidungsbaum trainieren"
   ]
  },
  {
   "cell_type": "code",
   "execution_count": 3,
   "metadata": {
    "code_folding": [],
    "hide_input": true,
    "scrolled": false
   },
   "outputs": [
    {
     "data": {
      "application/vnd.jupyter.widget-view+json": {
       "model_id": "0b5226c96f5d45ffaa43fc085bbb85a5",
       "version_major": 2,
       "version_minor": 0
      },
      "text/plain": [
       "interactive(children=(Dropdown(description='Zielvariable', options=('Eiweiß', 'Energie', 'Fett', 'Kohlenhydrat…"
      ]
     },
     "metadata": {},
     "output_type": "display_data"
    }
   ],
   "source": [
    "def grow_tree(Zielvariable, Kriterium, Max_Tiefe):\n",
    "    \n",
    "    if Kriterium == 'Fehlklassifikationsrate':\n",
    "        Krit = 'misclassification_error'\n",
    "    else:\n",
    "        Krit = 'entropy'\n",
    "\n",
    "    tree = ct.DecisionTree(data = data_widget.result[0], # das sind die Trainingsdaten\n",
    "                           target = Zielvariable, \n",
    "                           crit = Krit)\n",
    "    \n",
    "    tree.grow_tree(max_depth = Max_Tiefe-1, crit = Krit)\n",
    "    tree.print_tree()\n",
    "    display(tree.tree_graph)\n",
    "\n",
    "    print('Rate der korrekten Klassifikationen: \\n')\n",
    "    print('Trainingsdaten',round((tree.prediction_accuracy(data_widget.result[0]))*100,1),'% \\n')\n",
    "    \n",
    "    print('Testdaten',round(tree.prediction_accuracy(data_widget.result[1])*100,1),'%') \n",
    "\n",
    "\n",
    "    return tree\n",
    "    \n",
    "tree_widget = interactive(grow_tree,{'manual': True, 'manual_name': 'Erstelle Tree'},\n",
    "                          Zielvariable = data_widget.result[0].columns.sort_values(),\n",
    "                          Kriterium=['Fehlklassifikationsrate','Entropie'],\n",
    "                          Max_Tiefe=(1,20,1) ) \n",
    "tree_widget\n"
   ]
  },
  {
   "cell_type": "markdown",
   "metadata": {
    "hide_input": true
   },
   "source": [
    "## Verlauf des Trainingsprozesses Visualisieren"
   ]
  },
  {
   "cell_type": "code",
   "execution_count": 4,
   "metadata": {
    "hide_input": true,
    "scrolled": false
   },
   "outputs": [
    {
     "data": {
      "application/vnd.jupyter.widget-view+json": {
       "model_id": "2c73a644b13e4625917859ad05b05cea",
       "version_major": 2,
       "version_minor": 0
      },
      "text/plain": [
       "interactive(children=(Dropdown(description='Kriterium', options=('Tiefe', 'Knoten'), value='Tiefe'), Button(de…"
      ]
     },
     "metadata": {},
     "output_type": "display_data"
    }
   ],
   "source": [
    "def analyse_training(Kriterium):\n",
    "    \n",
    "    if Kriterium == 'Tiefe':\n",
    "        tree_widget.result.evaluation_depth(data_widget.result[0],data_widget.result[1]).iplot(xTitle='Tiefe des Baums', yTitle='Rate korrekter Klassifikationen')\n",
    "    elif Kriterium == 'Knoten':\n",
    "        tree_widget.result.evaluation_node_count(data_widget.result[0],data_widget.result[1]).iplot(xTitle='Anzahl der Knoten', yTitle='Rate korrekter Klassifikationen')\n",
    "                        \n",
    "    \n",
    "analyse_tree_widget = interactive(analyse_training,{'manual': True, 'manual_name': 'Verlauf analysieren'},Kriterium=['Tiefe','Knoten'])\n",
    "analyse_tree_widget\n"
   ]
  },
  {
   "cell_type": "markdown",
   "metadata": {
    "hide_input": true
   },
   "source": [
    "## Entscheidungsbaum  manuell beschneiden (Pruning)"
   ]
  },
  {
   "cell_type": "code",
   "execution_count": 5,
   "metadata": {
    "hide_input": true,
    "scrolled": false
   },
   "outputs": [
    {
     "data": {
      "application/vnd.jupyter.widget-view+json": {
       "model_id": "8f085d8069fa4012be5bba09d243d21d",
       "version_major": 2,
       "version_minor": 0
      },
      "text/plain": [
       "interactive(children=(Text(value='14', description='Knoten_nr'), Checkbox(value=False, description='permanent'…"
      ]
     },
     "metadata": {},
     "output_type": "display_data"
    }
   ],
   "source": [
    "def prune_trial(Knoten_nr, permanent):\n",
    "    \n",
    "    if permanent:\n",
    "        tree_widget.result.prune_node(int(Knoten_nr))\n",
    "        tree_widget.result.print_tree()\n",
    "        display(tree_widget.result.tree_graph)\n",
    "        \n",
    "        print('Rate der korrekten Klassifizierungen: \\n')\n",
    "        print('Trainingsdaten',round((tree_widget.result.prediction_accuracy(data_widget.result[0]))*100,5),'% \\n')\n",
    "        print('Testdaten',round(tree_widget.result.prediction_accuracy(data_widget.result[1])*100,5),'%')      \n",
    "    else:\n",
    "        current_tree = tree_widget.result.copy()\n",
    "        current_tree.prune_node(int(Knoten_nr))\n",
    "        current_tree.print_tree()\n",
    "        display(current_tree.tree_graph)\n",
    "    \n",
    "        print('Rate der korrekten Klassifikationen: \\n')\n",
    "        print('Trainingsdaten',round((current_tree.prediction_accuracy(data_widget.result[0]))*100,5),'% \\n')\n",
    "        print('Testdaten',round(current_tree.prediction_accuracy(data_widget.result[1])*100,5),'%')      \n",
    "    \n",
    "    \n",
    "    return current_tree\n",
    "    \n",
    "prune_widget_trial = interactive(prune_trial,{'manual': True, 'manual_name': 'Knoten abschneiden'}, Knoten_nr = '14',  permanent = False)\n",
    "prune_widget_trial"
   ]
  },
  {
   "cell_type": "markdown",
   "metadata": {},
   "source": [
    "## Entscheidungsbaum Ausgeben"
   ]
  },
  {
   "cell_type": "code",
   "execution_count": 6,
   "metadata": {
    "hide_input": true
   },
   "outputs": [
    {
     "data": {
      "application/vnd.jupyter.widget-view+json": {
       "model_id": "f4a231ebe8fc4a6db0eea61474ce6b7f",
       "version_major": 2,
       "version_minor": 0
      },
      "text/plain": [
       "interactive(children=(Button(description='Tree ausgeben', style=ButtonStyle()), Output()), _dom_classes=('widg…"
      ]
     },
     "metadata": {},
     "output_type": "display_data"
    }
   ],
   "source": [
    "def output_tree():       \n",
    "    tree_widget.result.tree_graph.view()\n",
    "    \n",
    "output_tree_widget = interactive(output_tree,{'manual': True, 'manual_name': 'Tree ausgeben'})\n",
    "output_tree_widget\n"
   ]
  },
  {
   "cell_type": "code",
   "execution_count": null,
   "metadata": {},
   "outputs": [],
   "source": []
  },
  {
   "cell_type": "code",
   "execution_count": null,
   "metadata": {},
   "outputs": [],
   "source": []
  }
 ],
 "metadata": {
  "kernelspec": {
   "display_name": "Python 3 (ipykernel)",
   "language": "python",
   "name": "python3"
  },
  "language_info": {
   "codemirror_mode": {
    "name": "ipython",
    "version": 3
   },
   "file_extension": ".py",
   "mimetype": "text/x-python",
   "name": "python",
   "nbconvert_exporter": "python",
   "pygments_lexer": "ipython3",
   "version": "3.8.2"
  },
  "latex_envs": {
   "LaTeX_envs_menu_present": true,
   "autoclose": false,
   "autocomplete": true,
   "bibliofile": "biblio.bib",
   "cite_by": "apalike",
   "current_citInitial": 1,
   "eqLabelWithNumbers": true,
   "eqNumInitial": 1,
   "hotkeys": {
    "equation": "Ctrl-E",
    "itemize": "Ctrl-I"
   },
   "labels_anchors": false,
   "latex_user_defs": false,
   "report_style_numbering": false,
   "user_envs_cfg": false
  },
  "toc": {
   "base_numbering": 1,
   "nav_menu": {},
   "number_sections": true,
   "sideBar": true,
   "skip_h1_title": false,
   "title_cell": "Table of Contents",
   "title_sidebar": "Contents",
   "toc_cell": false,
   "toc_position": {
    "height": "calc(100% - 180px)",
    "left": "10px",
    "top": "150px",
    "width": "384px"
   },
   "toc_section_display": true,
   "toc_window_display": true
  },
  "varInspector": {
   "cols": {
    "lenName": 16,
    "lenType": 16,
    "lenVar": 40
   },
   "kernels_config": {
    "python": {
     "delete_cmd_postfix": "",
     "delete_cmd_prefix": "del ",
     "library": "var_list.py",
     "varRefreshCmd": "print(var_dic_list())"
    },
    "r": {
     "delete_cmd_postfix": ") ",
     "delete_cmd_prefix": "rm(",
     "library": "var_list.r",
     "varRefreshCmd": "cat(var_dic_list()) "
    }
   },
   "types_to_exclude": [
    "module",
    "function",
    "builtin_function_or_method",
    "instance",
    "_Feature"
   ],
   "window_display": false
  }
 },
 "nbformat": 4,
 "nbformat_minor": 2
}
