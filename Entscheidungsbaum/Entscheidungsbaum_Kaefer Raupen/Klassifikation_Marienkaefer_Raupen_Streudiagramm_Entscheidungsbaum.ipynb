{
 "cells": [
  {
   "cell_type": "markdown",
   "metadata": {},
   "source": [
    "# Wie können Marienkäfer von Raupen unterschieden werden?\n"
   ]
  },
  {
   "cell_type": "markdown",
   "metadata": {},
   "source": [
    "Wir haben zwei **Klassen** von Insekten: \n",
    "- <CODE>Marienkäfer</CODE>\n",
    "- <CODE>Raupe</CODE>"
   ]
  },
  {
   "cell_type": "markdown",
   "metadata": {},
   "source": [
    "<td> \n",
    "    <img src=\"Bilder\\marienkaefer.jpg\" alt=\"Drawing\" style=\"width: 300px; float: left;\"  hspace=40 /> \n",
    "    <img src=\"Bilder\\raupe.jpg\" alt=\"Drawing\" style=\"width: 300px; float: left;\" hspace=40/>\n",
    "</td>\n"
   ]
  },
  {
   "cell_type": "markdown",
   "metadata": {},
   "source": [
    "Die **Merkmale** die man zur Erkennung heranziehen könnte sind vielfältig. Man könnte z. B. Farben, Größe, Fortbewegungsgeschwindigket und vieles mehr anschauen. Da wir aber ein möglichst einfaches Beispiel betrachten wollen schauen wir uns nur folgende Eigenschaften der Insekten an:\n",
    "- \"Breite\"\n",
    "- \"Länge\""
   ]
  },
  {
   "cell_type": "markdown",
   "metadata": {},
   "source": [
    "## Welche **Breiten** und **Längen** sind typisch für Marienkäfer und Raupen?\n",
    "\n",
    "Beispielhaft können wir uns einmal die Maße eines Marienkäfers anschauen: "
   ]
  },
  {
   "cell_type": "markdown",
   "metadata": {},
   "source": [
    "<img src=\"Bilder/kaefer_messen.png\" alt=\"Käfer messen\" style=\"width: 300px; float: left;\" hspace=40/>"
   ]
  },
  {
   "cell_type": "markdown",
   "metadata": {},
   "source": [
    "Uns liegt ein Datensatz für 200 Marienkäfer und Raupen vor."
   ]
  },
  {
   "cell_type": "markdown",
   "metadata": {},
   "source": [
    "<div class=\"alert alert-block alert-warning\">\n",
    "    \n",
    "### *Aufgabe:*\n",
    "    \n",
    "Öffne die Datei [Käfer.csv](Daten/Kaefer.csv) in dem Unterordner Daten mit einem Texteditor und analysiere und beschreibe den Aufbau."
   ]
  },
  {
   "cell_type": "markdown",
   "metadata": {},
   "source": [
    "<div class=\"alert alert-block alert-info\">\n",
    "    \n",
    "**In Feldern, die diese Hintergrundfarbe haben, kannst du Lösungstexte zu den Aufgaben, Beobachtungen sowie deine eigenen Kommentare  eingeben:**\n",
    "\n",
    "*Klicke dazu doppelt auf diese Zelle, um sie zu öffnen, und schreibe deinen Text.*\n",
    "\n",
    "\n",
    "*Beende Deine Eingabe, indem du diese Zelle wie hier unterhalb beschrieben ausführst.*\n",
    "</div>"
   ]
  },
  {
   "cell_type": "markdown",
   "metadata": {},
   "source": [
    "<div class=\"alert alert-block alert-info\">\n",
    "    \n",
    "Hier bitte deine Analyse eingeben.\n",
    "    \n",
    "</div>"
   ]
  },
  {
   "cell_type": "markdown",
   "metadata": {},
   "source": [
    "<div class=\"alert alert-block alert-success\">\n",
    "    \n",
    "#### Tipps zum Umgang mit diesem Jupyter-Notebook\n",
    "Jede Zelle mit \"Code\" muss ausgeführt werden. Auch Zellen mit beschreibenden Texten können bearbeitet und anschließend ausgeführt (neu dargestellt) werden.\n",
    "    \n",
    "Dies kann man auf zwei Arten machen:\n",
    "- Klick auf den oberen **\"Run\"-Button**\n",
    "\n",
    "oder\n",
    "- Drücke gleichzeitig die Tasten **\"Strg\"** + **\"Enter\"**"
   ]
  },
  {
   "cell_type": "markdown",
   "metadata": {},
   "source": [
    "## Daten einlesen"
   ]
  },
  {
   "cell_type": "markdown",
   "metadata": {},
   "source": [
    "Die Daten aus der csv-Datei müssen in dieses System eingelesen werden, damit sie von Python-Befehlen bearbeitet werden können. "
   ]
  },
  {
   "cell_type": "markdown",
   "metadata": {},
   "source": [
    "<div style=\"background-color: yellow; padding: 5px 20px 20px\">\n",
    "    \n",
    "### Jetzt werden die Daten eingelesen.\n",
    "    \n",
    "**Führe dazu ersteinmal die folgende Zelle aus!**"
   ]
  },
  {
   "cell_type": "code",
   "execution_count": null,
   "metadata": {},
   "outputs": [],
   "source": [
    "# Bibliothek pandas importieren\n",
    "import pandas as pd\n",
    "\n",
    "# Textausgabe\n",
    "print(\"Gut gemacht!\")"
   ]
  },
  {
   "cell_type": "markdown",
   "metadata": {},
   "source": [
    "<div class=\"alert alert-block alert-success\">\n",
    "    \n",
    "**Hintergrundwissen:**\n",
    "`pandas` ist eine Programmbibliothek für die Programmiersprache Python, die Hilfsmittel für die Verwaltung von Daten und deren Analyse anbietet. Insbesondere enthält sie Datenstrukturen und Operatoren für den Zugriff auf numerische Tabellen und Zeitreihen. \n",
    "    \n",
    "**Und jetzt bitte die folgende Zelle ausführen!**"
   ]
  },
  {
   "cell_type": "code",
   "execution_count": null,
   "metadata": {},
   "outputs": [],
   "source": [
    "# Datensatz einlesen\n",
    "# Die Datei \"Käfer.csv\" ist eine Datei, in der Datensätze zeilenweise aufgeführt sind.\n",
    "# Jede Spalte ist durch ein Semikolon (\";\") getrennt.\n",
    "\n",
    "# df_käfer ist eine eigene Variable und steht für \"dataframe Käfer\"\n",
    "df_kaefer = pd.read_csv('Daten/Kaefer.csv', sep=';')\n",
    "\n",
    "# zeige den Datensatz \"df_käfer\" an\n",
    "display(df_kaefer)"
   ]
  },
  {
   "cell_type": "markdown",
   "metadata": {},
   "source": [
    "Wie Du erkennst, werden nicht alle Daten angezeigt."
   ]
  },
  {
   "cell_type": "markdown",
   "metadata": {},
   "source": [
    "### Wie kann ich den gesamten Datensatz ausgeben?"
   ]
  },
  {
   "cell_type": "code",
   "execution_count": null,
   "metadata": {
    "scrolled": true
   },
   "outputs": [],
   "source": [
    "# Einstellung zur Anzeige aller Zeilen\n",
    "pd.set_option('display.max_rows', None)\n",
    "# Einstellung zur Anzeige aller Spalten\n",
    "pd.set_option('display.max_columns', None)\n",
    "\n",
    "# Datensatz ausgeben\n",
    "display(df_kaefer)"
   ]
  },
  {
   "cell_type": "markdown",
   "metadata": {},
   "source": [
    "Vielleicht möchte man die Daten in einer anderen Reihenfolge ausgeben, z.B. sortiert nach der Art der Insekten:"
   ]
  },
  {
   "cell_type": "markdown",
   "metadata": {},
   "source": [
    "#### Wie kann ich den Datensatz sortieren?"
   ]
  },
  {
   "cell_type": "code",
   "execution_count": null,
   "metadata": {},
   "outputs": [],
   "source": [
    "# sortiere die Datensätze nach einer Spalte (aufsteigend) und zeige dann alle an\n",
    "sortInsekt = df_kaefer.sort_values(by='Insekt')\n",
    "display(sortInsekt)"
   ]
  },
  {
   "cell_type": "markdown",
   "metadata": {},
   "source": [
    "<div class=\"alert alert-block alert-warning\">\n",
    "    \n",
    "##### *Aufgabe:*\n",
    "    \n",
    "Sortiere die Datensätze nach der **Breite** und lasse Dir alle Datensätze ausgeben."
   ]
  },
  {
   "cell_type": "code",
   "execution_count": null,
   "metadata": {},
   "outputs": [],
   "source": [
    "# bitte füge Deine Lösung als Quelltext hier ein"
   ]
  },
  {
   "cell_type": "markdown",
   "metadata": {},
   "source": [
    "<div class=\"alert alert-block alert-warning\">\n",
    "    \n",
    "##### *Aufgabe:*\n",
    "    \n",
    "Sortiere die Datensätze nach der Länge und lasse Dir alle Datensätze ausgeben."
   ]
  },
  {
   "cell_type": "code",
   "execution_count": null,
   "metadata": {},
   "outputs": [],
   "source": [
    "# bitte füge Deine Lösung als Quelltext hier ein"
   ]
  },
  {
   "cell_type": "markdown",
   "metadata": {},
   "source": [
    "## Streudiagramm\n",
    "\n",
    "Im Folgenden ist ein sogenanntes **Streudiagramm** dargestellt."
   ]
  },
  {
   "cell_type": "markdown",
   "metadata": {},
   "source": [
    "<img src=\"Bilder/Beispieldiagramm_Marienkaefer_Raupe.png\" alt=\"Streudiagramm\" style=\"float: left;\">"
   ]
  },
  {
   "cell_type": "markdown",
   "metadata": {},
   "source": [
    "In diesem Diagramm sind die Informationen für zwei Insekten dargestellt."
   ]
  },
  {
   "cell_type": "markdown",
   "metadata": {},
   "source": [
    "<div class=\"alert alert-block alert-warning\">\n",
    "   \n",
    "#### *Aufgabe:*\n",
    "    \n",
    "Beschreibe, welche Informationen durch das Streudiagramm dargestellt werden.\n",
    "    "
   ]
  },
  {
   "cell_type": "markdown",
   "metadata": {},
   "source": [
    "<div class=\"alert alert-block alert-info\">\n",
    "    \n",
    "Hier bitte deine Beschreibung eingeben.\n",
    "    \n",
    "</div>"
   ]
  },
  {
   "cell_type": "markdown",
   "metadata": {},
   "source": [
    "<div class=\"alert alert-block alert-warning\">\n",
    "   \n",
    "#### *Aufgabe:* \n",
    "    \n",
    "Gib an, wie groß die im Streudiagramm dargestellten Insekten sind.\n",
    "    "
   ]
  },
  {
   "cell_type": "markdown",
   "metadata": {},
   "source": [
    "<div class=\"alert alert-block alert-info\">\n",
    "    \n",
    "Hier bitte deine Lösung eingeben.\n",
    "    \n",
    "</div>"
   ]
  },
  {
   "cell_type": "markdown",
   "metadata": {},
   "source": [
    "<div class=\"alert alert-block alert-warning\">\n",
    "   \n",
    "#### *Aufgabe:*\n",
    "\n",
    "Erstelle ein Streudiagramm auf Papier und trage die Daten von folgenden Marienkäfern und Raupen ein.\n",
    "    \n",
    "Zeilennr. | Breite | Länge | Insekt\n",
    "--------- | ------ | ------| ------\n",
    "0         | 0.48   | 0.38  | Marienkäfer\n",
    "1         | 0.32   | 0.74  | Raupe\n",
    "2         | 0.49   | 0.27  | Marienkäfer\n",
    "3         | 0.58   | 0.46  | Marienkäfer\n",
    "4         | 0.11   | 0.58  | Raupe"
   ]
  },
  {
   "cell_type": "markdown",
   "metadata": {},
   "source": [
    "<div class=\"alert alert-block alert-warning\">\n",
    "   \n",
    "#### *Aufgabe:*\n",
    "    \n",
    "Trage die Daten der folgenden vier Insekten zusätzlich in Dein Streudiagramm ein.\n",
    "    \n",
    "- Bestimme - auf Grundlage ihrer Größe (Breite|Länge) die Insektenklasse (Käfer oder Raupe).\n",
    "- Begründe Deine Entscheidung.\n",
    "\n",
    "Zeilennr. | Breite | Länge | Insekt?\n",
    "----------|--------|-------|------\n",
    "0         | 0.6    | 0.4   |\n",
    "1         | 0.2    | 0.8   |\n",
    "3         | 0.8    | 0.4   |\n",
    "4         | 0.5    | 0.6   |\n"
   ]
  },
  {
   "cell_type": "markdown",
   "metadata": {},
   "source": [
    "<div class=\"alert alert-block alert-info\">\n",
    "    \n",
    "Hier bitte deine Lösung eingeben.\n",
    "    \n",
    "</div>"
   ]
  },
  {
   "cell_type": "markdown",
   "metadata": {},
   "source": [
    "<div class=\"alert alert-block alert-warning\">\n",
    "   \n",
    "#### *Aufgabe:*\n",
    " \n",
    "Beurteile, wie zuverlässig Deine Vorhersage für die 4 Insekten ist.\n",
    "    "
   ]
  },
  {
   "cell_type": "markdown",
   "metadata": {},
   "source": [
    "<div class=\"alert alert-block alert-info\">\n",
    "    \n",
    "Hier bitte deinen Kommentar eingeben.\n",
    "    \n",
    "</div>"
   ]
  },
  {
   "cell_type": "markdown",
   "metadata": {},
   "source": [
    "## Streudiagramm erzeugen"
   ]
  },
  {
   "cell_type": "markdown",
   "metadata": {},
   "source": [
    "<div class=\"alert alert-block alert-warning\">\n",
    "\n",
    "**Bitte zunächst die folgende Code-Zelle ausführen.**"
   ]
  },
  {
   "cell_type": "code",
   "execution_count": null,
   "metadata": {},
   "outputs": [],
   "source": [
    "#Bibliotheken plotly und cufflinks zur Datenvisualisierung importieren\n",
    "import ipywidgets as widgets\n",
    "from plotly.offline import iplot\n",
    "import plotly.graph_objects as go\n",
    "import cufflinks as cf\n",
    "from ipywidgets import interactive\n",
    "from PyTree import ClassificationTree as ct\n",
    "\n",
    "cf.go_offline()"
   ]
  },
  {
   "cell_type": "markdown",
   "metadata": {},
   "source": [
    "Im Folgenden wird das Streudiagramm mit den Daten der 200 Insekten (100 Marienkäfer und 100 Raupen) dargestellt."
   ]
  },
  {
   "cell_type": "markdown",
   "metadata": {},
   "source": [
    "<div class=\"alert alert-block alert-success\">\n",
    "\n",
    "**Wenn du den Cursor auf einen Punkt in der Graphik bewegst, bekommst du Informationen angezeigt.**"
   ]
  },
  {
   "cell_type": "code",
   "execution_count": null,
   "metadata": {
    "scrolled": false
   },
   "outputs": [],
   "source": [
    "square_layout = go.Layout(xaxis={\n",
    "    'title': 'Breite',\n",
    "    'range': [-0.01, 1.01]\n",
    "},\n",
    "                          yaxis={\n",
    "                              'title': 'Länge',\n",
    "                              'range': [-0.01, 1.01]\n",
    "                          },\n",
    "                          height=800,\n",
    "                          width=800)\n",
    "df_kaefer.iplot('scatter',\n",
    "                mode='markers',\n",
    "                layout=square_layout,\n",
    "                x='Breite',\n",
    "                y='Länge',\n",
    "                categories='Insekt')"
   ]
  },
  {
   "cell_type": "markdown",
   "metadata": {},
   "source": [
    "<div class=\"alert alert-block alert-warning\">\n",
    "\n",
    "### *Aufgabe: Beschreibe, welche Informationen Du erkennen kannst.*"
   ]
  },
  {
   "cell_type": "markdown",
   "metadata": {},
   "source": [
    "<div class=\"alert alert-block alert-info\">\n",
    "    \n",
    "Hier bitte deine Beschreibung eingeben.\n",
    "    \n",
    "</div>"
   ]
  },
  {
   "cell_type": "markdown",
   "metadata": {},
   "source": [
    "## Schwellenwert in einem Streudiagramm"
   ]
  },
  {
   "cell_type": "markdown",
   "metadata": {},
   "source": [
    "Das obige Streudiagramm wird durch eine Kleinigkeit ergänzt. "
   ]
  },
  {
   "cell_type": "code",
   "execution_count": null,
   "metadata": {},
   "outputs": [],
   "source": [
    "df_kaefer.iplot('scatter',\n",
    "                mode='markers',\n",
    "                x='Breite',\n",
    "                y='Länge',\n",
    "                categories='Insekt',\n",
    "                hline=0.56,\n",
    "                xTitle=\"Käfer\",\n",
    "                yTitle=\"Raupen\",\n",
    "                dimensions=(600, 600))"
   ]
  },
  {
   "cell_type": "markdown",
   "metadata": {},
   "source": [
    "<div class=\"alert alert-block alert-warning\">\n",
    "\n",
    "### *Aufgabe:* \n",
    "    \n",
    "Beschreibe, welche Bedeutung die eingezeichnete waagerechte Linie hat.\n",
    "    \n",
    "- *Beachte, dass einige Marker genau auf der Linie liegen!*\n",
    "\n",
    "- Welche Maße haben diese Insekten?\n"
   ]
  },
  {
   "cell_type": "markdown",
   "metadata": {},
   "source": [
    "<div class=\"alert alert-block alert-info\">\n",
    "    \n",
    "Hier bitte deine Beschreibung eingeben.\n",
    "    \n",
    "</div>"
   ]
  },
  {
   "cell_type": "markdown",
   "metadata": {},
   "source": [
    "<div class=\"alert alert-block alert-warning\">\n",
    "\n",
    "### *Aufgabe:* \n",
    "   \n",
    "Nehmen wir jetzt einmal an, dass wir alle Insekten in zwei Klassen einteilen:\n",
    "    \n",
    "- Insekten, deren Marker oberhalb der eingezeichneten Linie liegt.\n",
    "    - Wir nennen sie *Raupe*.\n",
    "- Insekten, deren Marker auf der Linie oder unterhalb der Linie liegt.\n",
    "    - Wir nennen sie *Käfer*.\n",
    "    \n",
    "Finde heraus, wie viele Insekten dann falsch bezeichnet werden."
   ]
  },
  {
   "cell_type": "markdown",
   "metadata": {},
   "source": [
    "<div class=\"alert alert-block alert-info\">\n",
    "    \n",
    "Hier bitte deine Lösung eingeben.\n",
    "    \n",
    "</div>"
   ]
  },
  {
   "cell_type": "markdown",
   "metadata": {},
   "source": [
    "<div class=\"alert alert-block alert-success\">\n",
    "\n",
    "**Der** ***Schwellwert*** **ist der Wert eines Attributes, der die Daten in zwei Klassen aufteilt.**\n",
    "    \n",
    "In dem Beispiel gibt es zwei Arten von Insekten:\n",
    "- Insekten, deren Länge größer ist als der Schwellenwert 0.56\n",
    "- Insekten, deren Länge nicht größer ist als der Schwellenwert 0.56\n",
    "    \n",
    "Man erkennt, dass alle Insekten, deren Länge größer ist als 0.56, Raupen sind."
   ]
  },
  {
   "cell_type": "markdown",
   "metadata": {},
   "source": [
    "<div class=\"alert alert-block alert-warning\">\n",
    "\n",
    "### *Aufgabe:*\n",
    "\n",
    "Begründe, weshalb man keine Aussage über diejenigen Insekten machen kann, deren Länge nicht größer als 0.56 ist."
   ]
  },
  {
   "cell_type": "markdown",
   "metadata": {},
   "source": [
    "<div class=\"alert alert-block alert-info\">\n",
    "    \n",
    "Hier bitte deine Begründung eingeben.\n",
    "    \n",
    "</div>"
   ]
  },
  {
   "cell_type": "markdown",
   "metadata": {},
   "source": [
    "### Fehler bei der Wahl des Schwellenwertes"
   ]
  },
  {
   "cell_type": "markdown",
   "metadata": {},
   "source": [
    "<div class=\"alert alert-block alert-success\">\n",
    "    \n",
    "Mehrere Insekten sind Raupen, obwohl ihre Länge nicht größer als 0.56 ist. \n",
    "    \n",
    "Wenn wir also alle diese Insekten als Käfer klassifizieren würden, hätten wir einige Fehler gemacht. Du kannst ja einmal zählen, wie viele Fehler das sind.\n",
    "    \n",
    "Ein kleines Programm nimmt dir die Arbeit ab:"
   ]
  },
  {
   "cell_type": "code",
   "execution_count": null,
   "metadata": {},
   "outputs": [],
   "source": [
    "tree1 = ct.DecisionTree(target='Insekt', data=df_kaefer)\n",
    "tree1.manual_split(attribute=\"Länge\", threshold=0.56, node_nr=1)\n",
    "\n",
    "fehlersumme_raupe = tree1.get_target_distribution(node_nr=2)['Raupe']\n",
    "fehlersumme_kaefer = tree1.get_target_distribution(node_nr=3)['Marienkäfer']\n",
    "fehlersumme = fehlersumme_raupe + fehlersumme_kaefer\n",
    "\n",
    "print(\"Bei einem Schwellenwert von 0.56 werden\", fehlersumme,\n",
    "      \"Insekten fälschlicherweise als Käfer klassifiziert\")"
   ]
  },
  {
   "cell_type": "markdown",
   "metadata": {},
   "source": [
    "Jetzt kannst Du einmal versuchen, einen anderen Schwellenwert zu nutzen.\n",
    "\n",
    "\n"
   ]
  },
  {
   "cell_type": "code",
   "execution_count": null,
   "metadata": {},
   "outputs": [],
   "source": [
    "slider = widgets.FloatSlider(value=0.7,\n",
    "                             min=0.20,\n",
    "                             max=0.80,\n",
    "                             step=0.01,\n",
    "                             description=\"Schwellenwert\")\n",
    "\n",
    "\n",
    "def on_value_change(event):\n",
    "    output.clear_output()\n",
    "    with output:\n",
    "\n",
    "        tree2.manual_split(attribute=\"Länge\",\n",
    "                           threshold=event[\"new\"],\n",
    "                           node_nr=1)\n",
    "        fehlersumme_raupe = tree2.get_target_distribution(node_nr=2)['Raupe']\n",
    "        fehlersumme_kaefer = tree2.get_target_distribution(\n",
    "            node_nr=3)['Marienkäfer']\n",
    "        fehlersumme = fehlersumme_raupe + fehlersumme_kaefer\n",
    "\n",
    "        print(\"Schwellenwert =\", event[\"new\"])\n",
    "        print(\"Fehlersumme =\", fehlersumme)\n",
    "\n",
    "\n",
    "slider.observe(on_value_change, names=\"value\")\n",
    "\n",
    "output = widgets.Output()\n",
    "\n",
    "tree2 = ct.DecisionTree(target='Insekt', data=df_kaefer)\n",
    "\n",
    "display(slider, output)"
   ]
  },
  {
   "cell_type": "markdown",
   "metadata": {},
   "source": [
    "<div class=\"alert alert-block alert-warning\">\n",
    "\n",
    "### *Aufgabe:*\n",
    "\n",
    "Bei welchem Schwellenwert ist die Anzahl der Fehler am kleinsten?\n",
    "    \n",
    "- Trage in der folgenden Zelle deine Antwort hinter dem Gleichheitszeichen `=` ein.\n",
    "- Entferne das Kommentarzeichen `#` am Anfang der Zeile.\n",
    "- Führe die Zelle sowie die darunterliegende Zelle aus.\n",
    "    \n",
    "Dann erkennst du die (waagerechte) Aufteilung der 200 Insekten in zwei Klassen."
   ]
  },
  {
   "cell_type": "code",
   "execution_count": null,
   "metadata": {},
   "outputs": [],
   "source": [
    " besterSchwellenwert = 0.51"
   ]
  },
  {
   "cell_type": "code",
   "execution_count": null,
   "metadata": {},
   "outputs": [],
   "source": [
    "df_kaefer.iplot('scatter',\n",
    "                mode='markers',\n",
    "                x='Breite',\n",
    "                y='Länge',\n",
    "                categories='Insekt',\n",
    "                hline=besterSchwellenwert,\n",
    "                xTitle=\"Käfer\",\n",
    "                yTitle=\"Raupen\",\n",
    "                dimensions=(600, 600))"
   ]
  },
  {
   "cell_type": "markdown",
   "metadata": {},
   "source": [
    "<div class=\"alert alert-block alert-success\">\n",
    "    \n",
    "Du erkennst in diesem neuen Streudiagramm jetzt, dass - im Gegensatz zu dem vorigen Streudiagramm - oberhalb der  waagerechten Linie auch Symbole für Käfer auftauchen.\n",
    "    \n",
    "Das erscheint auf den ersten Blick seltsam! Denn bei einem Schwellenwert von 0.56 wurden **alle** Käfer richtig erkannt. Einige Raupen (nämlich 20), deren Länge nicht größer als 0.56 ist, wurden fälschlicherweise als Käfer klassifiziert.\n",
    "\n",
    "Benutzt man als Schwellenwert jetzt 0.51, werden sowohl einige Raupen als auch einige Käfer falsch klassifiziert. Insbesondere entstehen jetzt auch Fehler bei Käfern.\n",
    "    \n",
    "**Jedoch:**\n",
    "    \n",
    "- Wenn man als Schwellenwert 0.51 benutzt, ist die Anzahl der Fehler am geringsten.\n",
    "    \n",
    "Der **beste Schwellenwert** ist also derjenige Wert, bei dem insgesamt die wenigsten Fehler gemacht werden."
   ]
  },
  {
   "cell_type": "markdown",
   "metadata": {},
   "source": [
    "## Entscheidungsbaum"
   ]
  },
  {
   "cell_type": "markdown",
   "metadata": {},
   "source": [
    "<div class=\"alert alert-block alert-success\">\n",
    "\n",
    "Man kann also die 200 Insekten anhand der Länge in zwei Klassen einteilen:\n",
    "- Insekten, die länger als 0.51 sind. \n",
    "- Insekten, die nicht länger als 0.51 sind. \n",
    "    \n",
    "Dabei werden insgesamt 14 Insekten falsch klassifiziert.\n",
    "    \n",
    "Das kann man in dem folgenden Diagramm darstellen:"
   ]
  },
  {
   "cell_type": "code",
   "execution_count": null,
   "metadata": {},
   "outputs": [],
   "source": [
    "tree3 = ct.DecisionTree(target='Insekt', data=df_kaefer)\n",
    "tree3.manual_split(attribute=\"Länge\", threshold=0.51, node_nr=1)\n",
    "display(tree3.print_tree())"
   ]
  },
  {
   "cell_type": "markdown",
   "metadata": {},
   "source": [
    "<div class=\"alert alert-block alert-warning\">\n",
    "\n",
    "### *Aufgabe:*\n",
    "\n",
    "Beschreibe, welche Informationen hier erkennbar sind."
   ]
  },
  {
   "cell_type": "code",
   "execution_count": null,
   "metadata": {},
   "outputs": [],
   "source": []
  },
  {
   "cell_type": "code",
   "execution_count": null,
   "metadata": {},
   "outputs": [],
   "source": []
  },
  {
   "cell_type": "markdown",
   "metadata": {},
   "source": [
    "# Ab hier nur für mich zum Testen!!!"
   ]
  },
  {
   "cell_type": "code",
   "execution_count": null,
   "metadata": {
    "scrolled": false
   },
   "outputs": [],
   "source": [
    "#ein Output für die Widgets erstellen\n",
    "#output=widgets.Output()\n",
    "output = widgets.Output()\n",
    "\n",
    "\n",
    "def action(b):\n",
    "    output.clear_output()\n",
    "    schwellenwert = slider.value\n",
    "    tree1.manual_split(attribute=attr.value,\n",
    "                       threshold=schwellenwert,\n",
    "                       node_nr=1)\n",
    "\n",
    "    fehlersumme_raupe = tree1.get_target_distribution(node_nr=2)['Raupe']\n",
    "    fehlersumme_kaefer = tree1.get_target_distribution(\n",
    "        node_nr=3)['Marienkäfer']\n",
    "    fehlersumme = fehlersumme_raupe + fehlersumme_kaefer\n",
    "\n",
    "    with output:\n",
    "        print(\"Schwellenwert =\", schwellenwert)\n",
    "        print(\"Fehlersumme =\", fehlersumme)\n",
    "        display(tree1.print_tree())\n",
    "\n",
    "        df_kaefer.iplot(\n",
    "            'scatter',\n",
    "            mode='markers',  # layout = square_layout,\n",
    "            x='Breite',\n",
    "            y='Länge',\n",
    "            categories='Insekt',\n",
    "            hline=schwellenwert)\n",
    "\n",
    "\n",
    "attr = widgets.Dropdown(\n",
    "    options=['Länge', 'Breite'],\n",
    "    value='Länge',\n",
    "    description='Attribut:',\n",
    "    disabled=False,\n",
    ")\n",
    "\n",
    "#einen Slider für den Schwellenwert erstellen\n",
    "slider = widgets.FloatSlider(value=0.7,\n",
    "                             min=0.10,\n",
    "                             max=0.80,\n",
    "                             step=0.01,\n",
    "                             description=\"Schwellenwert\")\n",
    "\n",
    "button = widgets.Button(\n",
    "    description='Baum erstellen',\n",
    "    disabled=False,\n",
    "    button_style='success',  # 'success', 'info', 'warning', 'danger' or ''\n",
    "    tooltip='Enscheidungsbaum (neu) erstellen',\n",
    "    #icon='check' # (FontAwesome names without the `fa-` prefix)\n",
    ")\n",
    "\n",
    "# Entscheidungsbaum initialisieren mit Zielvariable (hier in Spalte \"Insekt\") und Trainingsdaten\n",
    "tree1 = ct.DecisionTree(target='Insekt', data=df_kaefer)\n",
    "\n",
    "button.on_click(action)\n",
    "\n",
    "#Ein quadratsiches Layout für plotly-Graphiken wird definiert\n",
    "square_layout = go.Layout(xaxis={\n",
    "    'title': 'Breite',\n",
    "    'range': [-0.01, 1.01]\n",
    "},\n",
    "                          yaxis={\n",
    "                              'title': 'Länge',\n",
    "                              'range': [-0.01, 1.01]\n",
    "                          },\n",
    "                          height=600,\n",
    "                          width=600)\n",
    "\n",
    "display(output)\n",
    "display(attr)\n",
    "display(slider)\n",
    "display(button)"
   ]
  },
  {
   "cell_type": "code",
   "execution_count": null,
   "metadata": {},
   "outputs": [],
   "source": []
  },
  {
   "cell_type": "code",
   "execution_count": null,
   "metadata": {},
   "outputs": [],
   "source": []
  },
  {
   "cell_type": "code",
   "execution_count": null,
   "metadata": {},
   "outputs": [],
   "source": []
  },
  {
   "cell_type": "code",
   "execution_count": null,
   "metadata": {},
   "outputs": [],
   "source": []
  },
  {
   "cell_type": "code",
   "execution_count": null,
   "metadata": {},
   "outputs": [],
   "source": []
  },
  {
   "cell_type": "code",
   "execution_count": null,
   "metadata": {},
   "outputs": [],
   "source": []
  }
 ],
 "metadata": {
  "celltoolbar": "Raw Cell Format",
  "hide_input": false,
  "kernelspec": {
   "display_name": "Python 3 (ipykernel)",
   "language": "python",
   "name": "python3"
  },
  "language_info": {
   "codemirror_mode": {
    "name": "ipython",
    "version": 3
   },
   "file_extension": ".py",
   "mimetype": "text/x-python",
   "name": "python",
   "nbconvert_exporter": "python",
   "pygments_lexer": "ipython3",
   "version": "3.8.2"
  },
  "latex_envs": {
   "LaTeX_envs_menu_present": true,
   "autoclose": false,
   "autocomplete": true,
   "bibliofile": "biblio.bib",
   "cite_by": "apalike",
   "current_citInitial": 1,
   "eqLabelWithNumbers": true,
   "eqNumInitial": 1,
   "hotkeys": {
    "equation": "Ctrl-E",
    "itemize": "Ctrl-I"
   },
   "labels_anchors": false,
   "latex_user_defs": false,
   "report_style_numbering": false,
   "user_envs_cfg": true
  },
  "toc": {
   "base_numbering": 1,
   "nav_menu": {},
   "number_sections": true,
   "sideBar": true,
   "skip_h1_title": true,
   "title_cell": "Table of Contents",
   "title_sidebar": "Contents",
   "toc_cell": false,
   "toc_position": {
    "height": "calc(100% - 180px)",
    "left": "10px",
    "top": "150px",
    "width": "165px"
   },
   "toc_section_display": true,
   "toc_window_display": true
  },
  "varInspector": {
   "cols": {
    "lenName": 16,
    "lenType": 16,
    "lenVar": 40
   },
   "kernels_config": {
    "python": {
     "delete_cmd_postfix": "",
     "delete_cmd_prefix": "del ",
     "library": "var_list.py",
     "varRefreshCmd": "print(var_dic_list())"
    },
    "r": {
     "delete_cmd_postfix": ") ",
     "delete_cmd_prefix": "rm(",
     "library": "var_list.r",
     "varRefreshCmd": "cat(var_dic_list()) "
    }
   },
   "types_to_exclude": [
    "module",
    "function",
    "builtin_function_or_method",
    "instance",
    "_Feature"
   ],
   "window_display": false
  }
 },
 "nbformat": 4,
 "nbformat_minor": 2
}
