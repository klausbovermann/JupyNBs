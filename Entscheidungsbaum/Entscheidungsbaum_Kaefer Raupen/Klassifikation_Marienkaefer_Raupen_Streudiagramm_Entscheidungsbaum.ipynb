{
 "cells": [
  {
   "cell_type": "markdown",
   "metadata": {},
   "source": [
    "# Wie können Marienkäfer von Raupen unterschieden werden?\n"
   ]
  },
  {
   "cell_type": "markdown",
   "metadata": {},
   "source": [
    "Wir haben zwei **Klassen** von Insekten: \n",
    "- <CODE>Marienkäfer</CODE>\n",
    "- <CODE>Raupe</CODE>"
   ]
  },
  {
   "cell_type": "markdown",
   "metadata": {},
   "source": [
    "<td> \n",
    "    <img src=\"Bilder\\marienkaefer.jpg\" alt=\"Drawing\" style=\"width: 300px; float: left;\"  hspace=40 /> \n",
    "    <img src=\"Bilder\\raupe.jpg\" alt=\"Drawing\" style=\"width: 300px; float: left;\" hspace=40/>\n",
    "</td>\n"
   ]
  },
  {
   "cell_type": "markdown",
   "metadata": {},
   "source": [
    "Wir als Menschen können natürlich sehr einfach Marienkäfer von Raupen unterscheiden, da wir mit unseren Augen viele Details auf den ersten Blick erkennen können, und die Bilder, die unsere Augen erfassen, im Gehirn als Ganzes verarbeiten.\n",
    "\n",
    "Der Computer benötigt zu Unterscheidung jedoch genau festgelegte **Merkmale**."
   ]
  },
  {
   "cell_type": "markdown",
   "metadata": {},
   "source": [
    "Die Merkmale, die man zur Erkennung heranziehen könnte sind vielfältig. Man könnte z. B. \n",
    "- Farben \n",
    "- Größe\n",
    "- Fortbewegungsgeschwindigkeit\n",
    "- Gewicht\n",
    "\n",
    "und vieles mehr anschauen. \n",
    "\n",
    "Da wir aber ein möglichst einfaches Beispiel betrachten wollen, schauen wir uns nur folgende Eigenschaften der Insekten an:\n",
    "- \"Breite\"\n",
    "- \"Länge\""
   ]
  },
  {
   "cell_type": "markdown",
   "metadata": {},
   "source": [
    "## Welche **Breiten** und **Längen** sind typisch für Marienkäfer und Raupen?\n",
    "\n",
    "Beispielhaft können wir uns einmal die Maße eines Marienkäfers anschauen: "
   ]
  },
  {
   "cell_type": "markdown",
   "metadata": {},
   "source": [
    "<img src=\"Bilder/kaefer_messen.png\" alt=\"Käfer messen\" style=\"width: 300px; float: left;\" hspace=40/>"
   ]
  },
  {
   "cell_type": "markdown",
   "metadata": {},
   "source": [
    "<div class=\"alert alert-block alert-success\">\n",
    "\n",
    "Uns liegt ein Datensatz für 200 Marienkäfer und Raupen vor. Diese Daten benutzen wir, um das System zu **trainieren**, damit es später unbekannte Insekten als Käfer bzw. Raupe erkennen kann."
   ]
  },
  {
   "cell_type": "markdown",
   "metadata": {},
   "source": [
    "<div class=\"alert alert-block alert-warning\">\n",
    "    \n",
    "### *Aufgabe:*\n",
    "    \n",
    "Öffne die Datei [Käfer.csv](Daten/Kaefer.csv) in dem Unterordner Daten mit einem Texteditor. Analysiere und beschreibe den Aufbau der Datei."
   ]
  },
  {
   "cell_type": "markdown",
   "metadata": {},
   "source": [
    "<div class=\"alert alert-block alert-info\">\n",
    "    \n",
    "**In Feldern, die diese Hintergrundfarbe haben, kannst du Lösungstexte zu den Aufgaben, Beobachtungen sowie deine eigenen Kommentare  eingeben:**\n",
    "\n",
    "*Klicke dazu doppelt auf diese Zelle, um sie zu öffnen, und schreibe deinen Text.*\n",
    "\n",
    "\n",
    "*Beende Deine Eingabe, indem du diese Zelle wie hier unterhalb beschrieben ausführst.*\n",
    "</div>"
   ]
  },
  {
   "cell_type": "markdown",
   "metadata": {},
   "source": [
    "<div class=\"alert alert-block alert-success\">\n",
    "    \n",
    "#### Tipps zum Umgang mit diesem Jupyter-Notebook\n",
    "Jede Zelle mit \"Code\" muss ausgeführt werden. Auch Zellen mit beschreibenden Texten können bearbeitet und anschließend ausgeführt (neu dargestellt) werden.\n",
    "    \n",
    "Dies kann man auf zwei Arten machen:\n",
    "- Klick auf den oberen **\"Run\"-Button**\n",
    "\n",
    "oder\n",
    "- Drücke gleichzeitig die Tasten **\"Strg\"** + **\"Enter\"**"
   ]
  },
  {
   "cell_type": "markdown",
   "metadata": {},
   "source": [
    "<div class=\"alert alert-block alert-info\">    \n",
    "\n",
    "Schreibe jetzt hier einen beliebigen Text hinein.\n",
    "    \n",
    "</div>"
   ]
  },
  {
   "cell_type": "markdown",
   "metadata": {},
   "source": [
    "## Das System bekommt die Daten"
   ]
  },
  {
   "cell_type": "markdown",
   "metadata": {},
   "source": [
    "<div class=\"alert alert-block alert-success\">\n",
    "\n",
    "Die Daten aus der csv-Datei müssen in dieses System eingelesen werden, damit sie von Python-Befehlen bearbeitet werden können. "
   ]
  },
  {
   "cell_type": "markdown",
   "metadata": {},
   "source": [
    "### Jetzt werden die Daten eingelesen."
   ]
  },
  {
   "cell_type": "markdown",
   "metadata": {},
   "source": [
    "<div class=\"alert alert-block alert-info\">    \n",
    "   \n",
    "    \n",
    "**Führe dazu die folgende Zelle aus!**"
   ]
  },
  {
   "cell_type": "code",
   "execution_count": null,
   "metadata": {},
   "outputs": [],
   "source": [
    "# Bibliothek pandas importieren\n",
    "import pandas as pd\n",
    "\n",
    "# Textausgabe\n",
    "print(\"Gut gemacht!\")"
   ]
  },
  {
   "cell_type": "markdown",
   "metadata": {},
   "source": [
    "<div class=\"alert alert-block alert-success\">\n",
    "    \n",
    "**Hintergrundwissen:**\n",
    "`pandas` ist eine Programmbibliothek für die Programmiersprache Python, die Hilfsmittel für die Verwaltung von Daten und deren Analyse anbietet. Insbesondere enthält sie Datenstrukturen und Operatoren für den Zugriff auf numerische Tabellen und Zeitreihen. \n",
    "    \n",
    "**Und jetzt bitte die folgende Zelle ausführen!**"
   ]
  },
  {
   "cell_type": "code",
   "execution_count": null,
   "metadata": {},
   "outputs": [],
   "source": [
    "# Datensatz einlesen\n",
    "# Die Datei \"Käfer.csv\" ist eine Datei, in der Datensätze zeilenweise aufgeführt sind.\n",
    "# Jede Spalte ist durch ein Semikolon (\";\") getrennt.\n",
    "\n",
    "# df_käfer ist eine eigene Variable und steht für \"dataframe Käfer\"\n",
    "df_kaefer = pd.read_csv(\"Daten/Kaefer.csv\", sep=\";\")\n",
    "\n",
    "# zeige den Datensatz \"df_käfer\" an\n",
    "display(df_kaefer)"
   ]
  },
  {
   "cell_type": "markdown",
   "metadata": {},
   "source": [
    "<div class=\"alert alert-block alert-success\">\n",
    "Wie Du erkennst, werden nicht alle Daten angezeigt."
   ]
  },
  {
   "cell_type": "markdown",
   "metadata": {},
   "source": [
    "### Wie kann ich den gesamten Datensatz ausgeben?"
   ]
  },
  {
   "cell_type": "code",
   "execution_count": null,
   "metadata": {
    "scrolled": true
   },
   "outputs": [],
   "source": [
    "# Einstellung zur Anzeige aller Zeilen\n",
    "pd.set_option(\"display.max_rows\", None)\n",
    "# Einstellung zur Anzeige aller Spalten\n",
    "pd.set_option(\"display.max_columns\", None)\n",
    "\n",
    "# Datensatz ausgeben\n",
    "display(df_kaefer)"
   ]
  },
  {
   "cell_type": "markdown",
   "metadata": {},
   "source": [
    "<div class=\"alert alert-block alert-success\">\n",
    "\n",
    "*Kann man anhand der Länge bzw. Breite der Insekten vielleicht Raupen von Marienkäfern unterscheiden?*\n",
    "\n",
    "Dazu können wir die Daten versuchsweise in einer anderen Reihenfolge ausgeben, z.B. sortiert nach der Art Länge:"
   ]
  },
  {
   "cell_type": "markdown",
   "metadata": {},
   "source": [
    "#### Wie kann ich den Datensatz sortieren?"
   ]
  },
  {
   "cell_type": "code",
   "execution_count": null,
   "metadata": {
    "scrolled": true
   },
   "outputs": [],
   "source": [
    "# sortiere die Datensätze nach einer Spalte (aufsteigend) und zeige dann alle an\n",
    "sortInsekt = df_kaefer.sort_values(by=\"Länge\")\n",
    "display(sortInsekt)"
   ]
  },
  {
   "cell_type": "markdown",
   "metadata": {},
   "source": [
    "<div class=\"alert alert-block alert-warning\">\n",
    "    \n",
    "##### *Aufgabe:*\n",
    "    \n",
    "Was beobachtest Du?"
   ]
  },
  {
   "cell_type": "markdown",
   "metadata": {},
   "source": [
    "<div class=\"alert alert-block alert-info\">\n",
    "    \n",
    "Schreibe jetzt hier Deine Beobachtung hin.\n",
    "    \n",
    "</div>"
   ]
  },
  {
   "cell_type": "markdown",
   "metadata": {
    "solution2": "hidden",
    "solution2_first": true
   },
   "source": [
    "<div class=\"alert alert-block alert-warning\">\n",
    "    \n",
    "##### *Aufgabe:*\n",
    "    \n",
    "Sortiere die Datensätze nach der **Breite** und lasse Dir alle Datensätze ausgeben."
   ]
  },
  {
   "cell_type": "code",
   "execution_count": null,
   "metadata": {
    "solution2": "hidden"
   },
   "outputs": [],
   "source": [
    "sortInsekt = df_kaefer.sort_values(by=\"Breite\")\n",
    "display(sortInsekt)"
   ]
  },
  {
   "cell_type": "code",
   "execution_count": null,
   "metadata": {},
   "outputs": [],
   "source": [
    "# Bitte füge Deine Lösung als Quelltext hier ein, bevor du dir die Lösung anzeigen lässt."
   ]
  },
  {
   "cell_type": "markdown",
   "metadata": {},
   "source": [
    "<div class=\"alert alert-block alert-info\">\n",
    "    \n",
    "Schreibe jetzt hier Deine Beobachtung hin.\n",
    "    \n",
    "</div>"
   ]
  },
  {
   "cell_type": "markdown",
   "metadata": {
    "solution2": "hidden",
    "solution2_first": true
   },
   "source": [
    "<div class=\"alert alert-block alert-warning\">\n",
    "    \n",
    "##### *Aufgabe:*\n",
    "    \n",
    "Sortiere die Datensätze auch nach der Art des Insektes und lasse Dir alle Datensätze ausgeben. Beobachte dann."
   ]
  },
  {
   "cell_type": "code",
   "execution_count": null,
   "metadata": {
    "solution2": "hidden"
   },
   "outputs": [],
   "source": [
    "sortInsekt = df_kaefer.sort_values(by=\"Insekt\")\n",
    "display(sortInsekt)"
   ]
  },
  {
   "cell_type": "code",
   "execution_count": null,
   "metadata": {},
   "outputs": [],
   "source": [
    "# Bitte füge Deine Lösung als Quelltext hier ein, bevor du dir die Lösung anzeigen lässt."
   ]
  },
  {
   "cell_type": "markdown",
   "metadata": {},
   "source": [
    "<div class=\"alert alert-block alert-info\">\n",
    "    \n",
    "Schreibe jetzt hier Deine Beobachtung hin.\n",
    "    \n",
    "</div>"
   ]
  },
  {
   "cell_type": "markdown",
   "metadata": {},
   "source": [
    "## Streudiagramm"
   ]
  },
  {
   "cell_type": "markdown",
   "metadata": {},
   "source": [
    "<div class=\"alert alert-block alert-success\">\n",
    "Im Folgenden ist ein sogenanntes **Streudiagramm** dargestellt. Hier werden die Insekten als Punkte in einem sog **Koordinatensystem** eingetragen."
   ]
  },
  {
   "cell_type": "markdown",
   "metadata": {},
   "source": [
    "<img src=\"Bilder/Beispieldiagramm_Marienkaefer_Raupe.png\" alt=\"Streudiagramm\" style=\"float: left;\">"
   ]
  },
  {
   "cell_type": "markdown",
   "metadata": {},
   "source": [
    "In diesem Diagramm sind die Informationen für zwei Insekten dargestellt."
   ]
  },
  {
   "cell_type": "markdown",
   "metadata": {},
   "source": [
    "<div class=\"alert alert-block alert-warning\">\n",
    "   \n",
    "#### *Aufgabe:*\n",
    "    \n",
    "Beschreibe, welche Informationen durch das Streudiagramm dargestellt werden.\n",
    "    "
   ]
  },
  {
   "cell_type": "markdown",
   "metadata": {},
   "source": [
    "<div class=\"alert alert-block alert-info\">\n",
    "    \n",
    "Hier bitte deine Beschreibung eingeben.\n",
    "    \n",
    "</div>"
   ]
  },
  {
   "cell_type": "markdown",
   "metadata": {},
   "source": [
    "<div class=\"alert alert-block alert-warning\">\n",
    "   \n",
    "#### *Aufgabe:* \n",
    "    \n",
    "Gib an, welche Maße (Länge / Breite) die im Streudiagramm dargestellten Insekten sind.\n",
    "    "
   ]
  },
  {
   "cell_type": "markdown",
   "metadata": {},
   "source": [
    "<div class=\"alert alert-block alert-info\">\n",
    "    \n",
    "Hier bitte deine Lösung eingeben.\n",
    "    \n",
    "</div>"
   ]
  },
  {
   "cell_type": "markdown",
   "metadata": {},
   "source": [
    "<div class=\"alert alert-block alert-warning\">\n",
    "   \n",
    "#### *Aufgabe:*\n",
    "\n",
    "Erstelle ein Streudiagramm auf Papier und trage die Daten von folgenden Marienkäfern und Raupen als Punkte dort ein.\n",
    "    \n",
    "Zeilennr. | Breite | Länge | Insekt\n",
    "--------- | ------ | ------| ------\n",
    "0         | 0.48   | 0.38  | Marienkäfer\n",
    "1         | 0.32   | 0.74  | Raupe\n",
    "2         | 0.49   | 0.27  | Marienkäfer\n",
    "3         | 0.58   | 0.46  | Marienkäfer\n",
    "4         | 0.11   | 0.58  | Raupe"
   ]
  },
  {
   "cell_type": "markdown",
   "metadata": {},
   "source": [
    "<div class=\"alert alert-block alert-warning\">\n",
    "   \n",
    "#### *Aufgabe:*\n",
    "    \n",
    "Trage die Daten der folgenden vier Insekten zusätzlich in Dein Streudiagramm ein.\n",
    "    \n",
    "- Bestimme - auf Grundlage ihrer Größe (Breite / Länge) die Insektenklasse (Käfer oder Raupe).\n",
    "- Begründe Deine Entscheidung.\n",
    "\n",
    "Zeilennr. | Breite | Länge | Insekt?\n",
    "----------|--------|-------|------\n",
    "0         | 0.6    | 0.4   |\n",
    "1         | 0.2    | 0.8   |\n",
    "3         | 0.8    | 0.4   |\n",
    "4         | 0.5    | 0.6   |\n"
   ]
  },
  {
   "cell_type": "markdown",
   "metadata": {},
   "source": [
    "<div class=\"alert alert-block alert-info\">\n",
    "    \n",
    "Hier bitte deine Lösung eingeben.\n",
    "    \n",
    "</div>"
   ]
  },
  {
   "cell_type": "markdown",
   "metadata": {},
   "source": [
    "<div class=\"alert alert-block alert-warning\">\n",
    "   \n",
    "#### *Aufgabe:*\n",
    " \n",
    "Beurteile, wie zuverlässig Deine Vorhersage für die vier Insekten ist.\n",
    "    "
   ]
  },
  {
   "cell_type": "markdown",
   "metadata": {},
   "source": [
    "<div class=\"alert alert-block alert-info\">\n",
    "    \n",
    "Hier bitte deinen Kommentar eingeben.\n",
    "    \n",
    "</div>"
   ]
  },
  {
   "cell_type": "markdown",
   "metadata": {},
   "source": [
    "## Streudiagramm erzeugen"
   ]
  },
  {
   "cell_type": "markdown",
   "metadata": {},
   "source": [
    "<div class=\"alert alert-block alert-warning\">\n",
    "\n",
    "**Bitte zunächst die folgende Code-Zelle ausführen.**"
   ]
  },
  {
   "cell_type": "code",
   "execution_count": null,
   "metadata": {},
   "outputs": [],
   "source": [
    "#Bibliotheken plotly und cufflinks zur Datenvisualisierung importieren\n",
    "import ipywidgets as widgets\n",
    "from plotly.offline import iplot\n",
    "import plotly.graph_objects as go\n",
    "import cufflinks as cf\n",
    "from ipywidgets import interactive\n",
    "from PyTree import ClassificationTree as ct\n",
    "\n",
    "cf.go_offline()"
   ]
  },
  {
   "cell_type": "markdown",
   "metadata": {},
   "source": [
    "<div class=\"alert alert-block alert-success\">\n",
    "Hier lernst du kennen, dass man Daten unter gewissen Bedingungen graphisch darstellen kann. \n",
    "    \n",
    "Dazu müssen alle Daten zwei Attribute besitzen (in unserem Beispiel `Länge` und `Breite`), deren Werte man auf zwei Achsen wiederfinden kann.\n",
    "  \n",
    "Eine solche Graphik nannt man **Streudiagramm**."
   ]
  },
  {
   "cell_type": "markdown",
   "metadata": {},
   "source": [
    "<div class=\"alert alert-block alert-success\">\n",
    "Im Folgenden wird das Streudiagramm mit den Daten der 200 Insekten (100 Marienkäfer und 100 Raupen) dargestellt.\n",
    "    \n",
    "- **Wenn du den Cursor auf einen Punkt in der Graphik bewegst, bekommst du Informationen angezeigt.**"
   ]
  },
  {
   "cell_type": "code",
   "execution_count": null,
   "metadata": {
    "scrolled": false
   },
   "outputs": [],
   "source": [
    "square_layout = go.Layout(\n",
    "    xaxis={\"title\": \"Breite\", \"range\": [-0.01, 1.01]},\n",
    "    yaxis={\"title\": \"Länge\", \"range\": [-0.01, 1.01]},\n",
    "    height=800,\n",
    "    width=800,\n",
    ")\n",
    "\n",
    "df_kaefer.iplot(\n",
    "    \"scatter\",\n",
    "    mode=\"markers\",\n",
    "    layout=square_layout,\n",
    "    x=\"Breite\",\n",
    "    y=\"Länge\",\n",
    "    categories=\"Insekt\",\n",
    ")"
   ]
  },
  {
   "cell_type": "markdown",
   "metadata": {},
   "source": [
    "<div class=\"alert alert-block alert-warning\">\n",
    "\n",
    "### *Aufgabe: Beschreibe, welche Informationen Du erkennen kannst.*"
   ]
  },
  {
   "cell_type": "markdown",
   "metadata": {},
   "source": [
    "<div class=\"alert alert-block alert-info\">\n",
    "    \n",
    "Hier bitte deine Beschreibung eingeben.\n",
    "    \n",
    "</div>"
   ]
  },
  {
   "cell_type": "markdown",
   "metadata": {},
   "source": [
    "## Schwellenwert"
   ]
  },
  {
   "cell_type": "markdown",
   "metadata": {},
   "source": [
    "<div class=\"alert alert-block alert-success\">\n",
    "Das obige Streudiagramm wird durch eine Kleinigkeit ergänzt. "
   ]
  },
  {
   "cell_type": "code",
   "execution_count": null,
   "metadata": {},
   "outputs": [],
   "source": [
    "df_kaefer.iplot(\n",
    "    \"scatter\",\n",
    "    mode=\"markers\",\n",
    "    x=\"Breite\",\n",
    "    y=\"Länge\",\n",
    "    categories=\"Insekt\",\n",
    "    hline=0.51,\n",
    "    xTitle=\"Breite\",\n",
    "    yTitle=\"Länge\",\n",
    "    dimensions=(800, 800),\n",
    ")"
   ]
  },
  {
   "cell_type": "markdown",
   "metadata": {},
   "source": [
    "<div class=\"alert alert-block alert-warning\">\n",
    "\n",
    "### *Aufgabe:* \n",
    "    \n",
    "Beschreibe, welche Bedeutung die eingezeichnete waagerechte Linie hat.\n",
    "    \n",
    "- *Beachte, dass einige Marker genau auf der Linie liegen!*\n",
    "\n",
    "- Welche Maße haben diese Insekten?\n"
   ]
  },
  {
   "cell_type": "markdown",
   "metadata": {},
   "source": [
    "<div class=\"alert alert-block alert-info\">\n",
    "    \n",
    "Hier bitte deine Beschreibung eingeben.\n",
    "    \n",
    "</div>"
   ]
  },
  {
   "cell_type": "markdown",
   "metadata": {},
   "source": [
    "<div class=\"alert alert-block alert-warning\">\n",
    "\n",
    "### *Aufgabe:* \n",
    "   \n",
    "Nehmen wir jetzt einmal an, dass wir alle Insekten in zwei Klassen einteilen:\n",
    "    \n",
    "- Insekten, deren Marker oberhalb der eingezeichneten Linie liegt.\n",
    "    - Wir nennen sie ***Raupe***.\n",
    "- Insekten, deren Marker auf der Linie oder unterhalb der Linie liegt.\n",
    "    - Wir nennen sie ***Käfer***.\n",
    "    \n",
    "Finde heraus, wie viele Insekten dann falsch benannt werden."
   ]
  },
  {
   "cell_type": "markdown",
   "metadata": {},
   "source": [
    "<div class=\"alert alert-block alert-info\">\n",
    "    \n",
    "Hier bitte deine Lösung eingeben.\n",
    "    \n",
    "</div>"
   ]
  },
  {
   "cell_type": "markdown",
   "metadata": {},
   "source": [
    "<div class=\"alert alert-block alert-success\">\n",
    "\n",
    "**Der** ***Schwellenwert*** **ist der Wert eines Attributes, der die Daten in zwei Klassen aufteilt.**\n",
    "    \n",
    "In dem dargestellten Diagramm ist der Schwellenwert 0.56\n",
    "    \n",
    "In dem Beispiel gibt es zwei Arten von Insekten:\n",
    "- Insekten, deren Länge größer ist als der Schwellenwert 0.56\n",
    "- Insekten, deren Länge nicht größer ist als der Schwellenwert 0.56\n",
    "    \n",
    "**Man erkennt, dass alle Insekten, deren Länge größer ist als der Schwellenwert 0.56, Raupen sind.**"
   ]
  },
  {
   "cell_type": "markdown",
   "metadata": {},
   "source": [
    "<div class=\"alert alert-block alert-warning\">\n",
    "\n",
    "### *Aufgabe:*\n",
    "\n",
    "Begründe, weshalb man keine Aussage über diejenigen Insekten machen kann, deren Länge nicht größer als 0.56 ist."
   ]
  },
  {
   "cell_type": "markdown",
   "metadata": {},
   "source": [
    "<div class=\"alert alert-block alert-info\">\n",
    "    \n",
    "Hier bitte deine Begründung eingeben.\n",
    "    \n",
    "</div>"
   ]
  },
  {
   "cell_type": "markdown",
   "metadata": {},
   "source": [
    "### Fehler bei der Wahl des Schwellenwertes"
   ]
  },
  {
   "cell_type": "markdown",
   "metadata": {},
   "source": [
    "<div class=\"alert alert-block alert-success\">\n",
    "    \n",
    "Mehrere Insekten sind Raupen, obwohl ihre Länge nicht größer als 0.56 ist. \n",
    "    \n",
    "Wenn wir also alle diese Insekten als Käfer klassifizieren würden, hätten wir einige Fehler gemacht. Du kannst ja einmal zählen, wie viele Fehler das sind.\n",
    "    \n",
    "Ein kleines Programm nimmt dir die Arbeit ab:"
   ]
  },
  {
   "cell_type": "code",
   "execution_count": null,
   "metadata": {},
   "outputs": [],
   "source": [
    "tree1 = ct.DecisionTree(target='Insekt', data=df_kaefer)\n",
    "tree1.manual_split(attribute=\"Länge\", threshold=0.56, node_nr=1)\n",
    "\n",
    "fehlersumme_raupe = tree1.get_target_distribution(node_nr=2)['Raupe']\n",
    "fehlersumme_kaefer = tree1.get_target_distribution(node_nr=3)['Marienkäfer']\n",
    "fehlersumme = fehlersumme_raupe + fehlersumme_kaefer\n",
    "\n",
    "print(\"Bei einem Schwellenwert von 0.56 werden\", fehlersumme,\n",
    "      \"Insekten fälschlicherweise als Käfer klassifiziert\")"
   ]
  },
  {
   "cell_type": "markdown",
   "metadata": {},
   "source": [
    "<div class=\"alert alert-block alert-warning\">\n",
    "Jetzt kannst Du einmal versuchen, einen anderen Schwellenwert zu nutzen.\n",
    "\n",
    "- Dazu kannst du mit dem Schieber den Schwellenwert verändern. Dann wird die Anzahl der Fehlbenennungen angezeigt."
   ]
  },
  {
   "cell_type": "code",
   "execution_count": null,
   "metadata": {},
   "outputs": [],
   "source": [
    "slider = widgets.FloatSlider(\n",
    "    value=0.7, min=0.20, max=0.80, step=0.01, description=\"Schwellenwert\"\n",
    ")\n",
    "\n",
    "\n",
    "def on_value_change(event):\n",
    "    output.clear_output()\n",
    "    with output:\n",
    "\n",
    "        tree2.manual_split(attribute=\"Länge\", threshold=event[\"new\"], node_nr=1)\n",
    "        fehlersumme_raupe = tree2.get_target_distribution(node_nr=2)[\"Raupe\"]\n",
    "        fehlersumme_kaefer = tree2.get_target_distribution(node_nr=3)[\"Marienkäfer\"]\n",
    "        fehlersumme = fehlersumme_raupe + fehlersumme_kaefer\n",
    "\n",
    "        print(\"Schwellenwert =\", event[\"new\"])\n",
    "        print(\"Fehlersumme =\", fehlersumme)\n",
    "\n",
    "\n",
    "slider.observe(on_value_change, names=\"value\")\n",
    "\n",
    "output = widgets.Output()\n",
    "\n",
    "tree2 = ct.DecisionTree(target=\"Insekt\", data=df_kaefer)\n",
    "\n",
    "display(slider, output)"
   ]
  },
  {
   "cell_type": "markdown",
   "metadata": {},
   "source": [
    "### Bester Schwellenwert"
   ]
  },
  {
   "cell_type": "markdown",
   "metadata": {
    "solution2": "hidden",
    "solution2_first": true
   },
   "source": [
    "<div class=\"alert alert-block alert-warning\">\n",
    "\n",
    "### *Aufgabe:*\n",
    "\n",
    "Bei welchem Schwellenwert ist die Anzahl der Fehler am kleinsten?\n",
    "    \n",
    "- Aktiviere die Zelle, in der der beste Schwellenwert definiert ist.\n",
    "- Führe dann die folgende Zelle aus.\n",
    "    \n",
    "Dann erkennst du die (waagerechte) Aufteilung der 200 Insekten in zwei Klassen."
   ]
  },
  {
   "cell_type": "code",
   "execution_count": null,
   "metadata": {
    "solution2": "hidden"
   },
   "outputs": [],
   "source": [
    " # besterSchwellenwert\n",
    "besterSchwellenwert = 0.51"
   ]
  },
  {
   "cell_type": "code",
   "execution_count": null,
   "metadata": {},
   "outputs": [],
   "source": [
    "df_kaefer.iplot('scatter',\n",
    "                mode='markers',\n",
    "                x='Breite',\n",
    "                y='Länge',\n",
    "                categories='Insekt',\n",
    "                hline=besterSchwellenwert,\n",
    "                xTitle=\"Breite\",\n",
    "                yTitle=\"Länge\",\n",
    "                dimensions=(800, 800))"
   ]
  },
  {
   "cell_type": "markdown",
   "metadata": {},
   "source": [
    "<div class=\"alert alert-block alert-success\">\n",
    "    \n",
    "Du erkennst in diesem neuen Streudiagramm jetzt, dass - im Gegensatz zu dem vorigen Streudiagramm - oberhalb der  waagerechten Linie auch Symbole für Käfer auftauchen.\n",
    "    \n",
    "Das erscheint auf den ersten Blick seltsam! Denn bei einem Schwellenwert von 0.56 wurden **alle** Käfer richtig erkannt. Einige Raupen (nämlich 20), deren Länge nicht größer als 0.56 ist, wurden fälschlicherweise als Käfer klassifiziert.\n",
    "\n",
    "Benutzt man als Schwellenwert jetzt den Wert 0.51, werden sowohl einige Raupen als auch einige Käfer falsch klassifiziert. Insbesondere entstehen jetzt auch Fehler bei Käfern.\n",
    "    \n",
    "**Jedoch ist wichtig zu bedenken:**\n",
    "    \n",
    "- Wenn man als Schwellenwert 0.56 benutzt, werden 20 Insekten falsch klassifiziert.\n",
    "- Wenn man als Schwellenwert 0.51 benutzt, werden nur 14 Insekten falsch klassifiziert. Die Gesamtzahl der Fehler ist dann am geringsten.\n",
    "    \n",
    "Der **beste Schwellenwert** ist also derjenige Wert, bei dem insgesamt die wenigsten Fehler gemacht werden, und **nicht** der Wert, bei dem alle Objekte einer Klasse (hier z.B. alle Marienkäfer) korrekt klassifiziert werden."
   ]
  },
  {
   "cell_type": "markdown",
   "metadata": {},
   "source": [
    "<div class=\"alert alert-block alert-success\">\n",
    "    \n",
    "Mit Hilfe des Schwellenwertes haben wir einen sog. **Datensplit** erzeugt, haben also die 200 Daten in zwei Teile geteilt:\n",
    "- Ein Teil der Daten wurde als Raupe gekennzeichnet.\n",
    "    - Das waren diejenigen Insekten, die länger als 0.51 sind.\n",
    "- Der andere Teil, also die Insekten, die *nicht* länger als 0.51 sind, wurden als Marienkäfer bezeichnet.\n",
    "    \n",
    "**Beachte**, dass es dabei zu 14 Fehlbezeichnungen gekommen ist."
   ]
  },
  {
   "cell_type": "markdown",
   "metadata": {},
   "source": [
    "## Entscheidungsbaum"
   ]
  },
  {
   "cell_type": "markdown",
   "metadata": {},
   "source": [
    "<div class=\"alert alert-block alert-success\">\n",
    "\n",
    "Man kann also die 200 Insekten anhand der Länge in zwei Klassen einteilen:\n",
    "- Insekten, die länger als 0.51 sind. \n",
    "- Insekten, die nicht länger als 0.51 sind. \n",
    "    \n",
    "Dabei werden insgesamt 14 Insekten falsch klassifiziert.\n",
    "    \n",
    "Das kann man in dem folgenden Diagramm darstellen:"
   ]
  },
  {
   "cell_type": "code",
   "execution_count": null,
   "metadata": {},
   "outputs": [],
   "source": [
    "tree3 = ct.DecisionTree(target='Insekt', data=df_kaefer)\n",
    "tree3.manual_split(attribute=\"Länge\", threshold=0.51, node_nr=1)\n",
    "display(tree3.print_tree())"
   ]
  },
  {
   "cell_type": "markdown",
   "metadata": {},
   "source": [
    "<div class=\"alert alert-block alert-success\">\n",
    "\n",
    "Eine solche Darstellung ist ein sog. **Entschidungsbaum** (engl.: **Decision Tree**). \n",
    "    \n",
    "In dem blau-unterlegten Rechteck (das gehört eigentlich nicht zu dem Baum) findet man Angaben, die für das Verständnis der Darstellung wichtig sind."
   ]
  },
  {
   "cell_type": "markdown",
   "metadata": {},
   "source": [
    "<div class=\"alert alert-block alert-warning\">\n",
    "\n",
    "### *Aufgabe:*\n",
    "\n",
    "Beschreibe, welche Informationen hier erkennbar sind."
   ]
  },
  {
   "cell_type": "markdown",
   "metadata": {},
   "source": [
    "<div class=\"alert alert-block alert-info\">\n",
    "    \n",
    "Schreibe jetzt hier Deine Beobachtung hin.\n",
    "    \n",
    "- In dem blauen Rechteck:\n",
    "    - ???\n",
    "- In dem weissen Rechteck Nr. 1:\n",
    "   - ??? \n",
    "- In dem linken gelben Rechteck Nr. 2:\n",
    "   - ??? \n",
    "- In dem rechten gelben Rechteck Nr. 3:\n",
    "    - ???\n",
    "</div>"
   ]
  },
  {
   "cell_type": "markdown",
   "metadata": {},
   "source": [
    "<div class=\"alert alert-block alert-success\">\n",
    "\n",
    "- Die drei rechteckigen Kästen sind sog. **Knoten**. Diese Knoten enthalten wichtige Informationen.\n",
    "    - Der oberste (in der Graphik weiß dargestellt) Knoten heißt **Wurzelknoten**.\n",
    "    - Es gibt in dem dargestellten Entscheidungsbaum drei Knoten; zur Unterscheidung haben sie Nummern 1, 2 und 3\n"
   ]
  },
  {
   "cell_type": "markdown",
   "metadata": {},
   "source": [
    "## Baum und Streudiagramm gemeinsam in einer graphischen Ansicht"
   ]
  },
  {
   "cell_type": "markdown",
   "metadata": {},
   "source": [
    "<div class=\"alert alert-block alert-warning\">\n",
    "\n",
    "### *Aufgabe:*\n",
    "\n",
    "Aktiviere die folgende Zelle, stelle mit dem Schieberegler erneut den besten Schwellenwert ein und lass dir dann den Entscheidungsbaum sowie das Streudiagramm anzeigen."
   ]
  },
  {
   "cell_type": "code",
   "execution_count": null,
   "metadata": {
    "scrolled": false
   },
   "outputs": [],
   "source": [
    "# ein Output für die Widgets erstellen\n",
    "# output=widgets.Output()\n",
    "output6 = widgets.Output()\n",
    "\n",
    "\n",
    "def action(b):\n",
    "    output6.clear_output()\n",
    "    schwellenwert = slider6.value\n",
    "    tree1.manual_split(attribute=\"Länge\", threshold=schwellenwert, node_nr=1)\n",
    "\n",
    "    fehlersumme_raupe = tree1.get_target_distribution(node_nr=2)[\"Raupe\"]\n",
    "    fehlersumme_kaefer = tree1.get_target_distribution(node_nr=3)[\"Marienkäfer\"]\n",
    "    fehlersumme = fehlersumme_raupe + fehlersumme_kaefer\n",
    "\n",
    "    with output6:\n",
    "        print(\"Schwellenwert =\", schwellenwert)\n",
    "        print(\"Fehlersumme =\", fehlersumme)\n",
    "        display(tree1.print_tree())\n",
    "\n",
    "        df_kaefer.iplot(\n",
    "            \"scatter\",\n",
    "            mode=\"markers\",\n",
    "            x=\"Breite\",\n",
    "            y=\"Länge\",\n",
    "            categories=\"Insekt\",\n",
    "            hline=schwellenwert,\n",
    "            dimensions=[800, 600],\n",
    "        )\n",
    "\n",
    "# einen Slider für den Schwellenwert erstellen\n",
    "slider6 = widgets.FloatSlider(\n",
    "    value=0.7, min=0.10, max=0.80, step=0.01, description=\"Schwellenwert\"\n",
    ")\n",
    "\n",
    "button6 = widgets.Button(\n",
    "    description=\"Graphik erstellen\",\n",
    "    disabled=False,\n",
    "    button_style=\"success\",  # 'success', 'info', 'warning', 'danger' or ''\n",
    "    tooltip=\"Enscheidungsbaum (neu) erstellen\",\n",
    "    # icon='check' # (FontAwesome names without the `fa-` prefix)\n",
    ")\n",
    "\n",
    "# Entscheidungsbaum initialisieren mit Zielvariable (hier in Spalte \"Insekt\") und Trainingsdaten\n",
    "tree1 = ct.DecisionTree(target=\"Insekt\", data=df_kaefer)\n",
    "\n",
    "button6.on_click(action)\n",
    "\n",
    "display(slider6)\n",
    "display(button6)\n",
    "display(output6)"
   ]
  },
  {
   "cell_type": "markdown",
   "metadata": {},
   "source": [
    "## Klassifikation mit Hilfe der Breite der Insekten"
   ]
  },
  {
   "cell_type": "markdown",
   "metadata": {},
   "source": [
    "<div class=\"alert alert-block alert-success\">\n",
    "\n",
    "In dem Entscheidungsbaum und dem Streudiagramm erkennt man, dass bei einem Schwellenwert von 0.51 einige (14) Insekten fehlerhaft klassifiziert werden.\n",
    "    \n",
    "Jedoch haben wir bisher die Länge der Insekten benutzt, um die beiden Klassen zu unterscheiden.\n",
    "    \n",
    "In der folgenden Zelle kannst du statt der Länge jetzt einmal probieren, einen guten Schwellenwert für die Breite der Insekten zu finden."
   ]
  },
  {
   "cell_type": "code",
   "execution_count": null,
   "metadata": {
    "scrolled": false
   },
   "outputs": [],
   "source": [
    "# ein Output für die Widgets erstellen\n",
    "output7 = widgets.Output()\n",
    "\n",
    "def action(b):\n",
    "    output7.clear_output()\n",
    "    schwellenwert = slider7.value\n",
    "#    tree1.manual_split(attribute=attr7.value, threshold=schwellenwert, node_nr=1)\n",
    "    tree1.manual_split(attribute=\"Breite\", threshold=schwellenwert, node_nr=1)\n",
    "    fehlersumme_raupe = tree1.get_target_distribution(node_nr=2)[\"Marienkäfer\"]\n",
    "    fehlersumme_kaefer = tree1.get_target_distribution(node_nr=3)[\"Raupe\"]\n",
    "    fehlersumme = fehlersumme_raupe + fehlersumme_kaefer\n",
    "\n",
    "    with output7:\n",
    "        print(\"Schwellenwert =\", schwellenwert)\n",
    "        print(\"Fehlersumme =\", fehlersumme)\n",
    "        display(tree1.print_tree())\n",
    "\n",
    "        df_kaefer.iplot(\n",
    "            \"scatter\",\n",
    "            mode=\"markers\",\n",
    "            x=\"Breite\",\n",
    "            y=\"Länge\",\n",
    "            categories=\"Insekt\",\n",
    "            vline=schwellenwert,\n",
    "            dimensions=[800, 600],\n",
    "        )\n",
    "\n",
    "\n",
    "#attr7 = widgets.Dropdown(\n",
    "#    options=[\"Länge\", \"Breite\"], value=\"Breite\", description=\"Attribut:\", disabled=False,\n",
    "#)\n",
    "\n",
    "# einen Slider für den Schwellenwert erstellen\n",
    "slider7 = widgets.FloatSlider(\n",
    "    value=0.7, min=0.10, max=0.80, step=0.01, description=\"Schwellenwert\"\n",
    ")\n",
    "\n",
    "button7 = widgets.Button(\n",
    "    description=\"Graphik erstellen\",\n",
    "    disabled=False,\n",
    "    button_style=\"success\",  # 'success', 'info', 'warning', 'danger' or ''\n",
    "    tooltip=\"Enscheidungsbaum (neu) erstellen\",\n",
    "    # icon='check' # (FontAwesome names without the `fa-` prefix)\n",
    ")\n",
    "\n",
    "# Entscheidungsbaum initialisieren mit Zielvariable (hier in Spalte \"Insekt\") und Trainingsdaten\n",
    "tree1 = ct.DecisionTree(target=\"Insekt\", data=df_kaefer)\n",
    "\n",
    "button7.on_click(action)\n",
    "\n",
    "display(slider7)\n",
    "#display(attr7)\n",
    "display(button7)\n",
    "display(output7)"
   ]
  },
  {
   "cell_type": "markdown",
   "metadata": {
    "solution2": "hidden",
    "solution2_first": true
   },
   "source": [
    "<div class=\"alert alert-block alert-warning\">\n",
    "\n",
    "### *Aufgabe:*\n",
    "\n",
    "Bei welchem Schwellenwert ist die Anzahl der Fehler am kleinsten?"
   ]
  },
  {
   "cell_type": "markdown",
   "metadata": {
    "solution2": "hidden"
   },
   "source": [
    "<div class=\"alert alert-block alert-success\">\n",
    "\n",
    "Der beste Schwellenwert für dir Breite beträgt 0.36, denn dabei werden nur 16 Insekten falsch klassifiziert.\n",
    "    \n",
    "In dem obigen Abschnitt\n",
    "    \n",
    "-[Bester Schwellenwert](#Bester-Schwellenwert)\n",
    "    \n",
    "haben wir erkannt, dass 14 die minimale Anzahl der Fehlklassifikationen ist, wenn wir als Unterscheidungsmerkmal die Länge der Insekten benutzen. Das ist also offenbar besser, als hier. Wir werden also die Insekten zunächst mit Hilfe der Länge klassifizieren."
   ]
  },
  {
   "cell_type": "markdown",
   "metadata": {},
   "source": [
    "## Weitere manuelle Datensplits"
   ]
  },
  {
   "cell_type": "markdown",
   "metadata": {},
   "source": [
    "<div class=\"alert alert-block alert-success\">\n",
    "\n",
    "### Fazit bisher:\n",
    "    \n",
    "Wenn wir nur eine der beiden Variablen für einen Datensplit benutzen, ist die Wahl der Länge mit einem Schwellenwert von 0.51 offenbar optimal, obwohl dann immer noch 14 Fehler entstehen!\n",
    "    \n",
    "Hier nochmals das zugehörige Streudiagramm mit der horizontalen Trennlinie:"
   ]
  },
  {
   "cell_type": "code",
   "execution_count": null,
   "metadata": {},
   "outputs": [],
   "source": [
    "df_kaefer.iplot('scatter',\n",
    "                mode='markers',\n",
    "                x='Breite',\n",
    "                y='Länge',\n",
    "                categories='Insekt',\n",
    "                hline=besterSchwellenwert,\n",
    "                xTitle=\"Breite\",\n",
    "                yTitle=\"Länge\",\n",
    "                dimensions=(600, 600))"
   ]
  },
  {
   "cell_type": "markdown",
   "metadata": {},
   "source": [
    "<div class=\"alert alert-block alert-success\">\n",
    "\n",
    "In beiden Teilen (oberhalb als auch unterhalb der horizontalen Linie) finden wir falsch klassifizierte Mrkierungen:\n",
    "\n",
    "- Im oberen Teil wird ein Käfer falsch als Raupe klassifiziert.\n",
    "- 13 Raupen (erkennbar im unteren Teil) werden in dem Diagramm als Käfer bezeichnet."
   ]
  },
  {
   "cell_type": "markdown",
   "metadata": {},
   "source": [
    "Der folgende Programmabschnitt ermöglicht es jetzt, einen weiteren Datensplit vorzunehmen. "
   ]
  },
  {
   "cell_type": "code",
   "execution_count": null,
   "metadata": {},
   "outputs": [],
   "source": [
    "hor = besterSchwellenwert\n",
    "SchwellenwertKnoten2 = 0.1\n",
    "SchwellenwertKnoten3 = 0.5\n",
    "\n",
    "# Trainingsdaten einlesen -> \"data frame df_käfer_trainingsdaten\"\n",
    "df_käfer_trainingsdaten = pd.read_csv('Daten/Kaefer.csv', sep=';')\n",
    "\n",
    "# zeige den Anfang des Datensatzes \"df_käfer_trainingsdaten\" an\n",
    "#print(\"Trainingsdaten\")\n",
    "#display(df_käfer_trainingsdaten)\n",
    "\n",
    "# Entscheidungsbaum initialisieren mit Zielvariable (hier in Spalte \"Insekt\") und Trainingsdaten\n",
    "tree6 = ct.DecisionTree(target = 'Insekt', data = df_käfer_trainingsdaten)\n",
    "\n",
    "# threshold bedeutet Schwellenwert\n",
    "tree6.manual_split(attribute = 'Länge',  threshold = hor, node_nr = 1) \n",
    "tree6.manual_split(attribute = 'Breite', threshold = SchwellenwertKnoten2, node_nr = 2) \n",
    "tree6.manual_split(attribute = 'Breite', threshold = SchwellenwertKnoten3, node_nr = 3) \n",
    "\n",
    "\n",
    "#Entscheidungsbaum ausgeben\n",
    "tree6.print_tree()"
   ]
  },
  {
   "cell_type": "markdown",
   "metadata": {
    "solution2": "hidden",
    "solution2_first": true
   },
   "source": [
    "<div class=\"alert alert-block alert-warning\">\n",
    "\n",
    "### *Aufgabe:*\n",
    "\n",
    "Ändere die Schwellenwerte für die beiden Knoten 2 und 3 so ab, dass möglichst wenige Fehlklassifikationen entstehen. schau dir dazu ggf. nochmal das Streudiagramm an."
   ]
  },
  {
   "cell_type": "markdown",
   "metadata": {
    "solution2": "hidden"
   },
   "source": [
    "<div class=\"alert alert-block alert-success\">\n",
    "\n",
    "Geeignete Schwellenwerte sind z.B.\n",
    "\n",
    "- SchwellenwertKnoten2 = 0.3\n",
    "- SchwellenwertKnoten3 = 0.5\n"
   ]
  },
  {
   "cell_type": "markdown",
   "metadata": {},
   "source": [
    "<div class=\"alert alert-block alert-success\">\n",
    "\n",
    "Das folgende Bild verdeutlicht diese Lösung: "
   ]
  },
  {
   "cell_type": "code",
   "execution_count": null,
   "metadata": {
    "scrolled": false
   },
   "outputs": [],
   "source": [
    "import plotly.express as px\n",
    "\n",
    "hor = besterSchwellenwert\n",
    "SchwellenwertKnoten2 = 0.3\n",
    "SchwellenwertKnoten3 = 0.5\n",
    "\n",
    "color_map = {'Marienkäfer': 'orange', 'Raupe': 'lightblue'}\n",
    "\n",
    "fig = px.scatter(df_kaefer, \n",
    "                 x=\"Breite\", y=\"Länge\", \n",
    "                 color=\"Insekt\", \n",
    "                 color_discrete_map=color_map,\n",
    "                 width = 800, \n",
    "                 height = 600,\n",
    "                 range_x = [-0.01,1.01],\n",
    "                 range_y = [-0.01,1.01],\n",
    "                 #size = 0.01\n",
    "                )\n",
    "\n",
    "fig.update_traces(marker=dict(#size=5, \n",
    "                              line=dict(width=1,\n",
    "                                        color='black')))\n",
    "\n",
    "fig.update_layout(shapes=[         \n",
    "            dict(\n",
    "                type=\"line\",\n",
    "                yref='y1',\n",
    "                y0=hor,\n",
    "                y1=hor,\n",
    "                xref='x1',\n",
    "                x0=0,\n",
    "                x1=1,\n",
    "                line=dict(\n",
    "                    color=\"Red\",\n",
    "                    width=2\n",
    "                    #dash=\"\",\n",
    "                )\n",
    "            ),\n",
    "            dict(\n",
    "                type=\"line\",\n",
    "                yref='y1',\n",
    "                y0=0,\n",
    "                y1=hor,\n",
    "                xref='x1',\n",
    "                x0=SchwellenwertKnoten2,\n",
    "                x1=SchwellenwertKnoten2,\n",
    "                line=dict(\n",
    "                    color=\"Black\",\n",
    "                    width=2,\n",
    "                    dash=\"dashdot\",\n",
    "                )\n",
    "            ),\n",
    "            dict(\n",
    "                type=\"line\",\n",
    "                yref='y1',\n",
    "                y0=hor,\n",
    "                y1=1,\n",
    "                xref='x1',\n",
    "                x0=SchwellenwertKnoten3,\n",
    "                x1=SchwellenwertKnoten3,\n",
    "                line=dict(\n",
    "                    color=\"Black\",\n",
    "                    width=2,\n",
    "                    dash=\"dashdot\",\n",
    "                )\n",
    "            )\n",
    "    ]\n",
    ")\n",
    "\n",
    "fig.show()"
   ]
  },
  {
   "cell_type": "markdown",
   "metadata": {},
   "source": [
    "## Automatische Lösung"
   ]
  },
  {
   "cell_type": "markdown",
   "metadata": {},
   "source": [
    "<div class=\"alert alert-block alert-success\">\n",
    "\n",
    "Eine Funktion `grow_tree` ist in der Lage, den kompletten Datensplit automatisch zu erzeugen:"
   ]
  },
  {
   "cell_type": "code",
   "execution_count": null,
   "metadata": {},
   "outputs": [],
   "source": [
    "tree = ct.DecisionTree(target = 'Insekt', data = df_kaefer)\n",
    "tree.grow_tree(df_kaefer, 'Insekt',max_depth=2)\n",
    "tree.print_tree()"
   ]
  },
  {
   "cell_type": "code",
   "execution_count": null,
   "metadata": {},
   "outputs": [],
   "source": []
  }
 ],
 "metadata": {
  "celltoolbar": "Raw Cell Format",
  "hide_input": false,
  "kernelspec": {
   "display_name": "Python 3 (ipykernel)",
   "language": "python",
   "name": "python3"
  },
  "language_info": {
   "codemirror_mode": {
    "name": "ipython",
    "version": 3
   },
   "file_extension": ".py",
   "mimetype": "text/x-python",
   "name": "python",
   "nbconvert_exporter": "python",
   "pygments_lexer": "ipython3",
   "version": "3.8.2"
  },
  "latex_envs": {
   "LaTeX_envs_menu_present": true,
   "autoclose": false,
   "autocomplete": true,
   "bibliofile": "biblio.bib",
   "cite_by": "apalike",
   "current_citInitial": 1,
   "eqLabelWithNumbers": true,
   "eqNumInitial": 1,
   "hotkeys": {
    "equation": "Ctrl-E",
    "itemize": "Ctrl-I"
   },
   "labels_anchors": false,
   "latex_user_defs": false,
   "report_style_numbering": false,
   "user_envs_cfg": true
  },
  "toc": {
   "base_numbering": 1,
   "nav_menu": {},
   "number_sections": true,
   "sideBar": true,
   "skip_h1_title": true,
   "title_cell": "Table of Contents",
   "title_sidebar": "Contents",
   "toc_cell": false,
   "toc_position": {
    "height": "calc(100% - 180px)",
    "left": "10px",
    "top": "150px",
    "width": "165px"
   },
   "toc_section_display": true,
   "toc_window_display": true
  },
  "varInspector": {
   "cols": {
    "lenName": 16,
    "lenType": 16,
    "lenVar": 40
   },
   "kernels_config": {
    "python": {
     "delete_cmd_postfix": "",
     "delete_cmd_prefix": "del ",
     "library": "var_list.py",
     "varRefreshCmd": "print(var_dic_list())"
    },
    "r": {
     "delete_cmd_postfix": ") ",
     "delete_cmd_prefix": "rm(",
     "library": "var_list.r",
     "varRefreshCmd": "cat(var_dic_list()) "
    }
   },
   "types_to_exclude": [
    "module",
    "function",
    "builtin_function_or_method",
    "instance",
    "_Feature"
   ],
   "window_display": false
  }
 },
 "nbformat": 4,
 "nbformat_minor": 2
}
