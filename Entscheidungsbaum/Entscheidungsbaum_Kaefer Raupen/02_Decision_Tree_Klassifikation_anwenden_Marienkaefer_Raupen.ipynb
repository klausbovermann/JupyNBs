{
 "cells": [
  {
   "cell_type": "markdown",
   "metadata": {},
   "source": [
    "# Wie können wir mithilfe eines gegebenen Entscheidungsbaumes ein Insekt klassifizieren?\n"
   ]
  },
  {
   "cell_type": "markdown",
   "metadata": {},
   "source": [
    "Wir haben zwei **Klassen** von Insekten: \n",
    "- <CODE>Marienkäfer</CODE>\n",
    "- <CODE>Raupe</CODE>"
   ]
  },
  {
   "cell_type": "markdown",
   "metadata": {},
   "source": [
    "<td> \n",
    "    <img src=\"Bilder\\marienkaefer.jpg\" alt=\"Drawing\" style=\"width: 100px; float: left;\"  hspace=40 /> \n",
    "    <img src=\"Bilder\\raupe.jpg\" alt=\"Drawing\" style=\"width: 100px; float: left;\" hspace=40/>\n",
    "</td>"
   ]
  },
  {
   "cell_type": "markdown",
   "metadata": {},
   "source": [
    "# Daten einlesen mit Python"
   ]
  },
  {
   "cell_type": "code",
   "execution_count": 1,
   "metadata": {},
   "outputs": [
    {
     "data": {
      "text/html": [
       "        <script type=\"text/javascript\">\n",
       "        window.PlotlyConfig = {MathJaxConfig: 'local'};\n",
       "        if (window.MathJax) {MathJax.Hub.Config({SVG: {font: \"STIX-Web\"}});}\n",
       "        if (typeof require !== 'undefined') {\n",
       "        require.undef(\"plotly\");\n",
       "        requirejs.config({\n",
       "            paths: {\n",
       "                'plotly': ['https://cdn.plot.ly/plotly-2.2.0.min']\n",
       "            }\n",
       "        });\n",
       "        require(['plotly'], function(Plotly) {\n",
       "            window._Plotly = Plotly;\n",
       "        });\n",
       "        }\n",
       "        </script>\n",
       "        "
      ]
     },
     "metadata": {},
     "output_type": "display_data"
    }
   ],
   "source": [
    "# Dieser Quelltext ist nicht prüfungsrelevant.\n",
    "\n",
    "# Bibliotheken importieren\n",
    "import pandas as pd\n",
    "from PyTree import ClassificationTree as ct\n",
    "from plotly.offline import iplot\n",
    "import plotly as py\n",
    "import cufflinks as cf\n",
    "from ipywidgets import interactive\n",
    "cf.go_offline()"
   ]
  },
  {
   "cell_type": "code",
   "execution_count": 2,
   "metadata": {
    "scrolled": false
   },
   "outputs": [
    {
     "data": {
      "text/html": [
       "<div>\n",
       "<style scoped>\n",
       "    .dataframe tbody tr th:only-of-type {\n",
       "        vertical-align: middle;\n",
       "    }\n",
       "\n",
       "    .dataframe tbody tr th {\n",
       "        vertical-align: top;\n",
       "    }\n",
       "\n",
       "    .dataframe thead th {\n",
       "        text-align: right;\n",
       "    }\n",
       "</style>\n",
       "<table border=\"1\" class=\"dataframe\">\n",
       "  <thead>\n",
       "    <tr style=\"text-align: right;\">\n",
       "      <th></th>\n",
       "      <th>Breite</th>\n",
       "      <th>Länge</th>\n",
       "      <th>Insekt</th>\n",
       "    </tr>\n",
       "  </thead>\n",
       "  <tbody>\n",
       "    <tr>\n",
       "      <th>0</th>\n",
       "      <td>0.48</td>\n",
       "      <td>0.38</td>\n",
       "      <td>Marienkäfer</td>\n",
       "    </tr>\n",
       "    <tr>\n",
       "      <th>1</th>\n",
       "      <td>0.32</td>\n",
       "      <td>0.74</td>\n",
       "      <td>Raupe</td>\n",
       "    </tr>\n",
       "    <tr>\n",
       "      <th>2</th>\n",
       "      <td>0.49</td>\n",
       "      <td>0.27</td>\n",
       "      <td>Marienkäfer</td>\n",
       "    </tr>\n",
       "    <tr>\n",
       "      <th>3</th>\n",
       "      <td>0.58</td>\n",
       "      <td>0.46</td>\n",
       "      <td>Marienkäfer</td>\n",
       "    </tr>\n",
       "    <tr>\n",
       "      <th>4</th>\n",
       "      <td>0.11</td>\n",
       "      <td>0.58</td>\n",
       "      <td>Raupe</td>\n",
       "    </tr>\n",
       "    <tr>\n",
       "      <th>...</th>\n",
       "      <td>...</td>\n",
       "      <td>...</td>\n",
       "      <td>...</td>\n",
       "    </tr>\n",
       "    <tr>\n",
       "      <th>195</th>\n",
       "      <td>0.57</td>\n",
       "      <td>0.37</td>\n",
       "      <td>Marienkäfer</td>\n",
       "    </tr>\n",
       "    <tr>\n",
       "      <th>196</th>\n",
       "      <td>0.10</td>\n",
       "      <td>0.54</td>\n",
       "      <td>Raupe</td>\n",
       "    </tr>\n",
       "    <tr>\n",
       "      <th>197</th>\n",
       "      <td>0.39</td>\n",
       "      <td>0.81</td>\n",
       "      <td>Raupe</td>\n",
       "    </tr>\n",
       "    <tr>\n",
       "      <th>198</th>\n",
       "      <td>0.56</td>\n",
       "      <td>0.29</td>\n",
       "      <td>Marienkäfer</td>\n",
       "    </tr>\n",
       "    <tr>\n",
       "      <th>199</th>\n",
       "      <td>0.38</td>\n",
       "      <td>0.93</td>\n",
       "      <td>Raupe</td>\n",
       "    </tr>\n",
       "  </tbody>\n",
       "</table>\n",
       "<p>200 rows × 3 columns</p>\n",
       "</div>"
      ],
      "text/plain": [
       "     Breite  Länge       Insekt\n",
       "0      0.48   0.38  Marienkäfer\n",
       "1      0.32   0.74        Raupe\n",
       "2      0.49   0.27  Marienkäfer\n",
       "3      0.58   0.46  Marienkäfer\n",
       "4      0.11   0.58        Raupe\n",
       "..      ...    ...          ...\n",
       "195    0.57   0.37  Marienkäfer\n",
       "196    0.10   0.54        Raupe\n",
       "197    0.39   0.81        Raupe\n",
       "198    0.56   0.29  Marienkäfer\n",
       "199    0.38   0.93        Raupe\n",
       "\n",
       "[200 rows x 3 columns]"
      ]
     },
     "metadata": {},
     "output_type": "display_data"
    }
   ],
   "source": [
    "# Datensatz einlesen\n",
    "# Die Datei \"Käfer.csv\" ist eine Datei, in der Datensätze zeilenweise aufgeführt sind.\n",
    "# Jede Spalte ist durch ein Semikolon (\";\") getrennt.\n",
    "\n",
    "# df_käfer ist eine eigene Variable und steht für \"dataframe Käfer\"\n",
    "df_kaefer = pd.read_csv('Kaefer.csv', sep=';')\n",
    "\n",
    "# zeige den Datensatz \"df_käfer\" an\n",
    "display(df_kaefer)"
   ]
  },
  {
   "cell_type": "markdown",
   "metadata": {},
   "source": [
    "\n",
    "# Entscheidungsbaum automatisch generieren und anzeigen"
   ]
  },
  {
   "cell_type": "markdown",
   "metadata": {},
   "source": [
    "Im Folgenden wird ein Baum erzeugt und dargestellt. Bitte führe die folgenden Code-Zellen aus."
   ]
  },
  {
   "cell_type": "code",
   "execution_count": 3,
   "metadata": {},
   "outputs": [],
   "source": [
    "# Entscheidungsbaum initialisieren mit der Zielvariable (hier in Spalte \"Insekt\") und den Trainingsdaten \"df_käfer\"\n",
    "tree = ct.DecisionTree(target = 'Insekt', data = df_kaefer)"
   ]
  },
  {
   "cell_type": "code",
   "execution_count": 4,
   "metadata": {},
   "outputs": [
    {
     "data": {
      "image/svg+xml": [
       "<?xml version=\"1.0\" encoding=\"UTF-8\" standalone=\"no\"?>\n",
       "<!DOCTYPE svg PUBLIC \"-//W3C//DTD SVG 1.1//EN\"\n",
       " \"http://www.w3.org/Graphics/SVG/1.1/DTD/svg11.dtd\">\n",
       "<!-- Generated by graphviz version 2.40.1 (20161225.0304)\n",
       " -->\n",
       "<!-- Title: %3 Pages: 1 -->\n",
       "<svg width=\"168pt\" height=\"209pt\"\n",
       " viewBox=\"0.00 0.00 168.00 209.00\" xmlns=\"http://www.w3.org/2000/svg\" xmlns:xlink=\"http://www.w3.org/1999/xlink\">\n",
       "<g id=\"graph0\" class=\"graph\" transform=\"scale(1 1) rotate(0) translate(4 205)\">\n",
       "<title>%3</title>\n",
       "<polygon fill=\"#ffffff\" stroke=\"transparent\" points=\"-4,4 -4,-205 164,-205 164,4 -4,4\"/>\n",
       "<polygon fill=\"#add8e6\" stroke=\"transparent\" points=\"8,-153 8,-197 114,-197 114,-153 8,-153\"/>\n",
       "<polygon fill=\"none\" stroke=\"#000000\" points=\"11,-175 11,-194 111,-194 111,-175 11,-175\"/>\n",
       "<text text-anchor=\"start\" x=\"39\" y=\"-181.4\" font-family=\"Times,serif\" font-size=\"12.00\" fill=\"#000000\">Insekt? &#160;&#160;</text>\n",
       "<polygon fill=\"none\" stroke=\"#000000\" points=\"11,-156 11,-173 111,-173 111,-156 11,-156\"/>\n",
       "<text text-anchor=\"start\" x=\"14\" y=\"-162\" font-family=\"Times,serif\" font-size=\"10.00\" fill=\"#696969\">[&#39;Marienkäfer&#39;, &#39;Raupe&#39;]</text>\n",
       "<polygon fill=\"none\" stroke=\"#000000\" points=\"8,-153 8,-197 114,-197 114,-153 8,-153\"/>\n",
       "<!-- 1 -->\n",
       "<g id=\"node1\" class=\"node\">\n",
       "<title>1</title>\n",
       "<polygon fill=\"none\" stroke=\"#000000\" points=\"59,-103.5 59,-148.5 117,-148.5 117,-103.5 59,-103.5\"/>\n",
       "<text text-anchor=\"start\" x=\"67\" y=\"-136\" font-family=\"Times,serif\" font-size=\"10.00\" fill=\"#696969\">[100, 100]</text>\n",
       "<text text-anchor=\"start\" x=\"67\" y=\"-121.8\" font-family=\"Times,serif\" font-size=\"14.00\" fill=\"#000000\">Länge?</text>\n",
       "<text text-anchor=\"start\" x=\"90\" y=\"-110\" font-family=\"Times,serif\" font-size=\"10.00\" fill=\"#696969\">Nr.1</text>\n",
       "</g>\n",
       "<!-- 2 -->\n",
       "<g id=\"node2\" class=\"node\">\n",
       "<title>2</title>\n",
       "<polygon fill=\"#ffff00\" stroke=\"#ffff00\" points=\"0,-.5 0,-51.5 88,-51.5 88,-.5 0,-.5\"/>\n",
       "<text text-anchor=\"start\" x=\"25.5\" y=\"-38\" font-family=\"Times,serif\" font-size=\"10.00\" fill=\"#696969\">[100, 15]</text>\n",
       "<text text-anchor=\"start\" x=\"9\" y=\"-21.8\" font-family=\"Times,serif\" font-size=\"14.00\" fill=\"#000000\">Marienkäfer</text>\n",
       "<text text-anchor=\"start\" x=\"60\" y=\"-8\" font-family=\"Times,serif\" font-size=\"10.00\" fill=\"#696969\">Nr.2</text>\n",
       "</g>\n",
       "<!-- 1&#45;&gt;2 -->\n",
       "<g id=\"edge1\" class=\"edge\">\n",
       "<title>1&#45;&gt;2</title>\n",
       "<path fill=\"none\" stroke=\"#000000\" d=\"M78.0157,-103.3085C72.5358,-90.8542 65.6212,-75.1391 59.4595,-61.1353\"/>\n",
       "<polygon fill=\"#000000\" stroke=\"#000000\" points=\"62.572,-59.5184 55.3409,-51.7748 56.1648,-62.3376 62.572,-59.5184\"/>\n",
       "<text text-anchor=\"middle\" x=\"86.5\" y=\"-73.8\" font-family=\"Times,serif\" font-size=\"14.00\" fill=\"#000000\">≤0.53</text>\n",
       "</g>\n",
       "<!-- 3 -->\n",
       "<g id=\"node3\" class=\"node\">\n",
       "<title>3</title>\n",
       "<polygon fill=\"#ffff00\" stroke=\"#ffff00\" points=\"106,-.5 106,-51.5 160,-51.5 160,-.5 106,-.5\"/>\n",
       "<text text-anchor=\"start\" x=\"119.5\" y=\"-38\" font-family=\"Times,serif\" font-size=\"10.00\" fill=\"#696969\">[0, 85]</text>\n",
       "<text text-anchor=\"start\" x=\"115\" y=\"-21.8\" font-family=\"Times,serif\" font-size=\"14.00\" fill=\"#000000\">Raupe</text>\n",
       "<text text-anchor=\"start\" x=\"132\" y=\"-8\" font-family=\"Times,serif\" font-size=\"10.00\" fill=\"#696969\">Nr.3</text>\n",
       "</g>\n",
       "<!-- 1&#45;&gt;3 -->\n",
       "<g id=\"edge2\" class=\"edge\">\n",
       "<title>1&#45;&gt;3</title>\n",
       "<path fill=\"none\" stroke=\"#000000\" d=\"M98.5297,-103.4784C101.307,-97.4836 104.2857,-91.0051 107,-85 110.5071,-77.2408 114.2257,-68.8834 117.7204,-60.9683\"/>\n",
       "<polygon fill=\"#000000\" stroke=\"#000000\" points=\"121.0174,-62.1656 121.8429,-51.6029 114.6106,-59.3454 121.0174,-62.1656\"/>\n",
       "<text text-anchor=\"middle\" x=\"129.5\" y=\"-73.8\" font-family=\"Times,serif\" font-size=\"14.00\" fill=\"#000000\">&gt;0.53</text>\n",
       "</g>\n",
       "</g>\n",
       "</svg>\n"
      ],
      "text/plain": [
       "<graphviz.dot.Digraph at 0x7fdf33b6e790>"
      ]
     },
     "execution_count": 4,
     "metadata": {},
     "output_type": "execute_result"
    }
   ],
   "source": [
    "# Entscheidungsbaum automatisiert erstellen \n",
    "tree.grow_tree(max_depth=1)\n",
    "\n",
    "# Entscheidungsbaum ausgeben\n",
    "tree.print_tree()"
   ]
  },
  {
   "cell_type": "markdown",
   "metadata": {},
   "source": [
    "Im Datensatz <code>df_käfer</code> sind 100 Marienkäfer und 100 Raupen erfasst worden."
   ]
  },
  {
   "cell_type": "code",
   "execution_count": 5,
   "metadata": {},
   "outputs": [
    {
     "data": {
      "image/svg+xml": [
       "<?xml version=\"1.0\" encoding=\"UTF-8\" standalone=\"no\"?>\n",
       "<!DOCTYPE svg PUBLIC \"-//W3C//DTD SVG 1.1//EN\"\n",
       " \"http://www.w3.org/Graphics/SVG/1.1/DTD/svg11.dtd\">\n",
       "<!-- Generated by graphviz version 2.40.1 (20161225.0304)\n",
       " -->\n",
       "<!-- Title: %3 Pages: 1 -->\n",
       "<svg width=\"168pt\" height=\"209pt\"\n",
       " viewBox=\"0.00 0.00 168.00 209.00\" xmlns=\"http://www.w3.org/2000/svg\" xmlns:xlink=\"http://www.w3.org/1999/xlink\">\n",
       "<g id=\"graph0\" class=\"graph\" transform=\"scale(1 1) rotate(0) translate(4 205)\">\n",
       "<title>%3</title>\n",
       "<polygon fill=\"#ffffff\" stroke=\"transparent\" points=\"-4,4 -4,-205 164,-205 164,4 -4,4\"/>\n",
       "<polygon fill=\"#add8e6\" stroke=\"transparent\" points=\"8,-153 8,-197 114,-197 114,-153 8,-153\"/>\n",
       "<polygon fill=\"none\" stroke=\"#000000\" points=\"11,-175 11,-194 111,-194 111,-175 11,-175\"/>\n",
       "<text text-anchor=\"start\" x=\"39\" y=\"-181.4\" font-family=\"Times,serif\" font-size=\"12.00\" fill=\"#000000\">Insekt? &#160;&#160;</text>\n",
       "<polygon fill=\"none\" stroke=\"#000000\" points=\"11,-156 11,-173 111,-173 111,-156 11,-156\"/>\n",
       "<text text-anchor=\"start\" x=\"14\" y=\"-162\" font-family=\"Times,serif\" font-size=\"10.00\" fill=\"#696969\">[&#39;Marienkäfer&#39;, &#39;Raupe&#39;]</text>\n",
       "<polygon fill=\"none\" stroke=\"#000000\" points=\"8,-153 8,-197 114,-197 114,-153 8,-153\"/>\n",
       "<!-- 1 -->\n",
       "<g id=\"node1\" class=\"node\">\n",
       "<title>1</title>\n",
       "<polygon fill=\"none\" stroke=\"#000000\" points=\"59,-103.5 59,-148.5 117,-148.5 117,-103.5 59,-103.5\"/>\n",
       "<text text-anchor=\"start\" x=\"67\" y=\"-136\" font-family=\"Times,serif\" font-size=\"10.00\" fill=\"#696969\">[100, 100]</text>\n",
       "<text text-anchor=\"start\" x=\"67\" y=\"-121.8\" font-family=\"Times,serif\" font-size=\"14.00\" fill=\"#000000\">Länge?</text>\n",
       "<text text-anchor=\"start\" x=\"90\" y=\"-110\" font-family=\"Times,serif\" font-size=\"10.00\" fill=\"#696969\">Nr.1</text>\n",
       "</g>\n",
       "<!-- 2 -->\n",
       "<g id=\"node2\" class=\"node\">\n",
       "<title>2</title>\n",
       "<polygon fill=\"#ffff00\" stroke=\"#ffff00\" points=\"0,-.5 0,-51.5 88,-51.5 88,-.5 0,-.5\"/>\n",
       "<text text-anchor=\"start\" x=\"25.5\" y=\"-38\" font-family=\"Times,serif\" font-size=\"10.00\" fill=\"#696969\">[100, 15]</text>\n",
       "<text text-anchor=\"start\" x=\"9\" y=\"-21.8\" font-family=\"Times,serif\" font-size=\"14.00\" fill=\"#000000\">Marienkäfer</text>\n",
       "<text text-anchor=\"start\" x=\"60\" y=\"-8\" font-family=\"Times,serif\" font-size=\"10.00\" fill=\"#696969\">Nr.2</text>\n",
       "</g>\n",
       "<!-- 1&#45;&gt;2 -->\n",
       "<g id=\"edge1\" class=\"edge\">\n",
       "<title>1&#45;&gt;2</title>\n",
       "<path fill=\"none\" stroke=\"#000000\" d=\"M78.0157,-103.3085C72.5358,-90.8542 65.6212,-75.1391 59.4595,-61.1353\"/>\n",
       "<polygon fill=\"#000000\" stroke=\"#000000\" points=\"62.572,-59.5184 55.3409,-51.7748 56.1648,-62.3376 62.572,-59.5184\"/>\n",
       "<text text-anchor=\"middle\" x=\"86.5\" y=\"-73.8\" font-family=\"Times,serif\" font-size=\"14.00\" fill=\"#000000\">≤0.53</text>\n",
       "</g>\n",
       "<!-- 3 -->\n",
       "<g id=\"node3\" class=\"node\">\n",
       "<title>3</title>\n",
       "<polygon fill=\"#ffff00\" stroke=\"#ffff00\" points=\"106,-.5 106,-51.5 160,-51.5 160,-.5 106,-.5\"/>\n",
       "<text text-anchor=\"start\" x=\"119.5\" y=\"-38\" font-family=\"Times,serif\" font-size=\"10.00\" fill=\"#696969\">[0, 85]</text>\n",
       "<text text-anchor=\"start\" x=\"115\" y=\"-21.8\" font-family=\"Times,serif\" font-size=\"14.00\" fill=\"#000000\">Raupe</text>\n",
       "<text text-anchor=\"start\" x=\"132\" y=\"-8\" font-family=\"Times,serif\" font-size=\"10.00\" fill=\"#696969\">Nr.3</text>\n",
       "</g>\n",
       "<!-- 1&#45;&gt;3 -->\n",
       "<g id=\"edge2\" class=\"edge\">\n",
       "<title>1&#45;&gt;3</title>\n",
       "<path fill=\"none\" stroke=\"#000000\" d=\"M98.5297,-103.4784C101.307,-97.4836 104.2857,-91.0051 107,-85 110.5071,-77.2408 114.2257,-68.8834 117.7204,-60.9683\"/>\n",
       "<polygon fill=\"#000000\" stroke=\"#000000\" points=\"121.0174,-62.1656 121.8429,-51.6029 114.6106,-59.3454 121.0174,-62.1656\"/>\n",
       "<text text-anchor=\"middle\" x=\"129.5\" y=\"-73.8\" font-family=\"Times,serif\" font-size=\"14.00\" fill=\"#000000\">&gt;0.53</text>\n",
       "</g>\n",
       "</g>\n",
       "</svg>\n"
      ],
      "text/plain": [
       "<graphviz.dot.Digraph at 0x7fdf403e23a0>"
      ]
     },
     "execution_count": 5,
     "metadata": {},
     "output_type": "execute_result"
    }
   ],
   "source": [
    "# Entscheidungsbaum initialisieren mit Zielvariable (hier in Spalte \"Insekt\") und Trainingsdaten\n",
    "tree3 = ct.DecisionTree(target = 'Insekt', data = df_kaefer)\n",
    "\n",
    "# Entscheidungsbaum erstellen \n",
    "\n",
    "# threshold bedeutet Schwellenwert\n",
    "tree3.manual_split(attribute = 'Länge',  threshold = 0.53, node_nr = 1) # hier threshold-Wert anpassen\n",
    "\n",
    "#Entscheidungsbaum ausgeben\n",
    "tree3.print_tree()"
   ]
  },
  {
   "cell_type": "markdown",
   "metadata": {},
   "source": [
    "# <div style=\"background-color: lightblue; padding: 5px 20px 20px\">\n",
    "\n",
    "\n",
    "## *Aufgabe: Beschreibe den dargestellten Baum.*"
   ]
  },
  {
   "cell_type": "markdown",
   "metadata": {},
   "source": [
    "<div style=\"background-color: lightblue; padding: 5px 20px 20px\">\n",
    "\n",
    "\n",
    "## *Aufgabe: Erläutere die Bedeutung der Rechtecke mit Rahmen.*\n",
    "    "
   ]
  },
  {
   "cell_type": "markdown",
   "metadata": {},
   "source": [
    "<div style=\"background-color: lightblue; padding: 5px 20px 20px\">\n",
    "\n",
    "\n",
    "## *Aufgabe: Erläutere die Bedeutung der gelb ausgefüllten Rechtecke.*"
   ]
  },
  {
   "cell_type": "markdown",
   "metadata": {},
   "source": [
    "<div style=\"background-color: lightblue; padding: 5px 20px 20px\">\n",
    "\n",
    "\n",
    "## *Aufgabe: Erläutere die Information an den Pfeilen.*\n",
    "    "
   ]
  },
  {
   "cell_type": "markdown",
   "metadata": {},
   "source": [
    "<div style=\"background-color: lightblue; padding: 5px 20px 20px\">\n",
    "\n",
    "\n",
    "## *Aufgabe: Erläutere, nach welchem Prinzip die Nummern (No _) für die Rechtecke vergeben werden.*"
   ]
  },
  {
   "cell_type": "markdown",
   "metadata": {},
   "source": [
    "<div style=\"background-color: lightblue; padding: 5px 20px 20px\">\n",
    "\n",
    "\n",
    "## *Aufgabe: Erläutere, welche Information in den eckigen Klammern (z. B. [100,15] oder [0,85]) dargestellt wird.*"
   ]
  },
  {
   "cell_type": "markdown",
   "metadata": {},
   "source": [
    "<div style=\"background-color: lightblue; padding: 5px 20px 20px\">\n",
    "\n",
    "\n",
    "## *Aufgabe: Erläutere, wie folgende Insekten mithilfe des Entscheidungsbaumes klassifiziert werden:*\n",
    "    \n",
    "    - Insekt x (Breite|Länge)\n",
    "    - Insekt a (0.6|0.4)\n",
    "    - Insekt b (0.2|0.8)\n",
    "    - Insekt c (0.8|0.4)\n",
    "    - Insekt d (0.5|0.6)"
   ]
  },
  {
   "cell_type": "markdown",
   "metadata": {},
   "source": [
    "# Vertiefung für die Schnellen"
   ]
  },
  {
   "cell_type": "markdown",
   "metadata": {},
   "source": [
    "<div style=\"background-color: lightblue; padding: 5px 20px 20px\">\n",
    "\n",
    "\n",
    "## *Vertiefungsaufgabe: Informiere Dich über die folgenden Fachbegriffe im Kontext von Bäumen:*\n",
    "    - Knoten\n",
    "    - Kante\n",
    "    - Blatt\n",
    "    - Wurzel"
   ]
  },
  {
   "cell_type": "markdown",
   "metadata": {},
   "source": [
    "<div style=\"background-color: lightblue; padding: 5px 20px 20px\">\n",
    "\n",
    "\n",
    "## *Vertiefungsaufgabe: Erläutere den dargestellten Entscheidungsbaum unter Verwendung der Fachbegriffe.*"
   ]
  }
 ],
 "metadata": {
  "celltoolbar": "Raw Cell Format",
  "hide_input": false,
  "kernelspec": {
   "display_name": "Python 3 (ipykernel)",
   "language": "python",
   "name": "python3"
  },
  "language_info": {
   "codemirror_mode": {
    "name": "ipython",
    "version": 3
   },
   "file_extension": ".py",
   "mimetype": "text/x-python",
   "name": "python",
   "nbconvert_exporter": "python",
   "pygments_lexer": "ipython3",
   "version": "3.8.2"
  },
  "latex_envs": {
   "LaTeX_envs_menu_present": true,
   "autoclose": false,
   "autocomplete": true,
   "bibliofile": "biblio.bib",
   "cite_by": "apalike",
   "current_citInitial": 1,
   "eqLabelWithNumbers": true,
   "eqNumInitial": 1,
   "hotkeys": {
    "equation": "Ctrl-E",
    "itemize": "Ctrl-I"
   },
   "labels_anchors": false,
   "latex_user_defs": false,
   "report_style_numbering": false,
   "user_envs_cfg": true
  },
  "toc": {
   "base_numbering": 1,
   "nav_menu": {},
   "number_sections": true,
   "sideBar": true,
   "skip_h1_title": false,
   "title_cell": "Table of Contents",
   "title_sidebar": "Contents",
   "toc_cell": false,
   "toc_position": {},
   "toc_section_display": true,
   "toc_window_display": true
  },
  "varInspector": {
   "cols": {
    "lenName": 16,
    "lenType": 16,
    "lenVar": 40
   },
   "kernels_config": {
    "python": {
     "delete_cmd_postfix": "",
     "delete_cmd_prefix": "del ",
     "library": "var_list.py",
     "varRefreshCmd": "print(var_dic_list())"
    },
    "r": {
     "delete_cmd_postfix": ") ",
     "delete_cmd_prefix": "rm(",
     "library": "var_list.r",
     "varRefreshCmd": "cat(var_dic_list()) "
    }
   },
   "types_to_exclude": [
    "module",
    "function",
    "builtin_function_or_method",
    "instance",
    "_Feature"
   ],
   "window_display": false
  }
 },
 "nbformat": 4,
 "nbformat_minor": 2
}
