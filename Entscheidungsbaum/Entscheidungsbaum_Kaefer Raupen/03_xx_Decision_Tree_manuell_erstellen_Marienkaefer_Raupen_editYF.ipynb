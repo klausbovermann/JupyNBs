{
 "cells": [
  {
   "cell_type": "markdown",
   "metadata": {},
   "source": [
    "# Wie können wir manuell einen Entscheidungsbaum entwickeln?"
   ]
  },
  {
   "cell_type": "markdown",
   "metadata": {},
   "source": [
    "Wir haben zwei **Klassen** von Insekten: \n",
    "- \"Marienkäfer\"\n",
    "- \"Raupe\" \n"
   ]
  },
  {
   "cell_type": "markdown",
   "metadata": {},
   "source": [
    "<td> \n",
    "    <img src=\"Bilder\\marienkaefer.jpg\" alt=\"Drawing\" style=\"width: 100px; float: left;\"  hspace=40 /> \n",
    "    <img src=\"Bilder\\raupe.jpg\" alt=\"Drawing\" style=\"width: 100px; float: left;\" hspace=40/>\n",
    "</td>"
   ]
  },
  {
   "cell_type": "code",
   "execution_count": 9,
   "metadata": {},
   "outputs": [
    {
     "data": {
      "text/html": [
       "        <script type=\"text/javascript\">\n",
       "        window.PlotlyConfig = {MathJaxConfig: 'local'};\n",
       "        if (window.MathJax) {MathJax.Hub.Config({SVG: {font: \"STIX-Web\"}});}\n",
       "        if (typeof require !== 'undefined') {\n",
       "        require.undef(\"plotly\");\n",
       "        requirejs.config({\n",
       "            paths: {\n",
       "                'plotly': ['https://cdn.plot.ly/plotly-latest.min']\n",
       "            }\n",
       "        });\n",
       "        require(['plotly'], function(Plotly) {\n",
       "            window._Plotly = Plotly;\n",
       "        });\n",
       "        }\n",
       "        </script>\n",
       "        "
      ]
     },
     "metadata": {},
     "output_type": "display_data"
    }
   ],
   "source": [
    "# Dieser Quelltext ist nicht prüfungsrelevant.\n",
    "\n",
    "# Bibliotheken importieren\n",
    "import pandas as pd\n",
    "from PyTree import ClassificationTree as ct\n",
    "from ipywidgets import interactive\n",
    "from plotly.offline import iplot\n",
    "import plotly as py\n",
    "import cufflinks as cf\n",
    "cf.go_offline()"
   ]
  },
  {
   "cell_type": "markdown",
   "metadata": {},
   "source": [
    "## Trainingsdaten vs. Testdaten\n",
    "Das Modell wird nur mit den Trainingsdaten trainiert.\n",
    "\n",
    "Mit Testdaten wird die Qualität des Modells überprüft.\n",
    "Das erstellte Modell so möglichst gut die bisher unbekannten Testdaten klassifizieren."
   ]
  },
  {
   "cell_type": "code",
   "execution_count": 10,
   "metadata": {},
   "outputs": [
    {
     "name": "stdout",
     "output_type": "stream",
     "text": [
      "Trainingsdaten\n"
     ]
    },
    {
     "data": {
      "text/html": [
       "<div>\n",
       "<style scoped>\n",
       "    .dataframe tbody tr th:only-of-type {\n",
       "        vertical-align: middle;\n",
       "    }\n",
       "\n",
       "    .dataframe tbody tr th {\n",
       "        vertical-align: top;\n",
       "    }\n",
       "\n",
       "    .dataframe thead th {\n",
       "        text-align: right;\n",
       "    }\n",
       "</style>\n",
       "<table border=\"1\" class=\"dataframe\">\n",
       "  <thead>\n",
       "    <tr style=\"text-align: right;\">\n",
       "      <th></th>\n",
       "      <th>Breite</th>\n",
       "      <th>Länge</th>\n",
       "      <th>Insekt</th>\n",
       "    </tr>\n",
       "  </thead>\n",
       "  <tbody>\n",
       "    <tr>\n",
       "      <th>0</th>\n",
       "      <td>0.48</td>\n",
       "      <td>0.38</td>\n",
       "      <td>Marienkäfer</td>\n",
       "    </tr>\n",
       "    <tr>\n",
       "      <th>1</th>\n",
       "      <td>0.32</td>\n",
       "      <td>0.74</td>\n",
       "      <td>Raupe</td>\n",
       "    </tr>\n",
       "    <tr>\n",
       "      <th>2</th>\n",
       "      <td>0.49</td>\n",
       "      <td>0.27</td>\n",
       "      <td>Marienkäfer</td>\n",
       "    </tr>\n",
       "    <tr>\n",
       "      <th>3</th>\n",
       "      <td>0.58</td>\n",
       "      <td>0.46</td>\n",
       "      <td>Marienkäfer</td>\n",
       "    </tr>\n",
       "    <tr>\n",
       "      <th>4</th>\n",
       "      <td>0.11</td>\n",
       "      <td>0.58</td>\n",
       "      <td>Raupe</td>\n",
       "    </tr>\n",
       "    <tr>\n",
       "      <th>5</th>\n",
       "      <td>0.41</td>\n",
       "      <td>0.32</td>\n",
       "      <td>Marienkäfer</td>\n",
       "    </tr>\n",
       "    <tr>\n",
       "      <th>6</th>\n",
       "      <td>0.32</td>\n",
       "      <td>0.83</td>\n",
       "      <td>Raupe</td>\n",
       "    </tr>\n",
       "    <tr>\n",
       "      <th>7</th>\n",
       "      <td>0.45</td>\n",
       "      <td>0.31</td>\n",
       "      <td>Marienkäfer</td>\n",
       "    </tr>\n",
       "    <tr>\n",
       "      <th>8</th>\n",
       "      <td>0.58</td>\n",
       "      <td>0.42</td>\n",
       "      <td>Marienkäfer</td>\n",
       "    </tr>\n",
       "    <tr>\n",
       "      <th>9</th>\n",
       "      <td>0.37</td>\n",
       "      <td>0.95</td>\n",
       "      <td>Raupe</td>\n",
       "    </tr>\n",
       "  </tbody>\n",
       "</table>\n",
       "</div>"
      ],
      "text/plain": [
       "   Breite  Länge       Insekt\n",
       "0    0.48   0.38  Marienkäfer\n",
       "1    0.32   0.74        Raupe\n",
       "2    0.49   0.27  Marienkäfer\n",
       "3    0.58   0.46  Marienkäfer\n",
       "4    0.11   0.58        Raupe\n",
       "5    0.41   0.32  Marienkäfer\n",
       "6    0.32   0.83        Raupe\n",
       "7    0.45   0.31  Marienkäfer\n",
       "8    0.58   0.42  Marienkäfer\n",
       "9    0.37   0.95        Raupe"
      ]
     },
     "metadata": {},
     "output_type": "display_data"
    }
   ],
   "source": [
    "# Trainingsdaten einlesen -> \"data frame käfer trainingsdaten\"\n",
    "df_käfer_trainingsdaten = pd.read_csv('Käfer.csv', sep=';')\n",
    "\n",
    "# zeige den Anfang des Datensatzes \"df_käfer_trainingsdaten\" an\n",
    "print(\"Trainingsdaten\")\n",
    "display(df_käfer_trainingsdaten.head(10))"
   ]
  },
  {
   "cell_type": "markdown",
   "metadata": {},
   "source": [
    "## Einen Entscheidungsbaum mit einer Entscheidungsregel manuell erstellen"
   ]
  },
  {
   "cell_type": "code",
   "execution_count": 11,
   "metadata": {},
   "outputs": [],
   "source": [
    "# Entscheidungsbaum initialisieren mit Zielvariable (hier in Spalte \"Insekt\") und Trainingsdaten\n",
    "tree = ct.DecisionTree(target = 'Insekt', data = df_käfer_trainingsdaten)"
   ]
  },
  {
   "cell_type": "code",
   "execution_count": 12,
   "metadata": {},
   "outputs": [
    {
     "data": {
      "application/vnd.jupyter.widget-view+json": {
       "model_id": "e997aa22951640b4bfaca94a6841297d",
       "version_major": 2,
       "version_minor": 0
      },
      "text/plain": [
       "interactive(children=(Dropdown(description='attribute', options=('Länge', 'Breite'), value='Länge'), FloatSlid…"
      ]
     },
     "metadata": {},
     "output_type": "display_data"
    }
   ],
   "source": [
    "#Entscheidungsbaum mit einer Entscheidungsregel erstellen \n",
    "\n",
    "# threshold bedeutet Schwellenwert\n",
    "def split(attribute, schwellwert):\n",
    "    \n",
    "    tree.manual_split(attribute = attribute,  threshold = schwellwert, node_nr = 1)                    \n",
    "                        \n",
    "    display(tree.print_tree())\n",
    "    \n",
    "tree_widget = interactive(split,{'manual': True, 'manual_name': 'Erstelle Split'} , \n",
    "                          attribute = ['Länge', 'Breite'], \n",
    "                          schwellwert = (0.0,1.0,0.01) ) \n",
    "display (tree_widget)\n"
   ]
  },
  {
   "cell_type": "code",
   "execution_count": 13,
   "metadata": {},
   "outputs": [
    {
     "data": {
      "image/svg+xml": [
       "<?xml version=\"1.0\" encoding=\"UTF-8\" standalone=\"no\"?>\n",
       "<!DOCTYPE svg PUBLIC \"-//W3C//DTD SVG 1.1//EN\"\n",
       " \"http://www.w3.org/Graphics/SVG/1.1/DTD/svg11.dtd\">\n",
       "<!-- Generated by graphviz version 2.40.1 (20161225.0304)\n",
       " -->\n",
       "<!-- Title: %3 Pages: 1 -->\n",
       "<svg width=\"168pt\" height=\"209pt\"\n",
       " viewBox=\"0.00 0.00 168.00 209.00\" xmlns=\"http://www.w3.org/2000/svg\" xmlns:xlink=\"http://www.w3.org/1999/xlink\">\n",
       "<g id=\"graph0\" class=\"graph\" transform=\"scale(1 1) rotate(0) translate(4 205)\">\n",
       "<title>%3</title>\n",
       "<polygon fill=\"#ffffff\" stroke=\"transparent\" points=\"-4,4 -4,-205 164,-205 164,4 -4,4\"/>\n",
       "<polygon fill=\"#add8e6\" stroke=\"transparent\" points=\"8,-153 8,-197 114,-197 114,-153 8,-153\"/>\n",
       "<polygon fill=\"none\" stroke=\"#000000\" points=\"11,-175 11,-194 111,-194 111,-175 11,-175\"/>\n",
       "<text text-anchor=\"start\" x=\"39\" y=\"-181.4\" font-family=\"Times,serif\" font-size=\"12.00\" fill=\"#000000\">Insekt? &#160;&#160;</text>\n",
       "<polygon fill=\"none\" stroke=\"#000000\" points=\"11,-156 11,-173 111,-173 111,-156 11,-156\"/>\n",
       "<text text-anchor=\"start\" x=\"14\" y=\"-162\" font-family=\"Times,serif\" font-size=\"10.00\" fill=\"#696969\">[&#39;Marienkäfer&#39;, &#39;Raupe&#39;]</text>\n",
       "<polygon fill=\"none\" stroke=\"#000000\" points=\"8,-153 8,-197 114,-197 114,-153 8,-153\"/>\n",
       "<!-- 1 -->\n",
       "<g id=\"node1\" class=\"node\">\n",
       "<title>1</title>\n",
       "<polygon fill=\"none\" stroke=\"#000000\" points=\"59,-103.5 59,-148.5 117,-148.5 117,-103.5 59,-103.5\"/>\n",
       "<text text-anchor=\"start\" x=\"67\" y=\"-136\" font-family=\"Times,serif\" font-size=\"10.00\" fill=\"#696969\">[100, 100]</text>\n",
       "<text text-anchor=\"start\" x=\"67\" y=\"-121.8\" font-family=\"Times,serif\" font-size=\"14.00\" fill=\"#000000\">Länge?</text>\n",
       "<text text-anchor=\"start\" x=\"90\" y=\"-110\" font-family=\"Times,serif\" font-size=\"10.00\" fill=\"#696969\">Nr.1</text>\n",
       "</g>\n",
       "<!-- 2 -->\n",
       "<g id=\"node2\" class=\"node\">\n",
       "<title>2</title>\n",
       "<polygon fill=\"#ffff00\" stroke=\"#ffff00\" points=\"0,-.5 0,-51.5 88,-51.5 88,-.5 0,-.5\"/>\n",
       "<text text-anchor=\"start\" x=\"28\" y=\"-38\" font-family=\"Times,serif\" font-size=\"10.00\" fill=\"#696969\">[95, 12]</text>\n",
       "<text text-anchor=\"start\" x=\"9\" y=\"-21.8\" font-family=\"Times,serif\" font-size=\"14.00\" fill=\"#000000\">Marienkäfer</text>\n",
       "<text text-anchor=\"start\" x=\"60\" y=\"-8\" font-family=\"Times,serif\" font-size=\"10.00\" fill=\"#696969\">Nr.2</text>\n",
       "</g>\n",
       "<!-- 1&#45;&gt;2 -->\n",
       "<g id=\"edge1\" class=\"edge\">\n",
       "<title>1&#45;&gt;2</title>\n",
       "<path fill=\"none\" stroke=\"#000000\" d=\"M78.0157,-103.3085C72.5358,-90.8542 65.6212,-75.1391 59.4595,-61.1353\"/>\n",
       "<polygon fill=\"#000000\" stroke=\"#000000\" points=\"62.572,-59.5184 55.3409,-51.7748 56.1648,-62.3376 62.572,-59.5184\"/>\n",
       "<text text-anchor=\"middle\" x=\"83\" y=\"-73.8\" font-family=\"Times,serif\" font-size=\"14.00\" fill=\"#000000\">≤0.5</text>\n",
       "</g>\n",
       "<!-- 3 -->\n",
       "<g id=\"node3\" class=\"node\">\n",
       "<title>3</title>\n",
       "<polygon fill=\"#ffff00\" stroke=\"#ffff00\" points=\"106,-.5 106,-51.5 160,-51.5 160,-.5 106,-.5\"/>\n",
       "<text text-anchor=\"start\" x=\"119.5\" y=\"-38\" font-family=\"Times,serif\" font-size=\"10.00\" fill=\"#696969\">[5, 88]</text>\n",
       "<text text-anchor=\"start\" x=\"115\" y=\"-21.8\" font-family=\"Times,serif\" font-size=\"14.00\" fill=\"#000000\">Raupe</text>\n",
       "<text text-anchor=\"start\" x=\"132\" y=\"-8\" font-family=\"Times,serif\" font-size=\"10.00\" fill=\"#696969\">Nr.3</text>\n",
       "</g>\n",
       "<!-- 1&#45;&gt;3 -->\n",
       "<g id=\"edge2\" class=\"edge\">\n",
       "<title>1&#45;&gt;3</title>\n",
       "<path fill=\"none\" stroke=\"#000000\" d=\"M98.2112,-103.3085C103.8156,-90.8542 110.8874,-75.1391 117.1891,-61.1353\"/>\n",
       "<polygon fill=\"#000000\" stroke=\"#000000\" points=\"120.4894,-62.3303 121.4013,-51.7748 114.1059,-59.4578 120.4894,-62.3303\"/>\n",
       "<text text-anchor=\"middle\" x=\"126\" y=\"-73.8\" font-family=\"Times,serif\" font-size=\"14.00\" fill=\"#000000\">&gt;0.5</text>\n",
       "</g>\n",
       "</g>\n",
       "</svg>\n"
      ],
      "text/plain": [
       "<graphviz.dot.Digraph at 0x7fa3800973a0>"
      ]
     },
     "execution_count": 13,
     "metadata": {},
     "output_type": "execute_result"
    }
   ],
   "source": [
    "#Entscheidungsbaum mit einer Entscheidungsregel erstellen \n",
    "\n",
    "# threshold bedeutet Schwellenwert\n",
    "\n",
    "tree.manual_split(attribute = 'Länge',  threshold = 0.5, node_nr = 1) # hier threshold und attribute anpassen\n",
    "\n",
    "#Entscheidungsbaum ausgeben\n",
    "tree.print_tree()"
   ]
  },
  {
   "cell_type": "markdown",
   "metadata": {},
   "source": [
    "<div style=\"background-color: lightblue; padding: 5px 20px 20px\">\n",
    "\n",
    "**Aufgabe 1**\n",
    "    \n",
    "1.1. *Erläutere, wie viele Insekte im obigen Beispiel mit dem Schwellenwert von jeweils 0.5 falsch klassifiziert werden.*\n",
    "    \n",
    "    Tipp: Die Zahlen in den eckigen Klammern (hier: z. B. [95,12]) sind von Bedeutung.\n",
    "    \n",
    "1.2  *Erläutere, warum in Knoten Nr.2 die Entscheidung \"Marienkäfer\" gewählt wurde und warum in Knoten Nr.3 die Entscheidung \"Raupe\" gewählt wurde.*  \n",
    "    \n",
    "    Tipp: Die Zahlen in den eckigen Klammern (hier: z. B. [95,12]) sind auch hier von Bedeutung.\n",
    "    \n",
    "1.3. *Verändere im vorherigen Quelltext den Schwellenwert (threshold) so, dass die Anzahl der Fehlklassifikationen minimal wird. Notiere die beste Wahl der gefundenen Schwellenwerte.*\n",
    "    \n",
    "1.4. *Verändere im vorherigen Quelltext das Attribut (attribute), sodass die Breite (und nicht mehr die Länge) betrachtet wird. Suche erneut den besten Schwellwert und notiere ihn. Für welches Attribut konntest du einen besseren Schwellwert finden?*"
   ]
  },
  {
   "cell_type": "markdown",
   "metadata": {},
   "source": [
    "## Einen Entscheidungsbaum mit mehreren Entscheidungsregeln manuell erstellen"
   ]
  },
  {
   "cell_type": "code",
   "execution_count": 14,
   "metadata": {},
   "outputs": [
    {
     "data": {
      "image/svg+xml": [
       "<?xml version=\"1.0\" encoding=\"UTF-8\" standalone=\"no\"?>\n",
       "<!DOCTYPE svg PUBLIC \"-//W3C//DTD SVG 1.1//EN\"\n",
       " \"http://www.w3.org/Graphics/SVG/1.1/DTD/svg11.dtd\">\n",
       "<!-- Generated by graphviz version 2.40.1 (20161225.0304)\n",
       " -->\n",
       "<!-- Title: %3 Pages: 1 -->\n",
       "<svg width=\"380pt\" height=\"306pt\"\n",
       " viewBox=\"0.00 0.00 380.00 306.00\" xmlns=\"http://www.w3.org/2000/svg\" xmlns:xlink=\"http://www.w3.org/1999/xlink\">\n",
       "<g id=\"graph0\" class=\"graph\" transform=\"scale(1 1) rotate(0) translate(4 302)\">\n",
       "<title>%3</title>\n",
       "<polygon fill=\"#ffffff\" stroke=\"transparent\" points=\"-4,4 -4,-302 376,-302 376,4 -4,4\"/>\n",
       "<polygon fill=\"#add8e6\" stroke=\"transparent\" points=\"8,-250 8,-294 114,-294 114,-250 8,-250\"/>\n",
       "<polygon fill=\"none\" stroke=\"#000000\" points=\"11,-272 11,-291 111,-291 111,-272 11,-272\"/>\n",
       "<text text-anchor=\"start\" x=\"39\" y=\"-278.4\" font-family=\"Times,serif\" font-size=\"12.00\" fill=\"#000000\">Insekt? &#160;&#160;</text>\n",
       "<polygon fill=\"none\" stroke=\"#000000\" points=\"11,-253 11,-270 111,-270 111,-253 11,-253\"/>\n",
       "<text text-anchor=\"start\" x=\"14\" y=\"-259\" font-family=\"Times,serif\" font-size=\"10.00\" fill=\"#696969\">[&#39;Marienkäfer&#39;, &#39;Raupe&#39;]</text>\n",
       "<polygon fill=\"none\" stroke=\"#000000\" points=\"8,-250 8,-294 114,-294 114,-250 8,-250\"/>\n",
       "<!-- 1 -->\n",
       "<g id=\"node1\" class=\"node\">\n",
       "<title>1</title>\n",
       "<polygon fill=\"none\" stroke=\"#000000\" points=\"165,-200.5 165,-245.5 223,-245.5 223,-200.5 165,-200.5\"/>\n",
       "<text text-anchor=\"start\" x=\"173\" y=\"-233\" font-family=\"Times,serif\" font-size=\"10.00\" fill=\"#696969\">[100, 100]</text>\n",
       "<text text-anchor=\"start\" x=\"173\" y=\"-218.8\" font-family=\"Times,serif\" font-size=\"14.00\" fill=\"#000000\">Länge?</text>\n",
       "<text text-anchor=\"start\" x=\"196\" y=\"-207\" font-family=\"Times,serif\" font-size=\"10.00\" fill=\"#696969\">Nr.1</text>\n",
       "</g>\n",
       "<!-- 2 -->\n",
       "<g id=\"node2\" class=\"node\">\n",
       "<title>2</title>\n",
       "<polygon fill=\"none\" stroke=\"#000000\" points=\"121.5,-103.5 121.5,-148.5 178.5,-148.5 178.5,-103.5 121.5,-103.5\"/>\n",
       "<text text-anchor=\"start\" x=\"134.5\" y=\"-136\" font-family=\"Times,serif\" font-size=\"10.00\" fill=\"#696969\">[95, 12]</text>\n",
       "<text text-anchor=\"start\" x=\"130\" y=\"-121.8\" font-family=\"Times,serif\" font-size=\"14.00\" fill=\"#000000\">Breite?</text>\n",
       "<text text-anchor=\"start\" x=\"152\" y=\"-110\" font-family=\"Times,serif\" font-size=\"10.00\" fill=\"#696969\">Nr.2</text>\n",
       "</g>\n",
       "<!-- 1&#45;&gt;2 -->\n",
       "<g id=\"edge1\" class=\"edge\">\n",
       "<title>1&#45;&gt;2</title>\n",
       "<path fill=\"none\" stroke=\"#000000\" d=\"M183.5726,-200.0124C177.8738,-187.449 170.7266,-171.6928 164.4931,-157.9507\"/>\n",
       "<polygon fill=\"#000000\" stroke=\"#000000\" points=\"167.671,-156.4837 160.3525,-148.8226 161.2961,-159.3754 167.671,-156.4837\"/>\n",
       "<text text-anchor=\"middle\" x=\"188\" y=\"-170.8\" font-family=\"Times,serif\" font-size=\"14.00\" fill=\"#000000\">≤0.5</text>\n",
       "</g>\n",
       "<!-- 3 -->\n",
       "<g id=\"node3\" class=\"node\">\n",
       "<title>3</title>\n",
       "<polygon fill=\"none\" stroke=\"#000000\" points=\"210.5,-103.5 210.5,-148.5 267.5,-148.5 267.5,-103.5 210.5,-103.5\"/>\n",
       "<text text-anchor=\"start\" x=\"226\" y=\"-136\" font-family=\"Times,serif\" font-size=\"10.00\" fill=\"#696969\">[5, 88]</text>\n",
       "<text text-anchor=\"start\" x=\"219\" y=\"-121.8\" font-family=\"Times,serif\" font-size=\"14.00\" fill=\"#000000\">Breite?</text>\n",
       "<text text-anchor=\"start\" x=\"241\" y=\"-110\" font-family=\"Times,serif\" font-size=\"10.00\" fill=\"#696969\">Nr.3</text>\n",
       "</g>\n",
       "<!-- 1&#45;&gt;3 -->\n",
       "<g id=\"edge2\" class=\"edge\">\n",
       "<title>1&#45;&gt;3</title>\n",
       "<path fill=\"none\" stroke=\"#000000\" d=\"M204.6644,-200.0124C210.4927,-187.449 217.8023,-171.6928 224.1775,-157.9507\"/>\n",
       "<polygon fill=\"#000000\" stroke=\"#000000\" points=\"227.3787,-159.367 228.4122,-148.8226 221.0288,-156.4211 227.3787,-159.367\"/>\n",
       "<text text-anchor=\"middle\" x=\"232\" y=\"-170.8\" font-family=\"Times,serif\" font-size=\"14.00\" fill=\"#000000\">&gt;0.5</text>\n",
       "</g>\n",
       "<!-- 4 -->\n",
       "<g id=\"node4\" class=\"node\">\n",
       "<title>4</title>\n",
       "<polygon fill=\"#ffff00\" stroke=\"#ffff00\" points=\"0,-.5 0,-51.5 88,-51.5 88,-.5 0,-.5\"/>\n",
       "<text text-anchor=\"start\" x=\"28\" y=\"-38\" font-family=\"Times,serif\" font-size=\"10.00\" fill=\"#696969\">[42, 12]</text>\n",
       "<text text-anchor=\"start\" x=\"9\" y=\"-21.8\" font-family=\"Times,serif\" font-size=\"14.00\" fill=\"#000000\">Marienkäfer</text>\n",
       "<text text-anchor=\"start\" x=\"60\" y=\"-8\" font-family=\"Times,serif\" font-size=\"10.00\" fill=\"#696969\">Nr.4</text>\n",
       "</g>\n",
       "<!-- 2&#45;&gt;4 -->\n",
       "<g id=\"edge3\" class=\"edge\">\n",
       "<title>2&#45;&gt;4</title>\n",
       "<path fill=\"none\" stroke=\"#000000\" d=\"M125.947,-103.3085C111.9838,-90.1357 94.1539,-73.315 78.6934,-58.7296\"/>\n",
       "<polygon fill=\"#000000\" stroke=\"#000000\" points=\"80.9971,-56.0912 71.3213,-51.7748 76.1935,-61.1829 80.9971,-56.0912\"/>\n",
       "<text text-anchor=\"middle\" x=\"120\" y=\"-73.8\" font-family=\"Times,serif\" font-size=\"14.00\" fill=\"#000000\">≤0.5</text>\n",
       "</g>\n",
       "<!-- 5 -->\n",
       "<g id=\"node5\" class=\"node\">\n",
       "<title>5</title>\n",
       "<polygon fill=\"#ffff00\" stroke=\"#ffff00\" points=\"106,-.5 106,-51.5 194,-51.5 194,-.5 106,-.5\"/>\n",
       "<text text-anchor=\"start\" x=\"136.5\" y=\"-38\" font-family=\"Times,serif\" font-size=\"10.00\" fill=\"#696969\">[53, 0]</text>\n",
       "<text text-anchor=\"start\" x=\"115\" y=\"-21.8\" font-family=\"Times,serif\" font-size=\"14.00\" fill=\"#000000\">Marienkäfer</text>\n",
       "<text text-anchor=\"start\" x=\"166\" y=\"-8\" font-family=\"Times,serif\" font-size=\"10.00\" fill=\"#696969\">Nr.5</text>\n",
       "</g>\n",
       "<!-- 2&#45;&gt;5 -->\n",
       "<g id=\"edge4\" class=\"edge\">\n",
       "<title>2&#45;&gt;5</title>\n",
       "<path fill=\"none\" stroke=\"#000000\" d=\"M150,-103.3085C150,-91.0937 150,-75.7423 150,-61.9451\"/>\n",
       "<polygon fill=\"#000000\" stroke=\"#000000\" points=\"153.5001,-61.7748 150,-51.7748 146.5001,-61.7749 153.5001,-61.7748\"/>\n",
       "<text text-anchor=\"middle\" x=\"163\" y=\"-73.8\" font-family=\"Times,serif\" font-size=\"14.00\" fill=\"#000000\">&gt;0.5</text>\n",
       "</g>\n",
       "<!-- 6 -->\n",
       "<g id=\"node6\" class=\"node\">\n",
       "<title>6</title>\n",
       "<polygon fill=\"#ffff00\" stroke=\"#ffff00\" points=\"212,-.5 212,-51.5 266,-51.5 266,-.5 212,-.5\"/>\n",
       "<text text-anchor=\"start\" x=\"225.5\" y=\"-38\" font-family=\"Times,serif\" font-size=\"10.00\" fill=\"#696969\">[0, 88]</text>\n",
       "<text text-anchor=\"start\" x=\"221\" y=\"-21.8\" font-family=\"Times,serif\" font-size=\"14.00\" fill=\"#000000\">Raupe</text>\n",
       "<text text-anchor=\"start\" x=\"238\" y=\"-8\" font-family=\"Times,serif\" font-size=\"10.00\" fill=\"#696969\">Nr.6</text>\n",
       "</g>\n",
       "<!-- 3&#45;&gt;6 -->\n",
       "<g id=\"edge5\" class=\"edge\">\n",
       "<title>3&#45;&gt;6</title>\n",
       "<path fill=\"none\" stroke=\"#000000\" d=\"M239,-103.3085C239,-91.0937 239,-75.7423 239,-61.9451\"/>\n",
       "<polygon fill=\"#000000\" stroke=\"#000000\" points=\"242.5001,-61.7748 239,-51.7748 235.5001,-61.7749 242.5001,-61.7748\"/>\n",
       "<text text-anchor=\"middle\" x=\"252\" y=\"-73.8\" font-family=\"Times,serif\" font-size=\"14.00\" fill=\"#000000\">≤0.5</text>\n",
       "</g>\n",
       "<!-- 7 -->\n",
       "<g id=\"node7\" class=\"node\">\n",
       "<title>7</title>\n",
       "<polygon fill=\"#ffff00\" stroke=\"#ffff00\" points=\"284,-.5 284,-51.5 372,-51.5 372,-.5 284,-.5\"/>\n",
       "<text text-anchor=\"start\" x=\"317\" y=\"-38\" font-family=\"Times,serif\" font-size=\"10.00\" fill=\"#696969\">[5, 0]</text>\n",
       "<text text-anchor=\"start\" x=\"293\" y=\"-21.8\" font-family=\"Times,serif\" font-size=\"14.00\" fill=\"#000000\">Marienkäfer</text>\n",
       "<text text-anchor=\"start\" x=\"344\" y=\"-8\" font-family=\"Times,serif\" font-size=\"10.00\" fill=\"#696969\">Nr.7</text>\n",
       "</g>\n",
       "<!-- 3&#45;&gt;7 -->\n",
       "<g id=\"edge6\" class=\"edge\">\n",
       "<title>3&#45;&gt;7</title>\n",
       "<path fill=\"none\" stroke=\"#000000\" d=\"M259.1955,-103.3085C270.7061,-90.3752 285.3464,-73.9254 298.1607,-59.5273\"/>\n",
       "<polygon fill=\"#000000\" stroke=\"#000000\" points=\"301.0266,-61.5717 305.0604,-51.7748 295.7976,-56.9179 301.0266,-61.5717\"/>\n",
       "<text text-anchor=\"middle\" x=\"301\" y=\"-73.8\" font-family=\"Times,serif\" font-size=\"14.00\" fill=\"#000000\">&gt;0.5</text>\n",
       "</g>\n",
       "</g>\n",
       "</svg>\n"
      ],
      "text/plain": [
       "<graphviz.dot.Digraph at 0x7fa380de3df0>"
      ]
     },
     "execution_count": 14,
     "metadata": {},
     "output_type": "execute_result"
    }
   ],
   "source": [
    "#Entscheidungsbaum mit mehreren Entscheidungsregel erstellen \n",
    "\n",
    "# threshold bedeutet Schwellenwert\n",
    "\n",
    "tree.manual_split(attribute = 'Länge',  threshold = 0.5, node_nr = 1) # hier threshold und attribute anpassen\n",
    "tree.manual_split(attribute = 'Breite',  threshold = 0.5, node_nr = 2) # hier threshold und attribute anpassen\n",
    "tree.manual_split(attribute = 'Breite',  threshold = 0.5, node_nr = 3) # hier threshold und attribute anpassen\n",
    "\n",
    "#Entscheidungsbaum ausgeben\n",
    "tree.print_tree()"
   ]
  },
  {
   "cell_type": "markdown",
   "metadata": {},
   "source": [
    "<div style=\"background-color: lightblue; padding: 5px 20px 20px\">\n",
    "\n",
    "**Aufgabe 2**    \n",
    "\n",
    "2.1. Verändere im vorherigen Quelltext die erste Programmcodezeile \"tree.manual_split(attribute ...)\" so, dass der Schwellenwert (threshold) und das Attribut (attribute) der besten Wahl entsprechen, die du in Aufgabe 1 herausgefunden hast.\n",
    "    \n",
    "    Hinweis: \n",
    "    In Programmcodezeile 2 und 3 muss ein anderes Attribut gewählt werden als in der ersten Programmcodezeile \n",
    "\n",
    "2.2. Verändere im vorherigen Quelltext die Schwellwerte (threshold) in den Programmcodezeilen 2 und 3 so, dass die Anzahl der Fehlklassifikationen minimal wird.   \n",
    "    \n",
    "    \n",
    "**Vertiefungsaufgabe 3**\n",
    "  \n",
    "2.3. *Entferne die letzte Programmcodezeile \"tree.manual_split(attribute ...)\" und passe die Schwellenwerte erneut so an, dass die Anzahl der Fehlklassifikationen minimal wird.*"
   ]
  },
  {
   "cell_type": "markdown",
   "metadata": {},
   "source": [
    "<div style=\"background-color: lightblue; padding: 5px 20px 20px\">\n",
    "    \n",
    "**Aufgabe 4**\n",
    "    \n",
    "3.1. *Erstelle im Folgenden einen optimierten Entscheidungsbaum für den Datensatz **[KäferAlternativ.csv](KäferAlternativ.csv)**.*\n",
    "    \n",
    "    \n",
    "**Vertiefungsaufgabe 5**\n",
    "  \n",
    "4.1. *Erläutere die Strategie, mit der Du Deine Schwellenwerte bestimmt hast.*\n"
   ]
  },
  {
   "cell_type": "code",
   "execution_count": 15,
   "metadata": {},
   "outputs": [],
   "source": [
    "# ab hier kann programmiert werden\n",
    "\n"
   ]
  },
  {
   "cell_type": "markdown",
   "metadata": {},
   "source": [
    "<div style=\"background-color: lightblue; padding: 5px 20px 20px\">\n",
    "    \n",
    "**Aufgabe 5**\n",
    "    \n",
    "1000 Pralinen, die in zwei Güteklassen unterteilt sind, wurden gemessen.\n",
    "\n",
    "    Die Zielvariable ist die Kategorie.\n",
    "    Als Prädiktorvariablen stehen der Durchmesser, das Gewicht und die Farbe zur Verfügung.\n",
    "    \n",
    "    Tipp:\n",
    "        # sortiere die Datensätze nach einer Spalte (aufsteigend) mit Ausgabe\n",
    "        df_käfer.sort_values(by='Insekt')\n",
    "    \n",
    "5.1. *Erläutere den Aufbau des Datensatzes: **[Pralinen.csv](Pralinen.csv)**.*\n",
    "    \n",
    "5.2. *Erstelle im Folgenden einen optimierten Entscheidungsbaum für den Datensatz **[Pralinen.csv](Pralinen.csv)**.*\n",
    "    \n",
    "5.3. *Erläutere nach welchen Kriterien Pralinen in die zwei Güteklassen einsortiert werden.*\n",
    "    \n"
   ]
  },
  {
   "cell_type": "code",
   "execution_count": 16,
   "metadata": {},
   "outputs": [],
   "source": [
    "# ab hier kann programmiert werden\n",
    "\n"
   ]
  },
  {
   "cell_type": "code",
   "execution_count": null,
   "metadata": {},
   "outputs": [],
   "source": []
  },
  {
   "cell_type": "code",
   "execution_count": null,
   "metadata": {},
   "outputs": [],
   "source": []
  }
 ],
 "metadata": {
  "celltoolbar": "Raw Cell Format",
  "hide_input": false,
  "kernelspec": {
   "display_name": "Python 3",
   "language": "python",
   "name": "python3"
  },
  "language_info": {
   "codemirror_mode": {
    "name": "ipython",
    "version": 3
   },
   "file_extension": ".py",
   "mimetype": "text/x-python",
   "name": "python",
   "nbconvert_exporter": "python",
   "pygments_lexer": "ipython3",
   "version": "3.8.2"
  },
  "toc": {
   "base_numbering": 1,
   "nav_menu": {},
   "number_sections": true,
   "sideBar": true,
   "skip_h1_title": false,
   "title_cell": "Table of Contents",
   "title_sidebar": "Contents",
   "toc_cell": false,
   "toc_position": {},
   "toc_section_display": true,
   "toc_window_display": true
  }
 },
 "nbformat": 4,
 "nbformat_minor": 2
}
