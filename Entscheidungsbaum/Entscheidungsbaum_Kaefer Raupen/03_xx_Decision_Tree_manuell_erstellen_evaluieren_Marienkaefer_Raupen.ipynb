{
 "cells": [
  {
   "cell_type": "markdown",
   "metadata": {},
   "source": [
    "# Wie können wir manuell einen Entscheidungsbaum entwickeln?"
   ]
  },
  {
   "cell_type": "markdown",
   "metadata": {},
   "source": [
    "Wir haben zwei **Klassen** von Insekten: \n",
    "- \"Marienkäfer\"\n",
    "- \"Raupe\" \n"
   ]
  },
  {
   "cell_type": "markdown",
   "metadata": {},
   "source": [
    "<td> \n",
    "    <img src=\"Bilder\\marienkaefer.jpg\" alt=\"Drawing\" style=\"width: 100px; float: left;\"  hspace=40 /> \n",
    "    <img src=\"Bilder\\raupe.jpg\" alt=\"Drawing\" style=\"width: 100px; float: left;\" hspace=40/>\n",
    "</td>"
   ]
  },
  {
   "cell_type": "code",
   "execution_count": 1,
   "metadata": {},
   "outputs": [
    {
     "ename": "ModuleNotFoundError",
     "evalue": "No module named 'PyTree'",
     "output_type": "error",
     "traceback": [
      "\u001b[0;31m---------------------------------------------------------------------------\u001b[0m",
      "\u001b[0;31mModuleNotFoundError\u001b[0m                       Traceback (most recent call last)",
      "\u001b[0;32m/var/folders/0v/ngj157px14xfvlvg1fsr9kc00000gn/T/ipykernel_53928/896945243.py\u001b[0m in \u001b[0;36m<module>\u001b[0;34m\u001b[0m\n\u001b[1;32m      3\u001b[0m \u001b[0;31m# Bibliotheken importieren\u001b[0m\u001b[0;34m\u001b[0m\u001b[0;34m\u001b[0m\u001b[0;34m\u001b[0m\u001b[0m\n\u001b[1;32m      4\u001b[0m \u001b[0;32mimport\u001b[0m \u001b[0mpandas\u001b[0m \u001b[0;32mas\u001b[0m \u001b[0mpd\u001b[0m\u001b[0;34m\u001b[0m\u001b[0;34m\u001b[0m\u001b[0m\n\u001b[0;32m----> 5\u001b[0;31m \u001b[0;32mfrom\u001b[0m \u001b[0mPyTree\u001b[0m \u001b[0;32mimport\u001b[0m \u001b[0mClassificationTree\u001b[0m \u001b[0;32mas\u001b[0m \u001b[0mct\u001b[0m\u001b[0;34m\u001b[0m\u001b[0;34m\u001b[0m\u001b[0m\n\u001b[0m\u001b[1;32m      6\u001b[0m \u001b[0;32mfrom\u001b[0m \u001b[0mplotly\u001b[0m\u001b[0;34m.\u001b[0m\u001b[0moffline\u001b[0m \u001b[0;32mimport\u001b[0m \u001b[0miplot\u001b[0m\u001b[0;34m\u001b[0m\u001b[0;34m\u001b[0m\u001b[0m\n\u001b[1;32m      7\u001b[0m \u001b[0;32mimport\u001b[0m \u001b[0mplotly\u001b[0m \u001b[0;32mas\u001b[0m \u001b[0mpy\u001b[0m\u001b[0;34m\u001b[0m\u001b[0;34m\u001b[0m\u001b[0m\n",
      "\u001b[0;31mModuleNotFoundError\u001b[0m: No module named 'PyTree'"
     ]
    }
   ],
   "source": [
    "# Dieser Quelltext ist nicht prüfungsrelevant.\n",
    "\n",
    "# Bibliotheken importieren\n",
    "import pandas as pd\n",
    "from PyTree import ClassificationTree as ct\n",
    "from plotly.offline import iplot\n",
    "import plotly as py\n",
    "import cufflinks as cf\n",
    "cf.go_offline()"
   ]
  },
  {
   "cell_type": "markdown",
   "metadata": {},
   "source": [
    "## Trainingsdaten vs. Testdaten\n",
    "Das Modell wird nur mit den Trainingsdaten trainiert.\n",
    "\n",
    "Mit Testdaten wird die Qualität des Modells überprüft.\n",
    "Das erstellte Modell so möglichst gut die bisher unbekannten Testdaten klassifizieren."
   ]
  },
  {
   "cell_type": "code",
   "execution_count": 10,
   "metadata": {},
   "outputs": [
    {
     "name": "stdout",
     "output_type": "stream",
     "text": [
      "Trainingsdaten\n"
     ]
    },
    {
     "data": {
      "text/html": [
       "<div>\n",
       "<style scoped>\n",
       "    .dataframe tbody tr th:only-of-type {\n",
       "        vertical-align: middle;\n",
       "    }\n",
       "\n",
       "    .dataframe tbody tr th {\n",
       "        vertical-align: top;\n",
       "    }\n",
       "\n",
       "    .dataframe thead th {\n",
       "        text-align: right;\n",
       "    }\n",
       "</style>\n",
       "<table border=\"1\" class=\"dataframe\">\n",
       "  <thead>\n",
       "    <tr style=\"text-align: right;\">\n",
       "      <th></th>\n",
       "      <th>Breite</th>\n",
       "      <th>Länge</th>\n",
       "      <th>Insekt</th>\n",
       "    </tr>\n",
       "  </thead>\n",
       "  <tbody>\n",
       "    <tr>\n",
       "      <th>0</th>\n",
       "      <td>0.48</td>\n",
       "      <td>0.38</td>\n",
       "      <td>Marienkäfer</td>\n",
       "    </tr>\n",
       "    <tr>\n",
       "      <th>1</th>\n",
       "      <td>0.32</td>\n",
       "      <td>0.74</td>\n",
       "      <td>Raupe</td>\n",
       "    </tr>\n",
       "    <tr>\n",
       "      <th>2</th>\n",
       "      <td>0.49</td>\n",
       "      <td>0.27</td>\n",
       "      <td>Marienkäfer</td>\n",
       "    </tr>\n",
       "    <tr>\n",
       "      <th>3</th>\n",
       "      <td>0.58</td>\n",
       "      <td>0.46</td>\n",
       "      <td>Marienkäfer</td>\n",
       "    </tr>\n",
       "    <tr>\n",
       "      <th>4</th>\n",
       "      <td>0.11</td>\n",
       "      <td>0.58</td>\n",
       "      <td>Raupe</td>\n",
       "    </tr>\n",
       "    <tr>\n",
       "      <th>...</th>\n",
       "      <td>...</td>\n",
       "      <td>...</td>\n",
       "      <td>...</td>\n",
       "    </tr>\n",
       "    <tr>\n",
       "      <th>195</th>\n",
       "      <td>0.57</td>\n",
       "      <td>0.37</td>\n",
       "      <td>Marienkäfer</td>\n",
       "    </tr>\n",
       "    <tr>\n",
       "      <th>196</th>\n",
       "      <td>0.10</td>\n",
       "      <td>0.54</td>\n",
       "      <td>Raupe</td>\n",
       "    </tr>\n",
       "    <tr>\n",
       "      <th>197</th>\n",
       "      <td>0.39</td>\n",
       "      <td>0.81</td>\n",
       "      <td>Raupe</td>\n",
       "    </tr>\n",
       "    <tr>\n",
       "      <th>198</th>\n",
       "      <td>0.56</td>\n",
       "      <td>0.29</td>\n",
       "      <td>Marienkäfer</td>\n",
       "    </tr>\n",
       "    <tr>\n",
       "      <th>199</th>\n",
       "      <td>0.38</td>\n",
       "      <td>0.93</td>\n",
       "      <td>Raupe</td>\n",
       "    </tr>\n",
       "  </tbody>\n",
       "</table>\n",
       "<p>200 rows × 3 columns</p>\n",
       "</div>"
      ],
      "text/plain": [
       "     Breite  Länge       Insekt\n",
       "0      0.48   0.38  Marienkäfer\n",
       "1      0.32   0.74        Raupe\n",
       "2      0.49   0.27  Marienkäfer\n",
       "3      0.58   0.46  Marienkäfer\n",
       "4      0.11   0.58        Raupe\n",
       "..      ...    ...          ...\n",
       "195    0.57   0.37  Marienkäfer\n",
       "196    0.10   0.54        Raupe\n",
       "197    0.39   0.81        Raupe\n",
       "198    0.56   0.29  Marienkäfer\n",
       "199    0.38   0.93        Raupe\n",
       "\n",
       "[200 rows x 3 columns]"
      ]
     },
     "metadata": {},
     "output_type": "display_data"
    },
    {
     "name": "stdout",
     "output_type": "stream",
     "text": [
      "Testdaten\n"
     ]
    },
    {
     "data": {
      "text/html": [
       "<div>\n",
       "<style scoped>\n",
       "    .dataframe tbody tr th:only-of-type {\n",
       "        vertical-align: middle;\n",
       "    }\n",
       "\n",
       "    .dataframe tbody tr th {\n",
       "        vertical-align: top;\n",
       "    }\n",
       "\n",
       "    .dataframe thead th {\n",
       "        text-align: right;\n",
       "    }\n",
       "</style>\n",
       "<table border=\"1\" class=\"dataframe\">\n",
       "  <thead>\n",
       "    <tr style=\"text-align: right;\">\n",
       "      <th></th>\n",
       "      <th>Breite</th>\n",
       "      <th>Länge</th>\n",
       "      <th>Insekt</th>\n",
       "    </tr>\n",
       "  </thead>\n",
       "  <tbody>\n",
       "    <tr>\n",
       "      <th>0</th>\n",
       "      <td>0.42</td>\n",
       "      <td>0.29</td>\n",
       "      <td>Marienkäfer</td>\n",
       "    </tr>\n",
       "    <tr>\n",
       "      <th>1</th>\n",
       "      <td>0.39</td>\n",
       "      <td>0.92</td>\n",
       "      <td>Raupe</td>\n",
       "    </tr>\n",
       "    <tr>\n",
       "      <th>2</th>\n",
       "      <td>0.39</td>\n",
       "      <td>0.32</td>\n",
       "      <td>Marienkäfer</td>\n",
       "    </tr>\n",
       "    <tr>\n",
       "      <th>3</th>\n",
       "      <td>0.53</td>\n",
       "      <td>0.44</td>\n",
       "      <td>Marienkäfer</td>\n",
       "    </tr>\n",
       "    <tr>\n",
       "      <th>4</th>\n",
       "      <td>0.68</td>\n",
       "      <td>0.53</td>\n",
       "      <td>Marienkäfer</td>\n",
       "    </tr>\n",
       "    <tr>\n",
       "      <th>...</th>\n",
       "      <td>...</td>\n",
       "      <td>...</td>\n",
       "      <td>...</td>\n",
       "    </tr>\n",
       "    <tr>\n",
       "      <th>195</th>\n",
       "      <td>0.51</td>\n",
       "      <td>0.35</td>\n",
       "      <td>Marienkäfer</td>\n",
       "    </tr>\n",
       "    <tr>\n",
       "      <th>196</th>\n",
       "      <td>0.19</td>\n",
       "      <td>0.70</td>\n",
       "      <td>Raupe</td>\n",
       "    </tr>\n",
       "    <tr>\n",
       "      <th>197</th>\n",
       "      <td>0.57</td>\n",
       "      <td>0.29</td>\n",
       "      <td>Marienkäfer</td>\n",
       "    </tr>\n",
       "    <tr>\n",
       "      <th>198</th>\n",
       "      <td>0.16</td>\n",
       "      <td>0.60</td>\n",
       "      <td>Raupe</td>\n",
       "    </tr>\n",
       "    <tr>\n",
       "      <th>199</th>\n",
       "      <td>0.45</td>\n",
       "      <td>0.22</td>\n",
       "      <td>Marienkäfer</td>\n",
       "    </tr>\n",
       "  </tbody>\n",
       "</table>\n",
       "<p>200 rows × 3 columns</p>\n",
       "</div>"
      ],
      "text/plain": [
       "     Breite  Länge       Insekt\n",
       "0      0.42   0.29  Marienkäfer\n",
       "1      0.39   0.92        Raupe\n",
       "2      0.39   0.32  Marienkäfer\n",
       "3      0.53   0.44  Marienkäfer\n",
       "4      0.68   0.53  Marienkäfer\n",
       "..      ...    ...          ...\n",
       "195    0.51   0.35  Marienkäfer\n",
       "196    0.19   0.70        Raupe\n",
       "197    0.57   0.29  Marienkäfer\n",
       "198    0.16   0.60        Raupe\n",
       "199    0.45   0.22  Marienkäfer\n",
       "\n",
       "[200 rows x 3 columns]"
      ]
     },
     "metadata": {},
     "output_type": "display_data"
    }
   ],
   "source": [
    "# Trainingsdaten einlesen -> \"data frame käfer trainingsdaten\"\n",
    "df_käfer_trainingsdaten = pd.read_csv('Käfer.csv', sep=';')\n",
    "\n",
    "# Testdaten einlesen -> \"data frame käfer testdaten\"\n",
    "df_käfer_testdaten = pd.read_csv('Käfer_Testdaten.csv', sep=';')\n",
    "\n",
    "\n",
    "# zeige den Anfang des Datensatzes \"df_käfer_trainingsdaten\" an\n",
    "print(\"Trainingsdaten\")\n",
    "display(df_käfer_trainingsdaten)\n",
    "\n",
    "# zeige den Anfang des Datensatzes \"df_käfer_testdaten\" an\n",
    "print(\"Testdaten\")\n",
    "display(df_käfer_testdaten)\n"
   ]
  },
  {
   "cell_type": "code",
   "execution_count": 11,
   "metadata": {},
   "outputs": [],
   "source": [
    "# Entscheidungsbaum initialisieren mit Zielvariable (hier in Spalte \"Insekt\") und Trainingsdaten\n",
    "tree = ct.DecisionTree(target = 'Insekt', data = df_käfer_trainingsdaten)"
   ]
  },
  {
   "cell_type": "code",
   "execution_count": 12,
   "metadata": {},
   "outputs": [
    {
     "data": {
      "image/svg+xml": [
       "<?xml version=\"1.0\" encoding=\"UTF-8\" standalone=\"no\"?>\r\n",
       "<!DOCTYPE svg PUBLIC \"-//W3C//DTD SVG 1.1//EN\"\r\n",
       " \"http://www.w3.org/Graphics/SVG/1.1/DTD/svg11.dtd\">\r\n",
       "<!-- Generated by graphviz version 2.38.0 (20140413.2041)\r\n",
       " -->\r\n",
       "<!-- Title: %3 Pages: 1 -->\r\n",
       "<svg width=\"202pt\" height=\"312pt\"\r\n",
       " viewBox=\"0.00 0.00 202.00 312.00\" xmlns=\"http://www.w3.org/2000/svg\" xmlns:xlink=\"http://www.w3.org/1999/xlink\">\r\n",
       "<g id=\"graph0\" class=\"graph\" transform=\"scale(1 1) rotate(0) translate(4 308)\">\r\n",
       "<title>%3</title>\r\n",
       "<polygon fill=\"white\" stroke=\"none\" points=\"-4,4 -4,-308 198,-308 198,4 -4,4\"/>\r\n",
       "<polygon fill=\"lightblue\" stroke=\"none\" points=\"8,-256 8,-300 111,-300 111,-256 8,-256\"/>\r\n",
       "<polygon fill=\"none\" stroke=\"black\" points=\"11.5,-278 11.5,-297 108.5,-297 108.5,-278 11.5,-278\"/>\r\n",
       "<text text-anchor=\"start\" x=\"38.5\" y=\"-284.4\" font-family=\"Times New Roman,serif\" font-size=\"12.00\">Insekt? &#160;&#160;</text>\r\n",
       "<polygon fill=\"none\" stroke=\"black\" points=\"11.5,-259 11.5,-276 108.5,-276 108.5,-259 11.5,-259\"/>\r\n",
       "<text text-anchor=\"start\" x=\"14.5\" y=\"-265\" font-family=\"Times New Roman,serif\" font-size=\"10.00\" fill=\"dimgrey\">[&#39;Marienkäfer&#39;, &#39;Raupe&#39;]</text>\r\n",
       "<polygon fill=\"none\" stroke=\"black\" points=\"8,-256 8,-300 111,-300 111,-256 8,-256\"/>\r\n",
       "<!-- 1 -->\r\n",
       "<g id=\"node1\" class=\"node\"><title>1</title>\r\n",
       "<polygon fill=\"none\" stroke=\"black\" points=\"113.5,-206.5 113.5,-251.5 169.5,-251.5 169.5,-206.5 113.5,-206.5\"/>\r\n",
       "<text text-anchor=\"start\" x=\"122.5\" y=\"-239\" font-family=\"Times New Roman,serif\" font-size=\"10.00\" fill=\"dimgrey\">[100, 100]</text>\r\n",
       "<text text-anchor=\"start\" x=\"121.5\" y=\"-224.8\" font-family=\"Times New Roman,serif\" font-size=\"14.00\">Länge?</text>\r\n",
       "<text text-anchor=\"start\" x=\"144.5\" y=\"-213\" font-family=\"Times New Roman,serif\" font-size=\"10.00\" fill=\"dimgrey\">Nr.1</text>\r\n",
       "</g>\r\n",
       "<!-- 2 -->\r\n",
       "<g id=\"node2\" class=\"node\"><title>2</title>\r\n",
       "<polygon fill=\"none\" stroke=\"black\" points=\"66,-106.5 66,-151.5 121,-151.5 121,-106.5 66,-106.5\"/>\r\n",
       "<text text-anchor=\"start\" x=\"79.5\" y=\"-139\" font-family=\"Times New Roman,serif\" font-size=\"10.00\" fill=\"dimgrey\">[95, 12]</text>\r\n",
       "<text text-anchor=\"start\" x=\"74.5\" y=\"-124.8\" font-family=\"Times New Roman,serif\" font-size=\"14.00\">Breite?</text>\r\n",
       "<text text-anchor=\"start\" x=\"96.5\" y=\"-113\" font-family=\"Times New Roman,serif\" font-size=\"10.00\" fill=\"dimgrey\">Nr.2</text>\r\n",
       "</g>\r\n",
       "<!-- 1&#45;&gt;2 -->\r\n",
       "<g id=\"edge1\" class=\"edge\"><title>1&#45;&gt;2</title>\r\n",
       "<path fill=\"none\" stroke=\"black\" d=\"M130.847,-206.251C124.322,-192.929 115.867,-175.666 108.652,-160.936\"/>\r\n",
       "<polygon fill=\"black\" stroke=\"black\" points=\"111.665,-159.13 104.123,-151.689 105.378,-162.209 111.665,-159.13\"/>\r\n",
       "<text text-anchor=\"middle\" x=\"134\" y=\"-176.8\" font-family=\"Times New Roman,serif\" font-size=\"14.00\">≤0.5</text>\r\n",
       "</g>\r\n",
       "<!-- 3 -->\r\n",
       "<g id=\"node3\" class=\"node\"><title>3</title>\r\n",
       "<polygon fill=\"yellow\" stroke=\"yellow\" points=\"139,-103.5 139,-154.5 194,-154.5 194,-103.5 139,-103.5\"/>\r\n",
       "<text text-anchor=\"start\" x=\"154.5\" y=\"-141\" font-family=\"Times New Roman,serif\" font-size=\"10.00\" fill=\"dimgrey\">[5, 88]</text>\r\n",
       "<text text-anchor=\"start\" x=\"148.5\" y=\"-124.8\" font-family=\"Times New Roman,serif\" font-size=\"14.00\">Raupe</text>\r\n",
       "<text text-anchor=\"start\" x=\"168.5\" y=\"-111\" font-family=\"Times New Roman,serif\" font-size=\"10.00\" fill=\"dimgrey\">Nr.3</text>\r\n",
       "</g>\r\n",
       "<!-- 1&#45;&gt;3 -->\r\n",
       "<g id=\"edge2\" class=\"edge\"><title>1&#45;&gt;3</title>\r\n",
       "<path fill=\"none\" stroke=\"black\" d=\"M147.048,-206.251C150.174,-193.999 154.149,-178.415 157.691,-164.533\"/>\r\n",
       "<polygon fill=\"black\" stroke=\"black\" points=\"161.094,-165.352 160.174,-154.797 154.311,-163.621 161.094,-165.352\"/>\r\n",
       "<text text-anchor=\"middle\" x=\"167.5\" y=\"-176.8\" font-family=\"Times New Roman,serif\" font-size=\"14.00\">&gt;0.5</text>\r\n",
       "</g>\r\n",
       "<!-- 4 -->\r\n",
       "<g id=\"node4\" class=\"node\"><title>4</title>\r\n",
       "<polygon fill=\"yellow\" stroke=\"yellow\" points=\"0,-0.5 0,-51.5 85,-51.5 85,-0.5 0,-0.5\"/>\r\n",
       "<text text-anchor=\"start\" x=\"28.5\" y=\"-38\" font-family=\"Times New Roman,serif\" font-size=\"10.00\" fill=\"dimgrey\">[42, 12]</text>\r\n",
       "<text text-anchor=\"start\" x=\"9.5\" y=\"-21.8\" font-family=\"Times New Roman,serif\" font-size=\"14.00\">Marienkäfer</text>\r\n",
       "<text text-anchor=\"start\" x=\"59.5\" y=\"-8\" font-family=\"Times New Roman,serif\" font-size=\"10.00\" fill=\"dimgrey\">Nr.4</text>\r\n",
       "</g>\r\n",
       "<!-- 2&#45;&gt;4 -->\r\n",
       "<g id=\"edge3\" class=\"edge\"><title>2&#45;&gt;4</title>\r\n",
       "<path fill=\"none\" stroke=\"black\" d=\"M82.4338,-106.085C75.7378,-92.8239 67.062,-75.6425 59.5085,-60.6834\"/>\r\n",
       "<polygon fill=\"black\" stroke=\"black\" points=\"62.6098,-59.0603 54.978,-51.7114 56.3613,-62.2156 62.6098,-59.0603\"/>\r\n",
       "<text text-anchor=\"middle\" x=\"84\" y=\"-73.8\" font-family=\"Times New Roman,serif\" font-size=\"14.00\">≤0.5</text>\r\n",
       "</g>\r\n",
       "<!-- 5 -->\r\n",
       "<g id=\"node5\" class=\"node\"><title>5</title>\r\n",
       "<polygon fill=\"yellow\" stroke=\"yellow\" points=\"103,-0.5 103,-51.5 188,-51.5 188,-0.5 103,-0.5\"/>\r\n",
       "<text text-anchor=\"start\" x=\"133.5\" y=\"-38\" font-family=\"Times New Roman,serif\" font-size=\"10.00\" fill=\"dimgrey\">[53, 0]</text>\r\n",
       "<text text-anchor=\"start\" x=\"112.5\" y=\"-21.8\" font-family=\"Times New Roman,serif\" font-size=\"14.00\">Marienkäfer</text>\r\n",
       "<text text-anchor=\"start\" x=\"162.5\" y=\"-8\" font-family=\"Times New Roman,serif\" font-size=\"10.00\" fill=\"dimgrey\">Nr.5</text>\r\n",
       "</g>\r\n",
       "<!-- 2&#45;&gt;5 -->\r\n",
       "<g id=\"edge4\" class=\"edge\"><title>2&#45;&gt;5</title>\r\n",
       "<path fill=\"none\" stroke=\"black\" d=\"M104.783,-106.085C111.61,-92.8239 120.456,-75.6425 128.158,-60.6834\"/>\r\n",
       "<polygon fill=\"black\" stroke=\"black\" points=\"131.312,-62.2044 132.777,-51.7114 125.088,-59.0001 131.312,-62.2044\"/>\r\n",
       "<text text-anchor=\"middle\" x=\"135.5\" y=\"-73.8\" font-family=\"Times New Roman,serif\" font-size=\"14.00\">&gt;0.5</text>\r\n",
       "</g>\r\n",
       "</g>\r\n",
       "</svg>\r\n"
      ],
      "text/plain": [
       "<graphviz.dot.Digraph at 0x21944145148>"
      ]
     },
     "execution_count": 12,
     "metadata": {},
     "output_type": "execute_result"
    }
   ],
   "source": [
    "#Entscheidungsbaum erstellen \n",
    "\n",
    "# threshold bedeutet Schwellenwert\n",
    "# Die Schwellenwerte wurden hier willkürlich gewählt und sollen später angepasst werden.\n",
    "\n",
    "tree.manual_split(attribute = 'Länge',  threshold = 0.5, node_nr = 1) # hier threshold anpassen\n",
    "tree.manual_split(attribute = 'Breite', threshold = 0.5, node_nr = 2) # hier threshold anpassen\n",
    "\n",
    "\n",
    "#Entscheidungsbaum ausgeben\n",
    "tree.print_tree()"
   ]
  },
  {
   "cell_type": "markdown",
   "metadata": {},
   "source": [
    "<div style=\"background-color: lightblue; padding: 5px 20px 20px\">\n",
    "\n",
    "**Aufgabe 1**\n",
    "    \n",
    "1.1. *Erläutere, wie viele Insekte im obigen Beispiel mit den Schwellenwerten von jeweils 0.5 falsch klassifiziert werden.*\n",
    "    \n",
    "    Tipp: Die Zahlen in den eckigen Klammern (hier: z. B. [42,12]) sind von Bedeutung.\n",
    "    \n",
    "1.2. *Verändere im vorherigen Quelltext die Schwellenwerte (thresholds) so, dass die Anzahl der Fehlklassifikationen minimal wird. Notiere die beste Wahl der gefundenen Schwellenwerte.*\n",
    "    \n",
    "    \n",
    "**Vertiefungsaufgabe 2**\n",
    "  \n",
    "2.1. *Entferne die letzte Programmcodezeile \"tree.manual_split(attribute ...)\" und passe die Schwellenwerte erneut so an, dass die Anzahl der Fehlklassifikationen minimal wird.*\n",
    "\n",
    "    \n",
    "**Vertiefungsaufgabe 3**\n",
    "  \n",
    "3.1. *Führe den folgenden Quelltext aus, der die Qualität Deines Modells bewertet.*\n",
    "\n",
    "3.2  *Interpretiere die Ausgabe.*\n",
    "\n",
    "3.3. *Verändere im vorherigen Quelltext erneut die Schwellenwerte (thresholds) so, dass die Anzahl der Fehlklassifikationen minimal wird. Notiere die beste Wahl der gefundenen Schwellenwerte.*"
   ]
  },
  {
   "cell_type": "markdown",
   "metadata": {},
   "source": [
    "## Das trainierte Modell des Entscheidungsbaumes an Testdaten evaluieren\n",
    "Wir möchten ermitteln, wie \"gut\" unser Modell die Testdaten klassifiziert."
   ]
  },
  {
   "cell_type": "code",
   "execution_count": 13,
   "metadata": {},
   "outputs": [
    {
     "data": {
      "text/plain": [
       "0.905"
      ]
     },
     "execution_count": 13,
     "metadata": {},
     "output_type": "execute_result"
    }
   ],
   "source": [
    "# Rate korrekter Klassifikationen\n",
    "tree.prediction_accuracy(df_käfer_testdaten)"
   ]
  },
  {
   "cell_type": "code",
   "execution_count": 14,
   "metadata": {},
   "outputs": [
    {
     "data": {
      "text/html": [
       "<div>\n",
       "<style scoped>\n",
       "    .dataframe tbody tr th:only-of-type {\n",
       "        vertical-align: middle;\n",
       "    }\n",
       "\n",
       "    .dataframe tbody tr th {\n",
       "        vertical-align: top;\n",
       "    }\n",
       "\n",
       "    .dataframe thead th {\n",
       "        text-align: right;\n",
       "    }\n",
       "</style>\n",
       "<table border=\"1\" class=\"dataframe\">\n",
       "  <thead>\n",
       "    <tr style=\"text-align: right;\">\n",
       "      <th>prediction</th>\n",
       "      <th>Marienkäfer</th>\n",
       "      <th>Raupe</th>\n",
       "    </tr>\n",
       "    <tr>\n",
       "      <th>correct</th>\n",
       "      <th></th>\n",
       "      <th></th>\n",
       "    </tr>\n",
       "  </thead>\n",
       "  <tbody>\n",
       "    <tr>\n",
       "      <th>Marienkäfer</th>\n",
       "      <td>91.0%</td>\n",
       "      <td>9.0%</td>\n",
       "    </tr>\n",
       "    <tr>\n",
       "      <th>Raupe</th>\n",
       "      <td>10.0%</td>\n",
       "      <td>90.0%</td>\n",
       "    </tr>\n",
       "  </tbody>\n",
       "</table>\n",
       "</div>"
      ],
      "text/plain": [
       "prediction  Marienkäfer  Raupe\n",
       "correct                       \n",
       "Marienkäfer       91.0%   9.0%\n",
       "Raupe             10.0%  90.0%"
      ]
     },
     "metadata": {},
     "output_type": "display_data"
    },
    {
     "data": {
      "text/html": [
       "<div>\n",
       "<style scoped>\n",
       "    .dataframe tbody tr th:only-of-type {\n",
       "        vertical-align: middle;\n",
       "    }\n",
       "\n",
       "    .dataframe tbody tr th {\n",
       "        vertical-align: top;\n",
       "    }\n",
       "\n",
       "    .dataframe thead th {\n",
       "        text-align: right;\n",
       "    }\n",
       "</style>\n",
       "<table border=\"1\" class=\"dataframe\">\n",
       "  <thead>\n",
       "    <tr style=\"text-align: right;\">\n",
       "      <th>prediction</th>\n",
       "      <th>Marienkäfer</th>\n",
       "      <th>Raupe</th>\n",
       "    </tr>\n",
       "    <tr>\n",
       "      <th>correct</th>\n",
       "      <th></th>\n",
       "      <th></th>\n",
       "    </tr>\n",
       "  </thead>\n",
       "  <tbody>\n",
       "    <tr>\n",
       "      <th>Marienkäfer</th>\n",
       "      <td>91</td>\n",
       "      <td>9</td>\n",
       "    </tr>\n",
       "    <tr>\n",
       "      <th>Raupe</th>\n",
       "      <td>10</td>\n",
       "      <td>90</td>\n",
       "    </tr>\n",
       "  </tbody>\n",
       "</table>\n",
       "</div>"
      ],
      "text/plain": [
       "prediction  Marienkäfer Raupe\n",
       "correct                      \n",
       "Marienkäfer          91     9\n",
       "Raupe                10    90"
      ]
     },
     "metadata": {},
     "output_type": "display_data"
    }
   ],
   "source": [
    "# Häufigkeitstabelle/ Confusion Matrix\n",
    "tree.prediction_accuracy(df_käfer_testdaten, detailed = True)"
   ]
  },
  {
   "cell_type": "markdown",
   "metadata": {},
   "source": [
    "<div style=\"background-color: lightblue; padding: 5px 20px 20px\">\n",
    "\n",
    "**Vertiefungsaufgabe 4**\n",
    "  \n",
    "4.1. *Erläutere die Strategie, mit der Du Deine Schwellenwerte bestimmt hast.*\n"
   ]
  },
  {
   "cell_type": "code",
   "execution_count": null,
   "metadata": {},
   "outputs": [],
   "source": []
  }
 ],
 "metadata": {
  "celltoolbar": "Raw Cell Format",
  "hide_input": false,
  "kernelspec": {
   "display_name": "Python 3 (ipykernel)",
   "language": "python",
   "name": "python3"
  },
  "language_info": {
   "codemirror_mode": {
    "name": "ipython",
    "version": 3
   },
   "file_extension": ".py",
   "mimetype": "text/x-python",
   "name": "python",
   "nbconvert_exporter": "python",
   "pygments_lexer": "ipython3",
   "version": "3.8.2"
  },
  "latex_envs": {
   "LaTeX_envs_menu_present": true,
   "autoclose": false,
   "autocomplete": true,
   "bibliofile": "biblio.bib",
   "cite_by": "apalike",
   "current_citInitial": 1,
   "eqLabelWithNumbers": true,
   "eqNumInitial": 1,
   "hotkeys": {
    "equation": "Ctrl-E",
    "itemize": "Ctrl-I"
   },
   "labels_anchors": false,
   "latex_user_defs": false,
   "report_style_numbering": false,
   "user_envs_cfg": false
  },
  "toc": {
   "base_numbering": 1,
   "nav_menu": {},
   "number_sections": true,
   "sideBar": true,
   "skip_h1_title": false,
   "title_cell": "Table of Contents",
   "title_sidebar": "Contents",
   "toc_cell": false,
   "toc_position": {},
   "toc_section_display": true,
   "toc_window_display": true
  },
  "varInspector": {
   "cols": {
    "lenName": 16,
    "lenType": 16,
    "lenVar": 40
   },
   "kernels_config": {
    "python": {
     "delete_cmd_postfix": "",
     "delete_cmd_prefix": "del ",
     "library": "var_list.py",
     "varRefreshCmd": "print(var_dic_list())"
    },
    "r": {
     "delete_cmd_postfix": ") ",
     "delete_cmd_prefix": "rm(",
     "library": "var_list.r",
     "varRefreshCmd": "cat(var_dic_list()) "
    }
   },
   "types_to_exclude": [
    "module",
    "function",
    "builtin_function_or_method",
    "instance",
    "_Feature"
   ],
   "window_display": false
  }
 },
 "nbformat": 4,
 "nbformat_minor": 2
}
