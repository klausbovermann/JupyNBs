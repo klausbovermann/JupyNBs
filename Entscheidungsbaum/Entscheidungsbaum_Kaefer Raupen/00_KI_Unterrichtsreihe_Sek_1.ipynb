{
 "cells": [
  {
   "cell_type": "markdown",
   "metadata": {},
   "source": [
    "# Künstliche Intelligenz - Eine Unterrichtsreihe für den Informatikunterricht in der Sekundarstufe I\n"
   ]
  },
  {
   "cell_type": "markdown",
   "metadata": {},
   "source": [
    "## Ansprechpartner\n",
    "---\n",
    "Bei Anregungen und Rückfragen sprechen Sie uns gerne an:\n",
    "- Klaus Bovermann <klaus.bovermann@uni-bielefeld.de>\n",
    "- Yannik Fleischer <yanflei@math.uni-paderborn.de>\n",
    "- Christian Opitz <opitz@zfsl-gelsenkirchen.de>\n",
    "    \n",
    "---"
   ]
  },
  {
   "cell_type": "markdown",
   "metadata": {},
   "source": [
    "# Künstliche Intelligenz - Unterrichtsreihe"
   ]
  },
  {
   "cell_type": "markdown",
   "metadata": {},
   "source": [
    "## Einstieg in die Programmierung mit Python und die ersten Schritte mit einem Jupyternotebook (optional)\n",
    "\n",
    "\n",
    "<div style=\"background-color: Cornsilk; padding: 5px 20px 20px\">\n",
    "\n",
    "**Ausgewählte Möglichkeiten zur Vorbereitung der Programmierung mit Python**\n",
    "- TigerJython\n",
    "    - Material: http://www.tigerjython.ch\n",
    "    - Programmierumgebung im Webbrowser: https://webtigerjython.ethz.ch\n",
    "- Vorkurs Python mit Jupyter-Notebooks (Bovermann)\n",
    "- Python-Kurs von den bundesweite Informatikwettbewerben (BWINF) und von der University of Waterloo:\n",
    "    - https://bwinf.de/jugendwettbewerb/programmierenlernen/python/\n",
    "\n",
    "    \n",
    "**Fachinhalte / Lernziele**\n",
    "- Grundidee Python (Syntax)\n",
    "- Grundidee Jupyter-Notebooks (Umgang)"
   ]
  },
  {
   "cell_type": "markdown",
   "metadata": {},
   "source": [
    "## KI - Einführung und Datenexploration"
   ]
  },
  {
   "cell_type": "markdown",
   "metadata": {},
   "source": [
    "### Der Gurkenbauer Makoto und ein Einblick in den \"idealtypischen\" Ablauf des maschinellen Lernens\n",
    "1./2. Unterrichtseinheit (90 Minuten)\n",
    "\n",
    "<div style=\"background-color: Cornsilk; padding: 5px 20px 20px\">\n",
    "\n",
    "**Leitfragen**\n",
    "- Was ist künstliche Intelligenz?\n",
    "- Wo kommt ihr mit künstlicher Intelligenz in Eurer Lebenswelt in Berührung?\n",
    "- Der \"Gurkenbauer\" Makoto Koike: Wie können Gurken mithilfe einer \"künstlichen Intelligenz\" in Güteklassen kategorisiert werden?\n",
    "- Wie können wir ein eigenes Modell entwickeln, das z. B. Smileys unterscheidet?\n",
    "\n",
    "\n",
    "**Fachinhalte / Lernziele**\n",
    "- Anküpfung an die Lebenswelt \n",
    "- Kurzüberblick über die Teilbereiche künstlicher Intelligenz\n",
    "- Begriffsbestimmung\n",
    "  - Künstliche Intelligenz (KI)\n",
    "  - Machine Learning (ML)\n",
    "+ Machine Learning (ML): \"idealtypischer\" Ablauf\n",
    "  - Trainingsprozess zur Modellerstellung an einem eigenen Beispiel (z. B. Smileys unterscheiden)\n",
    "    - Kategorien / Klassen / Label (hier: z. B. lachender Smiley, trauriger Smiley)\n",
    "    - Trainingsdaten: Beispieldaten (hier: Beispielbilder) pro Kategorie\n",
    "  - Klassifizierung von neuen Testdaten durch das trainierte Modell (hier: neue Bilder)\n",
    "  - (\"subjektive\") Bewertung des Modells\n",
    "  \n",
    "\n",
    "**Material**\n",
    "\n",
    "- [00_KI_Einfuehrung_Gurkenbauer_Folien.odp](Folien/00_KI_Einfuehrung_Gurkenbauer_Folien.odp) (Folien)\n",
    "- [https://classifier.appinventor.mit.edu](https://classifier.appinventor.mit.edu) (Entwicklung eines eigenen Modells anhand von Bildern: Bilderfassung durch Webcam)"
   ]
  },
  {
   "cell_type": "markdown",
   "metadata": {},
   "source": [
    "### Datenexploration: Marienkäfer und Raupen\n",
    "\n",
    "3. Unterrichtseinheit (45 Minuten)\n",
    "\n",
    "<div style=\"background-color: Cornsilk; padding: 5px 20px 20px\">\n",
    "\n",
    "**Leitfragen**\n",
    "- Wie können Marienkäfer von Raupen unterschieden werden?\n",
    "- Welche Breiten und Längen sind typisch für Marienkäfer und Raupen?\n",
    "- Welcher Klasse (Marienkäfer, Raupe) würden wir ein Insekt nur aufgrund der Größe (Breite, Länge) zuordnen?\n",
    "- Wie zuverlässig ist unsere Zuordnung?\n",
    "\n",
    "\n",
    "**Fachinhalte / Lernziele**\n",
    "- Datenexploration\n",
    "- Analyse einer csv-Datei\n",
    "- Umgang mit einem Jupyter-Notebook\n",
    "- Python\n",
    "  - Daten einlesen\n",
    "  - Daten ausgeben\n",
    "  - Daten sortieren\n",
    "- Streudiagramm erstellen\n",
    "- Kategorien / Labels (hier: Marienkäfer und Raupe)\n",
    "- Bestimmung einer Kategorie für Testdaten (hier: ein neues Insekt) auf Grundlage der vorhandenen Beispielsdaten\n",
    "- subjektive Bewertung des Klassifikators\n",
    "  \n",
    "\n",
    "**Material:**\n",
    "- [01_Datenexploration_Marienkaefer_Raupen.ipynb](01_Datenexploration_Marienkaefer_Raupen.ipynb) (Jupyter Notebook)"
   ]
  },
  {
   "cell_type": "markdown",
   "metadata": {},
   "source": [
    "## Entscheidungsbäume (Decision Trees)"
   ]
  },
  {
   "cell_type": "markdown",
   "metadata": {},
   "source": [
    "### Einen gegeben Entscheidungsbaum verstehen und zur Klassifikationen von Insekten nutzen (mit Marienkäfern und Raupen)\n",
    "\n",
    "4. Unterrichtseinheit (45 Minuten)\n",
    "\n",
    "<div style=\"background-color: Cornsilk; padding: 5px 20px 20px\">\n",
    "    \n",
    "**Leitfragen**\n",
    "- Wie können wir mithilfe eines gegebenen Entscheidungsbaumes ein Insekt klassifizieren?\n",
    "\n",
    "\n",
    "**Fachinhalte / Lernziele**\n",
    "- Trainingsdaten vs. Testdaten\n",
    "- Entscheidungsbaum (decision tree)\n",
    "- Klassifikation mithilfe eins gegebenen Entscheidungsbaumes\n",
    "- Datensplit\n",
    "  - korrekt klassifizierte Daten\n",
    "  - Fehlklassifikation (falsch klassifizierte Daten)\n",
    "  - Rate der korrekten Klassifikation\n",
    "- Python\n",
    "  - Daten visualisieren (Entscheidungsbaum)\n",
    "- Klassifikatorfunktion (hier: dargestellt als Entscheidungsbaum)\n",
    "  - Prädiktorvariablen (hier: Länge, Breite)\n",
    "  - Zielvariable (hier: Insekt (Marienkäfer oder Raupe))\n",
    "- Kategorien / Labels (hier: Marienkäfer und Raupe)\n",
    "- Bestimmung einer Kategorie für Testdaten (hier: ein neues Insekt) auf Grundlage der vorhandenen Beispieldaten\n",
    "- Bewertung des Klassifikators durch weitere Testdaten (Qualität des Modells ermitteln)\n",
    "\n",
    "  \n",
    "**Material:**\n",
    "- [02_Decision_Tree_Klassifikation_anwenden_Marienkaefer_Raupen.ipynb](02_Decision_Tree_Klassifikation_anwenden_Marienkaefer_Raupen.ipynb) (Jupyter Notebook)\n",
    "- [02_Decision_Tree_Klassifikation_anwenden_Marienkäfer_Raupen_Folien.pptx](02_Decision_Tree_Klassifikation_anwenden_Marienkäfer_Raupen_Folien.pptx) (Folien)\n"
   ]
  },
  {
   "cell_type": "markdown",
   "metadata": {},
   "source": [
    "### Einen guten Entscheidungsbaum manuell entwickeln (mit Marienkäfern und Raupen sowie Pralinen)\n",
    "\n",
    "5. Unterrichtseinheit (45 Minuten)\n",
    "\n",
    "<div style=\"background-color: Cornsilk; padding: 5px 20px 20px\">\n",
    "\n",
    "**Leitfragen**\n",
    "- Wie können wir manuell einen Entscheidungsbaum entwickeln?\n",
    "\n",
    "\n",
    "**Fachinhalte / Lernziele**\n",
    "- Trennlinie so wählen, dass man am wenigsten falsch klassifizierte Datensätze hat\n",
    "- Trainingsdaten vs. Testdaten\n",
    "    - guter Datensplit\n",
    "  - korrekt klassifizierte Daten\n",
    "  - falsch klassifizierte Daten\n",
    "  - Ziel: Minimierung des Fehlklassifikationsrate\n",
    "\n",
    "- Bestimmung einer Kategorie für Testdaten (hier: ein neues Insekt) auf Grundlage der vorhandenen Beispielsdaten\n",
    "  \n",
    "**Material:**\n",
    "- [03_Decision_Tree_manuell_erstellen_Marienkaefer_Raupen.ipynb](03_Decision_Tree_manuell_erstellen_Marienkaefer_Raupen.ipynb) (Jupyter-Notebook)"
   ]
  },
  {
   "cell_type": "markdown",
   "metadata": {},
   "source": [
    "### Einen optimalen Entscheidungsbaum automatisch entwickeln (John, der Tennisspieler)\n",
    "\n",
    "6./7. Unterrichtseinheit (45 Minuten)\n",
    "\n",
    "\n",
    "<div style=\"background-color: Cornsilk; padding: 5px 20px 20px\">\n",
    "\n",
    "**Leitfragen**\n",
    "- Wie können wir einen Entscheidungsbaum \"automatisch\" entwickeln?\n",
    "- Wie \"wächst\" ein Entscheidungsbaum?\n",
    "\n",
    "\n",
    "**Fachinhalte / Lernziele**\n",
    "- guter Datensplit\n",
    "  - korrekt klassifizierte Daten\n",
    "  - falsch klassifizierte Daten\n",
    "  - Ziel: Minimierung des Fehlklassifikationsrate\n",
    "\n",
    "- Bestimmung einer Kategorie für Testdaten (hier: ein neues Insekt) auf Grundlage der vorhandenen Beispielsdaten\n",
    "- Bewertung des Klassifikators durch weitere Testdaten (Qualität des Modells ermitteln)\n",
    "  \n",
    "**Material:**\n",
    "- [04_Decision_Tree_automatisch_erstellen_evaluieren_Marienkaefer_Raupen.ipynb](04_Decision_Tree_automatisch_erstellen_evaluieren_Marienkaefer_Raupen.ipynb) (Jupyter-Notebook)"
   ]
  },
  {
   "cell_type": "code",
   "execution_count": null,
   "metadata": {},
   "outputs": [],
   "source": []
  }
 ],
 "metadata": {
  "celltoolbar": "Raw Cell Format",
  "hide_input": false,
  "kernelspec": {
   "display_name": "Python 3 (ipykernel)",
   "language": "python",
   "name": "python3"
  },
  "language_info": {
   "codemirror_mode": {
    "name": "ipython",
    "version": 3
   },
   "file_extension": ".py",
   "mimetype": "text/x-python",
   "name": "python",
   "nbconvert_exporter": "python",
   "pygments_lexer": "ipython3",
   "version": "3.8.2"
  },
  "toc": {
   "base_numbering": 1,
   "nav_menu": {},
   "number_sections": true,
   "sideBar": true,
   "skip_h1_title": false,
   "title_cell": "Table of Contents",
   "title_sidebar": "Contents",
   "toc_cell": false,
   "toc_position": {
    "height": "calc(100% - 180px)",
    "left": "10px",
    "top": "150px",
    "width": "228.6px"
   },
   "toc_section_display": true,
   "toc_window_display": true
  },
  "varInspector": {
   "cols": {
    "lenName": 16,
    "lenType": 16,
    "lenVar": 40
   },
   "kernels_config": {
    "python": {
     "delete_cmd_postfix": "",
     "delete_cmd_prefix": "del ",
     "library": "var_list.py",
     "varRefreshCmd": "print(var_dic_list())"
    },
    "r": {
     "delete_cmd_postfix": ") ",
     "delete_cmd_prefix": "rm(",
     "library": "var_list.r",
     "varRefreshCmd": "cat(var_dic_list()) "
    }
   },
   "types_to_exclude": [
    "module",
    "function",
    "builtin_function_or_method",
    "instance",
    "_Feature"
   ],
   "window_display": false
  }
 },
 "nbformat": 4,
 "nbformat_minor": 2
}
