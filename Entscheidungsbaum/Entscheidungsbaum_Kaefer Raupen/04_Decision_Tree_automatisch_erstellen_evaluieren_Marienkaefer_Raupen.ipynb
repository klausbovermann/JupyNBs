{
 "cells": [
  {
   "cell_type": "markdown",
   "metadata": {},
   "source": [
    "# Wie können wir einen Entscheidungsbaum \"automatisch\" entwickeln?\n"
   ]
  },
  {
   "cell_type": "markdown",
   "metadata": {},
   "source": [
    "Wir haben zwei **Klassen** von Insekten: \n",
    "- \"Marienkäfer\"\n",
    "- \"Raupe\" \n"
   ]
  },
  {
   "cell_type": "markdown",
   "metadata": {},
   "source": [
    "<td> \n",
    "    <img src=\"Bilder\\marienkaefer.jpg\" alt=\"Drawing\" style=\"width: 100px; float: left;\"  hspace=40 /> \n",
    "    <img src=\"Bilder\\raupe.jpg\" alt=\"Drawing\" style=\"width: 100px; float: left;\" hspace=40/>\n",
    "</td>"
   ]
  },
  {
   "cell_type": "code",
   "execution_count": 1,
   "metadata": {},
   "outputs": [
    {
     "data": {
      "text/html": [
       "        <script type=\"text/javascript\">\n",
       "        window.PlotlyConfig = {MathJaxConfig: 'local'};\n",
       "        if (window.MathJax) {MathJax.Hub.Config({SVG: {font: \"STIX-Web\"}});}\n",
       "        if (typeof require !== 'undefined') {\n",
       "        require.undef(\"plotly\");\n",
       "        requirejs.config({\n",
       "            paths: {\n",
       "                'plotly': ['https://cdn.plot.ly/plotly-2.2.0.min']\n",
       "            }\n",
       "        });\n",
       "        require(['plotly'], function(Plotly) {\n",
       "            window._Plotly = Plotly;\n",
       "        });\n",
       "        }\n",
       "        </script>\n",
       "        "
      ]
     },
     "metadata": {},
     "output_type": "display_data"
    }
   ],
   "source": [
    "# Dieser Quelltext ist nicht prüfungsrelevant.\n",
    "\n",
    "# Bibliotheken importieren\n",
    "import pandas as pd\n",
    "from PyTree import ClassificationTree as ct\n",
    "from plotly.offline import iplot\n",
    "import plotly as py\n",
    "import cufflinks as cf\n",
    "cf.go_offline()"
   ]
  },
  {
   "cell_type": "markdown",
   "metadata": {},
   "source": [
    "## Trainingsdaten vs. Testdaten\n",
    "Das Modell wird nur mit den Trainingsdaten trainiert.\n",
    "\n",
    "Mit Testdaten wird die Qualität des Modells überprüft.\n",
    "Das erstellte Modell so möglichst gut die bisher unbekannten Testdaten klassifizieren."
   ]
  },
  {
   "cell_type": "code",
   "execution_count": 2,
   "metadata": {},
   "outputs": [
    {
     "name": "stdout",
     "output_type": "stream",
     "text": [
      "Trainingsdaten\n"
     ]
    },
    {
     "data": {
      "text/html": [
       "<div>\n",
       "<style scoped>\n",
       "    .dataframe tbody tr th:only-of-type {\n",
       "        vertical-align: middle;\n",
       "    }\n",
       "\n",
       "    .dataframe tbody tr th {\n",
       "        vertical-align: top;\n",
       "    }\n",
       "\n",
       "    .dataframe thead th {\n",
       "        text-align: right;\n",
       "    }\n",
       "</style>\n",
       "<table border=\"1\" class=\"dataframe\">\n",
       "  <thead>\n",
       "    <tr style=\"text-align: right;\">\n",
       "      <th></th>\n",
       "      <th>Breite</th>\n",
       "      <th>Länge</th>\n",
       "      <th>Insekt</th>\n",
       "    </tr>\n",
       "  </thead>\n",
       "  <tbody>\n",
       "    <tr>\n",
       "      <th>0</th>\n",
       "      <td>0.48</td>\n",
       "      <td>0.38</td>\n",
       "      <td>Marienkäfer</td>\n",
       "    </tr>\n",
       "    <tr>\n",
       "      <th>1</th>\n",
       "      <td>0.32</td>\n",
       "      <td>0.74</td>\n",
       "      <td>Raupe</td>\n",
       "    </tr>\n",
       "    <tr>\n",
       "      <th>2</th>\n",
       "      <td>0.49</td>\n",
       "      <td>0.27</td>\n",
       "      <td>Marienkäfer</td>\n",
       "    </tr>\n",
       "    <tr>\n",
       "      <th>3</th>\n",
       "      <td>0.58</td>\n",
       "      <td>0.46</td>\n",
       "      <td>Marienkäfer</td>\n",
       "    </tr>\n",
       "    <tr>\n",
       "      <th>4</th>\n",
       "      <td>0.11</td>\n",
       "      <td>0.58</td>\n",
       "      <td>Raupe</td>\n",
       "    </tr>\n",
       "    <tr>\n",
       "      <th>...</th>\n",
       "      <td>...</td>\n",
       "      <td>...</td>\n",
       "      <td>...</td>\n",
       "    </tr>\n",
       "    <tr>\n",
       "      <th>195</th>\n",
       "      <td>0.57</td>\n",
       "      <td>0.37</td>\n",
       "      <td>Marienkäfer</td>\n",
       "    </tr>\n",
       "    <tr>\n",
       "      <th>196</th>\n",
       "      <td>0.10</td>\n",
       "      <td>0.54</td>\n",
       "      <td>Raupe</td>\n",
       "    </tr>\n",
       "    <tr>\n",
       "      <th>197</th>\n",
       "      <td>0.39</td>\n",
       "      <td>0.81</td>\n",
       "      <td>Raupe</td>\n",
       "    </tr>\n",
       "    <tr>\n",
       "      <th>198</th>\n",
       "      <td>0.56</td>\n",
       "      <td>0.29</td>\n",
       "      <td>Marienkäfer</td>\n",
       "    </tr>\n",
       "    <tr>\n",
       "      <th>199</th>\n",
       "      <td>0.38</td>\n",
       "      <td>0.93</td>\n",
       "      <td>Raupe</td>\n",
       "    </tr>\n",
       "  </tbody>\n",
       "</table>\n",
       "<p>200 rows × 3 columns</p>\n",
       "</div>"
      ],
      "text/plain": [
       "     Breite  Länge       Insekt\n",
       "0      0.48   0.38  Marienkäfer\n",
       "1      0.32   0.74        Raupe\n",
       "2      0.49   0.27  Marienkäfer\n",
       "3      0.58   0.46  Marienkäfer\n",
       "4      0.11   0.58        Raupe\n",
       "..      ...    ...          ...\n",
       "195    0.57   0.37  Marienkäfer\n",
       "196    0.10   0.54        Raupe\n",
       "197    0.39   0.81        Raupe\n",
       "198    0.56   0.29  Marienkäfer\n",
       "199    0.38   0.93        Raupe\n",
       "\n",
       "[200 rows x 3 columns]"
      ]
     },
     "metadata": {},
     "output_type": "display_data"
    },
    {
     "name": "stdout",
     "output_type": "stream",
     "text": [
      "Testdaten\n"
     ]
    },
    {
     "data": {
      "text/html": [
       "<div>\n",
       "<style scoped>\n",
       "    .dataframe tbody tr th:only-of-type {\n",
       "        vertical-align: middle;\n",
       "    }\n",
       "\n",
       "    .dataframe tbody tr th {\n",
       "        vertical-align: top;\n",
       "    }\n",
       "\n",
       "    .dataframe thead th {\n",
       "        text-align: right;\n",
       "    }\n",
       "</style>\n",
       "<table border=\"1\" class=\"dataframe\">\n",
       "  <thead>\n",
       "    <tr style=\"text-align: right;\">\n",
       "      <th></th>\n",
       "      <th>Breite</th>\n",
       "      <th>Länge</th>\n",
       "      <th>Insekt</th>\n",
       "    </tr>\n",
       "  </thead>\n",
       "  <tbody>\n",
       "    <tr>\n",
       "      <th>0</th>\n",
       "      <td>0.42</td>\n",
       "      <td>0.29</td>\n",
       "      <td>Marienkäfer</td>\n",
       "    </tr>\n",
       "    <tr>\n",
       "      <th>1</th>\n",
       "      <td>0.39</td>\n",
       "      <td>0.92</td>\n",
       "      <td>Raupe</td>\n",
       "    </tr>\n",
       "    <tr>\n",
       "      <th>2</th>\n",
       "      <td>0.39</td>\n",
       "      <td>0.32</td>\n",
       "      <td>Marienkäfer</td>\n",
       "    </tr>\n",
       "    <tr>\n",
       "      <th>3</th>\n",
       "      <td>0.53</td>\n",
       "      <td>0.44</td>\n",
       "      <td>Marienkäfer</td>\n",
       "    </tr>\n",
       "    <tr>\n",
       "      <th>4</th>\n",
       "      <td>0.68</td>\n",
       "      <td>0.53</td>\n",
       "      <td>Marienkäfer</td>\n",
       "    </tr>\n",
       "    <tr>\n",
       "      <th>...</th>\n",
       "      <td>...</td>\n",
       "      <td>...</td>\n",
       "      <td>...</td>\n",
       "    </tr>\n",
       "    <tr>\n",
       "      <th>195</th>\n",
       "      <td>0.51</td>\n",
       "      <td>0.35</td>\n",
       "      <td>Marienkäfer</td>\n",
       "    </tr>\n",
       "    <tr>\n",
       "      <th>196</th>\n",
       "      <td>0.19</td>\n",
       "      <td>0.70</td>\n",
       "      <td>Raupe</td>\n",
       "    </tr>\n",
       "    <tr>\n",
       "      <th>197</th>\n",
       "      <td>0.57</td>\n",
       "      <td>0.29</td>\n",
       "      <td>Marienkäfer</td>\n",
       "    </tr>\n",
       "    <tr>\n",
       "      <th>198</th>\n",
       "      <td>0.16</td>\n",
       "      <td>0.60</td>\n",
       "      <td>Raupe</td>\n",
       "    </tr>\n",
       "    <tr>\n",
       "      <th>199</th>\n",
       "      <td>0.45</td>\n",
       "      <td>0.22</td>\n",
       "      <td>Marienkäfer</td>\n",
       "    </tr>\n",
       "  </tbody>\n",
       "</table>\n",
       "<p>200 rows × 3 columns</p>\n",
       "</div>"
      ],
      "text/plain": [
       "     Breite  Länge       Insekt\n",
       "0      0.42   0.29  Marienkäfer\n",
       "1      0.39   0.92        Raupe\n",
       "2      0.39   0.32  Marienkäfer\n",
       "3      0.53   0.44  Marienkäfer\n",
       "4      0.68   0.53  Marienkäfer\n",
       "..      ...    ...          ...\n",
       "195    0.51   0.35  Marienkäfer\n",
       "196    0.19   0.70        Raupe\n",
       "197    0.57   0.29  Marienkäfer\n",
       "198    0.16   0.60        Raupe\n",
       "199    0.45   0.22  Marienkäfer\n",
       "\n",
       "[200 rows x 3 columns]"
      ]
     },
     "metadata": {},
     "output_type": "display_data"
    }
   ],
   "source": [
    "# Trainingsdaten einlesen -> \"data frame käfer trainingsdaten\"\n",
    "df_käfer_trainingsdaten = pd.read_csv('Kaefer.csv', sep=';')\n",
    "\n",
    "# Testdaten einlesen -> \"data frame käfer testdaten\"\n",
    "df_käfer_testdaten = pd.read_csv('Kaefer_Testdaten.csv', sep=';')\n",
    "\n",
    "\n",
    "# zeige den Anfang des Datensatzes \"df_käfer_trainingsdaten\" an\n",
    "print(\"Trainingsdaten\")\n",
    "display(df_käfer_trainingsdaten)\n",
    "\n",
    "# zeige den Anfang des Datensatzes \"df_käfer_testdaten\" an\n",
    "print(\"Testdaten\")\n",
    "display(df_käfer_testdaten)\n"
   ]
  },
  {
   "cell_type": "code",
   "execution_count": 3,
   "metadata": {},
   "outputs": [],
   "source": [
    "# Entscheidungsbaum initialisieren mit Zielvariable (hier in Spalte \"Insekt\") und Trainingsdaten\n",
    "tree = ct.DecisionTree(target = 'Insekt', data = df_käfer_trainingsdaten)"
   ]
  },
  {
   "cell_type": "code",
   "execution_count": 4,
   "metadata": {},
   "outputs": [
    {
     "data": {
      "image/svg+xml": [
       "<?xml version=\"1.0\" encoding=\"UTF-8\" standalone=\"no\"?>\n",
       "<!DOCTYPE svg PUBLIC \"-//W3C//DTD SVG 1.1//EN\"\n",
       " \"http://www.w3.org/Graphics/SVG/1.1/DTD/svg11.dtd\">\n",
       "<!-- Generated by graphviz version 2.40.1 (20161225.0304)\n",
       " -->\n",
       "<!-- Title: %3 Pages: 1 -->\n",
       "<svg width=\"180pt\" height=\"312pt\"\n",
       " viewBox=\"0.00 0.00 180.00 312.00\" xmlns=\"http://www.w3.org/2000/svg\" xmlns:xlink=\"http://www.w3.org/1999/xlink\">\n",
       "<g id=\"graph0\" class=\"graph\" transform=\"scale(1 1) rotate(0) translate(4 308)\">\n",
       "<title>%3</title>\n",
       "<polygon fill=\"#ffffff\" stroke=\"transparent\" points=\"-4,4 -4,-308 176,-308 176,4 -4,4\"/>\n",
       "<polygon fill=\"#add8e6\" stroke=\"transparent\" points=\"8,-256 8,-300 114,-300 114,-256 8,-256\"/>\n",
       "<polygon fill=\"none\" stroke=\"#000000\" points=\"11,-278 11,-297 111,-297 111,-278 11,-278\"/>\n",
       "<text text-anchor=\"start\" x=\"39\" y=\"-284.4\" font-family=\"Times,serif\" font-size=\"12.00\" fill=\"#000000\">Insekt? &#160;&#160;</text>\n",
       "<polygon fill=\"none\" stroke=\"#000000\" points=\"11,-259 11,-276 111,-276 111,-259 11,-259\"/>\n",
       "<text text-anchor=\"start\" x=\"14\" y=\"-265\" font-family=\"Times,serif\" font-size=\"10.00\" fill=\"#696969\">[&#39;Marienkäfer&#39;, &#39;Raupe&#39;]</text>\n",
       "<polygon fill=\"none\" stroke=\"#000000\" points=\"8,-256 8,-300 114,-300 114,-256 8,-256\"/>\n",
       "<!-- 1 -->\n",
       "<g id=\"node1\" class=\"node\">\n",
       "<title>1</title>\n",
       "<polygon fill=\"none\" stroke=\"#000000\" points=\"79,-206.5 79,-251.5 137,-251.5 137,-206.5 79,-206.5\"/>\n",
       "<text text-anchor=\"start\" x=\"87\" y=\"-239\" font-family=\"Times,serif\" font-size=\"10.00\" fill=\"#696969\">[100, 100]</text>\n",
       "<text text-anchor=\"start\" x=\"87\" y=\"-224.8\" font-family=\"Times,serif\" font-size=\"14.00\" fill=\"#000000\">Länge?</text>\n",
       "<text text-anchor=\"start\" x=\"110\" y=\"-213\" font-family=\"Times,serif\" font-size=\"10.00\" fill=\"#696969\">Nr.1</text>\n",
       "</g>\n",
       "<!-- 2 -->\n",
       "<g id=\"node2\" class=\"node\">\n",
       "<title>2</title>\n",
       "<polygon fill=\"none\" stroke=\"#000000\" points=\"42.5,-106.5 42.5,-151.5 99.5,-151.5 99.5,-106.5 42.5,-106.5\"/>\n",
       "<text text-anchor=\"start\" x=\"53\" y=\"-139\" font-family=\"Times,serif\" font-size=\"10.00\" fill=\"#696969\">[100, 15]</text>\n",
       "<text text-anchor=\"start\" x=\"51\" y=\"-124.8\" font-family=\"Times,serif\" font-size=\"14.00\" fill=\"#000000\">Breite?</text>\n",
       "<text text-anchor=\"start\" x=\"73\" y=\"-113\" font-family=\"Times,serif\" font-size=\"10.00\" fill=\"#696969\">Nr.2</text>\n",
       "</g>\n",
       "<!-- 1&#45;&gt;2 -->\n",
       "<g id=\"edge3\" class=\"edge\">\n",
       "<title>1&#45;&gt;2</title>\n",
       "<path fill=\"none\" stroke=\"#000000\" d=\"M97.4911,-206.1851C94.9206,-200.3085 92.2612,-193.96 90,-188 86.7625,-179.4668 83.5848,-170.1118 80.7825,-161.4163\"/>\n",
       "<polygon fill=\"#000000\" stroke=\"#000000\" points=\"84.0319,-160.0829 77.6843,-151.6001 77.3565,-162.1899 84.0319,-160.0829\"/>\n",
       "<text text-anchor=\"middle\" x=\"106.5\" y=\"-176.8\" font-family=\"Times,serif\" font-size=\"14.00\" fill=\"#000000\">≤0.53</text>\n",
       "</g>\n",
       "<!-- 5 -->\n",
       "<g id=\"node5\" class=\"node\">\n",
       "<title>5</title>\n",
       "<polygon fill=\"#ffff00\" stroke=\"#ffff00\" points=\"118,-103.5 118,-154.5 172,-154.5 172,-103.5 118,-103.5\"/>\n",
       "<text text-anchor=\"start\" x=\"131.5\" y=\"-141\" font-family=\"Times,serif\" font-size=\"10.00\" fill=\"#696969\">[0, 85]</text>\n",
       "<text text-anchor=\"start\" x=\"127\" y=\"-124.8\" font-family=\"Times,serif\" font-size=\"14.00\" fill=\"#000000\">Raupe</text>\n",
       "<text text-anchor=\"start\" x=\"144\" y=\"-111\" font-family=\"Times,serif\" font-size=\"10.00\" fill=\"#696969\">Nr.5</text>\n",
       "</g>\n",
       "<!-- 1&#45;&gt;5 -->\n",
       "<g id=\"edge4\" class=\"edge\">\n",
       "<title>1&#45;&gt;5</title>\n",
       "<path fill=\"none\" stroke=\"#000000\" d=\"M116.3959,-206.3085C120.9596,-193.9739 126.7068,-178.441 131.8503,-164.5397\"/>\n",
       "<polygon fill=\"#000000\" stroke=\"#000000\" points=\"135.2757,-165.368 135.4633,-154.7748 128.7106,-162.9389 135.2757,-165.368\"/>\n",
       "<text text-anchor=\"middle\" x=\"145.5\" y=\"-176.8\" font-family=\"Times,serif\" font-size=\"14.00\" fill=\"#000000\">&gt;0.53</text>\n",
       "</g>\n",
       "<!-- 3 -->\n",
       "<g id=\"node3\" class=\"node\">\n",
       "<title>3</title>\n",
       "<polygon fill=\"#ffff00\" stroke=\"#ffff00\" points=\"0,-.5 0,-51.5 54,-51.5 54,-.5 0,-.5\"/>\n",
       "<text text-anchor=\"start\" x=\"13.5\" y=\"-38\" font-family=\"Times,serif\" font-size=\"10.00\" fill=\"#696969\">[0, 15]</text>\n",
       "<text text-anchor=\"start\" x=\"9\" y=\"-21.8\" font-family=\"Times,serif\" font-size=\"14.00\" fill=\"#000000\">Raupe</text>\n",
       "<text text-anchor=\"start\" x=\"26\" y=\"-8\" font-family=\"Times,serif\" font-size=\"10.00\" fill=\"#696969\">Nr.3</text>\n",
       "</g>\n",
       "<!-- 2&#45;&gt;3 -->\n",
       "<g id=\"edge1\" class=\"edge\">\n",
       "<title>2&#45;&gt;3</title>\n",
       "<path fill=\"none\" stroke=\"#000000\" d=\"M61.344,-106.3962C55.6996,-93.1831 48.4523,-76.218 42.0712,-61.2804\"/>\n",
       "<polygon fill=\"#000000\" stroke=\"#000000\" points=\"45.1756,-59.6379 38.0285,-51.8168 38.7384,-62.3878 45.1756,-59.6379\"/>\n",
       "<text text-anchor=\"middle\" x=\"68.5\" y=\"-73.8\" font-family=\"Times,serif\" font-size=\"14.00\" fill=\"#000000\">≤0.23</text>\n",
       "</g>\n",
       "<!-- 4 -->\n",
       "<g id=\"node4\" class=\"node\">\n",
       "<title>4</title>\n",
       "<polygon fill=\"#ffff00\" stroke=\"#ffff00\" points=\"72,-.5 72,-51.5 160,-51.5 160,-.5 72,-.5\"/>\n",
       "<text text-anchor=\"start\" x=\"100\" y=\"-38\" font-family=\"Times,serif\" font-size=\"10.00\" fill=\"#696969\">[100, 0]</text>\n",
       "<text text-anchor=\"start\" x=\"81\" y=\"-21.8\" font-family=\"Times,serif\" font-size=\"14.00\" fill=\"#000000\">Marienkäfer</text>\n",
       "<text text-anchor=\"start\" x=\"132\" y=\"-8\" font-family=\"Times,serif\" font-size=\"10.00\" fill=\"#696969\">Nr.4</text>\n",
       "</g>\n",
       "<!-- 2&#45;&gt;4 -->\n",
       "<g id=\"edge2\" class=\"edge\">\n",
       "<title>2&#45;&gt;4</title>\n",
       "<path fill=\"none\" stroke=\"#000000\" d=\"M80.8754,-106.3962C86.6481,-93.1831 94.0601,-76.218 100.5863,-61.2804\"/>\n",
       "<polygon fill=\"#000000\" stroke=\"#000000\" points=\"103.9245,-62.3817 104.7208,-51.8168 97.51,-59.5792 103.9245,-62.3817\"/>\n",
       "<text text-anchor=\"middle\" x=\"113.5\" y=\"-73.8\" font-family=\"Times,serif\" font-size=\"14.00\" fill=\"#000000\">&gt;0.23</text>\n",
       "</g>\n",
       "</g>\n",
       "</svg>\n"
      ],
      "text/plain": [
       "<graphviz.dot.Digraph at 0x7fd4c35aabb0>"
      ]
     },
     "execution_count": 4,
     "metadata": {},
     "output_type": "execute_result"
    }
   ],
   "source": [
    "#Entscheidungsbaum erstellen \n",
    "tree.grow_tree(df_käfer_trainingsdaten, 'Insekt')\n",
    "\n",
    "#Entscheidungsbaum ausgeben\n",
    "tree.print_tree()"
   ]
  },
  {
   "cell_type": "markdown",
   "metadata": {},
   "source": [
    "## Das trainierte Modell des Entscheidungsbaumes an Testdaten evaluieren\n",
    "Wir möchten ermitteln, wie \"gut\" unser Modell die Testdaten klassifiziert."
   ]
  },
  {
   "cell_type": "code",
   "execution_count": 5,
   "metadata": {},
   "outputs": [
    {
     "data": {
      "text/plain": [
       "0.97"
      ]
     },
     "execution_count": 5,
     "metadata": {},
     "output_type": "execute_result"
    }
   ],
   "source": [
    "# Rate korrekter Klassifikationen\n",
    "tree.prediction_accuracy(df_käfer_testdaten)"
   ]
  },
  {
   "cell_type": "code",
   "execution_count": 6,
   "metadata": {},
   "outputs": [
    {
     "data": {
      "text/html": [
       "<div>\n",
       "<style scoped>\n",
       "    .dataframe tbody tr th:only-of-type {\n",
       "        vertical-align: middle;\n",
       "    }\n",
       "\n",
       "    .dataframe tbody tr th {\n",
       "        vertical-align: top;\n",
       "    }\n",
       "\n",
       "    .dataframe thead th {\n",
       "        text-align: right;\n",
       "    }\n",
       "</style>\n",
       "<table border=\"1\" class=\"dataframe\">\n",
       "  <thead>\n",
       "    <tr style=\"text-align: right;\">\n",
       "      <th>prediction</th>\n",
       "      <th>Marienkäfer</th>\n",
       "      <th>Raupe</th>\n",
       "    </tr>\n",
       "    <tr>\n",
       "      <th>correct</th>\n",
       "      <th></th>\n",
       "      <th></th>\n",
       "    </tr>\n",
       "  </thead>\n",
       "  <tbody>\n",
       "    <tr>\n",
       "      <th>Marienkäfer</th>\n",
       "      <td>95</td>\n",
       "      <td>5</td>\n",
       "    </tr>\n",
       "    <tr>\n",
       "      <th>Raupe</th>\n",
       "      <td>1</td>\n",
       "      <td>99</td>\n",
       "    </tr>\n",
       "  </tbody>\n",
       "</table>\n",
       "</div>"
      ],
      "text/plain": [
       "prediction  Marienkäfer Raupe\n",
       "correct                      \n",
       "Marienkäfer          95     5\n",
       "Raupe                 1    99"
      ]
     },
     "metadata": {},
     "output_type": "display_data"
    },
    {
     "data": {
      "text/html": [
       "<div>\n",
       "<style scoped>\n",
       "    .dataframe tbody tr th:only-of-type {\n",
       "        vertical-align: middle;\n",
       "    }\n",
       "\n",
       "    .dataframe tbody tr th {\n",
       "        vertical-align: top;\n",
       "    }\n",
       "\n",
       "    .dataframe thead th {\n",
       "        text-align: right;\n",
       "    }\n",
       "</style>\n",
       "<table border=\"1\" class=\"dataframe\">\n",
       "  <thead>\n",
       "    <tr style=\"text-align: right;\">\n",
       "      <th>prediction</th>\n",
       "      <th>Marienkäfer</th>\n",
       "      <th>Raupe</th>\n",
       "    </tr>\n",
       "    <tr>\n",
       "      <th>correct</th>\n",
       "      <th></th>\n",
       "      <th></th>\n",
       "    </tr>\n",
       "  </thead>\n",
       "  <tbody>\n",
       "    <tr>\n",
       "      <th>Marienkäfer</th>\n",
       "      <td>95.0%</td>\n",
       "      <td>5.0%</td>\n",
       "    </tr>\n",
       "    <tr>\n",
       "      <th>Raupe</th>\n",
       "      <td>1.0%</td>\n",
       "      <td>99.0%</td>\n",
       "    </tr>\n",
       "  </tbody>\n",
       "</table>\n",
       "</div>"
      ],
      "text/plain": [
       "prediction  Marienkäfer  Raupe\n",
       "correct                       \n",
       "Marienkäfer       95.0%   5.0%\n",
       "Raupe              1.0%  99.0%"
      ]
     },
     "metadata": {},
     "output_type": "display_data"
    },
    {
     "data": {
      "text/html": [
       "<div>\n",
       "<style scoped>\n",
       "    .dataframe tbody tr th:only-of-type {\n",
       "        vertical-align: middle;\n",
       "    }\n",
       "\n",
       "    .dataframe tbody tr th {\n",
       "        vertical-align: top;\n",
       "    }\n",
       "\n",
       "    .dataframe thead th {\n",
       "        text-align: right;\n",
       "    }\n",
       "</style>\n",
       "<table border=\"1\" class=\"dataframe\">\n",
       "  <thead>\n",
       "    <tr style=\"text-align: right;\">\n",
       "      <th>prediction</th>\n",
       "      <th>Marienkäfer</th>\n",
       "      <th>Raupe</th>\n",
       "    </tr>\n",
       "    <tr>\n",
       "      <th>correct</th>\n",
       "      <th></th>\n",
       "      <th></th>\n",
       "    </tr>\n",
       "  </thead>\n",
       "  <tbody>\n",
       "    <tr>\n",
       "      <th>Marienkäfer</th>\n",
       "      <td>99.0%</td>\n",
       "      <td>4.8%</td>\n",
       "    </tr>\n",
       "    <tr>\n",
       "      <th>Raupe</th>\n",
       "      <td>1.0%</td>\n",
       "      <td>95.2%</td>\n",
       "    </tr>\n",
       "  </tbody>\n",
       "</table>\n",
       "</div>"
      ],
      "text/plain": [
       "prediction  Marienkäfer  Raupe\n",
       "correct                       \n",
       "Marienkäfer       99.0%   4.8%\n",
       "Raupe              1.0%  95.2%"
      ]
     },
     "metadata": {},
     "output_type": "display_data"
    }
   ],
   "source": [
    "# Häufigkeitstabelle/ Confusion Matrix\n",
    "tree.prediction_accuracy(df_käfer_testdaten, detailed = True)"
   ]
  },
  {
   "cell_type": "markdown",
   "metadata": {},
   "source": [
    "<div style=\"background-color: lightblue; padding: 5px 20px 20px\">\n",
    "\n",
    "**Aufgabe 1**\n",
    "    \n",
    "1.1. *Erläutere in Form eines Lerntagebucheintrags die folgenden Begriffe und wofür sie eingesetzt werden:*\n",
    "  - Trainingsdaten\n",
    "  - Testdaten\n",
    "    \n",
    "1.2 *Erläutere die Bedeutung einer hohen und einer niedrigen Rate korrekter Klassifikationen.*"
   ]
  },
  {
   "cell_type": "markdown",
   "metadata": {},
   "source": [
    "---"
   ]
  },
  {
   "cell_type": "markdown",
   "metadata": {},
   "source": [
    "<div style=\"background-color: yellow; padding: 5px 20px 20px\">\n",
    "    \n",
    "### Bitte hier noch nicht weiterarbeiten"
   ]
  },
  {
   "cell_type": "code",
   "execution_count": 7,
   "metadata": {},
   "outputs": [
    {
     "data": {
      "image/svg+xml": [
       "<?xml version=\"1.0\" encoding=\"UTF-8\" standalone=\"no\"?>\n",
       "<!DOCTYPE svg PUBLIC \"-//W3C//DTD SVG 1.1//EN\"\n",
       " \"http://www.w3.org/Graphics/SVG/1.1/DTD/svg11.dtd\">\n",
       "<!-- Generated by graphviz version 2.40.1 (20161225.0304)\n",
       " -->\n",
       "<!-- Title: %3 Pages: 1 -->\n",
       "<svg width=\"180pt\" height=\"312pt\"\n",
       " viewBox=\"0.00 0.00 180.00 312.00\" xmlns=\"http://www.w3.org/2000/svg\" xmlns:xlink=\"http://www.w3.org/1999/xlink\">\n",
       "<g id=\"graph0\" class=\"graph\" transform=\"scale(1 1) rotate(0) translate(4 308)\">\n",
       "<title>%3</title>\n",
       "<polygon fill=\"#ffffff\" stroke=\"transparent\" points=\"-4,4 -4,-308 176,-308 176,4 -4,4\"/>\n",
       "<polygon fill=\"#add8e6\" stroke=\"transparent\" points=\"8,-256 8,-300 114,-300 114,-256 8,-256\"/>\n",
       "<polygon fill=\"none\" stroke=\"#000000\" points=\"11,-278 11,-297 111,-297 111,-278 11,-278\"/>\n",
       "<text text-anchor=\"start\" x=\"39\" y=\"-284.4\" font-family=\"Times,serif\" font-size=\"12.00\" fill=\"#000000\">Insekt? &#160;&#160;</text>\n",
       "<polygon fill=\"none\" stroke=\"#000000\" points=\"11,-259 11,-276 111,-276 111,-259 11,-259\"/>\n",
       "<text text-anchor=\"start\" x=\"14\" y=\"-265\" font-family=\"Times,serif\" font-size=\"10.00\" fill=\"#696969\">[&#39;Marienkäfer&#39;, &#39;Raupe&#39;]</text>\n",
       "<polygon fill=\"none\" stroke=\"#000000\" points=\"8,-256 8,-300 114,-300 114,-256 8,-256\"/>\n",
       "<!-- 1 -->\n",
       "<g id=\"node1\" class=\"node\">\n",
       "<title>1</title>\n",
       "<polygon fill=\"none\" stroke=\"#000000\" points=\"79,-206.5 79,-251.5 137,-251.5 137,-206.5 79,-206.5\"/>\n",
       "<text text-anchor=\"start\" x=\"87\" y=\"-239\" font-family=\"Times,serif\" font-size=\"10.00\" fill=\"#696969\">[100, 100]</text>\n",
       "<text text-anchor=\"start\" x=\"87\" y=\"-224.8\" font-family=\"Times,serif\" font-size=\"14.00\" fill=\"#000000\">Länge?</text>\n",
       "<text text-anchor=\"start\" x=\"110\" y=\"-213\" font-family=\"Times,serif\" font-size=\"10.00\" fill=\"#696969\">Nr.1</text>\n",
       "</g>\n",
       "<!-- 2 -->\n",
       "<g id=\"node2\" class=\"node\">\n",
       "<title>2</title>\n",
       "<polygon fill=\"none\" stroke=\"#000000\" points=\"42.5,-106.5 42.5,-151.5 99.5,-151.5 99.5,-106.5 42.5,-106.5\"/>\n",
       "<text text-anchor=\"start\" x=\"53\" y=\"-139\" font-family=\"Times,serif\" font-size=\"10.00\" fill=\"#696969\">[100, 15]</text>\n",
       "<text text-anchor=\"start\" x=\"51\" y=\"-124.8\" font-family=\"Times,serif\" font-size=\"14.00\" fill=\"#000000\">Breite?</text>\n",
       "<text text-anchor=\"start\" x=\"73\" y=\"-113\" font-family=\"Times,serif\" font-size=\"10.00\" fill=\"#696969\">Nr.2</text>\n",
       "</g>\n",
       "<!-- 1&#45;&gt;2 -->\n",
       "<g id=\"edge3\" class=\"edge\">\n",
       "<title>1&#45;&gt;2</title>\n",
       "<path fill=\"none\" stroke=\"#000000\" d=\"M97.4911,-206.1851C94.9206,-200.3085 92.2612,-193.96 90,-188 86.7625,-179.4668 83.5848,-170.1118 80.7825,-161.4163\"/>\n",
       "<polygon fill=\"#000000\" stroke=\"#000000\" points=\"84.0319,-160.0829 77.6843,-151.6001 77.3565,-162.1899 84.0319,-160.0829\"/>\n",
       "<text text-anchor=\"middle\" x=\"106.5\" y=\"-176.8\" font-family=\"Times,serif\" font-size=\"14.00\" fill=\"#000000\">≤0.53</text>\n",
       "</g>\n",
       "<!-- 5 -->\n",
       "<g id=\"node5\" class=\"node\">\n",
       "<title>5</title>\n",
       "<polygon fill=\"#ffff00\" stroke=\"#ffff00\" points=\"118,-103.5 118,-154.5 172,-154.5 172,-103.5 118,-103.5\"/>\n",
       "<text text-anchor=\"start\" x=\"131.5\" y=\"-141\" font-family=\"Times,serif\" font-size=\"10.00\" fill=\"#696969\">[0, 85]</text>\n",
       "<text text-anchor=\"start\" x=\"127\" y=\"-124.8\" font-family=\"Times,serif\" font-size=\"14.00\" fill=\"#000000\">Raupe</text>\n",
       "<text text-anchor=\"start\" x=\"144\" y=\"-111\" font-family=\"Times,serif\" font-size=\"10.00\" fill=\"#696969\">Nr.5</text>\n",
       "</g>\n",
       "<!-- 1&#45;&gt;5 -->\n",
       "<g id=\"edge4\" class=\"edge\">\n",
       "<title>1&#45;&gt;5</title>\n",
       "<path fill=\"none\" stroke=\"#000000\" d=\"M116.3959,-206.3085C120.9596,-193.9739 126.7068,-178.441 131.8503,-164.5397\"/>\n",
       "<polygon fill=\"#000000\" stroke=\"#000000\" points=\"135.2757,-165.368 135.4633,-154.7748 128.7106,-162.9389 135.2757,-165.368\"/>\n",
       "<text text-anchor=\"middle\" x=\"145.5\" y=\"-176.8\" font-family=\"Times,serif\" font-size=\"14.00\" fill=\"#000000\">&gt;0.53</text>\n",
       "</g>\n",
       "<!-- 3 -->\n",
       "<g id=\"node3\" class=\"node\">\n",
       "<title>3</title>\n",
       "<polygon fill=\"#ffff00\" stroke=\"#ffff00\" points=\"0,-.5 0,-51.5 54,-51.5 54,-.5 0,-.5\"/>\n",
       "<text text-anchor=\"start\" x=\"13.5\" y=\"-38\" font-family=\"Times,serif\" font-size=\"10.00\" fill=\"#696969\">[0, 15]</text>\n",
       "<text text-anchor=\"start\" x=\"9\" y=\"-21.8\" font-family=\"Times,serif\" font-size=\"14.00\" fill=\"#000000\">Raupe</text>\n",
       "<text text-anchor=\"start\" x=\"26\" y=\"-8\" font-family=\"Times,serif\" font-size=\"10.00\" fill=\"#696969\">Nr.3</text>\n",
       "</g>\n",
       "<!-- 2&#45;&gt;3 -->\n",
       "<g id=\"edge1\" class=\"edge\">\n",
       "<title>2&#45;&gt;3</title>\n",
       "<path fill=\"none\" stroke=\"#000000\" d=\"M61.344,-106.3962C55.6996,-93.1831 48.4523,-76.218 42.0712,-61.2804\"/>\n",
       "<polygon fill=\"#000000\" stroke=\"#000000\" points=\"45.1756,-59.6379 38.0285,-51.8168 38.7384,-62.3878 45.1756,-59.6379\"/>\n",
       "<text text-anchor=\"middle\" x=\"68.5\" y=\"-73.8\" font-family=\"Times,serif\" font-size=\"14.00\" fill=\"#000000\">≤0.23</text>\n",
       "</g>\n",
       "<!-- 4 -->\n",
       "<g id=\"node4\" class=\"node\">\n",
       "<title>4</title>\n",
       "<polygon fill=\"#ffff00\" stroke=\"#ffff00\" points=\"72,-.5 72,-51.5 160,-51.5 160,-.5 72,-.5\"/>\n",
       "<text text-anchor=\"start\" x=\"100\" y=\"-38\" font-family=\"Times,serif\" font-size=\"10.00\" fill=\"#696969\">[100, 0]</text>\n",
       "<text text-anchor=\"start\" x=\"81\" y=\"-21.8\" font-family=\"Times,serif\" font-size=\"14.00\" fill=\"#000000\">Marienkäfer</text>\n",
       "<text text-anchor=\"start\" x=\"132\" y=\"-8\" font-family=\"Times,serif\" font-size=\"10.00\" fill=\"#696969\">Nr.4</text>\n",
       "</g>\n",
       "<!-- 2&#45;&gt;4 -->\n",
       "<g id=\"edge2\" class=\"edge\">\n",
       "<title>2&#45;&gt;4</title>\n",
       "<path fill=\"none\" stroke=\"#000000\" d=\"M80.8754,-106.3962C86.6481,-93.1831 94.0601,-76.218 100.5863,-61.2804\"/>\n",
       "<polygon fill=\"#000000\" stroke=\"#000000\" points=\"103.9245,-62.3817 104.7208,-51.8168 97.51,-59.5792 103.9245,-62.3817\"/>\n",
       "<text text-anchor=\"middle\" x=\"113.5\" y=\"-73.8\" font-family=\"Times,serif\" font-size=\"14.00\" fill=\"#000000\">&gt;0.23</text>\n",
       "</g>\n",
       "</g>\n",
       "</svg>\n"
      ],
      "text/plain": [
       "<graphviz.dot.Digraph at 0x7fd4b052ad90>"
      ]
     },
     "execution_count": 7,
     "metadata": {},
     "output_type": "execute_result"
    }
   ],
   "source": [
    "#Entscheidungsbaum automatisch erstellen \n",
    "tree.grow_tree(df_käfer_trainingsdaten, 'Insekt')\n",
    "\n",
    "#Entscheidungsbaum ausgeben\n",
    "tree.print_tree()"
   ]
  },
  {
   "cell_type": "code",
   "execution_count": 8,
   "metadata": {},
   "outputs": [
    {
     "data": {
      "text/plain": [
       "0.97"
      ]
     },
     "execution_count": 8,
     "metadata": {},
     "output_type": "execute_result"
    }
   ],
   "source": [
    "# Rate korrekter Klassifikationen\n",
    "tree.prediction_accuracy(df_käfer_testdaten)"
   ]
  },
  {
   "cell_type": "code",
   "execution_count": 9,
   "metadata": {},
   "outputs": [
    {
     "data": {
      "text/html": [
       "<div>\n",
       "<style scoped>\n",
       "    .dataframe tbody tr th:only-of-type {\n",
       "        vertical-align: middle;\n",
       "    }\n",
       "\n",
       "    .dataframe tbody tr th {\n",
       "        vertical-align: top;\n",
       "    }\n",
       "\n",
       "    .dataframe thead th {\n",
       "        text-align: right;\n",
       "    }\n",
       "</style>\n",
       "<table border=\"1\" class=\"dataframe\">\n",
       "  <thead>\n",
       "    <tr style=\"text-align: right;\">\n",
       "      <th>prediction</th>\n",
       "      <th>Marienkäfer</th>\n",
       "      <th>Raupe</th>\n",
       "    </tr>\n",
       "    <tr>\n",
       "      <th>correct</th>\n",
       "      <th></th>\n",
       "      <th></th>\n",
       "    </tr>\n",
       "  </thead>\n",
       "  <tbody>\n",
       "    <tr>\n",
       "      <th>Marienkäfer</th>\n",
       "      <td>95</td>\n",
       "      <td>5</td>\n",
       "    </tr>\n",
       "    <tr>\n",
       "      <th>Raupe</th>\n",
       "      <td>1</td>\n",
       "      <td>99</td>\n",
       "    </tr>\n",
       "  </tbody>\n",
       "</table>\n",
       "</div>"
      ],
      "text/plain": [
       "prediction  Marienkäfer Raupe\n",
       "correct                      \n",
       "Marienkäfer          95     5\n",
       "Raupe                 1    99"
      ]
     },
     "metadata": {},
     "output_type": "display_data"
    },
    {
     "data": {
      "text/html": [
       "<div>\n",
       "<style scoped>\n",
       "    .dataframe tbody tr th:only-of-type {\n",
       "        vertical-align: middle;\n",
       "    }\n",
       "\n",
       "    .dataframe tbody tr th {\n",
       "        vertical-align: top;\n",
       "    }\n",
       "\n",
       "    .dataframe thead th {\n",
       "        text-align: right;\n",
       "    }\n",
       "</style>\n",
       "<table border=\"1\" class=\"dataframe\">\n",
       "  <thead>\n",
       "    <tr style=\"text-align: right;\">\n",
       "      <th>prediction</th>\n",
       "      <th>Marienkäfer</th>\n",
       "      <th>Raupe</th>\n",
       "    </tr>\n",
       "    <tr>\n",
       "      <th>correct</th>\n",
       "      <th></th>\n",
       "      <th></th>\n",
       "    </tr>\n",
       "  </thead>\n",
       "  <tbody>\n",
       "    <tr>\n",
       "      <th>Marienkäfer</th>\n",
       "      <td>95.0%</td>\n",
       "      <td>5.0%</td>\n",
       "    </tr>\n",
       "    <tr>\n",
       "      <th>Raupe</th>\n",
       "      <td>1.0%</td>\n",
       "      <td>99.0%</td>\n",
       "    </tr>\n",
       "  </tbody>\n",
       "</table>\n",
       "</div>"
      ],
      "text/plain": [
       "prediction  Marienkäfer  Raupe\n",
       "correct                       \n",
       "Marienkäfer       95.0%   5.0%\n",
       "Raupe              1.0%  99.0%"
      ]
     },
     "metadata": {},
     "output_type": "display_data"
    },
    {
     "data": {
      "text/html": [
       "<div>\n",
       "<style scoped>\n",
       "    .dataframe tbody tr th:only-of-type {\n",
       "        vertical-align: middle;\n",
       "    }\n",
       "\n",
       "    .dataframe tbody tr th {\n",
       "        vertical-align: top;\n",
       "    }\n",
       "\n",
       "    .dataframe thead th {\n",
       "        text-align: right;\n",
       "    }\n",
       "</style>\n",
       "<table border=\"1\" class=\"dataframe\">\n",
       "  <thead>\n",
       "    <tr style=\"text-align: right;\">\n",
       "      <th>prediction</th>\n",
       "      <th>Marienkäfer</th>\n",
       "      <th>Raupe</th>\n",
       "    </tr>\n",
       "    <tr>\n",
       "      <th>correct</th>\n",
       "      <th></th>\n",
       "      <th></th>\n",
       "    </tr>\n",
       "  </thead>\n",
       "  <tbody>\n",
       "    <tr>\n",
       "      <th>Marienkäfer</th>\n",
       "      <td>99.0%</td>\n",
       "      <td>4.8%</td>\n",
       "    </tr>\n",
       "    <tr>\n",
       "      <th>Raupe</th>\n",
       "      <td>1.0%</td>\n",
       "      <td>95.2%</td>\n",
       "    </tr>\n",
       "  </tbody>\n",
       "</table>\n",
       "</div>"
      ],
      "text/plain": [
       "prediction  Marienkäfer  Raupe\n",
       "correct                       \n",
       "Marienkäfer       99.0%   4.8%\n",
       "Raupe              1.0%  95.2%"
      ]
     },
     "metadata": {},
     "output_type": "display_data"
    }
   ],
   "source": [
    "# Häufigkeitstabelle/ Confusion Matrix\n",
    "tree.prediction_accuracy(df_käfer_testdaten, detailed = True)"
   ]
  },
  {
   "cell_type": "code",
   "execution_count": null,
   "metadata": {},
   "outputs": [],
   "source": []
  }
 ],
 "metadata": {
  "celltoolbar": "Raw Cell Format",
  "hide_input": false,
  "kernelspec": {
   "display_name": "Python 3 (ipykernel)",
   "language": "python",
   "name": "python3"
  },
  "language_info": {
   "codemirror_mode": {
    "name": "ipython",
    "version": 3
   },
   "file_extension": ".py",
   "mimetype": "text/x-python",
   "name": "python",
   "nbconvert_exporter": "python",
   "pygments_lexer": "ipython3",
   "version": "3.8.2"
  },
  "latex_envs": {
   "LaTeX_envs_menu_present": true,
   "autoclose": false,
   "autocomplete": true,
   "bibliofile": "biblio.bib",
   "cite_by": "apalike",
   "current_citInitial": 1,
   "eqLabelWithNumbers": true,
   "eqNumInitial": 1,
   "hotkeys": {
    "equation": "Ctrl-E",
    "itemize": "Ctrl-I"
   },
   "labels_anchors": false,
   "latex_user_defs": false,
   "report_style_numbering": false,
   "user_envs_cfg": true
  },
  "toc": {
   "base_numbering": 1,
   "nav_menu": {},
   "number_sections": true,
   "sideBar": true,
   "skip_h1_title": false,
   "title_cell": "Table of Contents",
   "title_sidebar": "Contents",
   "toc_cell": false,
   "toc_position": {},
   "toc_section_display": true,
   "toc_window_display": true
  },
  "varInspector": {
   "cols": {
    "lenName": 16,
    "lenType": 16,
    "lenVar": 40
   },
   "kernels_config": {
    "python": {
     "delete_cmd_postfix": "",
     "delete_cmd_prefix": "del ",
     "library": "var_list.py",
     "varRefreshCmd": "print(var_dic_list())"
    },
    "r": {
     "delete_cmd_postfix": ") ",
     "delete_cmd_prefix": "rm(",
     "library": "var_list.r",
     "varRefreshCmd": "cat(var_dic_list()) "
    }
   },
   "types_to_exclude": [
    "module",
    "function",
    "builtin_function_or_method",
    "instance",
    "_Feature"
   ],
   "window_display": false
  }
 },
 "nbformat": 4,
 "nbformat_minor": 2
}
