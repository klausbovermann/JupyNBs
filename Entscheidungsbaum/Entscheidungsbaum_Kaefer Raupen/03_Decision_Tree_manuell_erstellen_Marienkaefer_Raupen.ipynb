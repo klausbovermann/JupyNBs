{
 "cells": [
  {
   "cell_type": "markdown",
   "metadata": {},
   "source": [
    "# Wie können wir manuell einen Entscheidungsbaum entwickeln?"
   ]
  },
  {
   "cell_type": "markdown",
   "metadata": {},
   "source": [
    "Wir haben zwei **Klassen** von Insekten: \n",
    "- ```Marienkäfer```\n",
    "- ```Raupe```"
   ]
  },
  {
   "cell_type": "markdown",
   "metadata": {},
   "source": [
    "<td> \n",
    "    <img src=\"Bilder\\marienkaefer.jpg\" alt=\"Drawing\" style=\"width: 100px; float: left;\"  hspace=40 /> \n",
    "    <img src=\"Bilder\\raupe.jpg\" alt=\"Drawing\" style=\"width: 100px; float: left;\" hspace=40/>\n",
    "</td>"
   ]
  },
  {
   "cell_type": "markdown",
   "metadata": {},
   "source": [
    "## Zielsetzung: bisher Unbekanntes auf Grundlage der Trainingsdaten richtig klassifizieren\n",
    "\n",
    "Das Ziel ist es ein (bisher unbekanntes) Insekt, d. h. entweder ein Marienkäfer oder eine Raupe, nur aufgrund der Informationen über seine ```Breite``` und ```Länge\"``` richtig zu klassifizieren.\n",
    "\n",
    " - Wir möchten auf Grundlage unserer Trainingsdaten die **meisten** bisher unbekannten Insekten **richtig klassifizieren**.\n",
    " - Wir möchten auf Grundlage unserer Trainingsdaten die **wenigsten** bisher unbekannten Insekten **falsch klassifizieren**.\n",
    " - Diese Klassfizierung gelingt u. a. mit einem Entscheidungsbaum.\n",
    "\n",
    "**Leitfragen:**\n",
    "* Was muss man beachten, wenn man einen \"guten\" Entscheidungsbaum manuell erstellt?\n",
    "* Nach welchen Kriterien erstellt man einen \"guten\" Entscheidungsbaum?\n"
   ]
  },
  {
   "cell_type": "markdown",
   "metadata": {},
   "source": [
    "## Zielvariable vs. Prädiktorvariable\n",
    "Es wird zwischen folgenden zwei Arten von Variablen unterschieden:\n",
    "    \n",
    "* ```Prädiktorvariable```\n",
    "* ```Zielvariable```\n",
    "\n",
    "In unserem Beispiel ist die ```Zielvarible``` das ```Insekt```.\n",
    "(Für ein Insekt gibt es in unserem Beispiel die zwei Klassen ```Marienkäfer``` und ```Raupe```.\n",
    "\n",
    "In unserem Beispiel gibt es die zwei ```Prädiktorvariblen``` ```Breite``` und ```Länge```."
   ]
  },
  {
   "cell_type": "code",
   "execution_count": null,
   "metadata": {},
   "outputs": [],
   "source": [
    "# Dieser Quelltext ist nicht prüfungsrelevant.\n",
    "\n",
    "# Bibliotheken importieren\n",
    "import pandas as pd\n",
    "from PyTree import ClassificationTree as ct\n",
    "from ipywidgets import interactive\n",
    "from plotly.offline import iplot\n",
    "import plotly as py\n",
    "import cufflinks as cf\n",
    "cf.go_offline()"
   ]
  },
  {
   "cell_type": "markdown",
   "metadata": {},
   "source": [
    "## Trainingsdaten vs. Testdaten\n",
    "Das Modell wird nur mit den ```Trainingsdaten``` trainiert. Der Entscheidungsbaum wird nur auf Grundlage der Trainingsdaten erstellt.\n",
    "\n",
    "* Hinweis: Wir behandeln hier zunächst die ```Trainingsdaten``` und werden später auf die ```Testdaten``` zurückkommen.\n",
    "\n",
    "Mit den ```Testdaten``` wird die Qualität des Modells überprüft.\n",
    "Das erstellte Modell soll möglichst gut die bisher unbekannten ```Testdaten``` klassifizieren.\n"
   ]
  },
  {
   "cell_type": "markdown",
   "metadata": {},
   "source": [
    "# Entscheidungsbaum manuell erstellen: interaktiv mit nur einer Prädiktorvariablen"
   ]
  },
  {
   "cell_type": "code",
   "execution_count": null,
   "metadata": {},
   "outputs": [],
   "source": [
    "# Trainingsdaten einlesen -> \"data frame df_käfer_trainingsdaten\"\n",
    "df_käfer_trainingsdaten = pd.read_csv('Kaefer.csv', sep=';')\n",
    "\n",
    "# zeige den Anfang des Datensatzes \"df_käfer_trainingsdaten\" an\n",
    "print(\"Trainingsdaten\")\n",
    "display(df_käfer_trainingsdaten)"
   ]
  },
  {
   "cell_type": "markdown",
   "metadata": {},
   "source": [
    "<div style=\"background-color: lightblue; padding: 5px 20px 20px\">\n",
    "   \n",
    "## *Aufgabe: Führe den folgenden Quelltext aus und stelle mit dem Schwieberegler den Schwellenwert jeweils wie folgt ein:*\n",
    "     - Hinweis: Klicke nach dem Einstellen des Schiebereglers auf den Button \"Erstelle Split\".\n",
    "    \n",
    "a) Finde für das Attribut ```Länge``` einen Schwellenwert, so dass im Knoten mit der ```Nr. 2 keine falsch klassifizierten Raupen``` erkannt werden.\n",
    "    \n",
    "b) Finde für das Attribut ```Länge``` einen Schwellenwert, so dass im Knoten mit der ```Nr. 3 keine falsch klassifizierten Marienkäfer``` erkannt werden.\n",
    "    \n",
    "c) Finde für das Attribut ```Breite``` einen Schwellenwert, so dass im Knoten mit der ```Nr. 2 keine falsch klassifizierten Marienkäfer``` erkannt werden.\n",
    "    \n",
    "d) Finde für das Attribut ```Breite``` einen Schwellenwert, so dass im Knoten mit der ```Nr. 3 keine falsch klassifizierten Raupen``` erkannt werden.\n",
    "    \n",
    "e) Finde den Datensplit (```Attribut``` auswählen und ```Schwellenwert``` einstellen), so dass **in Summe** am wenigsten ```Insekten (Marienkäfer und Raupen) falsch klassifiziert``` werden."
   ]
  },
  {
   "cell_type": "code",
   "execution_count": null,
   "metadata": {},
   "outputs": [],
   "source": [
    "# Entscheidungsbaum initialisieren mit Zielvariable (hier in Spalte \"Insekt\") und Trainingsdaten\n",
    "tree = ct.DecisionTree(target = 'Insekt', data = df_käfer_trainingsdaten)\n",
    "\n",
    "# Entscheidungsbaum mit einer Entscheidungsregel erstellen \n",
    "\n",
    "# threshold bedeutet Schwellenwert\n",
    "def split(Attribut, Schwellenwert):\n",
    "    tree.manual_split(attribute = Attribut,  threshold = Schwellenwert, node_nr = 1)                    \n",
    "    display(tree.print_tree())                    \n",
    "    \n",
    "tree_widget = interactive(split,{'manual': True, 'manual_name': 'Erstelle Split'}, \n",
    "                          Attribut = ['Länge', 'Breite'], Schwellenwert = (0.0,1.0,0.01)) \n",
    "\n",
    "display(tree_widget)"
   ]
  },
  {
   "cell_type": "markdown",
   "metadata": {},
   "source": [
    "# Entscheidungsbaum manuell erstellen: programmiert mit nur einer Prädiktorvariablen"
   ]
  },
  {
   "cell_type": "markdown",
   "metadata": {},
   "source": [
    "Der Entscheidungsbaum kann auch ohne einen Schieberegler und nur über einen Quelltext erstellt werden.\n",
    "\n",
    "    - Hinweis: Das Baumobjekt wird hier mit tree2 bezeichnet."
   ]
  },
  {
   "cell_type": "code",
   "execution_count": null,
   "metadata": {},
   "outputs": [],
   "source": [
    "# Entscheidungsbaum initialisieren mit Zielvariable (hier in Spalte \"Insekt\") und Trainingsdaten\n",
    "tree2 = ct.DecisionTree(target = 'Insekt', data = df_käfer_trainingsdaten)\n",
    "\n",
    "# Entscheidungsbaum erstellen \n",
    "\n",
    "# threshold bedeutet Schwellenwert\n",
    "tree2.manual_split(attribute = 'Länge',  threshold = 0.53, node_nr = 1)\n",
    "\n",
    "#Entscheidungsbaum ausgeben\n",
    "tree2.print_tree()"
   ]
  },
  {
   "cell_type": "markdown",
   "metadata": {},
   "source": [
    "<div style=\"background-color: lightblue; padding: 5px 20px 20px\">\n",
    "\n",
    "### Aufgabe: \n",
    "    \n",
    "Ändere den unten stehenden Programmcode so ab, dass:\n",
    "    - nach der Prädiktorvariablen ```Breite``` aufgesplittet wird und\n",
    "    - möglichst wenige Insekten falsch klassifiziert werden.\n",
    "\n",
    "Hinweis: Das Baumobjekt wird hier mit tree3 bezeichnet.    "
   ]
  },
  {
   "cell_type": "code",
   "execution_count": null,
   "metadata": {},
   "outputs": [],
   "source": [
    "# Entscheidungsbaum initialisieren mit Zielvariable (hier in Spalte \"Insekt\") und Trainingsdaten\n",
    "tree3 = ct.DecisionTree(target = 'Insekt', data = df_käfer_trainingsdaten)\n",
    "\n",
    "# Entscheidungsbaum erstellen \n",
    "\n",
    "# threshold bedeutet Schwellenwert\n",
    "tree3.manual_split(attribute = 'Länge',  threshold = 0.6, node_nr = 1) # hier anpassen anpassen\n",
    "\n",
    "#Entscheidungsbaum ausgeben\n",
    "tree3.print_tree()"
   ]
  },
  {
   "cell_type": "markdown",
   "metadata": {},
   "source": [
    "# Entscheidungsbaum manuell erstellen: programmiert mit mehreren Prädiktorvariablen"
   ]
  },
  {
   "cell_type": "markdown",
   "metadata": {},
   "source": [
    "Eine noch bessere Klassifizierung kann erreicht werden, wenn alle ```Prädiktorvariablen``` (hier: ```Breite``` und ```Länge```) berücksichtigt werden.\n",
    "\n",
    "    - Hinweis: Das Baumobjekt wird hier mit tree4 bezeichnet."
   ]
  },
  {
   "cell_type": "code",
   "execution_count": null,
   "metadata": {},
   "outputs": [],
   "source": [
    "# zeige den Anfang des Datensatzes \"df_käfer_trainingsdaten\" an\n",
    "print(\"Trainingsdaten\")\n",
    "display(df_käfer_trainingsdaten)"
   ]
  },
  {
   "cell_type": "code",
   "execution_count": null,
   "metadata": {},
   "outputs": [],
   "source": [
    "# Entscheidungsbaum initialisieren mit Zielvariable (hier in Spalte \"Insekt\") und Trainingsdaten\n",
    "tree4 = ct.DecisionTree(target = 'Insekt', data = df_käfer_trainingsdaten)"
   ]
  },
  {
   "cell_type": "code",
   "execution_count": null,
   "metadata": {},
   "outputs": [],
   "source": [
    "# Entscheidungsbaum erstellen \n",
    "\n",
    "# threshold bedeutet Schwellenwert\n",
    "tree4.manual_split(attribute = 'Länge',  threshold = 0.53, node_nr = 1) # hier threshold anpassen\n",
    "tree4.manual_split(attribute = 'Breite', threshold = 0.29, node_nr = 2) # hier threshold anpassen\n",
    "# tree4.manual_split(attribute = 'Breite', threshold = 0.5, node_nr = 3) # hier threshold anpassen\n",
    "\n",
    "#Entscheidungsbaum ausgeben\n",
    "tree4.print_tree()"
   ]
  },
  {
   "cell_type": "markdown",
   "metadata": {},
   "source": [
    "<div style=\"background-color: lightblue; padding: 5px 20px 20px\">\n",
    "\n",
    "## *Aufgabe: Erläutere, wie viele Insekte im obigen Beispiel mit den Schwellenwerten von jeweils 0.5 falsch klassifiziert werden.*\n",
    "    \n",
    "    Tipp: Die Zahlen in den eckigen Klammern (hier: z. B. [42,12]) sind von Bedeutung."
   ]
  },
  {
   "cell_type": "markdown",
   "metadata": {},
   "source": [
    "<div style=\"background-color: lightblue; padding: 5px 20px 20px\">\n",
    "\n",
    "## *Aufgabe: Verändere im nachfolgenden Quelltext die Schwellenwerte (thresholds) so, dass die Anzahl der Fehlklassifikationen minimal wird. Notiere die beste Wahl der gefundenen Schwellenwerte.*\n",
    "    Hinweis: Das Baumobjekt wird hier mit tree5 bezeichnet."
   ]
  },
  {
   "cell_type": "code",
   "execution_count": null,
   "metadata": {},
   "outputs": [],
   "source": [
    "# Entscheidungsbaum initialisieren mit Zielvariable (hier in Spalte \"Insekt\") und Trainingsdaten\n",
    "tree5 = ct.DecisionTree(target = 'Insekt', data = df_käfer_trainingsdaten)\n",
    "\n",
    "# threshold bedeutet Schwellenwert\n",
    "tree5.manual_split(attribute = 'Länge',  threshold = 0.5, node_nr = 1) # hier threshold anpassen\n",
    "tree5.manual_split(attribute = 'Breite', threshold = 0.3, node_nr = 2) # hier threshold anpassen\n",
    "tree5.manual_split(attribute = 'Breite', threshold = 0.5, node_nr = 3) # hier threshold anpassen\n",
    "\n",
    "#Entscheidungsbaum ausgeben\n",
    "tree5.print_tree()"
   ]
  },
  {
   "cell_type": "markdown",
   "metadata": {},
   "source": [
    "<div style=\"background-color: lightblue; padding: 5px 20px 20px\">\n",
    "\n",
    "## *Vertiefungsaufgabe: Verändere im nachfolgenden Quelltext die Schwellenwerte (thresholds) so, dass die Anzahl der Fehlklassifikationen minimal wird.*\n",
    "    Hinweise: \n",
    "    - Du sollst mit den zwei Datensplits auskommen und keinen weiteren Datensplit einfügen.\n",
    "    - Das Baumobjekt wird hier mit tree6 bezeichnet.    "
   ]
  },
  {
   "cell_type": "code",
   "execution_count": null,
   "metadata": {},
   "outputs": [],
   "source": [
    "# Trainingsdaten einlesen -> \"data frame df_käfer_trainingsdaten\"\n",
    "df_käfer_trainingsdaten = pd.read_csv('Kaefer.csv', sep=';')\n",
    "\n",
    "# zeige den Anfang des Datensatzes \"df_käfer_trainingsdaten\" an\n",
    "print(\"Trainingsdaten\")\n",
    "display(df_käfer_trainingsdaten)\n",
    "\n",
    "# Entscheidungsbaum initialisieren mit Zielvariable (hier in Spalte \"Insekt\") und Trainingsdaten\n",
    "tree6 = ct.DecisionTree(target = 'Insekt', data = df_käfer_trainingsdaten)\n",
    "\n",
    "# threshold bedeutet Schwellenwert\n",
    "tree6.manual_split(attribute = 'Länge',  threshold = 0.5, node_nr = 1) # hier threshold anpassen\n",
    "tree6.manual_split(attribute = 'Breite', threshold = 0.5, node_nr = 2) # hier threshold anpassen\n",
    "\n",
    "#Entscheidungsbaum ausgeben\n",
    "tree6.print_tree()"
   ]
  },
  {
   "cell_type": "markdown",
   "metadata": {},
   "source": [
    "# KäferAlternativ Datensatz zur weiteren Übung\n"
   ]
  },
  {
   "cell_type": "markdown",
   "metadata": {},
   "source": [
    "<div style=\"background-color: lightblue; padding: 5px 20px 20px\">\n",
    "\n",
    "## *Aufgabe: Erstelle im Folgenden einen optimierten Entscheidungsbaum für den Datensatz **[KäferAlternativ.csv](KäferAlternativ.csv)**.*\n",
    "    Hinweis: Das Baumobjekt wird hier mit tree7 bezeichnet."
   ]
  },
  {
   "cell_type": "code",
   "execution_count": null,
   "metadata": {},
   "outputs": [],
   "source": [
    "# Trainingsdaten einlesen -> \"data frame df_käferAlternativ_trainingsdaten\"\n",
    "df_käferAlternativ_trainingsdaten = pd.read_csv('KaeferAlternativ.csv', sep=';')\n",
    "\n",
    "# zeige den Anfang des Datensatzes \"df_käferAlternativ_trainingsdaten\" an\n",
    "print(\"Trainingsdaten KäferAlternativ\")\n",
    "display(df_käferAlternativ_trainingsdaten)\n",
    "\n",
    "# Entscheidungsbaum initialisieren mit Zielvariable (hier in Spalte \"Insekt\") und Trainingsdaten\n",
    "tree7 = ct.DecisionTree(target = 'Insekt', data = df_käferAlternativ_trainingsdaten)\n",
    "\n",
    "# threshold bedeutet Schwellenwert\n",
    "tree7.manual_split(attribute = 'Länge',  threshold = 0.5, node_nr = 1) # hier threshold anpassen\n",
    "tree7.manual_split(attribute = 'Breite', threshold = 0.5, node_nr = 2) # hier threshold anpassen\n",
    "\n",
    "#Entscheidungsbaum ausgeben\n",
    "tree7.print_tree()\n"
   ]
  },
  {
   "cell_type": "markdown",
   "metadata": {},
   "source": [
    "<div style=\"background-color: lightblue; padding: 5px 20px 20px\">\n",
    "\n",
    "## *Vertiefungsaufgabe: Erläutere die Strategie, mit der Du Deine Schwellenwerte bestimmt hast.*\n"
   ]
  },
  {
   "cell_type": "markdown",
   "metadata": {},
   "source": [
    "Bitte trage Deine Erläuterung in diese Zelle ein. (Doppelklick auf diese Zelle).\n",
    "\n",
    "\n",
    "_ _ \n"
   ]
  },
  {
   "cell_type": "markdown",
   "metadata": {},
   "source": [
    "<div style=\"background-color: lightblue; padding: 5px 20px 20px\">\n",
    "    \n",
    "**Aufgabe 5**\n",
    "    \n",
    "1000 Pralinen, die in zwei Güteklassen unterteilt sind, wurden gemessen.\n",
    "\n",
    "    Die Zielvariable ist die Kategorie.\n",
    "    Als Prädiktorvariablen stehen der Durchmesser, das Gewicht und die Farbe zur Verfügung.\n",
    "    \n",
    "    Tipp:\n",
    "        # sortiere die Datensätze nach einer Spalte (aufsteigend) mit Ausgabe\n",
    "        df_käfer.sort_values(by='Insekt')\n",
    "    \n",
    "5.1. *Erläutere den Aufbau des Datensatzes: **[Pralinen.csv](Pralinen.csv)**.*\n",
    "    \n",
    "5.2. *Erstelle im Folgenden einen optimierten Entscheidungsbaum für den Datensatz **[Pralinen.csv](Pralinen.csv)**.*\n",
    "    \n",
    "5.3. *Erläutere nach welchen Kriterien Pralinen in die zwei Güteklassen einsortiert werden.*\n",
    "    \n"
   ]
  },
  {
   "cell_type": "code",
   "execution_count": null,
   "metadata": {},
   "outputs": [],
   "source": [
    "# ab hier kann programmiert werden\n",
    "\n"
   ]
  },
  {
   "cell_type": "code",
   "execution_count": null,
   "metadata": {},
   "outputs": [],
   "source": []
  }
 ],
 "metadata": {
  "celltoolbar": "Raw Cell Format",
  "hide_input": false,
  "kernelspec": {
   "display_name": "Python 3 (ipykernel)",
   "language": "python",
   "name": "python3"
  },
  "language_info": {
   "codemirror_mode": {
    "name": "ipython",
    "version": 3
   },
   "file_extension": ".py",
   "mimetype": "text/x-python",
   "name": "python",
   "nbconvert_exporter": "python",
   "pygments_lexer": "ipython3",
   "version": "3.8.2"
  },
  "latex_envs": {
   "LaTeX_envs_menu_present": true,
   "autoclose": false,
   "autocomplete": true,
   "bibliofile": "biblio.bib",
   "cite_by": "apalike",
   "current_citInitial": 1,
   "eqLabelWithNumbers": true,
   "eqNumInitial": 1,
   "hotkeys": {
    "equation": "Ctrl-E",
    "itemize": "Ctrl-I"
   },
   "labels_anchors": false,
   "latex_user_defs": false,
   "report_style_numbering": false,
   "user_envs_cfg": true
  },
  "toc": {
   "base_numbering": 1,
   "nav_menu": {},
   "number_sections": true,
   "sideBar": true,
   "skip_h1_title": false,
   "title_cell": "Table of Contents",
   "title_sidebar": "Contents",
   "toc_cell": false,
   "toc_position": {
    "height": "calc(100% - 180px)",
    "left": "10px",
    "top": "150px",
    "width": "165px"
   },
   "toc_section_display": true,
   "toc_window_display": true
  },
  "varInspector": {
   "cols": {
    "lenName": 16,
    "lenType": 16,
    "lenVar": 40
   },
   "kernels_config": {
    "python": {
     "delete_cmd_postfix": "",
     "delete_cmd_prefix": "del ",
     "library": "var_list.py",
     "varRefreshCmd": "print(var_dic_list())"
    },
    "r": {
     "delete_cmd_postfix": ") ",
     "delete_cmd_prefix": "rm(",
     "library": "var_list.r",
     "varRefreshCmd": "cat(var_dic_list()) "
    }
   },
   "types_to_exclude": [
    "module",
    "function",
    "builtin_function_or_method",
    "instance",
    "_Feature"
   ],
   "window_display": false
  }
 },
 "nbformat": 4,
 "nbformat_minor": 2
}
