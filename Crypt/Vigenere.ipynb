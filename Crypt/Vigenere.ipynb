{
 "cells": [
  {
   "cell_type": "markdown",
   "metadata": {
    "toc": true
   },
   "source": [
    "<h1>Inhaltsverzeichnis<span class=\"tocSkip\"></span></h1>\n",
    "<div class=\"toc\"><ul class=\"toc-item\"><li><span><a href=\"#Notwendige-Bibliotheken-und-Funktionalitäten\" data-toc-modified-id=\"Notwendige-Bibliotheken-und-Funktionalitäten-1\"><span class=\"toc-item-num\">1&nbsp;&nbsp;</span>Notwendige Bibliotheken und Funktionalitäten</a></span></li><li><span><a href=\"#Allgemeine-Vorbemerkungen\" data-toc-modified-id=\"Allgemeine-Vorbemerkungen-2\"><span class=\"toc-item-num\">2&nbsp;&nbsp;</span>Allgemeine Vorbemerkungen</a></span></li><li><span><a href=\"#Vorweg:-Die-Caesar-Chiffre\" data-toc-modified-id=\"Vorweg:-Die-Caesar-Chiffre-3\"><span class=\"toc-item-num\">3&nbsp;&nbsp;</span>Vorweg: Die Caesar-Chiffre</a></span><ul class=\"toc-item\"><li><span><a href=\"#Wir-verschlüsseln-mit-Caesar!\" data-toc-modified-id=\"Wir-verschlüsseln-mit-Caesar!-3.1\"><span class=\"toc-item-num\">3.1&nbsp;&nbsp;</span>Wir verschlüsseln mit Caesar!</a></span></li><li><span><a href=\"#Caesar-decodieren\" data-toc-modified-id=\"Caesar-decodieren-3.2\"><span class=\"toc-item-num\">3.2&nbsp;&nbsp;</span>Caesar decodieren</a></span></li></ul></li><li><span><a href=\"#Wie-funktioniert-die-Vigenère-Verschlüsselung?\" data-toc-modified-id=\"Wie-funktioniert-die-Vigenère-Verschlüsselung?-4\"><span class=\"toc-item-num\">4&nbsp;&nbsp;</span>Wie funktioniert die Vigenère-Verschlüsselung?</a></span></li></ul></div>"
   ]
  },
  {
   "cell_type": "markdown",
   "metadata": {},
   "source": [
    "# Vigenère; Erläuterungen mit einer Python-Umgebung"
   ]
  },
  {
   "cell_type": "markdown",
   "metadata": {},
   "source": [
    "## Notwendige Bibliotheken und Funktionalitäten"
   ]
  },
  {
   "cell_type": "markdown",
   "metadata": {},
   "source": [
    "Für die folgenden Programmteile werden einige Python-Bibliotheken benötigt, die jedoch ausschließlich technische Werkzeuge bereitstellen, nicht jedoch notwendig sind für die eigentlichen Verschlüsselungsverfahren."
   ]
  },
  {
   "cell_type": "code",
   "execution_count": 1,
   "metadata": {},
   "outputs": [],
   "source": [
    "import ipywidgets as widgets"
   ]
  },
  {
   "cell_type": "code",
   "execution_count": 2,
   "metadata": {},
   "outputs": [],
   "source": [
    "output=widgets.Output()"
   ]
  },
  {
   "cell_type": "markdown",
   "metadata": {},
   "source": [
    "## Allgemeine Vorbemerkungen"
   ]
  },
  {
   "cell_type": "markdown",
   "metadata": {},
   "source": [
    "Jeder Text, also sowohl die zu versendende **Nachricht**, der benutzte **Schlüssel** als auch der daraus resultierende **Geheimtext**, besteht ausschließlich aus den Großbuchstaben!\n",
    "\n",
    "- Also gibt es insbesondere\n",
    "   - **keine Umlaute**\n",
    "   - **keine Ziffern**\n",
    "   - **keine Satzzeichen**\n",
    "   - **keine Sonderzeichen**\n",
    "   - **keine Leerzeichen**\n",
    "   - **keine Zeilenumbrüche**\n",
    "   \n",
    "Folglich kann man den zulässige Zeichenvorrat unter dem Namen `alphabet` definieren:"
   ]
  },
  {
   "cell_type": "code",
   "execution_count": 3,
   "metadata": {},
   "outputs": [],
   "source": [
    "alphabet = \"abcdefghijklmnopqrstuvwxyz\".upper()"
   ]
  },
  {
   "cell_type": "markdown",
   "metadata": {},
   "source": [
    "Damit alle Texte sicher behandelt werden können, gibt es ein passendes Werkzeug:\n",
    "- Alle Kleinbuchstaben werden in Großbuchstaben umgewandelt.\n",
    "- Alle Zeichen des Textes, die nicht im Alphabet enthalten sind, werden entfernt."
   ]
  },
  {
   "cell_type": "code",
   "execution_count": 4,
   "metadata": {
    "hide_input": false
   },
   "outputs": [],
   "source": [
    "def normiereText(text):\n",
    "    normierterText = \"\"\n",
    "    for zeichen in text.upper():\n",
    "        if zeichen in alphabet:\n",
    "            normierterText += zeichen\n",
    "    return normierterText    "
   ]
  },
  {
   "cell_type": "markdown",
   "metadata": {},
   "source": [
    "Zum Test:"
   ]
  },
  {
   "cell_type": "code",
   "execution_count": 5,
   "metadata": {},
   "outputs": [
    {
     "data": {
      "text/plain": [
       "'KJHKKJSJH'"
      ]
     },
     "execution_count": 5,
     "metadata": {},
     "output_type": "execute_result"
    }
   ],
   "source": [
    "normiereText(\"KJhk  ??Kj92sJH.,:;)8/ \")"
   ]
  },
  {
   "cell_type": "markdown",
   "metadata": {},
   "source": [
    "## Vorweg: Die Caesar-Chiffre"
   ]
  },
  {
   "cell_type": "markdown",
   "metadata": {},
   "source": [
    "Die **Caesar-Verschlüsselung** verschiebt zyklisch (also modulo 26) jedes Zeichen der Nachricht um einen durch den **Schlüssel** definierten Wert. Das kann durch die folgende Funktion realisiert werden:"
   ]
  },
  {
   "cell_type": "code",
   "execution_count": 6,
   "metadata": {},
   "outputs": [],
   "source": [
    "def verschiebe(zeichen, shift=13):\n",
    "    position = (alphabet.index(zeichen) + shift) % 26\n",
    "    return alphabet[position]"
   ]
  },
  {
   "cell_type": "markdown",
   "metadata": {},
   "source": [
    "Eine Nachricht wird dann zeichenweise mit Hilfe dieser Funktion verschlüsselt:"
   ]
  },
  {
   "cell_type": "code",
   "execution_count": 7,
   "metadata": {},
   "outputs": [],
   "source": [
    "def caesar(nachricht, schluessel=13):\n",
    "    text = normiereText(nachricht)\n",
    "    geheim = \"\"\n",
    "    for zeichen in text:\n",
    "        neu = verschiebe(zeichen, schluessel)\n",
    "        geheim += neu\n",
    "    return geheim"
   ]
  },
  {
   "cell_type": "markdown",
   "metadata": {},
   "source": [
    "### Wir verschlüsseln mit Caesar!"
   ]
  },
  {
   "cell_type": "markdown",
   "metadata": {},
   "source": [
    "Zum Testen mal wieder `HalloWelt` mit Verschiebung 3:"
   ]
  },
  {
   "cell_type": "code",
   "execution_count": 51,
   "metadata": {},
   "outputs": [
    {
     "data": {
      "text/plain": [
       "'KDOORZHOW'"
      ]
     },
     "execution_count": 51,
     "metadata": {},
     "output_type": "execute_result"
    }
   ],
   "source": [
    "caesar(\"Hallo Welt\", 3)"
   ]
  },
  {
   "cell_type": "markdown",
   "metadata": {},
   "source": [
    "Benutzerfreundlicher kann man das mit sog. Widgets gestalten:"
   ]
  },
  {
   "cell_type": "code",
   "execution_count": 62,
   "metadata": {
    "hide_input": false
   },
   "outputs": [],
   "source": [
    "def on_value_change(event):\n",
    "    output.clear_output()\n",
    "    with output:\n",
    "        geheim = caesar(text.value, slider.value)\n",
    "        print(\"Caesar-codierung: \", geheim)"
   ]
  },
  {
   "cell_type": "code",
   "execution_count": 63,
   "metadata": {
    "hide_input": false
   },
   "outputs": [],
   "source": [
    "slider = widgets.IntSlider(value=0, min=0,max=25,\n",
    "                            description=\"Verschiebung\")\n",
    "\n",
    "slider.observe(on_value_change, names=\"value\")\n",
    "\n",
    "text=widgets.Text(description = \"Klartext\", value = \"Hallo Welt\")\n",
    "\n",
    "text.observe(on_value_change, names=\"value\")"
   ]
  },
  {
   "cell_type": "code",
   "execution_count": 70,
   "metadata": {
    "hide_input": false
   },
   "outputs": [
    {
     "data": {
      "application/vnd.jupyter.widget-view+json": {
       "model_id": "8fe7af7a54d84dd38b950941dca1fe60",
       "version_major": 2,
       "version_minor": 0
      },
      "text/plain": [
       "Text(value='Hallo Welt', description='Klartext')"
      ]
     },
     "metadata": {},
     "output_type": "display_data"
    },
    {
     "data": {
      "application/vnd.jupyter.widget-view+json": {
       "model_id": "7f946a7a787d4d3fa40e6d75222138df",
       "version_major": 2,
       "version_minor": 0
      },
      "text/plain": [
       "IntSlider(value=0, description='Verschiebung', max=25)"
      ]
     },
     "metadata": {},
     "output_type": "display_data"
    },
    {
     "data": {
      "application/vnd.jupyter.widget-view+json": {
       "model_id": "ee11fa3728464ea9b256f2bd6b80e1d2",
       "version_major": 2,
       "version_minor": 0
      },
      "text/plain": [
       "Output(outputs=({'output_type': 'stream', 'text': 'Caesar-codierung:  HALLOWELT\\n', 'name': 'stdout'},))"
      ]
     },
     "metadata": {},
     "output_type": "display_data"
    }
   ],
   "source": [
    "output.clear_output()\n",
    "display(text, slider, output)"
   ]
  },
  {
   "cell_type": "markdown",
   "metadata": {},
   "source": [
    "### Caesar decodieren"
   ]
  },
  {
   "cell_type": "markdown",
   "metadata": {},
   "source": [
    "Um eine Caesar-verschlüsselte Nachricht bei bekanntem Schlüssel `s` zu entschlüsseln, kann man die Nachricht mit dem Schlüssel `26-s` verschlüsseln:"
   ]
  },
  {
   "cell_type": "code",
   "execution_count": 65,
   "metadata": {},
   "outputs": [],
   "source": [
    "def reCaesar(geheim, schluessel=13):\n",
    "    text = normiereText(geheim)\n",
    "    return caesar(text, 26-schluessel)"
   ]
  },
  {
   "cell_type": "markdown",
   "metadata": {},
   "source": [
    "Jetzt testen wir! \n",
    "- Dazu nehmen wir einen Klartext, \n",
    "    - verschlüsseln ihn zu einem Geheimtext, \n",
    "    - entschlüsseln diesen Geheimtext, \n",
    "    - jeweils mit demselben Schlüssel.\n",
    "\n",
    "Dann müsste der Klartext zurückgewonnen werden!"
   ]
  },
  {
   "cell_type": "code",
   "execution_count": 68,
   "metadata": {},
   "outputs": [
    {
     "name": "stdout",
     "output_type": "stream",
     "text": [
      "Klartext HALLOWELT\n",
      "Geheimtext TMXXAIQXF\n",
      "Decodiert HALLOWELT\n"
     ]
    }
   ],
   "source": [
    "klartext = \"HALLOWELT\"\n",
    "schlüssel = 12\n",
    "print(\"Klartext\", klartext)\n",
    "geheimtext = caesar(klartext, schlüssel)\n",
    "print(\"Geheimtext\", geheimtext)\n",
    "decodiert = reCaesar(geheimtext, schlüssel)\n",
    "print(\"Decodiert\", klartext)"
   ]
  },
  {
   "cell_type": "markdown",
   "metadata": {},
   "source": [
    "## Wie funktioniert die Vigenère-Verschlüsselung?"
   ]
  },
  {
   "cell_type": "markdown",
   "metadata": {},
   "source": [
    "Wenn man einen Text mit dem Vigenère-Verfahren verschlüsselt, wird jeder Buchstabe des Textes mit dem entsprechenden Buchstaben des Schlüssels verarbeitet.\n",
    "\n",
    "Benutzt man die Nummer des Schlüsselbuchstabens im Alphabet (also A=0, B=1, ...) statt des Buchstabens selber, so entpuppt sich die Vigenère-Verschlüsselung eines Zeichens als Caesar-Verschiebung.\n",
    "\n",
    "Will man z.B. den Text `HALLOWELT` mit dem Schlüssel `SCH` per Vigenère verschlüsseln, so wird z.B. der Buchstabe `H` mit `S` verarbeitet. Also wird das `H` um 18 Stellen (S=18) verschoben. Das `H` wird dann also mit dem Buchstaben `Z` verschlüsselt:\n",
    "\n",
    "`H = 8; S = 18; 8+18 = 24; 24 = Z`</p>\n",
    "\n",
    "    \n",
    "\n",
    "    \n",
    "\n",
    "\n",
    "Damit ist also die Vigenère-Verschlüsselung eine Art Weiterentwicklung der Caesar-Verschlüsselung.\n",
    "\n",
    "Also wird man zunächst die zu einem (Groß-)buchstaben gehörige Nummer im Alphabet finden müssen:"
   ]
  },
  {
   "cell_type": "code",
   "execution_count": 12,
   "metadata": {},
   "outputs": [],
   "source": [
    "def indexVonZeichen(zeichen):\n",
    "    return alphabet.index (zeichen)"
   ]
  },
  {
   "cell_type": "code",
   "execution_count": 13,
   "metadata": {},
   "outputs": [
    {
     "data": {
      "text/plain": [
       "18"
      ]
     },
     "execution_count": 13,
     "metadata": {},
     "output_type": "execute_result"
    }
   ],
   "source": [
    "indexVonZeichen(\"S\")"
   ]
  },
  {
   "cell_type": "markdown",
   "metadata": {},
   "source": [
    "Wenn man die Verschiebung mit Hilfe eines Zeichens (statt der Verschiebiungsdistanz) nutzen möchte, so wie später für die Vigenère-Chiffre notwendig, nutzt man die folgende Definition:"
   ]
  },
  {
   "cell_type": "code",
   "execution_count": 14,
   "metadata": {},
   "outputs": [],
   "source": [
    "def vigVerschiebe(zeichen, schluesselzeichen):\n",
    "    shift = indexVonZeichen(schluesselzeichen)  \n",
    "    return verschiebe(zeichen, shift)"
   ]
  },
  {
   "cell_type": "code",
   "execution_count": 15,
   "metadata": {},
   "outputs": [
    {
     "data": {
      "text/plain": [
       "'Z'"
      ]
     },
     "execution_count": 15,
     "metadata": {},
     "output_type": "execute_result"
    }
   ],
   "source": [
    "vigVerschiebe(\"H\",\"S\")"
   ]
  },
  {
   "cell_type": "markdown",
   "metadata": {},
   "source": [
    "Jetzt wenden wir diese Definitionen an, um einen Text mit einem Schlüsselwort per Vigenère-Chiffre zu verschlüsseln:"
   ]
  },
  {
   "cell_type": "code",
   "execution_count": 16,
   "metadata": {},
   "outputs": [],
   "source": [
    "def vigenere(text, key):\n",
    "    text = normiereText(text)\n",
    "    key = normiereText(key)\n",
    "    index = 0\n",
    "    key_laenge = len(key)\n",
    "    chiffre = \"\"\n",
    "    for buchstabe in text:\n",
    "        chiffre += vigVerschiebe(buchstabe, key[index])\n",
    "        index += 1\n",
    "        index %= key_laenge\n",
    "    return chiffre"
   ]
  },
  {
   "cell_type": "code",
   "execution_count": 17,
   "metadata": {},
   "outputs": [
    {
     "data": {
      "text/plain": [
       "'ZCSDQDWNA'"
      ]
     },
     "execution_count": 17,
     "metadata": {},
     "output_type": "execute_result"
    }
   ],
   "source": [
    "vigenere(\"HalloWelt\",\"SCH\")"
   ]
  },
  {
   "cell_type": "markdown",
   "metadata": {},
   "source": [
    "Um eine mit Vigenère verschlüsselte Botschaft wieder zu entschlüsseln, kann man - wie beim Caesar-Ciffre - die inverse Verschiebung nutzen:"
   ]
  },
  {
   "cell_type": "code",
   "execution_count": 18,
   "metadata": {},
   "outputs": [],
   "source": [
    "def reVigVerschiebe(zeichen, schluesselzeichen):\n",
    "    shift = indexVonZeichen(schluesselzeichen)  \n",
    "    return verschiebe(zeichen, 26 - shift)"
   ]
  },
  {
   "cell_type": "code",
   "execution_count": 19,
   "metadata": {},
   "outputs": [
    {
     "data": {
      "text/plain": [
       "'H'"
      ]
     },
     "execution_count": 19,
     "metadata": {},
     "output_type": "execute_result"
    }
   ],
   "source": [
    "reVigVerschiebe(\"Z\",\"S\")"
   ]
  },
  {
   "cell_type": "markdown",
   "metadata": {},
   "source": [
    "Damit kann jetzt die Entschlüsselung erfolgen:"
   ]
  },
  {
   "cell_type": "code",
   "execution_count": 20,
   "metadata": {},
   "outputs": [],
   "source": [
    "def reVigenere(text, key):\n",
    "    text = normiereText(text)\n",
    "    key = normiereText(key)\n",
    "    index = 0\n",
    "    key_laenge = len(key)\n",
    "    chiffre = \"\"\n",
    "    for buchstabe in text:\n",
    "        chiffre += reVigVerschiebe(buchstabe, key[index])\n",
    "        index += 1\n",
    "        index %= key_laenge\n",
    "    return chiffre"
   ]
  },
  {
   "cell_type": "markdown",
   "metadata": {},
   "source": [
    "Testen wir einmal, ob die Entschlüsselung den Klartext wiederherstellt:"
   ]
  },
  {
   "cell_type": "code",
   "execution_count": 21,
   "metadata": {},
   "outputs": [
    {
     "name": "stdout",
     "output_type": "stream",
     "text": [
      "LEISERIESELTDERSCHNEESTILLUNDSTARRRUHTDERSEE\n"
     ]
    }
   ],
   "source": [
    "botschaft = \"LEISERIESELTDERSCHNEESTILLUNDSTARRRUHTDERSEE\"\n",
    "schluessel = \"HUND\"\n",
    "geheim = vigenere(botschaft, schluessel)\n",
    "\n",
    "klar = reVigenere(geheim, schluessel)\n",
    "print(klar)"
   ]
  }
 ],
 "metadata": {
  "kernelspec": {
   "display_name": "Python 3 (ipykernel)",
   "language": "python",
   "name": "python3"
  },
  "language_info": {
   "codemirror_mode": {
    "name": "ipython",
    "version": 3
   },
   "file_extension": ".py",
   "mimetype": "text/x-python",
   "name": "python",
   "nbconvert_exporter": "python",
   "pygments_lexer": "ipython3",
   "version": "3.8.2"
  },
  "latex_envs": {
   "LaTeX_envs_menu_present": true,
   "autoclose": false,
   "autocomplete": true,
   "bibliofile": "biblio.bib",
   "cite_by": "apalike",
   "current_citInitial": 1,
   "eqLabelWithNumbers": true,
   "eqNumInitial": 1,
   "hotkeys": {
    "equation": "Ctrl-E",
    "itemize": "Ctrl-I"
   },
   "labels_anchors": false,
   "latex_user_defs": false,
   "report_style_numbering": false,
   "user_envs_cfg": true
  },
  "toc": {
   "base_numbering": 1,
   "nav_menu": {},
   "number_sections": true,
   "sideBar": true,
   "skip_h1_title": true,
   "title_cell": "Inhaltsverzeichnis",
   "title_sidebar": "Inhalt",
   "toc_cell": true,
   "toc_position": {
    "height": "calc(100% - 180px)",
    "left": "10px",
    "top": "150px",
    "width": "165px"
   },
   "toc_section_display": true,
   "toc_window_display": true
  },
  "varInspector": {
   "cols": {
    "lenName": 16,
    "lenType": 16,
    "lenVar": 40
   },
   "kernels_config": {
    "python": {
     "delete_cmd_postfix": "",
     "delete_cmd_prefix": "del ",
     "library": "var_list.py",
     "varRefreshCmd": "print(var_dic_list())"
    },
    "r": {
     "delete_cmd_postfix": ") ",
     "delete_cmd_prefix": "rm(",
     "library": "var_list.r",
     "varRefreshCmd": "cat(var_dic_list()) "
    }
   },
   "types_to_exclude": [
    "module",
    "function",
    "builtin_function_or_method",
    "instance",
    "_Feature"
   ],
   "window_display": false
  }
 },
 "nbformat": 4,
 "nbformat_minor": 4
}
